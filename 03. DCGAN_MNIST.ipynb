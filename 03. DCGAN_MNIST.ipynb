{
 "cells": [
  {
   "cell_type": "markdown",
   "metadata": {},
   "source": [
    "### data import\n",
    "- Data is downloaded and converted to pickle file\n",
    "- [Download location](http://yann.lecun.com/exdb/mnist/)\n",
    "- Extraction using mlxtend library. sample code [reference](http://rasbt.github.io/mlxtend/user_guide/data/loadlocal_mnist/)\n",
    "\n",
    "### code for importing and converting the data into pickle files\n",
    "\n",
    "The original dataset as imported from website which contributes the dataset for public usage is in unsigned byte format. The dataset is in flattened format and has single channel 28\\*28 images flattened row-wise. The images are rebuilt using one of the many codes contributed by various users working on the same dataset.\n",
    "\n",
    "For ease of use, here we have converted the dataset to standard pickle format as the library is generally more readily available on most platforms when compared to the mlxtend library originally mentioned. \n",
    "\n",
    "```python\n",
    "from mlxtend.data import loa local_mnist\n",
    "import pickle as pkl\n",
    "\n",
    "X, y = loadlocal_mnist(\n",
    "        images_path='data/MNIST/train-images-idx3-ubyte', \n",
    "        labels_path='data/MNIST/train-labels-idx1-ubyte')\n",
    "\n",
    "pkl.dump((X, y), open('data/MNIST/data.pkl', 'wb'))\n",
    "```"
   ]
  },
  {
   "cell_type": "code",
   "execution_count": 1,
   "metadata": {},
   "outputs": [],
   "source": [
    "import pickle as pkl"
   ]
  },
  {
   "cell_type": "code",
   "execution_count": 2,
   "metadata": {},
   "outputs": [
    {
     "data": {
      "text/plain": [
       "((60000, 784), (60000,))"
      ]
     },
     "execution_count": 2,
     "metadata": {},
     "output_type": "execute_result"
    }
   ],
   "source": [
    "X, y = pkl.load(open('data/MNIST/data.pkl', 'rb'))\n",
    "X.shape, y.shape"
   ]
  },
  {
   "cell_type": "markdown",
   "metadata": {},
   "source": [
    "### Data Processing\n",
    "- convert data to the appropriate format and check the label against sample instances for validation.\n",
    "- data is presented in a single row vector as flattened values for 28\\*28 images"
   ]
  },
  {
   "cell_type": "code",
   "execution_count": 3,
   "metadata": {},
   "outputs": [],
   "source": [
    "import matplotlib.pyplot as plt\n",
    "import random"
   ]
  },
  {
   "cell_type": "markdown",
   "metadata": {},
   "source": [
    "### Validation Plot\n",
    "\n",
    "Plotting dataset and checking corresponding labels to ensure validity of the code that is rebuilding the dataset from original ubyte dateset downloaded. The samples are picked at random to ensure that data at random are correctly labelled and the code is working fine in rebuilding the images from flattened vectors."
   ]
  },
  {
   "cell_type": "code",
   "execution_count": 4,
   "metadata": {},
   "outputs": [
    {
     "data": {
      "image/png": "[encoded data removed]",
      "text/plain": [
       "<Figure size 1440x1080 with 12 Axes>"
      ]
     },
     "metadata": {
      "needs_background": "light"
     },
     "output_type": "display_data"
    }
   ],
   "source": [
    "plt.figure(figsize=(20, 15))\n",
    "for _ in range(12):\n",
    "    idx = random.randint(0, len(X)-1)\n",
    "    image_row_vector = X[idx]\n",
    "    plt.subplot(5, 4, _+1)\n",
    "    plt.imshow(image_row_vector.reshape((28, 28, 1)).squeeze())\n",
    "    plt.title(\"label: {}\".format(y[idx]))\n",
    "    plt.axis('off')\n",
    "plt.show()"
   ]
  },
  {
   "cell_type": "markdown",
   "metadata": {},
   "source": [
    "### DCGAN\n",
    "\n",
    "- Reference: https://github.com/pytorch/examples/blob/master/dcgan/main.py\n",
    "\n",
    "Main idea of DCGAN lies in the terms of giving architecture guidelines to ensure stable training of GANs on CNNs. The main guidelines as summarized in the paper by the authors involve:\n",
    "\n",
    "- replace any pooling layer with strided convolutions in discriminator and fractional-strided convolutions in generator\n",
    "- batchnorm in both generator and discriminator\n",
    "- no fully connected hidden layers in deep networks\n",
    "- ReLU in generator for all layers but output layer which has Tanh activation\n",
    "- LeakyReLU in discriminator for all layers"
   ]
  },
  {
   "cell_type": "code",
   "execution_count": 5,
   "metadata": {},
   "outputs": [
    {
     "name": "stdout",
     "output_type": "stream",
     "text": [
      "DType: torch.float32\n",
      "Cuda available: True\n",
      "Device: cuda\n"
     ]
    }
   ],
   "source": [
    "from sklearn.preprocessing import MinMaxScaler\n",
    "import torch\n",
    "import torch.nn as nn\n",
    "import torch.optim as optim\n",
    "import torch.utils.data as utils\n",
    "import torchvision.utils as vutils\n",
    "import torchvision.transforms as transforms\n",
    "\n",
    "dtype = torch.float\n",
    "device = torch.device(\"cuda\") if torch.cuda.is_available() else torch.device(\"cpu\")\n",
    "\n",
    "print(\"DType: {}\\nCuda available: {}\\nDevice: {}\".format(\n",
    "    dtype.__str__(),\n",
    "    torch.cuda.is_available().__str__(),\n",
    "    device.__str__(),\n",
    "))"
   ]
  },
  {
   "cell_type": "markdown",
   "metadata": {},
   "source": [
    "- custom weight initialization called on the discriminator and generator networks."
   ]
  },
  {
   "cell_type": "markdown",
   "metadata": {},
   "source": [
    "### Scaling for Normalization\n",
    "\n",
    "Ideally this should be done at a batch level for larger dataset but here since the providers give the entire dataset in a single matrix it is possible to do this scaling for the entire dataset at one go.\n",
    "\n",
    "There can be various options for scaling which includes Standard Scaling as well. I have used MinMax Scaling because of the ease of use and it is generally shown to maintain the distribution and work well with outliers."
   ]
  },
  {
   "cell_type": "code",
   "execution_count": 6,
   "metadata": {},
   "outputs": [
    {
     "name": "stderr",
     "output_type": "stream",
     "text": [
      "/usr/local/lib/python3.6/dist-packages/sklearn/utils/validation.py:595: DataConversionWarning: Data with input dtype uint8 was converted to float64 by MinMaxScaler.\n",
      "  warnings.warn(msg, DataConversionWarning)\n"
     ]
    },
    {
     "data": {
      "text/plain": [
       "(60000, 784)"
      ]
     },
     "execution_count": 6,
     "metadata": {},
     "output_type": "execute_result"
    }
   ],
   "source": [
    "scaler = MinMaxScaler()\n",
    "scaler.fit(X)\n",
    "X_normalized = scaler.transform(X)\n",
    "X_normalized.shape"
   ]
  },
  {
   "cell_type": "markdown",
   "metadata": {},
   "source": [
    "### Validation Plot\n",
    "\n",
    "To check if the images are affected at all by any of the normalization techniques which might be applied in the previous step, we plot and check visually for randomly picked elements that the images maintain their structure as they would have in the original scale image."
   ]
  },
  {
   "cell_type": "code",
   "execution_count": 7,
   "metadata": {},
   "outputs": [
    {
     "data": {
      "image/png": "[encoded data removed]",
      "text/plain": [
       "<Figure size 1440x1080 with 12 Axes>"
      ]
     },
     "metadata": {
      "needs_background": "light"
     },
     "output_type": "display_data"
    }
   ],
   "source": [
    "plt.figure(figsize=(20, 15))\n",
    "for _ in range(12):\n",
    "    idx = random.randint(0, len(X)-1)\n",
    "    image_row_vector = X_normalized[idx]\n",
    "    plt.subplot(5, 4, _+1)\n",
    "    plt.imshow(image_row_vector.reshape((28, 28, 1)).squeeze())\n",
    "    plt.title(\"label: {}\".format(y[idx]))\n",
    "    plt.axis('off')\n",
    "plt.show()"
   ]
  },
  {
   "cell_type": "markdown",
   "metadata": {},
   "source": [
    "### Constants Explained\n",
    "\n",
    "- nz: encoding dimension\n",
    "- ngf: generator filters that are scaled by factors 2, 4, 8 etc.\n",
    "- ndf: disciminator filter similar to ngf\n",
    "- nc: number of channels\n",
    "- ngpu: number of physical gpus on system\n",
    "- batchSize: number of instances for SGD"
   ]
  },
  {
   "cell_type": "code",
   "execution_count": 8,
   "metadata": {},
   "outputs": [],
   "source": [
    "nz = 50\n",
    "ngf = 56\n",
    "ndf = 112\n",
    "nc = 1\n",
    "ngpu = 1\n",
    "batchSize = 64"
   ]
  },
  {
   "cell_type": "code",
   "execution_count": 9,
   "metadata": {},
   "outputs": [],
   "source": [
    "from torchsummary import summary"
   ]
  },
  {
   "cell_type": "markdown",
   "metadata": {},
   "source": [
    "### Weights and Bias Initialization\n",
    "\n",
    "- It has been shown heuristically that weights intialized normally tend to perform better when compared to random initialization. So the first function tries to achieve this goal.\n",
    "\n",
    "- In the definition of Generator and Discriminator, sometimes the number of strides, kernel_size and pooling is adjusted to meet the final size of the output desired. \n",
    "\n",
    "- It can be seen that there are no fully connected layers in both G and D\n",
    "- Also batchnorm is applied on all layers \n",
    "- ReLU on each layer except output\n",
    "- Tanh on output layer\n",
    "\n",
    "Reference: https://github.com/pytorch/examples/tree/master/dcgan"
   ]
  },
  {
   "cell_type": "code",
   "execution_count": null,
   "metadata": {},
   "outputs": [],
   "source": [
    "def weights_init(m):\n",
    "    classname = m.__class__.__name__\n",
    "    if classname.find('Conv') != -1:\n",
    "        m.weight.data.normal_(0.0, 0.02)\n",
    "    elif classname.find('BatchNorm') != -1:\n",
    "        m.weight.data.normal_(1.0, 0.02)\n",
    "        m.bias.data.fill_(0)\n",
    "        "
   ]
  },
  {
   "cell_type": "markdown",
   "metadata": {},
   "source": [
    "![](static/dcgan_mnist_DCGaN.png)"
   ]
  },
  {
   "cell_type": "code",
   "execution_count": 10,
   "metadata": {},
   "outputs": [
    {
     "name": "stdout",
     "output_type": "stream",
     "text": [
      "----------------------------------------------------------------\n",
      "        Layer (type)               Output Shape         Param #\n",
      "================================================================\n",
      "   ConvTranspose2d-1            [-1, 448, 2, 2]          89,600\n",
      "       BatchNorm2d-2            [-1, 448, 2, 2]             896\n",
      "              ReLU-3            [-1, 448, 2, 2]               0\n",
      "   ConvTranspose2d-4            [-1, 224, 4, 4]       1,605,632\n",
      "       BatchNorm2d-5            [-1, 224, 4, 4]             448\n",
      "              ReLU-6            [-1, 224, 4, 4]               0\n",
      "   ConvTranspose2d-7            [-1, 112, 8, 8]         401,408\n",
      "       BatchNorm2d-8            [-1, 112, 8, 8]             224\n",
      "              ReLU-9            [-1, 112, 8, 8]               0\n",
      "  ConvTranspose2d-10           [-1, 56, 16, 16]         100,352\n",
      "      BatchNorm2d-11           [-1, 56, 16, 16]             112\n",
      "             ReLU-12           [-1, 56, 16, 16]               0\n",
      "  ConvTranspose2d-13            [-1, 1, 28, 28]             224\n",
      "             Tanh-14            [-1, 1, 28, 28]               0\n",
      "================================================================\n",
      "Total params: 2,198,896\n",
      "Trainable params: 2,198,896\n",
      "Non-trainable params: 0\n",
      "----------------------------------------------------------------\n",
      "Input size (MB): 0.00\n",
      "Forward/backward pass size (MB): 0.63\n",
      "Params size (MB): 8.39\n",
      "Estimated Total Size (MB): 9.02\n",
      "----------------------------------------------------------------\n"
     ]
    }
   ],
   "source": [
    "class Generator(nn.Module):\n",
    "    def __init__(self):\n",
    "        super(Generator, self).__init__()\n",
    "        self.main = nn.Sequential(\n",
    "\n",
    "            nn.ConvTranspose2d(nz, ngf * 8, 2, 1, 0, bias=False),\n",
    "            nn.BatchNorm2d(ngf * 8),\n",
    "            nn.ReLU(True),\n",
    "\n",
    "            nn.ConvTranspose2d(ngf*8, ngf * 4, 4, 2, 1, bias=False),\n",
    "            nn.BatchNorm2d(ngf * 4),\n",
    "            nn.ReLU(True),\n",
    "\n",
    "            nn.ConvTranspose2d(ngf * 4, ngf * 2, 4, 2, 1, bias=False),\n",
    "            nn.BatchNorm2d(ngf * 2),\n",
    "            nn.ReLU(True),\n",
    "\n",
    "            nn.ConvTranspose2d(ngf * 2, ngf, 4, 2, 1, bias=False),\n",
    "            nn.BatchNorm2d(ngf),\n",
    "            nn.ReLU(True),\n",
    "\n",
    "            nn.ConvTranspose2d(ngf, nc, 2, 2, 2,bias=False),\n",
    "            nn.Tanh()\n",
    "        )\n",
    "\n",
    "    def forward(self, input):\n",
    "            return self.main(input)\n",
    "\n",
    "netG = Generator().to(device)\n",
    "netG.apply(weights_init)\n",
    "\n",
    "summary(netG, input_size=(50, 1, 1))"
   ]
  },
  {
   "cell_type": "markdown",
   "metadata": {},
   "source": [
    "Similarly,\n",
    "\n",
    "- LeakyReLU on each layer\n",
    "- BatchNorm on each layer\n",
    "- Sigmoid in last layer to ensure probabilistic output \n",
    "- Sigmoid helps apply the BCE criterion at the end on the loss for optimizer\n",
    "- BCE is binary cross-entropy loss function"
   ]
  },
  {
   "cell_type": "code",
   "execution_count": 11,
   "metadata": {},
   "outputs": [
    {
     "name": "stdout",
     "output_type": "stream",
     "text": [
      "----------------------------------------------------------------\n",
      "        Layer (type)               Output Shape         Param #\n",
      "================================================================\n",
      "            Conv2d-1          [-1, 112, 16, 16]             448\n",
      "         LeakyReLU-2          [-1, 112, 16, 16]               0\n",
      "            Conv2d-3            [-1, 224, 8, 8]         401,408\n",
      "       BatchNorm2d-4            [-1, 224, 8, 8]             448\n",
      "         LeakyReLU-5            [-1, 224, 8, 8]               0\n",
      "            Conv2d-6            [-1, 448, 4, 4]       1,605,632\n",
      "       BatchNorm2d-7            [-1, 448, 4, 4]             896\n",
      "         LeakyReLU-8            [-1, 448, 4, 4]               0\n",
      "            Conv2d-9            [-1, 896, 2, 2]       6,422,528\n",
      "      BatchNorm2d-10            [-1, 896, 2, 2]           1,792\n",
      "        LeakyReLU-11            [-1, 896, 2, 2]               0\n",
      "           Conv2d-12              [-1, 1, 1, 1]           3,584\n",
      "          Sigmoid-13              [-1, 1, 1, 1]               0\n",
      "================================================================\n",
      "Total params: 8,436,736\n",
      "Trainable params: 8,436,736\n",
      "Non-trainable params: 0\n",
      "----------------------------------------------------------------\n",
      "Input size (MB): 0.00\n",
      "Forward/backward pass size (MB): 1.01\n",
      "Params size (MB): 32.18\n",
      "Estimated Total Size (MB): 33.20\n",
      "----------------------------------------------------------------\n"
     ]
    }
   ],
   "source": [
    "class Discriminator(nn.Module):\n",
    "    def __init__(self, ngpu):\n",
    "        super(Discriminator, self).__init__()\n",
    "        self.main = nn.Sequential(\n",
    "            # input is (nc) x 64 x 64\n",
    "            nn.Conv2d(nc, ndf, 2, 2, 2, bias=False),\n",
    "            nn.LeakyReLU(0.2, inplace=True),\n",
    "            # state size. (ndf) x 32 x 32\n",
    "            nn.Conv2d(ndf, ndf * 2, 4, 2, 1, bias=False),\n",
    "            nn.BatchNorm2d(ndf * 2),\n",
    "            nn.LeakyReLU(0.2, inplace=True),\n",
    "            # state size. (ndf*2) x 16 x 16\n",
    "            nn.Conv2d(ndf * 2, ndf * 4, 4, 2, 1, bias=False),\n",
    "            nn.BatchNorm2d(ndf * 4),\n",
    "            nn.LeakyReLU(0.2, inplace=True),\n",
    "            # state size. (ndf*4) x 8 x 8\n",
    "            nn.Conv2d(ndf * 4, ndf * 8, 4, 2, 1, bias=False),\n",
    "            nn.BatchNorm2d(ndf * 8),\n",
    "            nn.LeakyReLU(0.2, inplace=True),\n",
    "            # state size. (ndf*8) x 4 x 4\n",
    "            nn.Conv2d(ndf * 8, 1, 2, 1, 0, bias=False),\n",
    "            nn.Sigmoid()\n",
    "        )\n",
    "\n",
    "    def forward(self, input):\n",
    "        return self.main(input).view(-1, 1).squeeze(1)\n",
    "\n",
    "\n",
    "netD = Discriminator(ngpu).to(device)\n",
    "netD.apply(weights_init)\n",
    "\n",
    "summary(netD, input_size=(1, 28, 28))"
   ]
  },
  {
   "cell_type": "code",
   "execution_count": 12,
   "metadata": {},
   "outputs": [],
   "source": [
    "criterion = nn.BCELoss()\n",
    "\n",
    "fixed_noise = torch.randn(batchSize, nz, 1, 1, device=device)\n",
    "real_label = 1\n",
    "fake_label = 0\n",
    "\n",
    "optimizerD = optim.Adam(netD.parameters(), lr=0.002, betas=(0.5, 0.999))\n",
    "optimizerG = optim.Adam(netG.parameters(), lr=0.0002, betas=(0.5, 0.999))"
   ]
  },
  {
   "cell_type": "markdown",
   "metadata": {},
   "source": [
    "### Create dataset and load\n",
    "\n",
    "- Fixing the batchsize after creating dataset"
   ]
  },
  {
   "cell_type": "code",
   "execution_count": 13,
   "metadata": {},
   "outputs": [],
   "source": [
    "dataset = utils.TensorDataset(torch.Tensor(X.reshape(-1, 1, 28, 28)), torch.Tensor(y))\n",
    "dataloader = torch.utils.data.DataLoader(dataset, batch_size=batchSize,\n",
    "                                         shuffle=True, num_workers=2)"
   ]
  },
  {
   "cell_type": "markdown",
   "metadata": {},
   "source": [
    "### Model Parameters\n",
    "\n",
    "- need to tweak the values of learning rate for generator and discriminator\n",
    "- if the value is not optimal, discriminator might converge too soon and then generator will collapse \n",
    "- so the parameter tweaking is a must to find the right balance"
   ]
  },
  {
   "cell_type": "code",
   "execution_count": 14,
   "metadata": {
    "scrolled": false
   },
   "outputs": [
    {
     "name": "stdout",
     "output_type": "stream",
     "text": [
      "[0/20][0/938] Loss_D: 1.8658 Loss_G: 15.4858 D(x): 0.3312 D(G(z)): 0.4515 / 0.0000\n",
      "[0/20][100/938] Loss_D: 0.0288 Loss_G: 4.2341 D(x): 0.9939 D(G(z)): 0.0224 / 0.0154\n",
      "[0/20][200/938] Loss_D: 0.0210 Loss_G: 5.7556 D(x): 0.9856 D(G(z)): 0.0061 / 0.0035\n",
      "[0/20][300/938] Loss_D: 3.6986 Loss_G: 8.7081 D(x): 0.1562 D(G(z)): 0.0005 / 0.0071\n",
      "[0/20][400/938] Loss_D: 0.1277 Loss_G: 1.8511 D(x): 0.9948 D(G(z)): 0.1092 / 0.1825\n",
      "[0/20][500/938] Loss_D: 0.2877 Loss_G: 6.5951 D(x): 0.8259 D(G(z)): 0.0049 / 0.0021\n",
      "[0/20][600/938] Loss_D: 0.0019 Loss_G: 8.6352 D(x): 1.0000 D(G(z)): 0.0019 / 0.0052\n",
      "[0/20][700/938] Loss_D: 0.0659 Loss_G: 13.4497 D(x): 0.9497 D(G(z)): 0.0000 / 0.0000\n",
      "[0/20][800/938] Loss_D: 0.0245 Loss_G: 7.7117 D(x): 0.9831 D(G(z)): 0.0061 / 0.0005\n",
      "[0/20][900/938] Loss_D: 0.1562 Loss_G: 13.9877 D(x): 0.9304 D(G(z)): 0.0001 / 0.0001\n",
      "[1/20][0/938] Loss_D: 0.0723 Loss_G: 6.3860 D(x): 0.9663 D(G(z)): 0.0238 / 0.0037\n",
      "[1/20][100/938] Loss_D: 0.0371 Loss_G: 5.2609 D(x): 0.9857 D(G(z)): 0.0220 / 0.0059\n",
      "[1/20][200/938] Loss_D: 0.0491 Loss_G: 6.2761 D(x): 0.9613 D(G(z)): 0.0030 / 0.0034\n",
      "[1/20][300/938] Loss_D: 0.2990 Loss_G: 7.1157 D(x): 0.9562 D(G(z)): 0.0925 / 0.0043\n",
      "[1/20][400/938] Loss_D: 0.1458 Loss_G: 8.1153 D(x): 0.9898 D(G(z)): 0.1201 / 0.0006\n",
      "[1/20][500/938] Loss_D: 0.0823 Loss_G: 5.7612 D(x): 0.9664 D(G(z)): 0.0383 / 0.0050\n",
      "[1/20][600/938] Loss_D: 0.5960 Loss_G: 13.3414 D(x): 1.0000 D(G(z)): 0.2662 / 0.0005\n",
      "[1/20][700/938] Loss_D: 0.2883 Loss_G: 9.5531 D(x): 0.9986 D(G(z)): 0.1867 / 0.0009\n",
      "[1/20][800/938] Loss_D: 0.0939 Loss_G: 6.8317 D(x): 0.9899 D(G(z)): 0.0785 / 0.0018\n",
      "[1/20][900/938] Loss_D: 0.0290 Loss_G: 9.9144 D(x): 0.9734 D(G(z)): 0.0004 / 0.0003\n",
      "[2/20][0/938] Loss_D: 0.0310 Loss_G: 7.4272 D(x): 0.9993 D(G(z)): 0.0289 / 0.0008\n",
      "[2/20][100/938] Loss_D: 0.1993 Loss_G: 6.1308 D(x): 0.8510 D(G(z)): 0.0068 / 0.0043\n",
      "[2/20][200/938] Loss_D: 0.0879 Loss_G: 5.9877 D(x): 0.9568 D(G(z)): 0.0304 / 0.0073\n",
      "[2/20][300/938] Loss_D: 0.3905 Loss_G: 7.9288 D(x): 0.9753 D(G(z)): 0.2821 / 0.0011\n",
      "[2/20][400/938] Loss_D: 0.0670 Loss_G: 5.6589 D(x): 0.9454 D(G(z)): 0.0085 / 0.0051\n",
      "[2/20][500/938] Loss_D: 0.0920 Loss_G: 7.5639 D(x): 0.9731 D(G(z)): 0.0572 / 0.0018\n",
      "[2/20][600/938] Loss_D: 0.1501 Loss_G: 3.5182 D(x): 0.8966 D(G(z)): 0.0235 / 0.0484\n",
      "[2/20][700/938] Loss_D: 0.7160 Loss_G: 11.0076 D(x): 0.9863 D(G(z)): 0.4144 / 0.0001\n",
      "[2/20][800/938] Loss_D: 0.2484 Loss_G: 4.0094 D(x): 0.8307 D(G(z)): 0.0137 / 0.0761\n",
      "[2/20][900/938] Loss_D: 0.1291 Loss_G: 6.5304 D(x): 0.9163 D(G(z)): 0.0334 / 0.0045\n",
      "[3/20][0/938] Loss_D: 0.1938 Loss_G: 4.0036 D(x): 0.9177 D(G(z)): 0.0806 / 0.0367\n",
      "[3/20][100/938] Loss_D: 0.9332 Loss_G: 6.2889 D(x): 0.5235 D(G(z)): 0.0005 / 0.0071\n",
      "[3/20][200/938] Loss_D: 0.1256 Loss_G: 4.7313 D(x): 0.9281 D(G(z)): 0.0436 / 0.0141\n",
      "[3/20][300/938] Loss_D: 1.0215 Loss_G: 10.0474 D(x): 0.9828 D(G(z)): 0.5017 / 0.0003\n",
      "[3/20][400/938] Loss_D: 0.2965 Loss_G: 6.0355 D(x): 0.9713 D(G(z)): 0.2010 / 0.0043\n",
      "[3/20][500/938] Loss_D: 0.1919 Loss_G: 5.9869 D(x): 0.9577 D(G(z)): 0.1170 / 0.0047\n",
      "[3/20][600/938] Loss_D: 0.4456 Loss_G: 1.2142 D(x): 0.7364 D(G(z)): 0.0784 / 0.3407\n",
      "[3/20][700/938] Loss_D: 0.3465 Loss_G: 3.3634 D(x): 0.9496 D(G(z)): 0.2097 / 0.0476\n",
      "[3/20][800/938] Loss_D: 0.1558 Loss_G: 3.2822 D(x): 0.9697 D(G(z)): 0.1129 / 0.0475\n",
      "[3/20][900/938] Loss_D: 3.3908 Loss_G: 12.7192 D(x): 0.9999 D(G(z)): 0.9433 / 0.0000\n",
      "[4/20][0/938] Loss_D: 0.2479 Loss_G: 2.5928 D(x): 0.8343 D(G(z)): 0.0448 / 0.1096\n",
      "[4/20][100/938] Loss_D: 0.2869 Loss_G: 2.8160 D(x): 0.8978 D(G(z)): 0.1446 / 0.0776\n",
      "[4/20][200/938] Loss_D: 1.2131 Loss_G: 8.2291 D(x): 0.9913 D(G(z)): 0.5886 / 0.0008\n",
      "[4/20][300/938] Loss_D: 0.4124 Loss_G: 2.7565 D(x): 0.7124 D(G(z)): 0.0031 / 0.1279\n",
      "[4/20][400/938] Loss_D: 0.2154 Loss_G: 3.9825 D(x): 0.9926 D(G(z)): 0.1701 / 0.0266\n",
      "[4/20][500/938] Loss_D: 0.4609 Loss_G: 6.2430 D(x): 0.9419 D(G(z)): 0.2588 / 0.0037\n",
      "[4/20][600/938] Loss_D: 0.8306 Loss_G: 8.9086 D(x): 0.9957 D(G(z)): 0.4792 / 0.0002\n",
      "[4/20][700/938] Loss_D: 0.3476 Loss_G: 4.3270 D(x): 0.7811 D(G(z)): 0.0478 / 0.0368\n",
      "[4/20][800/938] Loss_D: 0.2139 Loss_G: 3.6839 D(x): 0.9174 D(G(z)): 0.1079 / 0.0349\n",
      "[4/20][900/938] Loss_D: 1.4445 Loss_G: 2.6835 D(x): 0.3237 D(G(z)): 0.0158 / 0.1433\n",
      "[5/20][0/938] Loss_D: 1.4996 Loss_G: 5.3951 D(x): 0.9797 D(G(z)): 0.6262 / 0.0079\n",
      "[5/20][100/938] Loss_D: 0.4587 Loss_G: 1.5057 D(x): 0.7582 D(G(z)): 0.0964 / 0.3193\n",
      "[5/20][200/938] Loss_D: 0.1587 Loss_G: 4.0781 D(x): 0.8723 D(G(z)): 0.0065 / 0.0246\n",
      "[5/20][300/938] Loss_D: 0.2236 Loss_G: 3.0871 D(x): 0.8760 D(G(z)): 0.0722 / 0.0655\n",
      "[5/20][400/938] Loss_D: 0.6711 Loss_G: 8.9400 D(x): 0.9879 D(G(z)): 0.3994 / 0.0002\n",
      "[5/20][500/938] Loss_D: 0.3090 Loss_G: 4.8660 D(x): 0.7764 D(G(z)): 0.0098 / 0.0133\n",
      "[5/20][600/938] Loss_D: 0.8886 Loss_G: 2.8965 D(x): 0.4976 D(G(z)): 0.0079 / 0.1022\n",
      "[5/20][700/938] Loss_D: 0.3139 Loss_G: 1.7833 D(x): 0.8219 D(G(z)): 0.0844 / 0.2173\n",
      "[5/20][800/938] Loss_D: 0.3607 Loss_G: 2.3683 D(x): 0.8291 D(G(z)): 0.0827 / 0.1379\n",
      "[5/20][900/938] Loss_D: 1.1192 Loss_G: 1.3867 D(x): 0.4456 D(G(z)): 0.0170 / 0.3432\n",
      "[6/20][0/938] Loss_D: 2.5812 Loss_G: 11.4196 D(x): 0.9932 D(G(z)): 0.7932 / 0.0001\n",
      "[6/20][100/938] Loss_D: 0.4043 Loss_G: 1.5394 D(x): 0.7934 D(G(z)): 0.1251 / 0.2894\n",
      "[6/20][200/938] Loss_D: 0.9181 Loss_G: 5.8786 D(x): 0.9845 D(G(z)): 0.5107 / 0.0052\n",
      "[6/20][300/938] Loss_D: 0.1683 Loss_G: 5.7959 D(x): 0.9831 D(G(z)): 0.1297 / 0.0041\n",
      "[6/20][400/938] Loss_D: 0.4174 Loss_G: 4.0199 D(x): 0.6989 D(G(z)): 0.0091 / 0.0383\n",
      "[6/20][500/938] Loss_D: 0.2481 Loss_G: 2.5619 D(x): 0.8208 D(G(z)): 0.0278 / 0.1349\n",
      "[6/20][600/938] Loss_D: 1.0581 Loss_G: 8.2382 D(x): 0.9591 D(G(z)): 0.5556 / 0.0010\n",
      "[6/20][700/938] Loss_D: 0.6649 Loss_G: 8.2374 D(x): 0.9725 D(G(z)): 0.4172 / 0.0004\n",
      "[6/20][800/938] Loss_D: 0.1772 Loss_G: 4.2088 D(x): 0.9220 D(G(z)): 0.0701 / 0.0243\n",
      "[6/20][900/938] Loss_D: 0.5459 Loss_G: 4.1045 D(x): 0.9602 D(G(z)): 0.2888 / 0.0308\n",
      "[7/20][0/938] Loss_D: 0.5045 Loss_G: 2.7695 D(x): 0.7723 D(G(z)): 0.1255 / 0.2351\n",
      "[7/20][100/938] Loss_D: 0.3309 Loss_G: 5.5267 D(x): 0.9487 D(G(z)): 0.1981 / 0.0103\n",
      "[7/20][200/938] Loss_D: 0.7166 Loss_G: 8.6778 D(x): 0.9526 D(G(z)): 0.4054 / 0.0003\n",
      "[7/20][300/938] Loss_D: 0.2742 Loss_G: 2.8551 D(x): 0.8370 D(G(z)): 0.0699 / 0.0921\n",
      "[7/20][400/938] Loss_D: 1.4744 Loss_G: 9.1664 D(x): 0.9961 D(G(z)): 0.6408 / 0.0002\n",
      "[7/20][500/938] Loss_D: 0.5534 Loss_G: 0.5982 D(x): 0.6529 D(G(z)): 0.0256 / 0.6182\n",
      "[7/20][600/938] Loss_D: 0.0908 Loss_G: 5.3628 D(x): 0.9610 D(G(z)): 0.0468 / 0.0077\n",
      "[7/20][700/938] Loss_D: 0.2953 Loss_G: 2.2267 D(x): 0.8111 D(G(z)): 0.0488 / 0.1427\n",
      "[7/20][800/938] Loss_D: 0.2647 Loss_G: 3.1704 D(x): 0.8261 D(G(z)): 0.0174 / 0.0663\n",
      "[7/20][900/938] Loss_D: 2.4191 Loss_G: 1.6427 D(x): 0.1969 D(G(z)): 0.0002 / 0.3142\n",
      "[8/20][0/938] Loss_D: 0.1985 Loss_G: 4.2746 D(x): 0.9382 D(G(z)): 0.1078 / 0.0240\n",
      "[8/20][100/938] Loss_D: 0.4082 Loss_G: 1.2533 D(x): 0.7200 D(G(z)): 0.0284 / 0.3823\n",
      "[8/20][200/938] Loss_D: 0.1491 Loss_G: 3.4181 D(x): 0.9414 D(G(z)): 0.0759 / 0.0556\n",
      "[8/20][300/938] Loss_D: 0.3611 Loss_G: 6.7966 D(x): 0.9885 D(G(z)): 0.2669 / 0.0017\n",
      "[8/20][400/938] Loss_D: 0.3118 Loss_G: 2.1760 D(x): 0.8996 D(G(z)): 0.1563 / 0.1587\n",
      "[8/20][500/938] Loss_D: 0.0952 Loss_G: 4.9722 D(x): 0.9476 D(G(z)): 0.0334 / 0.0116\n",
      "[8/20][600/938] Loss_D: 2.0542 Loss_G: 0.9738 D(x): 0.1941 D(G(z)): 0.0006 / 0.4539\n",
      "[8/20][700/938] Loss_D: 0.1467 Loss_G: 3.7627 D(x): 0.9401 D(G(z)): 0.0738 / 0.0310\n",
      "[8/20][800/938] Loss_D: 1.6021 Loss_G: 4.1927 D(x): 0.3495 D(G(z)): 0.0001 / 0.0354\n",
      "[8/20][900/938] Loss_D: 0.5308 Loss_G: 5.8938 D(x): 0.6892 D(G(z)): 0.0198 / 0.0103\n",
      "[9/20][0/938] Loss_D: 0.6150 Loss_G: 4.7425 D(x): 0.9766 D(G(z)): 0.3573 / 0.0179\n",
      "[9/20][100/938] Loss_D: 0.6659 Loss_G: 5.7274 D(x): 0.9837 D(G(z)): 0.3793 / 0.0087\n",
      "[9/20][200/938] Loss_D: 0.5285 Loss_G: 1.6678 D(x): 0.6867 D(G(z)): 0.0607 / 0.2514\n",
      "[9/20][300/938] Loss_D: 0.6651 Loss_G: 1.4596 D(x): 0.6292 D(G(z)): 0.1173 / 0.3270\n",
      "[9/20][400/938] Loss_D: 0.1317 Loss_G: 4.2884 D(x): 0.9287 D(G(z)): 0.0484 / 0.0230\n",
      "[9/20][500/938] Loss_D: 0.4429 Loss_G: 3.1109 D(x): 0.7737 D(G(z)): 0.1107 / 0.0753\n",
      "[9/20][600/938] Loss_D: 0.2370 Loss_G: 1.8661 D(x): 0.9050 D(G(z)): 0.1140 / 0.1905\n",
      "[9/20][700/938] Loss_D: 0.0599 Loss_G: 5.1100 D(x): 0.9791 D(G(z)): 0.0359 / 0.0120\n"
     ]
    },
    {
     "name": "stdout",
     "output_type": "stream",
     "text": [
      "[9/20][800/938] Loss_D: 0.2522 Loss_G: 3.1337 D(x): 0.8998 D(G(z)): 0.1189 / 0.0659\n",
      "[9/20][900/938] Loss_D: 0.1721 Loss_G: 5.0729 D(x): 0.9293 D(G(z)): 0.0847 / 0.0101\n",
      "[10/20][0/938] Loss_D: 2.3182 Loss_G: 8.2604 D(x): 0.9970 D(G(z)): 0.8283 / 0.0005\n",
      "[10/20][100/938] Loss_D: 0.1871 Loss_G: 4.1433 D(x): 0.8704 D(G(z)): 0.0171 / 0.0426\n",
      "[10/20][200/938] Loss_D: 0.7566 Loss_G: 2.5517 D(x): 0.6242 D(G(z)): 0.1023 / 0.1045\n",
      "[10/20][300/938] Loss_D: 0.0796 Loss_G: 5.2140 D(x): 0.9779 D(G(z)): 0.0516 / 0.0102\n",
      "[10/20][400/938] Loss_D: 1.5674 Loss_G: 14.6118 D(x): 0.9980 D(G(z)): 0.6838 / 0.0000\n",
      "[10/20][500/938] Loss_D: 0.1218 Loss_G: 4.5850 D(x): 0.9412 D(G(z)): 0.0521 / 0.0178\n",
      "[10/20][600/938] Loss_D: 1.0281 Loss_G: 1.2324 D(x): 0.4627 D(G(z)): 0.0536 / 0.3857\n",
      "[10/20][700/938] Loss_D: 0.2118 Loss_G: 2.8860 D(x): 0.8716 D(G(z)): 0.0477 / 0.0834\n",
      "[10/20][800/938] Loss_D: 0.9585 Loss_G: 0.7673 D(x): 0.4892 D(G(z)): 0.0088 / 0.5255\n",
      "[10/20][900/938] Loss_D: 0.4677 Loss_G: 5.4330 D(x): 0.9465 D(G(z)): 0.2840 / 0.0070\n",
      "[11/20][0/938] Loss_D: 0.0698 Loss_G: 4.1912 D(x): 0.9632 D(G(z)): 0.0292 / 0.0252\n",
      "[11/20][100/938] Loss_D: 0.1579 Loss_G: 4.8757 D(x): 0.8918 D(G(z)): 0.0242 / 0.0138\n",
      "[11/20][200/938] Loss_D: 0.1580 Loss_G: 2.7066 D(x): 0.8936 D(G(z)): 0.0356 / 0.1219\n",
      "[11/20][300/938] Loss_D: 0.3944 Loss_G: 3.8449 D(x): 0.8244 D(G(z)): 0.1306 / 0.0382\n",
      "[11/20][400/938] Loss_D: 0.4626 Loss_G: 6.7382 D(x): 0.9838 D(G(z)): 0.3051 / 0.0023\n",
      "[11/20][500/938] Loss_D: 0.1369 Loss_G: 6.3194 D(x): 0.9090 D(G(z)): 0.0221 / 0.0036\n",
      "[11/20][600/938] Loss_D: 0.3915 Loss_G: 7.5498 D(x): 0.9448 D(G(z)): 0.2103 / 0.0012\n",
      "[11/20][700/938] Loss_D: 0.4824 Loss_G: 7.6263 D(x): 0.9364 D(G(z)): 0.2774 / 0.0020\n",
      "[11/20][800/938] Loss_D: 0.7473 Loss_G: 0.5673 D(x): 0.5519 D(G(z)): 0.0062 / 0.6184\n",
      "[11/20][900/938] Loss_D: 0.2082 Loss_G: 2.4084 D(x): 0.8480 D(G(z)): 0.0267 / 0.1262\n",
      "[12/20][0/938] Loss_D: 0.2456 Loss_G: 3.4726 D(x): 0.8351 D(G(z)): 0.0263 / 0.0621\n",
      "[12/20][100/938] Loss_D: 0.1234 Loss_G: 3.9251 D(x): 0.9381 D(G(z)): 0.0537 / 0.0312\n",
      "[12/20][200/938] Loss_D: 0.1233 Loss_G: 4.0590 D(x): 0.9543 D(G(z)): 0.0516 / 0.0361\n",
      "[12/20][300/938] Loss_D: 0.1684 Loss_G: 4.3197 D(x): 0.9230 D(G(z)): 0.0677 / 0.0191\n",
      "[12/20][400/938] Loss_D: 0.1435 Loss_G: 5.0149 D(x): 0.9438 D(G(z)): 0.0741 / 0.0118\n",
      "[12/20][500/938] Loss_D: 0.5040 Loss_G: 2.1545 D(x): 0.8696 D(G(z)): 0.2409 / 0.1959\n",
      "[12/20][600/938] Loss_D: 0.1872 Loss_G: 4.0238 D(x): 0.9081 D(G(z)): 0.0678 / 0.0290\n",
      "[12/20][700/938] Loss_D: 0.0455 Loss_G: 3.2674 D(x): 0.9951 D(G(z)): 0.0378 / 0.0597\n",
      "[12/20][800/938] Loss_D: 0.4382 Loss_G: 4.9771 D(x): 0.9726 D(G(z)): 0.2815 / 0.0112\n",
      "[12/20][900/938] Loss_D: 0.0613 Loss_G: 3.9233 D(x): 0.9644 D(G(z)): 0.0231 / 0.0349\n",
      "[13/20][0/938] Loss_D: 0.0644 Loss_G: 5.4846 D(x): 0.9808 D(G(z)): 0.0414 / 0.0075\n",
      "[13/20][100/938] Loss_D: 0.0189 Loss_G: 8.3302 D(x): 0.9831 D(G(z)): 0.0015 / 0.0006\n",
      "[13/20][200/938] Loss_D: 0.1280 Loss_G: 4.3690 D(x): 0.9668 D(G(z)): 0.0742 / 0.0198\n",
      "[13/20][300/938] Loss_D: 0.1118 Loss_G: 5.5890 D(x): 0.9609 D(G(z)): 0.0557 / 0.0073\n",
      "[13/20][400/938] Loss_D: 0.2912 Loss_G: 4.5604 D(x): 0.9811 D(G(z)): 0.2039 / 0.0172\n",
      "[13/20][500/938] Loss_D: 0.2995 Loss_G: 5.4287 D(x): 0.9439 D(G(z)): 0.1761 / 0.0085\n",
      "[13/20][600/938] Loss_D: 0.2828 Loss_G: 3.8571 D(x): 0.8440 D(G(z)): 0.0708 / 0.0369\n",
      "[13/20][700/938] Loss_D: 0.4414 Loss_G: 8.0435 D(x): 0.9405 D(G(z)): 0.2550 / 0.0006\n",
      "[13/20][800/938] Loss_D: 0.2247 Loss_G: 4.5133 D(x): 0.8363 D(G(z)): 0.0120 / 0.0261\n",
      "[13/20][900/938] Loss_D: 1.1420 Loss_G: 8.3640 D(x): 0.9993 D(G(z)): 0.5515 / 0.0004\n",
      "[14/20][0/938] Loss_D: 0.1790 Loss_G: 5.7509 D(x): 0.8732 D(G(z)): 0.0151 / 0.0081\n",
      "[14/20][100/938] Loss_D: 0.0411 Loss_G: 5.8923 D(x): 0.9798 D(G(z)): 0.0193 / 0.0057\n",
      "[14/20][200/938] Loss_D: 0.1930 Loss_G: 3.3998 D(x): 0.8689 D(G(z)): 0.0388 / 0.0550\n",
      "[14/20][300/938] Loss_D: 0.0909 Loss_G: 4.7139 D(x): 0.9249 D(G(z)): 0.0069 / 0.0193\n",
      "[14/20][400/938] Loss_D: 0.2036 Loss_G: 3.5573 D(x): 0.8747 D(G(z)): 0.0372 / 0.0579\n",
      "[14/20][500/938] Loss_D: 0.2985 Loss_G: 3.1200 D(x): 0.8057 D(G(z)): 0.0417 / 0.0739\n",
      "[14/20][600/938] Loss_D: 0.2566 Loss_G: 3.6730 D(x): 0.8198 D(G(z)): 0.0045 / 0.0444\n",
      "[14/20][700/938] Loss_D: 0.1241 Loss_G: 5.2726 D(x): 0.9653 D(G(z)): 0.0724 / 0.0090\n",
      "[14/20][800/938] Loss_D: 0.1808 Loss_G: 4.9173 D(x): 0.9469 D(G(z)): 0.0868 / 0.0147\n",
      "[14/20][900/938] Loss_D: 0.4055 Loss_G: 4.5139 D(x): 0.7436 D(G(z)): 0.0044 / 0.0294\n",
      "[15/20][0/938] Loss_D: 1.4565 Loss_G: 10.3366 D(x): 0.9984 D(G(z)): 0.6021 / 0.0001\n",
      "[15/20][100/938] Loss_D: 0.2210 Loss_G: 4.0321 D(x): 0.8469 D(G(z)): 0.0299 / 0.0407\n",
      "[15/20][200/938] Loss_D: 0.0771 Loss_G: 5.5605 D(x): 0.9921 D(G(z)): 0.0617 / 0.0086\n",
      "[15/20][300/938] Loss_D: 1.1041 Loss_G: 5.0231 D(x): 0.8813 D(G(z)): 0.4724 / 0.0479\n",
      "[15/20][400/938] Loss_D: 0.2043 Loss_G: 4.1673 D(x): 0.9066 D(G(z)): 0.0792 / 0.0257\n",
      "[15/20][500/938] Loss_D: 0.0490 Loss_G: 6.2296 D(x): 0.9679 D(G(z)): 0.0147 / 0.0055\n",
      "[15/20][600/938] Loss_D: 0.0736 Loss_G: 6.9258 D(x): 0.9410 D(G(z)): 0.0086 / 0.0025\n",
      "[15/20][700/938] Loss_D: 1.8845 Loss_G: 2.8279 D(x): 0.3163 D(G(z)): 0.0107 / 0.1519\n",
      "[15/20][800/938] Loss_D: 0.2041 Loss_G: 4.3984 D(x): 0.8439 D(G(z)): 0.0097 / 0.0309\n",
      "[15/20][900/938] Loss_D: 0.2595 Loss_G: 3.4164 D(x): 0.9006 D(G(z)): 0.1080 / 0.0533\n",
      "[16/20][0/938] Loss_D: 1.0485 Loss_G: 9.4454 D(x): 0.9967 D(G(z)): 0.5490 / 0.0001\n",
      "[16/20][100/938] Loss_D: 0.0575 Loss_G: 5.2235 D(x): 0.9616 D(G(z)): 0.0162 / 0.0114\n",
      "[16/20][200/938] Loss_D: 0.2602 Loss_G: 5.3550 D(x): 0.9011 D(G(z)): 0.0911 / 0.0102\n",
      "[16/20][300/938] Loss_D: 0.0318 Loss_G: 5.4288 D(x): 0.9785 D(G(z)): 0.0097 / 0.0085\n",
      "[16/20][400/938] Loss_D: 0.0362 Loss_G: 3.2665 D(x): 0.9807 D(G(z)): 0.0150 / 0.1034\n",
      "[16/20][500/938] Loss_D: 1.7805 Loss_G: 0.7314 D(x): 0.3440 D(G(z)): 0.0012 / 0.6493\n",
      "[16/20][600/938] Loss_D: 0.2721 Loss_G: 2.3074 D(x): 0.8731 D(G(z)): 0.0985 / 0.1238\n",
      "[16/20][700/938] Loss_D: 0.0569 Loss_G: 5.3694 D(x): 0.9943 D(G(z)): 0.0454 / 0.0082\n",
      "[16/20][800/938] Loss_D: 0.3642 Loss_G: 6.3877 D(x): 0.9968 D(G(z)): 0.2696 / 0.0026\n",
      "[16/20][900/938] Loss_D: 0.3589 Loss_G: 3.2447 D(x): 0.7534 D(G(z)): 0.0283 / 0.0787\n",
      "[17/20][0/938] Loss_D: 0.3206 Loss_G: 6.7538 D(x): 0.9720 D(G(z)): 0.2122 / 0.0019\n",
      "[17/20][100/938] Loss_D: 0.2346 Loss_G: 4.5158 D(x): 0.9187 D(G(z)): 0.1159 / 0.0199\n",
      "[17/20][200/938] Loss_D: 1.8090 Loss_G: 9.5000 D(x): 0.9839 D(G(z)): 0.7046 / 0.0002\n",
      "[17/20][300/938] Loss_D: 0.2686 Loss_G: 4.1684 D(x): 0.8165 D(G(z)): 0.0048 / 0.0477\n",
      "[17/20][400/938] Loss_D: 0.1118 Loss_G: 5.1555 D(x): 0.9644 D(G(z)): 0.0621 / 0.0103\n",
      "[17/20][500/938] Loss_D: 2.5315 Loss_G: 0.9777 D(x): 0.1491 D(G(z)): 0.0005 / 0.4906\n",
      "[17/20][600/938] Loss_D: 0.1086 Loss_G: 4.1034 D(x): 0.9623 D(G(z)): 0.0550 / 0.0237\n",
      "[17/20][700/938] Loss_D: 0.0958 Loss_G: 5.1527 D(x): 0.9435 D(G(z)): 0.0266 / 0.0102\n",
      "[17/20][800/938] Loss_D: 0.3775 Loss_G: 4.1412 D(x): 0.9973 D(G(z)): 0.2528 / 0.0274\n",
      "[17/20][900/938] Loss_D: 0.6051 Loss_G: 6.9257 D(x): 0.9991 D(G(z)): 0.3452 / 0.0036\n",
      "[18/20][0/938] Loss_D: 0.0898 Loss_G: 5.2522 D(x): 0.9937 D(G(z)): 0.0677 / 0.0081\n",
      "[18/20][100/938] Loss_D: 0.2980 Loss_G: 6.3889 D(x): 0.9801 D(G(z)): 0.2012 / 0.0025\n",
      "[18/20][200/938] Loss_D: 0.1361 Loss_G: 5.4305 D(x): 0.9726 D(G(z)): 0.0857 / 0.0080\n",
      "[18/20][300/938] Loss_D: 0.7777 Loss_G: 2.3617 D(x): 0.5524 D(G(z)): 0.0002 / 0.2187\n",
      "[18/20][400/938] Loss_D: 2.4787 Loss_G: 14.3134 D(x): 0.9995 D(G(z)): 0.8331 / 0.0000\n",
      "[18/20][500/938] Loss_D: 0.1214 Loss_G: 4.4820 D(x): 0.9874 D(G(z)): 0.0940 / 0.0166\n",
      "[18/20][600/938] Loss_D: 0.2046 Loss_G: 3.9405 D(x): 0.9737 D(G(z)): 0.1396 / 0.0301\n",
      "[18/20][700/938] Loss_D: 0.4298 Loss_G: 7.6976 D(x): 0.9950 D(G(z)): 0.2812 / 0.0008\n",
      "[18/20][800/938] Loss_D: 0.0381 Loss_G: 5.0967 D(x): 0.9898 D(G(z)): 0.0265 / 0.0106\n",
      "[18/20][900/938] Loss_D: 0.2173 Loss_G: 4.2033 D(x): 0.8966 D(G(z)): 0.0772 / 0.0259\n",
      "[19/20][0/938] Loss_D: 0.9436 Loss_G: 9.7810 D(x): 0.9990 D(G(z)): 0.4418 / 0.0001\n",
      "[19/20][100/938] Loss_D: 0.5238 Loss_G: 7.2627 D(x): 0.9976 D(G(z)): 0.3415 / 0.0014\n",
      "[19/20][200/938] Loss_D: 0.2707 Loss_G: 5.7072 D(x): 0.9278 D(G(z)): 0.1569 / 0.0060\n",
      "[19/20][300/938] Loss_D: 0.0583 Loss_G: 3.2326 D(x): 0.9981 D(G(z)): 0.0517 / 0.0625\n",
      "[19/20][400/938] Loss_D: 0.5232 Loss_G: 2.9199 D(x): 0.6910 D(G(z)): 0.0027 / 0.1213\n"
     ]
    },
    {
     "name": "stdout",
     "output_type": "stream",
     "text": [
      "[19/20][500/938] Loss_D: 0.0653 Loss_G: 5.8399 D(x): 0.9611 D(G(z)): 0.0199 / 0.0095\n",
      "[19/20][600/938] Loss_D: 0.0882 Loss_G: 4.9506 D(x): 0.9326 D(G(z)): 0.0118 / 0.0189\n",
      "[19/20][700/938] Loss_D: 0.4380 Loss_G: 3.5261 D(x): 0.7171 D(G(z)): 0.0054 / 0.0980\n",
      "[19/20][800/938] Loss_D: 0.1749 Loss_G: 6.0484 D(x): 0.9918 D(G(z)): 0.1330 / 0.0038\n",
      "[19/20][900/938] Loss_D: 0.3138 Loss_G: 4.7994 D(x): 0.8150 D(G(z)): 0.0417 / 0.0219\n"
     ]
    }
   ],
   "source": [
    "niter = 20\n",
    "outf = 'result/DCGAN_MNIST'\n",
    "\n",
    "for epoch in range(niter):\n",
    "    for i, data in enumerate(dataloader, 0):\n",
    "        ############################\n",
    "        # (1) Update D network: maximize log(D(x)) + log(1 - D(G(z)))\n",
    "        ###########################\n",
    "        # train with real\n",
    "        netD.zero_grad()\n",
    "        real_cpu = data[0].to(device)\n",
    "        batch_size = real_cpu.size(0)\n",
    "        label = torch.full((batch_size,), real_label, device=device)\n",
    "\n",
    "        output = netD(real_cpu)\n",
    "        errD_real = criterion(output, label)\n",
    "        errD_real.backward()\n",
    "        D_x = output.mean().item()\n",
    "\n",
    "        # train with fake\n",
    "        noise = torch.randn(batch_size, nz, 1, 1, device=device)\n",
    "        fake = netG(noise)\n",
    "        label.fill_(fake_label)\n",
    "        output = netD(fake.detach())\n",
    "        errD_fake = criterion(output, label)\n",
    "        errD_fake.backward()\n",
    "        D_G_z1 = output.mean().item()\n",
    "        errD = errD_real + errD_fake\n",
    "        optimizerD.step()\n",
    "\n",
    "        ############################\n",
    "        # (2) Update G network: maximize log(D(G(z)))\n",
    "        ###########################\n",
    "        netG.zero_grad()\n",
    "        label.fill_(real_label)  # fake labels are real for generator cost\n",
    "        output = netD(fake)\n",
    "        errG = criterion(output, label)\n",
    "        errG.backward()\n",
    "        D_G_z2 = output.mean().item()\n",
    "        optimizerG.step()\n",
    "\n",
    "        if i %100 == 0:\n",
    "            print('[%d/%d][%d/%d] Loss_D: %.4f Loss_G: %.4f D(x): %.4f D(G(z)): %.4f / %.4f'\n",
    "              % (epoch, niter, i, len(dataloader),\n",
    "                 errD.item(), errG.item(), D_x, D_G_z1, D_G_z2))\n",
    "    if epoch % 2 == 0:\n",
    "        vutils.save_image(real_cpu,\n",
    "                '%s/real_samples.png' % outf,\n",
    "                normalize=True)\n",
    "        fake = netG(fixed_noise)\n",
    "        vutils.save_image(fake.detach(),\n",
    "                '%s/fake_samples_epoch_%03d.png' % (outf, epoch),\n",
    "                normalize=True)"
   ]
  },
  {
   "cell_type": "markdown",
   "metadata": {},
   "source": [
    "### Save Model"
   ]
  },
  {
   "cell_type": "code",
   "execution_count": 15,
   "metadata": {},
   "outputs": [
    {
     "name": "stderr",
     "output_type": "stream",
     "text": [
      "/usr/local/lib/python3.6/dist-packages/torch/serialization.py:256: UserWarning: Couldn't retrieve source code for container of type Discriminator. It won't be checked for correctness upon loading.\n",
      "  \"type \" + obj.__name__ + \". It won't be checked \"\n",
      "/usr/local/lib/python3.6/dist-packages/torch/serialization.py:256: UserWarning: Couldn't retrieve source code for container of type Generator. It won't be checked for correctness upon loading.\n",
      "  \"type \" + obj.__name__ + \". It won't be checked \"\n"
     ]
    }
   ],
   "source": [
    "torch.save(netD, 'models/netD.pkl')\n",
    "torch.save(netG, 'models/netG.pkl')"
   ]
  },
  {
   "cell_type": "markdown",
   "metadata": {},
   "source": [
    "### 0th Epoch\n",
    "<img src=\"result/DCGAN_MNIST/fake_samples_epoch_000.png\" width=400>\n",
    "\n",
    "### 4th Epoch\n",
    "<img src=\"result/DCGAN_MNIST/fake_samples_epoch_004.png\" width=400>\n",
    "\n",
    "### 8th Epoch\n",
    "<img src=\"result/DCGAN_MNIST/fake_samples_epoch_008.png\" width=400>\n",
    "\n",
    "### 12th Epoch\n",
    "<img src=\"result/DCGAN_MNIST/fake_samples_epoch_012.png\" width=400>\n",
    "\n",
    "### 18th Epoch\n",
    "<img src=\"result/DCGAN_MNIST/fake_samples_epoch_018.png\" width=400>"
   ]
  },
  {
   "cell_type": "markdown",
   "metadata": {},
   "source": [
    "### Testing\n",
    "\n",
    "Try to see if there are any patterns in the random walks generated"
   ]
  },
  {
   "cell_type": "code",
   "execution_count": null,
   "metadata": {},
   "outputs": [],
   "source": [
    "fn_1 = torch.randn(1, nz, 1, 1, device=device)\n",
    "fn_2 = torch.randn(1, nz, 1, 1, device=device)\n",
    "fn_r = torch.cat((fn_1, fn_2, (fn_1+fn_2)/2), 0)\n",
    "fk_r = netG(fn_r)\n",
    "fk_1.shape, fk_2.shape, fk_r.shape\n",
    "\n",
    "vutils.save_image(fk_r.detach(),\n",
    "                '%s/%s.png' % (outf, 'fk_test'),\n",
    "                normalize=True)"
   ]
  },
  {
   "cell_type": "markdown",
   "metadata": {},
   "source": [
    "<img src=\"result/DCGAN_MNIST/fk_test.png\" width=400/>"
   ]
  },
  {
   "cell_type": "code",
   "execution_count": null,
   "metadata": {},
   "outputs": [],
   "source": []
  }
 ],
 "metadata": {
  "kernelspec": {
   "display_name": "Python 3",
   "language": "python",
   "name": "python3"
  },
  "language_info": {
   "codemirror_mode": {
    "name": "ipython",
    "version": 3
   },
   "file_extension": ".py",
   "mimetype": "text/x-python",
   "name": "python",
   "nbconvert_exporter": "python",
   "pygments_lexer": "ipython3",
   "version": "3.6.8"
  }
 },
 "nbformat": 4,
 "nbformat_minor": 2
}
