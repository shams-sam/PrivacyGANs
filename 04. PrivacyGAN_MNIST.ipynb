{
 "cells": [
  {
   "cell_type": "markdown",
   "metadata": {},
   "source": [
    "### data import\n",
    "- Data is downloaded and converted to pickle file\n",
    "- [Download location](http://yann.lecun.com/exdb/mnist/)\n",
    "- Extraction using mlxtend library. sample code [reference](http://rasbt.github.io/mlxtend/user_guide/data/loadlocal_mnist/)\n",
    "\n",
    "### code for importing and converting the data into pickle files\n",
    "\n",
    "The original dataset as imported from website which contributes the dataset for public usage is in unsigned byte format. The dataset is in flattened format and has single channel 28\\*28 images flattened row-wise. The images are rebuilt using one of the many codes contributed by various users working on the same dataset.\n",
    "\n",
    "For ease of use, here we have converted the dataset to standard pickle format as the library is generally more readily available on most platforms when compared to the mlxtend library originally mentioned. \n",
    "\n",
    "```python\n",
    "from mlxtend.data import loa local_mnist\n",
    "import pickle as pkl\n",
    "\n",
    "X, y = loadlocal_mnist(\n",
    "        images_path='data/MNIST/train-images-idx3-ubyte', \n",
    "        labels_path='data/MNIST/train-labels-idx1-ubyte')\n",
    "\n",
    "pkl.dump((X, y), open('data/MNIST/data.pkl', 'wb'))\n",
    "```"
   ]
  },
  {
   "cell_type": "code",
   "execution_count": 5,
   "metadata": {},
   "outputs": [
    {
     "name": "stdout",
     "output_type": "stream",
     "text": [
      "Collecting mlxtend\n",
      "\u001b[?25l  Downloading https://files.pythonhosted.org/packages/52/04/c362f34f666f0ddc7cf593805e64d64fa670ed96fd9302e68549dd48287d/mlxtend-0.17.0-py2.py3-none-any.whl (1.3MB)\n",
      "\u001b[K     |████████████████████████████████| 1.3MB 122kB/s eta 0:00:01\n",
      "\u001b[?25hRequirement already satisfied: scipy>=1.2.1 in /usr/local/lib/python3.6/dist-packages (from mlxtend) (1.3.2)\n",
      "Requirement already satisfied: matplotlib>=3.0.0 in /usr/local/lib/python3.6/dist-packages (from mlxtend) (3.1.1)\n",
      "Requirement already satisfied: numpy>=1.16.2 in /usr/local/lib/python3.6/dist-packages (from mlxtend) (1.17.4)\n",
      "Requirement already satisfied: pandas>=0.24.2 in /usr/local/lib/python3.6/dist-packages (from mlxtend) (0.25.3)\n",
      "Requirement already satisfied: scikit-learn>=0.20.3 in /usr/local/lib/python3.6/dist-packages (from mlxtend) (0.21.3)\n",
      "Requirement already satisfied: joblib>=0.13.2 in /usr/local/lib/python3.6/dist-packages (from mlxtend) (0.14.0)\n",
      "Requirement already satisfied: setuptools in /usr/local/lib/python3.6/dist-packages (from mlxtend) (41.6.0)\n",
      "Requirement already satisfied: cycler>=0.10 in /usr/local/lib/python3.6/dist-packages (from matplotlib>=3.0.0->mlxtend) (0.10.0)\n",
      "Requirement already satisfied: kiwisolver>=1.0.1 in /usr/local/lib/python3.6/dist-packages (from matplotlib>=3.0.0->mlxtend) (1.1.0)\n",
      "Requirement already satisfied: python-dateutil>=2.1 in /usr/local/lib/python3.6/dist-packages (from matplotlib>=3.0.0->mlxtend) (2.8.1)\n",
      "Requirement already satisfied: pyparsing!=2.0.4,!=2.1.2,!=2.1.6,>=2.0.1 in /usr/local/lib/python3.6/dist-packages (from matplotlib>=3.0.0->mlxtend) (2.4.5)\n",
      "Requirement already satisfied: pytz>=2017.2 in /usr/local/lib/python3.6/dist-packages (from pandas>=0.24.2->mlxtend) (2019.3)\n",
      "Requirement already satisfied: six in /usr/local/lib/python3.6/dist-packages (from cycler>=0.10->matplotlib>=3.0.0->mlxtend) (1.13.0)\n",
      "Installing collected packages: mlxtend\n",
      "Successfully installed mlxtend-0.17.0\n",
      "\u001b[33mWARNING: You are using pip version 19.3.1; however, version 20.0.2 is available.\n",
      "You should consider upgrading via the 'pip install --upgrade pip' command.\u001b[0m\n"
     ]
    }
   ],
   "source": [
    "!pip install mlxtend"
   ]
  },
  {
   "cell_type": "code",
   "execution_count": 7,
   "metadata": {},
   "outputs": [],
   "source": [
    "from mlxtend.data import loadlocal_mnist\n",
    "import pickle as pkl\n",
    "\n",
    "X, y = loadlocal_mnist(\n",
    "        images_path='data/MNIST/train-images-idx3-ubyte', \n",
    "        labels_path='data/MNIST/train-labels-idx1-ubyte')\n",
    "\n",
    "pkl.dump((X, y), open('checkpoints/mnist/data.pkl', 'wb'))"
   ]
  },
  {
   "cell_type": "code",
   "execution_count": 2,
   "metadata": {},
   "outputs": [],
   "source": [
    "import pickle as pkl"
   ]
  },
  {
   "cell_type": "code",
   "execution_count": 3,
   "metadata": {},
   "outputs": [],
   "source": [
    "X, y = pkl.load(open('checkpoints/mnist/data.pkl', 'rb'))"
   ]
  },
  {
   "cell_type": "code",
   "execution_count": 4,
   "metadata": {},
   "outputs": [
    {
     "data": {
      "text/plain": [
       "((60000, 784), (60000,))"
      ]
     },
     "execution_count": 4,
     "metadata": {},
     "output_type": "execute_result"
    }
   ],
   "source": [
    "X.shape, y.shape"
   ]
  },
  {
   "cell_type": "markdown",
   "metadata": {},
   "source": [
    "### Data Processing\n",
    "- convert data to the appropriate format and check the label against sample instances for validation.\n",
    "- data is presented in a single row vector as flattened values for 28\\*28 images"
   ]
  },
  {
   "cell_type": "code",
   "execution_count": 5,
   "metadata": {},
   "outputs": [],
   "source": [
    "import matplotlib.pyplot as plt\n",
    "import random"
   ]
  },
  {
   "cell_type": "markdown",
   "metadata": {},
   "source": [
    "### Validation Plot\n",
    "\n",
    "Plotting dataset and checking corresponding labels to ensure validity of the code that is rebuilding the dataset from original ubyte dateset downloaded. The samples are picked at random to ensure that data at random are correctly labelled and the code is working fine in rebuilding the images from flattened vectors."
   ]
  },
  {
   "cell_type": "code",
   "execution_count": 6,
   "metadata": {},
   "outputs": [
    {
     "data": {
      "image/png": "[encoded data removed]",
      "text/plain": [
       "<Figure size 1440x1080 with 12 Axes>"
      ]
     },
     "metadata": {
      "needs_background": "light"
     },
     "output_type": "display_data"
    }
   ],
   "source": [
    "plt.figure(figsize=(20, 15))\n",
    "for _ in range(12):\n",
    "    idx = random.randint(0, len(X)-1)\n",
    "    image_row_vector = X[idx]\n",
    "    plt.subplot(5, 4, _+1)\n",
    "    plt.imshow(image_row_vector.reshape((28, 28, 1)).squeeze())\n",
    "    plt.title(\"label: {}\".format(y[idx]))\n",
    "    plt.axis('off')\n",
    "plt.show()"
   ]
  },
  {
   "cell_type": "markdown",
   "metadata": {},
   "source": [
    "### DCGAN\n",
    "\n",
    "- Reference: https://github.com/pytorch/examples/blob/master/dcgan/main.py\n",
    "\n",
    "Main idea of DCGAN lies in the terms of giving architecture guidelines to ensure stable training of GANs on CNNs. The main guidelines as summarized in the paper by the authors involve:\n",
    "\n",
    "- replace any pooling layer with strided convolutions in discriminator and fractional-strided convolutions in generator\n",
    "- batchnorm in both generator and discriminator\n",
    "- no fully connected hidden layers in deep networks\n",
    "- ReLU in generator for all layers but output layer which has Tanh activation\n",
    "- LeakyReLU in discriminator for all layers"
   ]
  },
  {
   "cell_type": "code",
   "execution_count": 7,
   "metadata": {},
   "outputs": [
    {
     "name": "stdout",
     "output_type": "stream",
     "text": [
      "DType: torch.float32\n",
      "Cuda available: False\n",
      "Device: cpu\n"
     ]
    }
   ],
   "source": [
    "import numpy as np\n",
    "import pandas as pd\n",
    "from sklearn.preprocessing import MinMaxScaler\n",
    "import torch\n",
    "import torch.nn as nn\n",
    "import torch.optim as optim\n",
    "import torch.utils.data as utils\n",
    "import torchvision.utils as vutils\n",
    "import torchvision.transforms as transforms\n",
    "from torchsummary import summary\n",
    "\n",
    "dtype = torch.float\n",
    "device = torch.device(\"cuda\") if torch.cuda.is_available() else torch.device(\"cpu\")\n",
    "cpu = torch.device(\"cpu\")\n",
    "\n",
    "print(\"DType: {}\\nCuda available: {}\\nDevice: {}\".format(\n",
    "    dtype.__str__(),\n",
    "    torch.cuda.is_available().__str__(),\n",
    "    device.__str__(),\n",
    "))"
   ]
  },
  {
   "cell_type": "markdown",
   "metadata": {},
   "source": [
    "### Bin count of Target Labels in the Dataset"
   ]
  },
  {
   "cell_type": "code",
   "execution_count": 8,
   "metadata": {},
   "outputs": [
    {
     "data": {
      "image/png": "[encoded data removed]",
      "text/plain": [
       "<Figure size 432x288 with 1 Axes>"
      ]
     },
     "metadata": {
      "needs_background": "light"
     },
     "output_type": "display_data"
    }
   ],
   "source": [
    "plt.hist(y, bins='auto')\n",
    "plt.xlabel('labels')\n",
    "plt.ylabel('number of samples')\n",
    "plt.title('Bin count of classes in training data')\n",
    "plt.show()"
   ]
  },
  {
   "cell_type": "markdown",
   "metadata": {},
   "source": [
    "### Definition of Ally and Adversary Target Variables\n",
    "\n",
    "Since there are not a explicit sensitive and preferred target variables in this particular dataset, I am sticking to creating custome target variables for the purpose of this experiment. \n",
    "\n",
    "In this case the adversary target variable would be to retrieve the exact label of the images while the ally would like to predict only whether it is an even or odd number."
   ]
  },
  {
   "cell_type": "code",
   "execution_count": 9,
   "metadata": {},
   "outputs": [
    {
     "data": {
      "image/png": "[encoded data removed]",
      "text/plain": [
       "<Figure size 1440x360 with 3 Axes>"
      ]
     },
     "metadata": {
      "needs_background": "light"
     },
     "output_type": "display_data"
    }
   ],
   "source": [
    "y_ally = y%2\n",
    "y_advr_1 = y\n",
    "y_advr_2 = y >= 5\n",
    "y_advr_2 = y_advr_2.astype(int)\n",
    "\n",
    "plt.figure(figsize=(20, 5))\n",
    "plt.subplot(1, 3, 1)\n",
    "plt.hist(y_ally, bins='auto')\n",
    "plt.xlabel('labels')\n",
    "plt.ylabel('number of samples')\n",
    "plt.title('Bin count of classes in y_ally')\n",
    "plt.subplot(1, 3, 2)\n",
    "plt.hist(y_advr_1, bins='auto')\n",
    "plt.xlabel('labels')\n",
    "plt.ylabel('number of samples')\n",
    "plt.title('Bin count of classes in y_advr_1')\n",
    "plt.subplot(1, 3, 3)\n",
    "plt.hist(y_advr_2, bins='auto')\n",
    "plt.xlabel('labels')\n",
    "plt.ylabel('number of samples')\n",
    "plt.title('Bin count of classes in y_advr_2')\n",
    "plt.show()"
   ]
  },
  {
   "cell_type": "code",
   "execution_count": 11,
   "metadata": {},
   "outputs": [],
   "source": [
    "pkl.dump((X, y_ally, y_advr_1, y_advr_2), open('checkpoints/mnist/processed_data_X_y_ally_y_advr_y_advr_2.pkl', 'wb'))"
   ]
  },
  {
   "cell_type": "markdown",
   "metadata": {},
   "source": [
    "### Train Test Split"
   ]
  },
  {
   "cell_type": "code",
   "execution_count": 14,
   "metadata": {},
   "outputs": [
    {
     "data": {
      "text/plain": [
       "(60000,)"
      ]
     },
     "execution_count": 14,
     "metadata": {},
     "output_type": "execute_result"
    }
   ],
   "source": [
    "y_advr_1.shape"
   ]
  },
  {
   "cell_type": "code",
   "execution_count": 23,
   "metadata": {},
   "outputs": [
    {
     "data": {
      "text/plain": [
       "((54000, 784),\n",
       " (6000, 784),\n",
       " (54000,),\n",
       " (6000,),\n",
       " (54000,),\n",
       " (6000,),\n",
       " (54000,),\n",
       " (6000,))"
      ]
     },
     "execution_count": 23,
     "metadata": {},
     "output_type": "execute_result"
    }
   ],
   "source": [
    "from sklearn.model_selection import train_test_split\n",
    "\n",
    "X_train, X_valid, y_ally_train, y_ally_valid, y_advr_1_train, y_advr_1_valid, y_advr_2_train, y_advr_2_valid = \\\n",
    "train_test_split(\n",
    "    X, \n",
    "    y_ally,\n",
    "    y_advr_1,\n",
    "    y_advr_2,\n",
    "    test_size=0.1,\n",
    "    stratify=pd.DataFrame(np.concatenate((y_ally.reshape(-1, 1), y_advr_1.reshape(-1, 1), y_advr_2.reshape(-1, 1)), axis=1))\n",
    ")\n",
    "X_train.shape, X_valid.shape, y_ally_train.shape, y_ally_valid.shape, y_advr_1_train.shape, y_advr_1_valid.shape, y_advr_2_train.shape, y_advr_2_valid.shape"
   ]
  },
  {
   "cell_type": "markdown",
   "metadata": {},
   "source": [
    "### Validating the split"
   ]
  },
  {
   "cell_type": "code",
   "execution_count": 24,
   "metadata": {},
   "outputs": [
    {
     "data": {
      "image/png": "[encoded data removed]",
      "text/plain": [
       "<Figure size 1440x720 with 9 Axes>"
      ]
     },
     "metadata": {
      "needs_background": "light"
     },
     "output_type": "display_data"
    }
   ],
   "source": [
    "plt.figure(figsize=(20, 10))\n",
    "plt.subplot(3, 3, 1)\n",
    "pd.value_counts(y_ally).plot(kind='bar')\n",
    "plt.title('for y_ally')\n",
    "plt.subplot(3, 3, 2)\n",
    "pd.value_counts(y_ally_train).plot(kind='bar')\n",
    "plt.title('for y_ally_train')\n",
    "plt.subplot(3, 3, 3)\n",
    "pd.value_counts(y_ally_valid).plot(kind='bar')\n",
    "plt.title('for y_ally_valid')\n",
    "plt.subplot(3, 3, 4)\n",
    "pd.value_counts(y_advr_1).plot(kind='bar')\n",
    "plt.title('for y_advr_1')\n",
    "plt.subplot(3, 3, 5)\n",
    "pd.value_counts(y_advr_1_train).plot(kind='bar')\n",
    "plt.title('for y_advr_1_train')\n",
    "plt.subplot(3, 3, 6)\n",
    "pd.value_counts(y_advr_1_valid).plot(kind='bar')\n",
    "plt.title('for y_advr_1_valid')\n",
    "plt.subplot(3, 3, 7)\n",
    "pd.value_counts(y_advr_2).plot(kind='bar')\n",
    "plt.title('for y_advr_2')\n",
    "plt.subplot(3, 3, 8)\n",
    "pd.value_counts(y_advr_2_train).plot(kind='bar')\n",
    "plt.title('for y_advr_2_train')\n",
    "plt.subplot(3, 3, 9)\n",
    "pd.value_counts(y_advr_2_valid).plot(kind='bar')\n",
    "plt.title('for y_advr_2_valid')\n",
    "plt.show()"
   ]
  },
  {
   "cell_type": "markdown",
   "metadata": {},
   "source": [
    "### Scaling for Normalization\n",
    "\n",
    "Ideally this should be done at a batch level for larger dataset but here since the providers give the entire dataset in a single matrix it is possible to do this scaling for the entire dataset at one go.\n",
    "\n",
    "There can be various options for scaling which includes Standard Scaling as well. I have used MinMax Scaling because of the ease of use and it is generally shown to maintain the distribution and work well with outliers."
   ]
  },
  {
   "cell_type": "code",
   "execution_count": 10,
   "metadata": {},
   "outputs": [
    {
     "data": {
      "text/plain": [
       "((54000, 784), (6000, 784))"
      ]
     },
     "execution_count": 10,
     "metadata": {},
     "output_type": "execute_result"
    }
   ],
   "source": [
    "scaler = MinMaxScaler()\n",
    "scaler.fit(X_train.astype(np.float64))\n",
    "X_train_normalized = scaler.transform(X_train.astype(np.float64))\n",
    "X_valid_normalized = scaler.transform(X_valid.astype(np.float64))\n",
    "X_train_normalized.shape, X_valid_normalized.shape"
   ]
  },
  {
   "cell_type": "markdown",
   "metadata": {},
   "source": [
    "### Validation Plot\n",
    "\n",
    "To check if the images are affected at all by any of the normalization techniques which might be applied in the previous step, we plot and check visually for randomly picked elements that the images maintain their structure as they would have in the original scale image."
   ]
  },
  {
   "cell_type": "code",
   "execution_count": 11,
   "metadata": {},
   "outputs": [
    {
     "data": {
      "image/png": "[encoded data removed]",
      "text/plain": [
       "<Figure size 1440x1080 with 12 Axes>"
      ]
     },
     "metadata": {
      "needs_background": "light"
     },
     "output_type": "display_data"
    }
   ],
   "source": [
    "plt.figure(figsize=(20, 15))\n",
    "for _ in range(12):\n",
    "    if _ % 2 == 0:\n",
    "        idx = random.randint(0, len(X_train)-1)\n",
    "        image_row_vector = X_train_normalized[idx]\n",
    "    else:\n",
    "        idx = random.randint(0, len(X_valid)-1)\n",
    "        image_row_vector = X_valid_normalized[idx]\n",
    "    plt.subplot(5, 4, _+1)\n",
    "    plt.imshow(image_row_vector.reshape((28, 28, 1)).squeeze())\n",
    "    plt.title(\"label: {}\".format(y[idx]))\n",
    "    plt.axis('off')\n",
    "plt.show()"
   ]
  },
  {
   "cell_type": "markdown",
   "metadata": {},
   "source": [
    "### Apply PCA and select components using explained variances"
   ]
  },
  {
   "cell_type": "code",
   "execution_count": 12,
   "metadata": {},
   "outputs": [
    {
     "name": "stdout",
     "output_type": "stream",
     "text": [
      "0.9901009797616632 332\n"
     ]
    }
   ],
   "source": [
    "from sklearn.decomposition import PCA\n",
    "\n",
    "pca = PCA()\n",
    "X_train_reduced = pca.fit_transform(X_train_normalized)\n",
    "\n",
    "num_components = 0\n",
    "total_var = 0\n",
    "variance_threshold = 0.99\n",
    "for _ in pca.explained_variance_ratio_:\n",
    "    total_var += _\n",
    "    num_components += 1\n",
    "    if total_var > variance_threshold:\n",
    "        break\n",
    "print(total_var, num_components)"
   ]
  },
  {
   "cell_type": "code",
   "execution_count": 13,
   "metadata": {},
   "outputs": [
    {
     "data": {
      "text/plain": [
       "((54000, 332), (6000, 332))"
      ]
     },
     "execution_count": 13,
     "metadata": {},
     "output_type": "execute_result"
    }
   ],
   "source": [
    "pca = PCA(n_components=num_components)\n",
    "X_train_reduced = pca.fit_transform(X_train_normalized)\n",
    "X_valid_reduced = pca.transform(X_valid_normalized)\n",
    "X_train_reduced.shape, X_valid_reduced.shape"
   ]
  },
  {
   "cell_type": "markdown",
   "metadata": {},
   "source": [
    "### Convert To Torch Tensors"
   ]
  },
  {
   "cell_type": "code",
   "execution_count": 14,
   "metadata": {},
   "outputs": [
    {
     "data": {
      "text/plain": [
       "((54000, 10), (6000, 10))"
      ]
     },
     "execution_count": 14,
     "metadata": {},
     "output_type": "execute_result"
    }
   ],
   "source": [
    "def to_categorical(y, num_classes=None, dtype='float32'):\n",
    "\n",
    "    y = np.array(y, dtype='int')\n",
    "    input_shape = y.shape\n",
    "    if input_shape and input_shape[-1] == 1 and len(input_shape) > 1:\n",
    "        input_shape = tuple(input_shape[:-1])\n",
    "    y = y.ravel()\n",
    "    if not num_classes:\n",
    "        num_classes = np.max(y) + 1\n",
    "    n = y.shape[0]\n",
    "    categorical = np.zeros((n, num_classes), dtype=dtype)\n",
    "    categorical[np.arange(n), y] = 1\n",
    "    output_shape = input_shape + (num_classes,)\n",
    "    categorical = np.reshape(categorical, output_shape)\n",
    "    return categorical\n",
    "\n",
    "y_advr_train = to_categorical(y_advr_train)\n",
    "y_advr_valid = to_categorical(y_advr_valid)\n",
    "y_advr_train.shape, y_advr_valid.shape"
   ]
  },
  {
   "cell_type": "code",
   "execution_count": 15,
   "metadata": {},
   "outputs": [
    {
     "data": {
      "text/plain": [
       "((54000, 1), (6000, 1))"
      ]
     },
     "execution_count": 15,
     "metadata": {},
     "output_type": "execute_result"
    }
   ],
   "source": [
    "y_ally_train = y_ally_train.reshape(-1, 1)\n",
    "y_ally_valid = y_ally_valid.reshape(-1, 1)\n",
    "y_ally_train.shape, y_ally_valid.shape"
   ]
  },
  {
   "cell_type": "markdown",
   "metadata": {},
   "source": [
    "### Apply Autoencoders"
   ]
  },
  {
   "cell_type": "code",
   "execution_count": 16,
   "metadata": {},
   "outputs": [],
   "source": [
    "class AutoEncoder(torch.nn.Module):\n",
    "    def __init__(self, input_size, encoding_dim):\n",
    "        super(AutoEncoder, self).__init__()\n",
    "        self.input_size = input_size\n",
    "        self.encoding_dim = encoding_dim\n",
    "        \n",
    "        self.fc1 = torch.nn.Linear(self.input_size, self.encoding_dim)\n",
    "        self.relu = torch.nn.ReLU()\n",
    "        self.fc2 = torch.nn.Linear(self.encoding_dim, self.input_size)\n",
    "        self.sigmoid = torch.nn.Sigmoid()\n",
    "        \n",
    "    def encoder(self, x):\n",
    "        return self.relu(self.fc1(x))\n",
    "\n",
    "    def decoder(self, y):\n",
    "        return self.sigmoid(self.fc2(y))\n",
    "    \n",
    "    def forward(self, x):\n",
    "        y = self.encoder(x)\n",
    "        x = self.decoder(y)\n",
    "        return x"
   ]
  },
  {
   "cell_type": "code",
   "execution_count": 17,
   "metadata": {},
   "outputs": [
    {
     "name": "stdout",
     "output_type": "stream",
     "text": [
      "----------------------------------------------------------------\n",
      "        Layer (type)               Output Shape         Param #\n",
      "================================================================\n",
      "            Linear-1               [-1, 1, 332]         260,620\n",
      "              ReLU-2               [-1, 1, 332]               0\n",
      "            Linear-3               [-1, 1, 784]         261,072\n",
      "           Sigmoid-4               [-1, 1, 784]               0\n",
      "================================================================\n",
      "Total params: 521,692\n",
      "Trainable params: 521,692\n",
      "Non-trainable params: 0\n",
      "----------------------------------------------------------------\n",
      "Input size (MB): 0.00\n",
      "Forward/backward pass size (MB): 0.02\n",
      "Params size (MB): 1.99\n",
      "Estimated Total Size (MB): 2.01\n",
      "----------------------------------------------------------------\n"
     ]
    }
   ],
   "source": [
    "auto_encoder = AutoEncoder(input_size=X_train_normalized.shape[1], encoding_dim=X_train_reduced.shape[1]).cuda()\n",
    "\n",
    "criterion = torch.nn.MSELoss()\n",
    "optimizer = torch.optim.Adam\n",
    "ae_optimizer = optimizer(auto_encoder.parameters(), lr = 0.001)\n",
    "\n",
    "summary(auto_encoder, input_size=(1, X_train_normalized.shape[1]))"
   ]
  },
  {
   "cell_type": "code",
   "execution_count": 18,
   "metadata": {},
   "outputs": [],
   "source": [
    "dataset_train = utils.TensorDataset(torch.Tensor(X_train_normalized))\n",
    "dataloader_train = torch.utils.data.DataLoader(dataset_train, batch_size=256, shuffle=True, num_workers=2)\n",
    "\n",
    "dataset_valid = utils.TensorDataset(torch.Tensor(X_valid_normalized))\n",
    "dataloader_valid = torch.utils.data.DataLoader(dataset_valid, batch_size=256, shuffle=True, num_workers=2)"
   ]
  },
  {
   "cell_type": "code",
   "execution_count": 19,
   "metadata": {},
   "outputs": [
    {
     "name": "stdout",
     "output_type": "stream",
     "text": [
      "epoch \t Aencoder_train \t Aencoder_valid\n",
      "0 \t 0.02071283 \t 0.02433280\n",
      "1 \t 0.01049942 \t 0.01374196\n",
      "2 \t 0.00668922 \t 0.00998540\n",
      "3 \t 0.00497524 \t 0.00825935\n",
      "4 \t 0.00357861 \t 0.00725502\n",
      "5 \t 0.00312692 \t 0.00663366\n",
      "6 \t 0.00268212 \t 0.00683052\n",
      "7 \t 0.00245785 \t 0.00595653\n",
      "8 \t 0.00235202 \t 0.00574397\n",
      "9 \t 0.00197639 \t 0.00558074\n",
      "10 \t 0.00208734 \t 0.00545401\n",
      "11 \t 0.00184565 \t 0.00534202\n",
      "12 \t 0.00165530 \t 0.00524219\n",
      "13 \t 0.00175937 \t 0.00515041\n",
      "14 \t 0.00146922 \t 0.00507949\n",
      "15 \t 0.00151983 \t 0.00502441\n",
      "16 \t 0.00149767 \t 0.00495385\n",
      "17 \t 0.00140512 \t 0.00782281\n",
      "18 \t 0.00126922 \t 0.00487513\n",
      "19 \t 0.00135537 \t 0.00482781\n"
     ]
    }
   ],
   "source": [
    "print(\"epoch \\t Aencoder_train \\t Aencoder_valid\")\n",
    "\n",
    "auto_encoder.train()\n",
    "\n",
    "\n",
    "ae_epoch = []\n",
    "ae_train = []\n",
    "ae_valid = []\n",
    "\n",
    "for epoch in range(20):\n",
    "    for i, data_train in enumerate(dataloader_train, 0):\n",
    "        X_train_torch = data_train[0].to(device)\n",
    "        ae_optimizer.zero_grad()\n",
    "\n",
    "        X_train_torch_hat = auto_encoder(X_train_torch)\n",
    "        ae_loss = criterion(X_train_torch_hat, X_train_torch)\n",
    "        ae_loss.backward(retain_graph=True)\n",
    "        ae_optimizer.step()\n",
    "\n",
    "    nsamples = 0\n",
    "    ae_valid_loss = 0\n",
    "    for j, data_valid in enumerate(dataloader_valid, 0):\n",
    "        X_valid_torch = data_valid[0].to(device)\n",
    "        X_valid_torch_hat = auto_encoder(X_valid_torch)\n",
    "        ae_valid_loss += criterion(X_valid_torch_hat, X_valid_torch)\n",
    "        nsamples += 1\n",
    "\n",
    "    print('{} \\t {:.8f} \\t {:.8f}'.format(\n",
    "        epoch, \n",
    "        ae_loss.item(),\n",
    "        ae_valid_loss/nsamples\n",
    "    ))\n",
    "    \n",
    "    ae_epoch.append(epoch)\n",
    "    ae_train.append(ae_loss.item())\n",
    "    ae_valid.append(ae_valid_loss/nsamples)"
   ]
  },
  {
   "cell_type": "markdown",
   "metadata": {},
   "source": [
    "- Convergence of autoencoded on this image dataset seems to be very accurate.\n",
    "- Loss function used here is MLE instead of Crossentropy because it was showing better convergence."
   ]
  },
  {
   "cell_type": "code",
   "execution_count": 20,
   "metadata": {},
   "outputs": [
    {
     "data": {
      "image/png": "[encoded data removed]",
      "text/plain": [
       "<Figure size 432x288 with 1 Axes>"
      ]
     },
     "metadata": {
      "needs_background": "light"
     },
     "output_type": "display_data"
    }
   ],
   "source": [
    "plt.plot(ae_epoch, ae_train, 'r--')\n",
    "plt.plot(ae_epoch, ae_valid, 'b--')\n",
    "plt.legend(['train_loss', 'valid_loss'])\n",
    "plt.title(\"autoencoder training\")\n",
    "plt.show()"
   ]
  },
  {
   "cell_type": "markdown",
   "metadata": {},
   "source": [
    "### Constants Explained\n",
    "\n",
    "- nz: encoding dimension\n",
    "- ngf: generator filters that are scaled by factors 2, 4, 8 etc.\n",
    "- ndf: disciminator filter similar to ngf\n",
    "- nc: number of channels\n",
    "- ngpu: number of physical gpus on system\n",
    "- batchSize: number of instances for SGD"
   ]
  },
  {
   "cell_type": "code",
   "execution_count": 21,
   "metadata": {},
   "outputs": [],
   "source": [
    "nz = 50\n",
    "ngf = 56\n",
    "ndf = 56\n",
    "nc = 1\n",
    "ngpu = 1\n",
    "batchSize = 512"
   ]
  },
  {
   "cell_type": "markdown",
   "metadata": {},
   "source": [
    "### Weights and Bias Initialization\n",
    "\n",
    "- It has been shown heuristically that weights intialized normally tend to perform better when compared to random initialization. So the first function tries to achieve this goal.\n",
    "\n",
    "- In the definition of Generator and Discriminator, sometimes the number of strides, kernel_size and pooling is adjusted to meet the final size of the output desired. \n",
    "\n",
    "- It can be seen that there are no fully connected layers in both G and D\n",
    "- Also batchnorm is applied on all layers \n",
    "- ReLU on each layer except output\n",
    "- Tanh on output layer"
   ]
  },
  {
   "cell_type": "code",
   "execution_count": 22,
   "metadata": {},
   "outputs": [],
   "source": [
    "def weights_init(m):\n",
    "    classname = m.__class__.__name__\n",
    "    if classname.find('Conv') != -1:\n",
    "        m.weight.data.normal_(0.0, 0.02)\n",
    "    elif classname.find('BatchNorm') != -1:\n",
    "        m.weight.data.normal_(1.0, 0.02)\n",
    "        m.bias.data.fill_(0)\n",
    "        "
   ]
  },
  {
   "cell_type": "markdown",
   "metadata": {},
   "source": [
    "- LeakyReLU on each layer\n",
    "- BatchNorm on each layer\n",
    "- Sigmoid in last layer to ensure probabilistic output \n",
    "- Sigmoid helps apply the BCE criterion at the end on the loss for optimizer\n",
    "- BCE is binary cross-entropy loss function"
   ]
  },
  {
   "cell_type": "code",
   "execution_count": 23,
   "metadata": {
    "scrolled": false
   },
   "outputs": [],
   "source": [
    "class Generator(nn.Module):\n",
    "    def __init__(self, ngpu):\n",
    "        super(Generator, self).__init__()\n",
    "        self.main = nn.Sequential(\n",
    "            # input is (nc) x 64 x 64\n",
    "            nn.Conv2d(nc, ndf, 2, 4, 1, bias=False),\n",
    "            nn.BatchNorm2d(ndf),\n",
    "            nn.LeakyReLU(0.2, inplace=True),\n",
    "            # state size. (ndf) x 32 x 32\n",
    "            nn.Conv2d(ndf, ndf * 2, 2, 4, 1, bias=False),\n",
    "            nn.BatchNorm2d(ndf * 2),\n",
    "            nn.LeakyReLU(0.2, inplace=True),\n",
    "            # state size. (ndf*2) x 16 x 16\n",
    "            nn.Conv2d(ndf * 2, ndf * 4, 2, 4, 2, bias=False),\n",
    "            nn.BatchNorm2d(ndf * 4),\n",
    "            nn.LeakyReLU(0.2, inplace=True),\n",
    "            # state size. (ndf*4) x 8 x 8\n",
    "            nn.Conv2d(ndf * 4, X_train_reduced.shape[1], 2, 4, 1, bias=False),\n",
    "            nn.Tanh()\n",
    "        )\n",
    "\n",
    "    def forward(self, input):\n",
    "        return self.main(input).squeeze(2).squeeze(2)"
   ]
  },
  {
   "cell_type": "code",
   "execution_count": 24,
   "metadata": {},
   "outputs": [],
   "source": [
    "class Ally(torch.nn.Module):\n",
    "    def __init__(self, input_size, hidden_size, output_size):\n",
    "        super(Ally, self).__init__()\n",
    "        self.input_size = input_size\n",
    "        self.hidden_size = hidden_size\n",
    "        self.output_size = output_size\n",
    "        self.fc1 = torch.nn.Linear(self.input_size, self.hidden_size)\n",
    "        self.relu = torch.nn.ReLU()\n",
    "        self.fc2 = torch.nn.Linear(self.hidden_size, 1)\n",
    "        self.sigmoid = torch.nn.Sigmoid()\n",
    "    def forward(self, x):\n",
    "        hidden = self.fc1(x)\n",
    "        relu = self.relu(hidden)\n",
    "        output = self.fc2(relu)\n",
    "        output = self.sigmoid(output)\n",
    "        return output\n",
    "\n",
    "class Adversary(torch.nn.Module):\n",
    "    def __init__(self, input_size, hidden_size, output_size):\n",
    "        super(Adversary, self).__init__()\n",
    "        self.input_size = input_size\n",
    "        self.hidden_size = hidden_size\n",
    "        self.output_size = output_size\n",
    "        self.fc1 = torch.nn.Linear(self.input_size, self.hidden_size)\n",
    "        self.relu = torch.nn.ReLU()\n",
    "        self.fc2 = torch.nn.Linear(self.hidden_size, self.output_size)\n",
    "        self.softmax = torch.nn.Sigmoid()\n",
    "        \n",
    "    def forward(self, x):\n",
    "        hidden = self.fc1(x)\n",
    "        relu = self.relu(hidden)\n",
    "        output = self.fc2(relu)\n",
    "        output = self.softmax(output)\n",
    "        return output"
   ]
  },
  {
   "cell_type": "code",
   "execution_count": 67,
   "metadata": {
    "scrolled": false
   },
   "outputs": [
    {
     "name": "stdout",
     "output_type": "stream",
     "text": [
      "----------------------------------------------------------------\n",
      "        Layer (type)               Output Shape         Param #\n",
      "================================================================\n",
      "            Conv2d-1             [-1, 56, 8, 8]             224\n",
      "       BatchNorm2d-2             [-1, 56, 8, 8]             112\n",
      "         LeakyReLU-3             [-1, 56, 8, 8]               0\n",
      "            Conv2d-4            [-1, 112, 3, 3]          25,088\n",
      "       BatchNorm2d-5            [-1, 112, 3, 3]             224\n",
      "         LeakyReLU-6            [-1, 112, 3, 3]               0\n",
      "            Conv2d-7            [-1, 224, 2, 2]         100,352\n",
      "       BatchNorm2d-8            [-1, 224, 2, 2]             448\n",
      "         LeakyReLU-9            [-1, 224, 2, 2]               0\n",
      "           Conv2d-10            [-1, 332, 1, 1]         297,472\n",
      "             Tanh-11            [-1, 332, 1, 1]               0\n",
      "================================================================\n",
      "Total params: 423,920\n",
      "Trainable params: 423,920\n",
      "Non-trainable params: 0\n",
      "----------------------------------------------------------------\n",
      "Input size (MB): 0.00\n",
      "Forward/backward pass size (MB): 0.13\n",
      "Params size (MB): 1.62\n",
      "Estimated Total Size (MB): 1.75\n",
      "----------------------------------------------------------------\n",
      "----------------------------------------------------------------\n",
      "        Layer (type)               Output Shape         Param #\n",
      "================================================================\n",
      "            Linear-1               [-1, 1, 128]          42,624\n",
      "              ReLU-2               [-1, 1, 128]               0\n",
      "            Linear-3                 [-1, 1, 1]             129\n",
      "           Sigmoid-4                 [-1, 1, 1]               0\n",
      "================================================================\n",
      "Total params: 42,753\n",
      "Trainable params: 42,753\n",
      "Non-trainable params: 0\n",
      "----------------------------------------------------------------\n",
      "Input size (MB): 0.00\n",
      "Forward/backward pass size (MB): 0.00\n",
      "Params size (MB): 0.16\n",
      "Estimated Total Size (MB): 0.17\n",
      "----------------------------------------------------------------\n",
      "----------------------------------------------------------------\n",
      "        Layer (type)               Output Shape         Param #\n",
      "================================================================\n",
      "            Linear-1               [-1, 1, 128]          42,624\n",
      "              ReLU-2               [-1, 1, 128]               0\n",
      "            Linear-3                [-1, 1, 10]           1,290\n",
      "           Sigmoid-4                [-1, 1, 10]               0\n",
      "================================================================\n",
      "Total params: 43,914\n",
      "Trainable params: 43,914\n",
      "Non-trainable params: 0\n",
      "----------------------------------------------------------------\n",
      "Input size (MB): 0.00\n",
      "Forward/backward pass size (MB): 0.00\n",
      "Params size (MB): 0.17\n",
      "Estimated Total Size (MB): 0.17\n",
      "----------------------------------------------------------------\n"
     ]
    }
   ],
   "source": [
    "netG = Generator(ngpu).to(device)\n",
    "netG.apply(weights_init)\n",
    "\n",
    "summary(netG, input_size=(1, 28, 28))\n",
    "\n",
    "netF = Ally(X_train_reduced.shape[1], 128, y_ally_train.shape[1]).to(device)\n",
    "netF.apply(weights_init)\n",
    "netE = Adversary(X_train_reduced.shape[1], 128, y_advr_train.shape[1]).to(device)\n",
    "netE.apply(weights_init)\n",
    "\n",
    "summary(netF, input_size=(1, X_train_reduced.shape[1]))\n",
    "summary(netE, input_size=(1, X_train_reduced.shape[1]))"
   ]
  },
  {
   "cell_type": "code",
   "execution_count": 68,
   "metadata": {},
   "outputs": [],
   "source": [
    "criterion = nn.BCEWithLogitsLoss()\n",
    "crossentropy = nn.CrossEntropyLoss()\n",
    "\n",
    "optimizerG = optim.Adam(netG.parameters(), lr=0.0001)\n",
    "optimizerF = optim.Adam(netF.parameters(), lr=0.00001)\n",
    "optimizerE = optim.Adam(netE.parameters(), lr=0.00001)"
   ]
  },
  {
   "cell_type": "markdown",
   "metadata": {},
   "source": [
    "### Create dataset and load\n",
    "\n",
    "- Fixing the batchsize after creating dataset"
   ]
  },
  {
   "cell_type": "code",
   "execution_count": 27,
   "metadata": {},
   "outputs": [],
   "source": [
    "dataset_train = utils.TensorDataset(\n",
    "    torch.Tensor(X_train_normalized.reshape(-1, 1, 28, 28)), \n",
    "    torch.Tensor(y_ally_train.reshape(-1, 1)), \n",
    "    torch.Tensor(y_advr_train.reshape(-1, 10))\n",
    ")\n",
    "\n",
    "dataloader_train = torch.utils.data.DataLoader(dataset_train, batch_size=batchSize,\n",
    "                                         shuffle=True, num_workers=2)\n",
    "\n",
    "\n",
    "dataset_valid = utils.TensorDataset(\n",
    "    torch.Tensor(X_train_normalized.reshape(-1, 1, 28, 28)),\n",
    "    torch.Tensor(y_ally_train.reshape(-1, 1)),\n",
    "    torch.Tensor(y_advr_train.reshape(-1, 10))\n",
    ")\n",
    "\n",
    "dataloader_valid = torch.utils.data.DataLoader(dataset_valid, batch_size=batchSize,\n",
    "                                              shuffle=True, num_workers=2)"
   ]
  },
  {
   "cell_type": "markdown",
   "metadata": {},
   "source": [
    "### Model Parameters\n",
    "\n",
    "- need to tweak the values of learning rate for generator and discriminator\n",
    "- if the value is not optimal, discriminator might converge too soon and then generator will collapse \n",
    "- so the parameter tweaking is a must to find the right balance"
   ]
  },
  {
   "cell_type": "code",
   "execution_count": 28,
   "metadata": {},
   "outputs": [
    {
     "data": {
      "text/plain": [
       "Adversary(\n",
       "  (fc1): Linear(in_features=332, out_features=128, bias=True)\n",
       "  (relu): ReLU()\n",
       "  (fc2): Linear(in_features=128, out_features=10, bias=True)\n",
       "  (softmax): Sigmoid()\n",
       ")"
      ]
     },
     "execution_count": 28,
     "metadata": {},
     "output_type": "execute_result"
    }
   ],
   "source": [
    "alpha = 0.5\n",
    "netG.train()\n",
    "netF.train()\n",
    "netE.train()"
   ]
  },
  {
   "cell_type": "code",
   "execution_count": 69,
   "metadata": {
    "scrolled": true
   },
   "outputs": [
    {
     "name": "stdout",
     "output_type": "stream",
     "text": [
      "0 \t -0.83034331 \t -0.82523632 \t 0.68568468 \t 0.69150877 \t 2.32666850 \t 2.34198141\n",
      "1 \t -0.81590235 \t -0.81158233 \t 0.69389361 \t 0.68949133 \t 2.30881500 \t 2.31265593\n",
      "2 \t -0.82266438 \t -0.80172658 \t 0.69441265 \t 0.69357228 \t 2.31810546 \t 2.29702544\n",
      "3 \t -0.80980742 \t -0.80438346 \t 0.69120187 \t 0.69658506 \t 2.31414104 \t 2.30535197\n",
      "4 \t -0.81259584 \t -0.80911303 \t 0.69507486 \t 0.69018728 \t 2.30505371 \t 2.30841327\n",
      "5 \t -0.80943984 \t -0.80264747 \t 0.69619948 \t 0.69358253 \t 2.30826497 \t 2.29887748\n",
      "6 \t -0.81114101 \t -0.80065989 \t 0.69318062 \t 0.69552451 \t 2.30559874 \t 2.29684424\n",
      "7 \t -0.80667603 \t -0.80368996 \t 0.69173449 \t 0.69601482 \t 2.30868578 \t 2.30339479\n",
      "8 \t -0.80276412 \t -0.80925858 \t 0.69233096 \t 0.69285536 \t 2.30600715 \t 2.31137252\n",
      "9 \t -0.80477363 \t -0.80963635 \t 0.69259268 \t 0.69365364 \t 2.30102777 \t 2.31292629\n",
      "10 \t -0.80575013 \t -0.80644244 \t 0.69536120 \t 0.69283760 \t 2.29993844 \t 2.30572248\n",
      "11 \t -0.80468750 \t -0.80524802 \t 0.69100386 \t 0.69214940 \t 2.30115986 \t 2.30264544\n",
      "12 \t -0.80176127 \t -0.80500633 \t 0.68923247 \t 0.69211948 \t 2.29964709 \t 2.30213213\n",
      "13 \t -0.80364561 \t -0.80554199 \t 0.69399822 \t 0.69098884 \t 2.30465603 \t 2.30207276\n",
      "14 \t -0.81147134 \t -0.80396169 \t 0.69422799 \t 0.69099200 \t 2.30076003 \t 2.29891539\n",
      "15 \t -0.81248832 \t -0.80516648 \t 0.68973958 \t 0.69355798 \t 2.30124688 \t 2.30389094\n",
      "16 \t -0.81404519 \t -0.80393779 \t 0.69310892 \t 0.69285154 \t 2.30212617 \t 2.30072713\n",
      "17 \t -0.80727065 \t -0.80599678 \t 0.69333571 \t 0.69382328 \t 2.30496287 \t 2.30581689\n",
      "18 \t -0.80907303 \t -0.80536163 \t 0.69504726 \t 0.69382077 \t 2.29911375 \t 2.30454397\n",
      "19 \t -0.80681837 \t -0.80521935 \t 0.69383258 \t 0.69423234 \t 2.30606890 \t 2.30467105\n",
      "20 \t -0.80614054 \t -0.80287695 \t 0.69377738 \t 0.69415474 \t 2.29971981 \t 2.29990864\n",
      "21 \t -0.80909455 \t -0.80691850 \t 0.69416046 \t 0.69199944 \t 2.30247378 \t 2.30583644\n",
      "22 \t -0.80846524 \t -0.80769145 \t 0.69111854 \t 0.69257206 \t 2.30246949 \t 2.30795503\n",
      "23 \t -0.80388510 \t -0.80520153 \t 0.69420087 \t 0.69439560 \t 2.30571961 \t 2.30479860\n",
      "24 \t -0.80669421 \t -0.80384284 \t 0.69192177 \t 0.69302261 \t 2.30170465 \t 2.30070829\n",
      "25 \t -0.80650496 \t -0.80592978 \t 0.69265622 \t 0.69631070 \t 2.30059409 \t 2.30817032\n",
      "26 \t -0.80830812 \t -0.80365622 \t 0.69319105 \t 0.69406158 \t 2.30035043 \t 2.30137396\n",
      "27 \t -0.80320144 \t -0.80549717 \t 0.69208175 \t 0.69283730 \t 2.30428791 \t 2.30383158\n",
      "28 \t -0.80108690 \t -0.80618203 \t 0.69250327 \t 0.68994290 \t 2.30253124 \t 2.30230689\n",
      "29 \t -0.80876184 \t -0.80503023 \t 0.69409072 \t 0.69381815 \t 2.30488586 \t 2.30387855\n",
      "30 \t -0.80740863 \t -0.80167627 \t 0.69264984 \t 0.69301075 \t 2.29368901 \t 2.29636335\n",
      "31 \t -0.80885148 \t -0.80645043 \t 0.69253200 \t 0.69317091 \t 2.29887557 \t 2.30607176\n",
      "32 \t -0.80356187 \t -0.80591154 \t 0.69190633 \t 0.69066191 \t 2.30392599 \t 2.30248499\n",
      "33 \t -0.80556601 \t -0.80409318 \t 0.69199187 \t 0.69438374 \t 2.30365062 \t 2.30257010\n",
      "34 \t -0.80848670 \t -0.80869973 \t 0.69320208 \t 0.69320124 \t 2.30621505 \t 2.31060076\n",
      "35 \t -0.80817199 \t -0.80304134 \t 0.69151944 \t 0.69434601 \t 2.29710627 \t 2.30042863\n",
      "36 \t -0.80935544 \t -0.80425596 \t 0.69374621 \t 0.69229746 \t 2.30281997 \t 2.30080938\n",
      "37 \t -0.80652207 \t -0.80389190 \t 0.69524550 \t 0.69250226 \t 2.30310702 \t 2.30028605\n",
      "38 \t -0.80483347 \t -0.80694759 \t 0.69268751 \t 0.69301242 \t 2.29674459 \t 2.30690765\n",
      "39 \t -0.80585718 \t -0.80412394 \t 0.69266665 \t 0.69476664 \t 2.30206513 \t 2.30301452\n",
      "40 \t -0.81172550 \t -0.80430126 \t 0.69465679 \t 0.69497746 \t 2.30615568 \t 2.30358005\n",
      "41 \t -0.80324513 \t -0.80224532 \t 0.69315720 \t 0.69064057 \t 2.30237818 \t 2.29513121\n",
      "42 \t -0.80332297 \t -0.80182815 \t 0.69197637 \t 0.69197291 \t 2.28915739 \t 2.29562926\n",
      "43 \t -0.80600119 \t -0.80779445 \t 0.69312274 \t 0.69269413 \t 2.30598950 \t 2.30828309\n",
      "44 \t -0.80291295 \t -0.80523694 \t 0.69345605 \t 0.69271207 \t 2.31370616 \t 2.30318594\n",
      "45 \t -0.80405402 \t -0.80682606 \t 0.69251454 \t 0.69450891 \t 2.30461788 \t 2.30816102\n",
      "46 \t -0.80911160 \t -0.80393374 \t 0.69199443 \t 0.69216609 \t 2.31269455 \t 2.30003357\n",
      "47 \t -0.80218029 \t -0.80827743 \t 0.69090098 \t 0.69316018 \t 2.30170298 \t 2.30971503\n",
      "48 \t -0.81028652 \t -0.80550683 \t 0.69236416 \t 0.69192809 \t 2.31323361 \t 2.30294180\n",
      "49 \t -0.79950958 \t -0.80671942 \t 0.69086677 \t 0.69300848 \t 2.30385900 \t 2.30644727\n",
      "50 \t -0.80498999 \t -0.80460727 \t 0.69206566 \t 0.69484639 \t 2.30371237 \t 2.30406094\n",
      "51 \t -0.80335557 \t -0.80569839 \t 0.69391137 \t 0.69323778 \t 2.29537034 \t 2.30463457\n",
      "52 \t -0.80205870 \t -0.80439121 \t 0.69390273 \t 0.69300926 \t 2.30721426 \t 2.30179167\n",
      "53 \t -0.80528682 \t -0.80696869 \t 0.69138896 \t 0.69388539 \t 2.30068660 \t 2.30782270\n",
      "54 \t -0.80312580 \t -0.79982352 \t 0.69150519 \t 0.69080353 \t 2.29793859 \t 2.29045057\n",
      "55 \t -0.80674505 \t -0.80336303 \t 0.69132340 \t 0.69313920 \t 2.30096269 \t 2.29986525\n",
      "56 \t -0.81213814 \t -0.80669868 \t 0.69289005 \t 0.69277006 \t 2.29388428 \t 2.30616736\n",
      "57 \t -0.80495626 \t -0.80722189 \t 0.69412386 \t 0.69245124 \t 2.30078340 \t 2.30689502\n",
      "58 \t -0.80608487 \t -0.80415905 \t 0.69418031 \t 0.69354492 \t 2.30221248 \t 2.30186296\n",
      "59 \t -0.80196434 \t -0.80593348 \t 0.69403970 \t 0.69483954 \t 2.30522156 \t 2.30670643\n",
      "60 \t -0.80070955 \t -0.80507600 \t 0.69326770 \t 0.69352609 \t 2.30318522 \t 2.30367804\n",
      "61 \t -0.80359507 \t -0.80581367 \t 0.69281733 \t 0.69271588 \t 2.30667424 \t 2.30434322\n",
      "62 \t -0.80311924 \t -0.80681455 \t 0.69090718 \t 0.69263601 \t 2.30446792 \t 2.30626512\n",
      "63 \t -0.80749559 \t -0.80555367 \t 0.69197291 \t 0.69313884 \t 2.30242276 \t 2.30424619\n",
      "64 \t -0.80238223 \t -0.80278134 \t 0.69300997 \t 0.69301003 \t 2.30622101 \t 2.29857278\n",
      "65 \t -0.80642235 \t -0.80599785 \t 0.69509137 \t 0.69078511 \t 2.30625582 \t 2.30278087\n",
      "66 \t -0.80311877 \t -0.80712891 \t 0.69409055 \t 0.69239146 \t 2.30252385 \t 2.30664921\n",
      "67 \t -0.80663598 \t -0.80322689 \t 0.69043082 \t 0.69543970 \t 2.29783869 \t 2.30189347\n",
      "68 \t -0.80465418 \t -0.80577475 \t 0.69113237 \t 0.69353044 \t 2.30313087 \t 2.30507994\n",
      "69 \t -0.80570149 \t -0.80482101 \t 0.69122583 \t 0.69463462 \t 2.29857492 \t 2.30427670\n",
      "70 \t -0.80512655 \t -0.80605268 \t 0.69284707 \t 0.69618851 \t 2.30191970 \t 2.30829382\n",
      "71 \t -0.80423117 \t -0.80590934 \t 0.69129103 \t 0.69142306 \t 2.30035233 \t 2.30324173\n",
      "72 \t -0.80099189 \t -0.80730581 \t 0.69224578 \t 0.69545823 \t 2.29921341 \t 2.31006980\n",
      "73 \t -0.80832136 \t -0.80617106 \t 0.69269347 \t 0.69344550 \t 2.30371690 \t 2.30578756\n",
      "74 \t -0.80335987 \t -0.80496991 \t 0.69382977 \t 0.69219166 \t 2.30852485 \t 2.30213141\n",
      "75 \t -0.80340618 \t -0.80557179 \t 0.69410253 \t 0.69329458 \t 2.30440140 \t 2.30443811\n",
      "76 \t -0.80320221 \t -0.80180931 \t 0.69436604 \t 0.69269466 \t 2.30995178 \t 2.29631329\n",
      "77 \t -0.81022757 \t -0.80354404 \t 0.69147599 \t 0.69302803 \t 2.29147196 \t 2.30011606\n",
      "78 \t -0.81023067 \t -0.80626988 \t 0.69231826 \t 0.69463277 \t 2.30552125 \t 2.30717254\n",
      "79 \t -0.80717915 \t -0.80609882 \t 0.69402647 \t 0.69323844 \t 2.30192232 \t 2.30543613\n",
      "80 \t -0.80213952 \t -0.80616069 \t 0.69256842 \t 0.69267797 \t 2.30185747 \t 2.30499935\n",
      "81 \t -0.80523378 \t -0.80577123 \t 0.69285512 \t 0.69223791 \t 2.29989719 \t 2.30378032\n",
      "82 \t -0.80319107 \t -0.80514508 \t 0.69285774 \t 0.69255412 \t 2.30179930 \t 2.30284429\n",
      "83 \t -0.80347282 \t -0.80209821 \t 0.69206405 \t 0.69380105 \t 2.29875517 \t 2.29799747\n",
      "84 \t -0.80496192 \t -0.80436963 \t 0.69420803 \t 0.69211304 \t 2.30217648 \t 2.30085230\n",
      "85 \t -0.80607706 \t -0.80282831 \t 0.69427276 \t 0.69395798 \t 2.30210495 \t 2.29961467\n",
      "86 \t -0.80487835 \t -0.80392551 \t 0.69397247 \t 0.69108915 \t 2.30731964 \t 2.29894018\n",
      "87 \t -0.80418807 \t -0.80441654 \t 0.69486761 \t 0.69343632 \t 2.30190015 \t 2.30226946\n",
      "88 \t -0.79815543 \t -0.80531460 \t 0.69331729 \t 0.69254982 \t 2.30381227 \t 2.30317903\n",
      "89 \t -0.81437474 \t -0.80555123 \t 0.69197059 \t 0.69184411 \t 2.29829264 \t 2.30294657\n",
      "90 \t -0.80395520 \t -0.80020237 \t 0.69233936 \t 0.69260597 \t 2.30493402 \t 2.29301071\n",
      "91 \t -0.80628574 \t -0.80614346 \t 0.69261241 \t 0.69247901 \t 2.30127954 \t 2.30476594\n",
      "92 \t -0.80248213 \t -0.80446565 \t 0.69331235 \t 0.69437009 \t 2.30818701 \t 2.30330133\n",
      "93 \t -0.81320971 \t -0.80701005 \t 0.69457424 \t 0.69371814 \t 2.30511737 \t 2.30773830\n",
      "94 \t -0.80241132 \t -0.80700451 \t 0.69343913 \t 0.69286525 \t 2.30489087 \t 2.30687428\n",
      "95 \t -0.80613613 \t -0.80335379 \t 0.69056380 \t 0.69256610 \t 2.28961873 \t 2.29927373\n",
      "96 \t -0.80126250 \t -0.80518699 \t 0.69287264 \t 0.69354993 \t 2.30419040 \t 2.30392385\n",
      "97 \t -0.80964077 \t -0.80641282 \t 0.69393796 \t 0.69353682 \t 2.30558801 \t 2.30636239\n",
      "98 \t -0.80504489 \t -0.80471456 \t 0.69237787 \t 0.69206470 \t 2.29325962 \t 2.30149388\n"
     ]
    },
    {
     "name": "stdout",
     "output_type": "stream",
     "text": [
      "99 \t -0.80280173 \t -0.80639029 \t 0.69136369 \t 0.69375491 \t 2.30410790 \t 2.30653548\n"
     ]
    }
   ],
   "source": [
    "niter = 100\n",
    "outf = 'result'\n",
    "\n",
    "gan_epoch = []\n",
    "gan_g_loss_train = []\n",
    "gan_g_loss_valid = []\n",
    "gan_f_loss_train = []\n",
    "gan_f_loss_valid = []\n",
    "gan_e_loss_train = []\n",
    "gan_e_loss_valid = []\n",
    "\n",
    "for epoch in range(niter):\n",
    "    gan_epoch.append(epoch)\n",
    "    for i in range(10):\n",
    "        for i, data in enumerate(dataloader_train, 0):\n",
    "            X_train_torch = data[0].to(device)\n",
    "            y_ally_train_torch = data[1].to(device)\n",
    "            y_advr_train_torch = data[2].to(device)\n",
    "\n",
    "            optimizerG.zero_grad()\n",
    "            # Forward pass\n",
    "            X_train_encoded = netG(X_train_torch)\n",
    "            y_ally_train_hat_torch = netF(X_train_encoded)\n",
    "            y_advr_train_hat_torch = netE(X_train_encoded)\n",
    "            # Compute Loss\n",
    "            lossF = criterion(y_ally_train_hat_torch, y_ally_train_torch)\n",
    "            lossE = crossentropy(y_advr_train_hat_torch, torch.argmax(y_advr_train_torch, 1))\n",
    "            lossG = alpha * lossF - (1-alpha) * lossE\n",
    "            # Backward pass\n",
    "            lossG.backward()\n",
    "            optimizerG.step()\n",
    "            \n",
    "    for i in range(1):  \n",
    "        for i, data in enumerate(dataloader_train, 0):\n",
    "            X_train_torch = data[0].to(device)\n",
    "            y_ally_train_torch = data[1].to(device)\n",
    "            y_advr_train_torch = data[2].to(device)\n",
    "\n",
    "            optimizerF.zero_grad()\n",
    "            X_train_encoded = netG(X_train_torch)\n",
    "            y_ally_train_hat_torch = netF(X_train_encoded)\n",
    "            lossF = criterion(y_ally_train_hat_torch, y_ally_train_torch)\n",
    "            lossF.backward()\n",
    "            optimizerF.step()\n",
    "\n",
    "            optimizerE.zero_grad()\n",
    "            X_train_encoded = netG(X_train_torch)\n",
    "            y_advr_train_hat_torch = netE(X_train_encoded)\n",
    "            lossE = crossentropy(y_advr_train_hat_torch, torch.argmax(y_advr_train_torch, 1))\n",
    "            lossE.backward()\n",
    "            optimizerE.step()\n",
    "            \n",
    "    for i, data in enumerate(dataloader_valid, 0):\n",
    "        X_valid_torch = data[0].to(device)\n",
    "        y_ally_valid_torch = data[1].to(device)\n",
    "        y_advr_valid_torch = data[2].to(device)\n",
    "        X_valid_encoded = netG(X_valid_torch)\n",
    "        y_ally_valid_hat_torch = netF(X_valid_encoded)\n",
    "        y_advr_valid_hat_torch = netE(X_valid_encoded)\n",
    "\n",
    "        valid_lossF = criterion(y_ally_valid_hat_torch, y_ally_valid_torch)\n",
    "        valid_lossE = crossentropy(y_advr_valid_hat_torch, torch.argmax(y_advr_valid_torch, 1))\n",
    "        valid_lossG = alpha * valid_lossF -(1-alpha) * valid_lossE\n",
    "\n",
    "    print('{} \\t {:.8f} \\t {:.8f} \\t {:.8f} \\t {:.8f} \\t {:.8f} \\t {:.8f}'.format(\n",
    "        epoch, \n",
    "        lossG.item(),\n",
    "        valid_lossG.item(),\n",
    "        lossF.item(), \n",
    "        valid_lossF.item(),\n",
    "        lossE.item(),\n",
    "        valid_lossE.item(),\n",
    "    ))\n",
    "    \n",
    "    gan_g_loss_train.append(lossG.item())\n",
    "    gan_g_loss_valid.append(valid_lossG.item())\n",
    "    gan_f_loss_train.append(lossF.item())\n",
    "    gan_f_loss_valid.append(valid_lossF.item())\n",
    "    gan_e_loss_train.append(lossE.item())\n",
    "    gan_e_loss_valid.append(valid_lossE.item())"
   ]
  },
  {
   "cell_type": "code",
   "execution_count": 73,
   "metadata": {},
   "outputs": [
    {
     "data": {
      "image/png": "[encoded data removed]",
      "text/plain": [
       "<Figure size 432x288 with 1 Axes>"
      ]
     },
     "metadata": {
      "needs_background": "light"
     },
     "output_type": "display_data"
    }
   ],
   "source": [
    "# plt.plot(gan_epoch, gan_g_loss_train, 'r')\n",
    "# plt.plot(gan_epoch, gan_g_loss_valid, 'r--')\n",
    "# plt.plot(gan_epoch, gan_f_loss_train, 'b')\n",
    "# plt.plot(gan_epoch, gan_f_loss_valid, 'b--')\n",
    "plt.plot(gan_epoch, gan_e_loss_train, 'g')\n",
    "plt.plot(gan_epoch, gan_e_loss_valid, 'g--')\n",
    "plt.show()"
   ]
  },
  {
   "cell_type": "markdown",
   "metadata": {},
   "source": [
    "- Legend: \n",
    "    - red: encoder\n",
    "    - blue: ally\n",
    "    - green: adversary\n",
    "- The variations are not very descriptive in the current scale of y axis. Trying to tweak model parameters to see if more variation and better convergence curve can be seen on the graph"
   ]
  },
  {
   "cell_type": "markdown",
   "metadata": {},
   "source": [
    "### Save Model"
   ]
  },
  {
   "cell_type": "code",
   "execution_count": null,
   "metadata": {},
   "outputs": [],
   "source": [
    "torch.save(netG, 'models/netG.pkl')\n",
    "torch.save(netF, 'models/netF.pkl')\n",
    "torch.save(netE, 'models/netE.pkl')"
   ]
  },
  {
   "cell_type": "markdown",
   "metadata": {},
   "source": [
    "### Ally and Adversary Training on PCA Data"
   ]
  },
  {
   "cell_type": "code",
   "execution_count": 53,
   "metadata": {},
   "outputs": [
    {
     "name": "stdout",
     "output_type": "stream",
     "text": [
      "0 \t 0.20759182 \t 0.20116968\n",
      "1 \t 0.11039637 \t 0.12983424\n",
      "2 \t 0.07544614 \t 0.09974740\n",
      "3 \t 0.05814428 \t 0.08518536\n",
      "4 \t 0.06338473 \t 0.07588227\n",
      "5 \t 0.02939093 \t 0.06927679\n",
      "6 \t 0.03892372 \t 0.06567480\n",
      "7 \t 0.02105645 \t 0.06198470\n",
      "8 \t 0.03787442 \t 0.06004070\n",
      "9 \t 0.02305513 \t 0.05611663\n",
      "10 \t 0.04846692 \t 0.05639832\n",
      "11 \t 0.02719794 \t 0.05595060\n",
      "12 \t 0.04092309 \t 0.05314162\n",
      "13 \t 0.01665958 \t 0.05290649\n",
      "14 \t 0.01638078 \t 0.05253489\n",
      "15 \t 0.01903021 \t 0.05196893\n",
      "16 \t 0.00806056 \t 0.05273893\n",
      "17 \t 0.00947532 \t 0.05372253\n",
      "18 \t 0.00704023 \t 0.05375774\n",
      "19 \t 0.00981866 \t 0.05338429\n"
     ]
    }
   ],
   "source": [
    "dataset_train = utils.TensorDataset(\n",
    "    torch.Tensor(X_train_reduced), \n",
    "    torch.Tensor(y_ally_train.reshape(-1, 1)),\n",
    ")\n",
    "\n",
    "dataloader_train = torch.utils.data.DataLoader(dataset_train, batch_size=batchSize, shuffle=True, num_workers=2)\n",
    "\n",
    "dataset_valid = utils.TensorDataset(\n",
    "    torch.Tensor(X_valid_reduced), \n",
    "    torch.Tensor(y_ally_valid.reshape(-1, 1)),\n",
    ")\n",
    "\n",
    "dataloader_valid = torch.utils.data.DataLoader(dataset_valid, batch_size=batchSize, shuffle=True, num_workers=2)\n",
    "\n",
    "netF_pca = Ally(X_train_reduced.shape[1], 128, y_ally_train.shape[1]).to(device)\n",
    "# netF_pca.apply(weights_init)\n",
    "\n",
    "optimizerF = optim.Adam(netF_pca.parameters(), lr=0.001)\n",
    "criterion = nn.BCELoss()\n",
    "\n",
    "\n",
    "n_epoch = []\n",
    "train = []\n",
    "valid = []\n",
    "for epoch in range(20):\n",
    "    for i, data_train in enumerate(dataloader_train):\n",
    "        X_train_torch = data_train[0].to(device)\n",
    "        y_train_ally_torch = data_train[1].to(device)\n",
    "        \n",
    "        optimizerF.zero_grad()\n",
    "        \n",
    "        y_train_ally_torch_hat = netF_pca(X_train_torch)\n",
    "\n",
    "        lossF = criterion(y_train_ally_torch_hat, y_train_ally_torch)\n",
    "        lossF.backward()\n",
    "        \n",
    "        optimizerF.step()\n",
    "        \n",
    "    nsamples = 0\n",
    "    valid_loss = 0\n",
    "    for i, data_valid in enumerate(dataloader_valid):\n",
    "        X_valid_torch = data_valid[0].to(device)\n",
    "        y_valid_ally_torch = data_valid[1].to(device)\n",
    "        y_valid_ally_torch_hat = netF_pca(X_valid_torch)\n",
    "        valid_l = criterion(y_valid_ally_torch_hat, y_valid_ally_torch)\n",
    "        valid_loss += valid_l.item()\n",
    "        nsamples += 1\n",
    "    valid_loss /= nsamples\n",
    "        \n",
    "    print('{} \\t {:.8f} \\t {:.8f}'.format(\n",
    "        epoch, \n",
    "        lossF.item(),\n",
    "        valid_loss,\n",
    "    ))\n",
    "    n_epoch.append(epoch)\n",
    "    train.append(lossF.item())\n",
    "    valid.append(valid_loss)\n",
    "        "
   ]
  },
  {
   "cell_type": "code",
   "execution_count": 54,
   "metadata": {},
   "outputs": [
    {
     "name": "stdout",
     "output_type": "stream",
     "text": [
      "0 \t 2.25720811 \t 2.25508481\n",
      "1 \t 2.19376779 \t 2.19444466\n",
      "2 \t 2.12817788 \t 2.11675557\n",
      "3 \t 2.02324510 \t 2.03033217\n",
      "4 \t 1.95800316 \t 1.94709033\n",
      "5 \t 1.88218093 \t 1.87325031\n",
      "6 \t 1.81654918 \t 1.81351730\n",
      "7 \t 1.76706815 \t 1.76594261\n",
      "8 \t 1.71784782 \t 1.72959873\n",
      "9 \t 1.68626809 \t 1.70026236\n",
      "10 \t 1.66258037 \t 1.67814708\n",
      "11 \t 1.65589345 \t 1.65987276\n",
      "12 \t 1.64337766 \t 1.64488250\n",
      "13 \t 1.63204801 \t 1.63282221\n",
      "14 \t 1.62614620 \t 1.62252881\n",
      "15 \t 1.62883925 \t 1.61340273\n",
      "16 \t 1.58146584 \t 1.60626320\n",
      "17 \t 1.57746458 \t 1.59888981\n",
      "18 \t 1.58316851 \t 1.59343962\n",
      "19 \t 1.57574379 \t 1.58870900\n"
     ]
    }
   ],
   "source": [
    "dataset_train = utils.TensorDataset(\n",
    "    torch.Tensor(X_train_reduced), \n",
    "    torch.Tensor(y_advr_train.reshape(-1, 10)),\n",
    ")\n",
    "\n",
    "dataloader_train = torch.utils.data.DataLoader(dataset_train, batch_size=batchSize, shuffle=True, num_workers=2)\n",
    "\n",
    "dataset_valid = utils.TensorDataset(\n",
    "    torch.Tensor(X_valid_reduced), \n",
    "    torch.Tensor(y_advr_valid.reshape(-1, 10)),\n",
    ")\n",
    "\n",
    "dataloader_valid = torch.utils.data.DataLoader(dataset_valid, batch_size=batchSize, shuffle=True, num_workers=2)\n",
    "\n",
    "netE_pca = Adversary(X_train_reduced.shape[1], 128, y_advr_train.shape[1]).to(device)\n",
    "# netF_pca.apply(weights_init)\n",
    "\n",
    "optimizerE = optim.Adam(netE_pca.parameters(), lr=0.0001)\n",
    "criterion = nn.CrossEntropyLoss()\n",
    "\n",
    "\n",
    "train_a = []\n",
    "valid_a = []\n",
    "for epoch in range(20):\n",
    "    for i, data_train in enumerate(dataloader_train):\n",
    "        X_train_torch = data_train[0].to(device)\n",
    "        y_train_advr_torch = data_train[1].to(device)\n",
    "        \n",
    "        optimizerE.zero_grad()\n",
    "        \n",
    "        y_train_advr_torch_hat = netE_pca(X_train_torch)\n",
    "\n",
    "        lossE = criterion(y_train_advr_torch_hat, torch.argmax(y_train_advr_torch, 1))\n",
    "        lossE.backward()\n",
    "        \n",
    "        optimizerE.step()\n",
    "        \n",
    "    nsamples = 0\n",
    "    valid_loss = 0\n",
    "    for i, data_valid in enumerate(dataloader_valid):\n",
    "        X_valid_torch = data_valid[0].to(device)\n",
    "        y_valid_advr_torch = data_valid[1].to(device)\n",
    "        y_valid_advr_torch_hat = netE_pca(X_valid_torch)\n",
    "        valid_l = criterion(y_valid_advr_torch_hat, torch.argmax(y_valid_advr_torch, 1))\n",
    "        valid_loss += valid_l.item()\n",
    "        nsamples += 1\n",
    "    valid_loss /= nsamples\n",
    "        \n",
    "    print('{} \\t {:.8f} \\t {:.8f}'.format(\n",
    "        epoch, \n",
    "        lossE.item(),\n",
    "        valid_loss,\n",
    "    ))\n",
    "    train_a.append(lossE.item())\n",
    "    valid_a.append(valid_loss)"
   ]
  },
  {
   "cell_type": "code",
   "execution_count": 55,
   "metadata": {},
   "outputs": [
    {
     "data": {
      "image/png": "[encoded data removed]",
      "text/plain": [
       "<Figure size 432x288 with 1 Axes>"
      ]
     },
     "metadata": {
      "needs_background": "light"
     },
     "output_type": "display_data"
    }
   ],
   "source": [
    "plt.plot(n_epoch, train, 'b')\n",
    "plt.plot(n_epoch, valid, 'b--')\n",
    "plt.plot(n_epoch, train_a, 'g')\n",
    "plt.plot(n_epoch, valid_a, 'g--')\n",
    "plt.legend([\n",
    "    'ally train_loss', \n",
    "    'ally valid_loss', \n",
    "    'advr train loss', \n",
    "    'advr valid loss'\n",
    "])\n",
    "plt.title(\"Ally and Advr training on PCA data\")\n",
    "plt.show()"
   ]
  },
  {
   "cell_type": "markdown",
   "metadata": {},
   "source": [
    "- The convergence on both ally and adversary is standard\n",
    "- No signs of overfitting"
   ]
  },
  {
   "cell_type": "markdown",
   "metadata": {},
   "source": [
    "### Ally and Adversary Training on AutoEncoder Data"
   ]
  },
  {
   "cell_type": "code",
   "execution_count": 63,
   "metadata": {},
   "outputs": [
    {
     "name": "stdout",
     "output_type": "stream",
     "text": [
      "0 \t 0.30924699 \t 0.32068289\n",
      "1 \t 0.25224307 \t 0.26330837\n",
      "2 \t 0.18409440 \t 0.20437789\n",
      "3 \t 0.15409854 \t 0.16525971\n",
      "4 \t 0.14983161 \t 0.14321146\n",
      "5 \t 0.13817824 \t 0.13265274\n",
      "6 \t 0.11311960 \t 0.13621890\n",
      "7 \t 0.10162642 \t 0.11370765\n",
      "8 \t 0.09047701 \t 0.11274331\n",
      "9 \t 0.09307476 \t 0.10247134\n",
      "10 \t 0.07886897 \t 0.10095840\n",
      "11 \t 0.03312887 \t 0.09200987\n",
      "12 \t 0.05779878 \t 0.08979602\n",
      "13 \t 0.12204274 \t 0.08518752\n",
      "14 \t 0.11207882 \t 0.08456784\n",
      "15 \t 0.10072557 \t 0.09182974\n",
      "16 \t 0.05914456 \t 0.08314329\n",
      "17 \t 0.03733351 \t 0.08414363\n",
      "18 \t 0.09542236 \t 0.07533306\n",
      "19 \t 0.06837932 \t 0.07474553\n"
     ]
    }
   ],
   "source": [
    "import warnings\n",
    "warnings.filterwarnings('ignore')\n",
    "warnings.simplefilter('ignore')\n",
    "\n",
    "\n",
    "\n",
    "dataset_train = utils.TensorDataset(\n",
    "    torch.Tensor(X_train_normalized), \n",
    "    torch.Tensor(y_ally_train.reshape(-1, 1)),\n",
    ")\n",
    "\n",
    "dataloader_train = torch.utils.data.DataLoader(dataset_train, batch_size=batchSize, shuffle=True, num_workers=2)\n",
    "\n",
    "dataset_valid = utils.TensorDataset(\n",
    "    torch.Tensor(X_valid_normalized), \n",
    "    torch.Tensor(y_ally_valid.reshape(-1, 1)),\n",
    ")\n",
    "\n",
    "dataloader_valid = torch.utils.data.DataLoader(dataset_valid, batch_size=batchSize, shuffle=True, num_workers=2)\n",
    "\n",
    "netF_pca = Ally(X_train_reduced.shape[1], 128, y_ally_train.shape[1]).to(device)\n",
    "# netF_pca.apply(weights_init)\n",
    "\n",
    "optimizerF = optim.Adam(netF_pca.parameters(), lr=0.001)\n",
    "criterion = nn.BCELoss()\n",
    "\n",
    "\n",
    "ae_ally_train=[]\n",
    "ae_ally_valid = []\n",
    "for epoch in range(20):\n",
    "    for i, data_train in enumerate(dataloader_train):\n",
    "        X_train_torch = auto_encoder.encoder(data_train[0].to(device))\n",
    "        y_train_ally_torch = data_train[1].to(device)\n",
    "        \n",
    "        optimizerF.zero_grad()\n",
    "        \n",
    "        y_train_ally_torch_hat = netF_pca(X_train_torch)\n",
    "\n",
    "        lossF = criterion(y_train_ally_torch_hat, y_train_ally_torch)\n",
    "        lossF.backward()\n",
    "        \n",
    "        optimizerF.step()\n",
    "        \n",
    "    nsamples = 0\n",
    "    valid_loss = 0\n",
    "    for i, data_valid in enumerate(dataloader_valid):\n",
    "        X_valid_torch = auto_encoder.encoder(data_valid[0].to(device))\n",
    "        y_valid_ally_torch = data_valid[1].to(device)\n",
    "        y_valid_ally_torch_hat = netF_pca(X_valid_torch)\n",
    "        valid_l = criterion(y_valid_ally_torch_hat, y_valid_ally_torch)\n",
    "        valid_loss += valid_l.item()\n",
    "        nsamples += 1\n",
    "    valid_loss /= nsamples\n",
    "        \n",
    "    print('{} \\t {:.8f} \\t {:.8f}'.format(\n",
    "        epoch, \n",
    "        lossF.item(),\n",
    "        valid_loss,\n",
    "    ))\n",
    "    ae_ally_train.append(lossF.item())\n",
    "    ae_ally_valid.append(valid_loss)"
   ]
  },
  {
   "cell_type": "code",
   "execution_count": 59,
   "metadata": {},
   "outputs": [
    {
     "name": "stdout",
     "output_type": "stream",
     "text": [
      "0 \t 2.01919699 \t 2.02769931\n",
      "1 \t 1.83579719 \t 1.85885895\n",
      "2 \t 1.77947056 \t 1.77383403\n",
      "3 \t 1.72602105 \t 1.72581347\n",
      "4 \t 1.71036720 \t 1.69477652\n",
      "5 \t 1.64042926 \t 1.67305732\n",
      "6 \t 1.66186059 \t 1.65666908\n",
      "7 \t 1.63442242 \t 1.64411558\n",
      "8 \t 1.64832878 \t 1.63289210\n",
      "9 \t 1.59853816 \t 1.62500992\n",
      "10 \t 1.60488284 \t 1.61765598\n",
      "11 \t 1.58906245 \t 1.61081453\n",
      "12 \t 1.61581337 \t 1.60531670\n",
      "13 \t 1.61099231 \t 1.60090817\n",
      "14 \t 1.59117651 \t 1.59588360\n",
      "15 \t 1.57759964 \t 1.59255781\n",
      "16 \t 1.58509135 \t 1.58880213\n",
      "17 \t 1.58730268 \t 1.58626710\n",
      "18 \t 1.59087563 \t 1.58368480\n",
      "19 \t 1.58539855 \t 1.58042869\n"
     ]
    }
   ],
   "source": [
    "dataset_train = utils.TensorDataset(\n",
    "    torch.Tensor(X_train_normalized), \n",
    "    torch.Tensor(y_advr_train.reshape(-1, 10)),\n",
    ")\n",
    "\n",
    "dataloader_train = torch.utils.data.DataLoader(dataset_train, batch_size=batchSize, shuffle=True, num_workers=2)\n",
    "\n",
    "dataset_valid = utils.TensorDataset(\n",
    "    torch.Tensor(X_valid_normalized), \n",
    "    torch.Tensor(y_advr_valid.reshape(-1, 10)),\n",
    ")\n",
    "\n",
    "dataloader_valid = torch.utils.data.DataLoader(dataset_valid, batch_size=batchSize, shuffle=True, num_workers=2)\n",
    "\n",
    "netE_pca = Adversary(X_train_reduced.shape[1], 128, y_advr_train.shape[1]).to(device)\n",
    "# netF_pca.apply(weights_init)\n",
    "\n",
    "optimizerE = optim.Adam(netE_pca.parameters(), lr=0.0001)\n",
    "criterion = nn.CrossEntropyLoss()\n",
    "\n",
    "\n",
    "ae_advr_train = []\n",
    "ae_advr_valid = []\n",
    "for epoch in range(20):\n",
    "    for i, data_train in enumerate(dataloader_train):\n",
    "        X_train_torch = auto_encoder.encoder(data_train[0].to(device))\n",
    "        y_train_advr_torch = data_train[1].to(device)\n",
    "        \n",
    "        optimizerE.zero_grad()\n",
    "        \n",
    "        y_train_advr_torch_hat = netE_pca(X_train_torch)\n",
    "\n",
    "        lossE = criterion(y_train_advr_torch_hat, torch.argmax(y_train_advr_torch, 1))\n",
    "        lossE.backward()\n",
    "        \n",
    "        optimizerE.step()\n",
    "        \n",
    "    nsamples = 0\n",
    "    valid_loss = 0\n",
    "    for i, data_valid in enumerate(dataloader_valid):\n",
    "        X_valid_torch = auto_encoder.encoder(data_valid[0].to(device))\n",
    "        y_valid_advr_torch = data_valid[1].to(device)\n",
    "        y_valid_advr_torch_hat = netE_pca(X_valid_torch)\n",
    "        valid_l = criterion(y_valid_advr_torch_hat, torch.argmax(y_valid_advr_torch, 1))\n",
    "        valid_loss += valid_l.item()\n",
    "        nsamples += 1\n",
    "    valid_loss /= nsamples\n",
    "        \n",
    "    print('{} \\t {:.8f} \\t {:.8f}'.format(\n",
    "        epoch, \n",
    "        lossE.item(),\n",
    "        valid_loss,\n",
    "    ))\n",
    "    ae_advr_train.append(lossE.item())\n",
    "    ae_advr_valid.append(valid_loss)\n",
    "        "
   ]
  },
  {
   "cell_type": "code",
   "execution_count": 64,
   "metadata": {},
   "outputs": [
    {
     "data": {
      "image/png": "[encoded data removed]",
      "text/plain": [
       "<Figure size 432x288 with 1 Axes>"
      ]
     },
     "metadata": {
      "needs_background": "light"
     },
     "output_type": "display_data"
    }
   ],
   "source": [
    "plt.plot(n_epoch, ae_ally_train, 'b')\n",
    "plt.plot(n_epoch, ae_ally_valid, 'b--')\n",
    "plt.plot(n_epoch, ae_advr_train, 'g')\n",
    "plt.plot(n_epoch, ae_advr_valid, 'g--')\n",
    "plt.legend(['ally train_loss', 'ally valid_loss', 'advr train loss', 'advr valid loss'])\n",
    "plt.title(\"Ally and Advr training on Autoencoder data\")\n",
    "plt.show()"
   ]
  },
  {
   "cell_type": "markdown",
   "metadata": {},
   "source": [
    "- Studying the graph we can see that the adversary is converging appropriately\n",
    "- Ally network need model parameter tweaking to get rid of the divergence."
   ]
  },
  {
   "cell_type": "markdown",
   "metadata": {},
   "source": [
    "### Ally and Adversary training on Encoded Data"
   ]
  },
  {
   "cell_type": "code",
   "execution_count": 67,
   "metadata": {},
   "outputs": [
    {
     "name": "stdout",
     "output_type": "stream",
     "text": [
      "0 \t 0.69288075 \t 0.69301687\n",
      "1 \t 0.69201809 \t 0.69305194\n",
      "2 \t 0.69288671 \t 0.69304233\n",
      "3 \t 0.69412190 \t 0.69303796\n",
      "4 \t 0.69380659 \t 0.69302804\n",
      "5 \t 0.69102126 \t 0.69298337\n",
      "6 \t 0.69341987 \t 0.69300986\n",
      "7 \t 0.69332224 \t 0.69297216\n",
      "8 \t 0.69238251 \t 0.69298603\n",
      "9 \t 0.69397169 \t 0.69295026\n",
      "10 \t 0.69297540 \t 0.69304786\n",
      "11 \t 0.69418401 \t 0.69303068\n",
      "12 \t 0.69110733 \t 0.69306754\n",
      "13 \t 0.69336301 \t 0.69301087\n",
      "14 \t 0.69272804 \t 0.69302152\n",
      "15 \t 0.69265598 \t 0.69312314\n",
      "16 \t 0.69257933 \t 0.69301692\n",
      "17 \t 0.69344449 \t 0.69299778\n",
      "18 \t 0.69436610 \t 0.69303238\n",
      "19 \t 0.69381386 \t 0.69303895\n"
     ]
    }
   ],
   "source": [
    "dataset_train = utils.TensorDataset(\n",
    "    torch.Tensor(X_train_normalized.reshape(-1, 1, 28, 28)),\n",
    "    torch.Tensor(y_ally_train.reshape(-1, 1)),\n",
    ")\n",
    "dataloader_train = torch.utils.data.DataLoader(dataset_train, batch_size=256, shuffle=True, num_workers=2)\n",
    "\n",
    "dataset_valid = utils.TensorDataset(\n",
    "    torch.Tensor(X_valid_normalized.reshape(-1, 1, 28, 28)),\n",
    "    torch.Tensor(y_ally_valid.reshape(-1, 1)),\n",
    ")\n",
    "dataloader_valid = torch.utils.data.DataLoader(dataset_valid, batch_size=256, shuffle=True, num_workers=2)\n",
    "\n",
    "netF_pca = Ally(X_train_reduced.shape[1], 128, y_ally_train.shape[1]).to(device)\n",
    "# netF_pca.apply(weights_init)\n",
    "\n",
    "optimizerF = optim.Adam(netF_pca.parameters(), lr=0.00001)\n",
    "criterion = nn.BCELoss()\n",
    "\n",
    "\n",
    "gan_ally_train=[]\n",
    "gan_ally_valid = []\n",
    "for epoch in range(20):\n",
    "    for i, data_train in enumerate(dataloader_train):\n",
    "        X_train_torch = data_train[0].to(device)\n",
    "        X_train_torch = netG(X_train_torch)\n",
    "        y_train_ally_torch = data_train[1].to(device)\n",
    "        \n",
    "        optimizerF.zero_grad()\n",
    "        \n",
    "        y_train_ally_torch_hat = netF_pca(X_train_torch)\n",
    "\n",
    "        lossF = criterion(y_train_ally_torch_hat, y_train_ally_torch)\n",
    "        lossF.backward()\n",
    "        \n",
    "        optimizerF.step()\n",
    "        \n",
    "    nsamples = 0\n",
    "    valid_loss = 0\n",
    "    for i, data_valid in enumerate(dataloader_valid):\n",
    "        X_valid_torch = data_valid[0].to(device)\n",
    "        X_valid_torch = netG(X_valid_torch)\n",
    "        y_valid_ally_torch = data_valid[1].to(device)\n",
    "        y_valid_ally_torch_hat = netF_pca(X_valid_torch)\n",
    "        valid_l = criterion(y_valid_ally_torch_hat, y_valid_ally_torch)\n",
    "        valid_loss += valid_l.item()\n",
    "        nsamples += 1\n",
    "    valid_loss /= nsamples\n",
    "        \n",
    "    print('{} \\t {:.8f} \\t {:.8f}'.format(\n",
    "        epoch, \n",
    "        lossF.item(),\n",
    "        valid_loss,\n",
    "    ))\n",
    "    gan_ally_train.append(lossF.item())\n",
    "    gan_ally_valid.append(valid_loss)"
   ]
  },
  {
   "cell_type": "code",
   "execution_count": 68,
   "metadata": {},
   "outputs": [
    {
     "name": "stdout",
     "output_type": "stream",
     "text": [
      "0 \t 0.69329935 \t 0.69329915\n",
      "1 \t 0.69320011 \t 0.69319998\n",
      "2 \t 0.69317412 \t 0.69317399\n",
      "3 \t 0.69316339 \t 0.69316339\n",
      "4 \t 0.69315797 \t 0.69315804\n",
      "5 \t 0.69315499 \t 0.69315492\n",
      "6 \t 0.69315290 \t 0.69315293\n",
      "7 \t 0.69315165 \t 0.69315160\n",
      "8 \t 0.69315064 \t 0.69315066\n",
      "9 \t 0.69315004 \t 0.69314999\n",
      "10 \t 0.69314951 \t 0.69314950\n",
      "11 \t 0.69314915 \t 0.69314908\n",
      "12 \t 0.69314873 \t 0.69314878\n",
      "13 \t 0.69314849 \t 0.69314855\n",
      "14 \t 0.69314831 \t 0.69314831\n",
      "15 \t 0.69314820 \t 0.69314814\n",
      "16 \t 0.69314802 \t 0.69314805\n",
      "17 \t 0.69314790 \t 0.69314788\n",
      "18 \t 0.69314778 \t 0.69314778\n",
      "19 \t 0.69314772 \t 0.69314768\n"
     ]
    }
   ],
   "source": [
    "dataset_train = utils.TensorDataset(\n",
    "    torch.Tensor(X_train_normalized.reshape(-1, 1, 28, 28)),\n",
    "    torch.Tensor(y_advr_train.reshape(-1, 10)),\n",
    ")\n",
    "dataloader_train = torch.utils.data.DataLoader(dataset_train, batch_size=256, shuffle=True, num_workers=2)\n",
    "\n",
    "dataset_valid = utils.TensorDataset(\n",
    "    torch.Tensor(X_valid_normalized.reshape(-1, 1, 28, 28)),\n",
    "    torch.Tensor(y_advr_valid.reshape(-1, 10)),\n",
    ")\n",
    "dataloader_valid = torch.utils.data.DataLoader(dataset_valid, batch_size=256, shuffle=True, num_workers=2)\n",
    "\n",
    "netE_pca = Adversary(X_train_reduced.shape[1], 128, y_advr_train.shape[1]).to(device)\n",
    "# netF_pca.apply(weights_init)\n",
    "\n",
    "optimizerE = optim.Adam(netE_pca.parameters(), lr=0.001)\n",
    "criterion = nn.BCEWithLogitsLoss()\n",
    "\n",
    "\n",
    "gan_advr_train=[]\n",
    "gan_advr_valid = []\n",
    "for epoch in range(20):\n",
    "    for i, data_train in enumerate(dataloader_train):\n",
    "        X_train_torch = data_train[0].to(device)\n",
    "        X_train_torch = netG(X_train_torch)\n",
    "        y_train_advr_torch = data_train[1].to(device)\n",
    "        \n",
    "        optimizerE.zero_grad()\n",
    "        \n",
    "        y_train_ally_torch_hat = netE_pca(X_train_torch)\n",
    "\n",
    "        lossE = criterion(y_train_ally_torch_hat, y_train_advr_torch)\n",
    "        lossE.backward()\n",
    "        \n",
    "        optimizerE.step()\n",
    "        \n",
    "    nsamples = 0\n",
    "    valid_loss = 0\n",
    "    for i, data_valid in enumerate(dataloader_valid):\n",
    "        X_valid_torch = data_valid[0].to(device)\n",
    "        X_valid_torch = netG(X_valid_torch)\n",
    "        y_valid_advr_torch = data_valid[1].to(device)\n",
    "        y_valid_ally_torch_hat = netE_pca(X_valid_torch)\n",
    "        valid_l = criterion(y_valid_ally_torch_hat, y_valid_advr_torch)\n",
    "        valid_loss += valid_l.item()\n",
    "        nsamples += 1\n",
    "    valid_loss /= nsamples\n",
    "        \n",
    "    print('{} \\t {:.8f} \\t {:.8f}'.format(\n",
    "        epoch, \n",
    "        lossE.item(),\n",
    "        valid_loss,\n",
    "    ))\n",
    "    gan_advr_train.append(lossE.item())\n",
    "    gan_advr_valid.append(valid_loss)"
   ]
  },
  {
   "cell_type": "code",
   "execution_count": 69,
   "metadata": {},
   "outputs": [
    {
     "data": {
      "image/png": "[encoded data removed]",
      "text/plain": [
       "<Figure size 432x288 with 1 Axes>"
      ]
     },
     "metadata": {
      "needs_background": "light"
     },
     "output_type": "display_data"
    }
   ],
   "source": [
    "plt.plot(n_epoch, gan_ally_train, 'b')\n",
    "plt.plot(n_epoch, gan_ally_valid, 'b--')\n",
    "plt.plot(n_epoch, gan_advr_train, 'g')\n",
    "plt.plot(n_epoch, gan_advr_valid, 'g--')\n",
    "plt.legend(['ally train_loss', 'ally valid_loss', 'advr train loss', 'advr valid loss'])\n",
    "plt.title(\"Ally and Advr training on Autoencoder data\")\n",
    "plt.show()"
   ]
  },
  {
   "cell_type": "code",
   "execution_count": 70,
   "metadata": {},
   "outputs": [
    {
     "data": {
      "image/png": "[encoded data removed]",
      "text/plain": [
       "<Figure size 432x288 with 1 Axes>"
      ]
     },
     "metadata": {
      "needs_background": "light"
     },
     "output_type": "display_data"
    }
   ],
   "source": [
    "plt.plot(n_epoch, gan_ally_valid, 'r--')\n",
    "plt.plot(n_epoch, gan_advr_valid, 'r')\n",
    "plt.plot(n_epoch, valid, 'b--')\n",
    "plt.plot(n_epoch, valid_a, 'b')\n",
    "plt.plot(n_epoch, ae_ally_valid, 'g--')\n",
    "plt.plot(n_epoch, ae_advr_valid, 'g')\n",
    "plt.legend(['gan ally', 'gan advr', 'pca ally', 'pca advr', 'auto ally', 'auto advr'])\n",
    "plt.title(\"Ally and Advr comparison\")\n",
    "plt.show()"
   ]
  },
  {
   "cell_type": "code",
   "execution_count": 3,
   "metadata": {},
   "outputs": [
    {
     "data": {
      "text/plain": [
       "<matplotlib.legend.Legend at 0x7f910072ef98>"
      ]
     },
     "execution_count": 3,
     "metadata": {},
     "output_type": "execute_result"
    },
    {
     "data": {
      "image/png": "[encoded data removed]",
      "text/plain": [
       "<Figure size 432x288 with 1 Axes>"
      ]
     },
     "metadata": {
      "needs_background": "light"
     },
     "output_type": "display_data"
    }
   ],
   "source": [
    "epochs = [0, 100, 200, 300, 400, 500, 600, 700, 800, 900, 1000]\n",
    "\n",
    "auto_ally = [0.65545598,0.54109581,0.52596698,0.51847158,0.51607584,0.51351950,0.51233711,0.51108771,0.51092901,0.51021491,0.50923452]\n",
    "auto_advr = [2.19089735,1.56182141,1.53859117,1.52511171,1.51636479,1.51014968,1.50622827,1.50285327,1.50036708,1.49916746,1.49848810]\n",
    "pca_ally =[0.70585175,0.52035322,0.51384263,0.51162118,0.51130803,0.51037628,0.51013036,0.51024503,0.50999505,0.50928623,0.50996693]\n",
    "pca_advr = [2.28699915,1.54430321,1.52023215,1.51072041,1.50581849,1.50266080,1.50086851,1.49980764,1.49905597,1.49850315,1.49811943]\n",
    "encd_ally = [0.63286703,0.51416672,0.51384061,0.51348210,0.51311324,0.51355186,0.51342442,0.51335753,0.51295490,0.51292664,0.51273378]\n",
    "encd_advr = [2.17019427,1.53427020,1.52095829,1.51517934,1.51180234,1.50990692,1.50779183,1.50658275,1.50573009,1.50478715,1.50400517]\n",
    "\n",
    "# plt.plot(epochs, encd_ally, 'r')\n",
    "plt.plot(epochs, encd_advr, 'r--')\n",
    "# plt.plot(epochs, auto_ally, 'g')\n",
    "plt.plot(epochs, auto_advr, 'g--')\n",
    "# plt.plot(epochs, pca_ally, 'b')\n",
    "plt.plot(epochs, pca_advr, 'b--')\n",
    "plt.legend([\n",
    "    'gan ally', 'gan advr',\n",
    "    'autoencoder ally', 'autoencoder advr',\n",
    "    'pca ally', 'pca advr',\n",
    "])"
   ]
  },
  {
   "cell_type": "code",
   "execution_count": 5,
   "metadata": {},
   "outputs": [],
   "source": [
    "import matplotlib.pyplot as plt\n",
    "import pickle as pkl"
   ]
  },
  {
   "cell_type": "code",
   "execution_count": 19,
   "metadata": {},
   "outputs": [],
   "source": [
    "h2 = pkl.load(open('checkpoints/titanic/comparison_training_history_01_15_2020_04_27_22.pkl', 'rb'))\n",
    "h1 = pkl.load(open('checkpoints/titanic/comparison_training_history_01_15_2020_00_17_48.pkl', 'rb'))"
   ]
  },
  {
   "cell_type": "code",
   "execution_count": 20,
   "metadata": {},
   "outputs": [],
   "source": [
    "epochs = h2['epoch']['valid']\n",
    "encd_ally = h2['encoder']['ally_valid']\n",
    "encd_advr_1 = h2['encoder']['advr_1_valid']\n",
    "encd_advr_2 = h2['encoder']['advr_2_valid']\n",
    "auto_ally = h1['autoencoder']['ally_valid']\n",
    "auto_advr_1 = h1['autoencoder']['advr_1_valid']\n",
    "auto_advr_2 = h1['autoencoder']['advr_2_valid']\n",
    "pca_ally = h1['pca']['ally_valid']\n",
    "pca_advr_1 = h1['pca']['advr_1_valid']\n",
    "pca_advr_2 = h1['pca']['advr_2_valid']"
   ]
  },
  {
   "cell_type": "code",
   "execution_count": 21,
   "metadata": {},
   "outputs": [
    {
     "data": {
      "text/plain": [
       "[<matplotlib.lines.Line2D at 0x7f0e55e4b208>]"
      ]
     },
     "execution_count": 21,
     "metadata": {},
     "output_type": "execute_result"
    },
    {
     "data": {
      "image/png": "[encoded data removed]",
      "text/plain": [
       "<Figure size 432x288 with 1 Axes>"
      ]
     },
     "metadata": {
      "needs_background": "light"
     },
     "output_type": "display_data"
    }
   ],
   "source": [
    "plt.plot(epochs, encd_ally, 'r')\n",
    "plt.plot(epochs, encd_advr_1, 'r--')\n",
    "plt.plot(epochs, encd_advr_2, 'rx')\n",
    "plt.plot(epochs, auto_ally, 'b')\n",
    "plt.plot(epochs, auto_advr_1, 'b--')\n",
    "plt.plot(epochs, auto_advr_2, 'bx')\n",
    "plt.plot(epochs, pca_ally, 'g')\n",
    "plt.plot(epochs, pca_advr_1, 'g--')\n",
    "plt.plot(epochs, pca_advr_2, 'gx')"
   ]
  },
  {
   "cell_type": "code",
   "execution_count": 6,
   "metadata": {},
   "outputs": [
    {
     "data": {
      "text/plain": [
       "Text(0.5, 1.0, 'Ally and advr comparison')"
      ]
     },
     "execution_count": 6,
     "metadata": {},
     "output_type": "execute_result"
    },
    {
     "data": {
      "image/png": "[encoded data removed]",
      "text/plain": [
       "<Figure size 432x288 with 1 Axes>"
      ]
     },
     "metadata": {
      "needs_background": "light"
     },
     "output_type": "display_data"
    }
   ],
   "source": [
    "plt.plot(epochs, encd_ally, 'r--')\n",
    "plt.plot(epochs, encd_advr, 'r')\n",
    "plt.plot(epochs, auto_ally, 'g--')\n",
    "plt.plot(epochs, auto_advr, 'g')\n",
    "plt.plot(epochs, pca_ally, 'b--')\n",
    "plt.plot(epochs, pca_advr, 'b')\n",
    "plt.legend([\n",
    "    'gan ally', 'gan advr',\n",
    "    'autoencoder ally', 'autoencoder advr',\n",
    "    'pca ally', 'pca advr',\n",
    "])\n",
    "plt.title('Ally and advr comparison')"
   ]
  },
  {
   "cell_type": "code",
   "execution_count": 20,
   "metadata": {},
   "outputs": [],
   "source": [
    "import torch\n",
    "import numpy as np"
   ]
  },
  {
   "cell_type": "code",
   "execution_count": 54,
   "metadata": {},
   "outputs": [],
   "source": [
    "criterion = torch.nn.KLDivLoss()"
   ]
  },
  {
   "cell_type": "code",
   "execution_count": 78,
   "metadata": {},
   "outputs": [],
   "source": [
    "a = torch.Tensor(np.array([1, 0, 0, 0, 0]))\n",
    "b = torch.Tensor(np.log(np.array([0.6, 0.1, 0.1, 0.1, 0.1])))"
   ]
  },
  {
   "cell_type": "code",
   "execution_count": 79,
   "metadata": {},
   "outputs": [
    {
     "data": {
      "text/plain": [
       "tensor(0.1022)"
      ]
     },
     "execution_count": 79,
     "metadata": {},
     "output_type": "execute_result"
    }
   ],
   "source": [
    "criterion(b, a)"
   ]
  },
  {
   "cell_type": "code",
   "execution_count": 25,
   "metadata": {},
   "outputs": [
    {
     "data": {
      "text/plain": [
       "-0.3010299956639812"
      ]
     },
     "execution_count": 25,
     "metadata": {},
     "output_type": "execute_result"
    }
   ],
   "source": [
    "np.log10(0.5)"
   ]
  },
  {
   "cell_type": "code",
   "execution_count": 22,
   "metadata": {},
   "outputs": [],
   "source": [
    "auto_1 = pkl.load(open('checkpoints/titanic/ind_autoencoder_training_history_01_16_2020_04_30_49.pkl', 'rb'))\n"
   ]
  },
  {
   "cell_type": "code",
   "execution_count": 23,
   "metadata": {
    "scrolled": true
   },
   "outputs": [
    {
     "data": {
      "text/plain": [
       "{'epoch': {'train': [], 'valid': []},\n",
       " 'autoencoder': {'ally_train': [],\n",
       "  'ally_valid': [],\n",
       "  'advr_1_train': [],\n",
       "  'advr_1_valid': [],\n",
       "  'advr_2_train': [1.1215317249298096,\n",
       "   1.1193069219589233,\n",
       "   1.1170995235443115,\n",
       "   1.1149098873138428,\n",
       "   1.112740159034729,\n",
       "   1.1105921268463135,\n",
       "   1.108466386795044,\n",
       "   1.1063637733459473,\n",
       "   1.1042852401733398,\n",
       "   1.102231740951538,\n",
       "   1.1002050638198853,\n",
       "   1.0982046127319336,\n",
       "   1.0962307453155518,\n",
       "   1.094284176826477,\n",
       "   1.0923659801483154,\n",
       "   1.0904779434204102,\n",
       "   1.0886199474334717,\n",
       "   1.0867918729782104,\n",
       "   1.0849940776824951,\n",
       "   1.0832282304763794,\n",
       "   1.0814940929412842,\n",
       "   1.0797927379608154,\n",
       "   1.0781234502792358,\n",
       "   1.0764869451522827,\n",
       "   1.0748827457427979,\n",
       "   1.0733100175857544,\n",
       "   1.0717682838439941,\n",
       "   1.0702569484710693,\n",
       "   1.068777084350586,\n",
       "   1.067327857017517,\n",
       "   1.065908670425415,\n",
       "   1.0645177364349365,\n",
       "   1.0631558895111084,\n",
       "   1.061822533607483,\n",
       "   1.0605170726776123,\n",
       "   1.0592385530471802,\n",
       "   1.0579863786697388,\n",
       "   1.0567600727081299,\n",
       "   1.0555589199066162,\n",
       "   1.054382085800171,\n",
       "   1.0532282590866089,\n",
       "   1.0520974397659302,\n",
       "   1.0509884357452393,\n",
       "   1.0499004125595093,\n",
       "   1.0488332509994507,\n",
       "   1.0477856397628784,\n",
       "   1.0467580556869507,\n",
       "   1.0457499027252197,\n",
       "   1.04475998878479,\n",
       "   1.0437877178192139,\n",
       "   1.042832612991333,\n",
       "   1.0418932437896729,\n",
       "   1.0409698486328125,\n",
       "   1.040061354637146,\n",
       "   1.0391671657562256,\n",
       "   1.0382864475250244,\n",
       "   1.0374188423156738,\n",
       "   1.0365643501281738,\n",
       "   1.0357223749160767,\n",
       "   1.034891963005066,\n",
       "   1.0340726375579834,\n",
       "   1.0332645177841187,\n",
       "   1.0324671268463135,\n",
       "   1.031679391860962,\n",
       "   1.0309014320373535,\n",
       "   1.0301320552825928,\n",
       "   1.029370665550232,\n",
       "   1.0286176204681396,\n",
       "   1.0278719663619995,\n",
       "   1.0271342992782593,\n",
       "   1.0264036655426025,\n",
       "   1.0256799459457397,\n",
       "   1.024963140487671,\n",
       "   1.0242518186569214,\n",
       "   1.0235469341278076,\n",
       "   1.0228478908538818,\n",
       "   1.0221540927886963,\n",
       "   1.021465539932251,\n",
       "   1.0207819938659668,\n",
       "   1.0201032161712646,\n",
       "   1.0194289684295654,\n",
       "   1.018758773803711,\n",
       "   1.0180928707122803,\n",
       "   1.017430305480957,\n",
       "   1.0167714357376099,\n",
       "   1.0161157846450806,\n",
       "   1.0154640674591064,\n",
       "   1.014815330505371,\n",
       "   1.0141700506210327,\n",
       "   1.013527750968933,\n",
       "   1.0128886699676514,\n",
       "   1.012251853942871,\n",
       "   1.01161789894104,\n",
       "   1.010986089706421,\n",
       "   1.0103566646575928,\n",
       "   1.009729266166687,\n",
       "   1.0091040134429932,\n",
       "   1.008480429649353,\n",
       "   1.0078585147857666,\n",
       "   1.007238745689392,\n",
       "   1.0066204071044922,\n",
       "   1.0060033798217773,\n",
       "   1.0053880214691162,\n",
       "   1.0047738552093506,\n",
       "   1.0041613578796387,\n",
       "   1.003549575805664,\n",
       "   1.002938985824585,\n",
       "   1.0023295879364014,\n",
       "   1.001721739768982,\n",
       "   1.001114845275879,\n",
       "   1.0005087852478027,\n",
       "   0.9999037981033325,\n",
       "   0.9992993474006653,\n",
       "   0.9986958503723145,\n",
       "   0.9980929493904114,\n",
       "   0.9974907040596008,\n",
       "   0.9968891143798828,\n",
       "   0.9962881207466125,\n",
       "   0.9956874847412109,\n",
       "   0.995087742805481,\n",
       "   0.9944883584976196,\n",
       "   0.9938891530036926,\n",
       "   0.993290901184082,\n",
       "   0.9926929473876953,\n",
       "   0.9920951724052429,\n",
       "   0.9914978742599487,\n",
       "   0.9909006357192993,\n",
       "   0.9903035163879395,\n",
       "   0.9897068738937378,\n",
       "   0.9891105890274048,\n",
       "   0.988514244556427,\n",
       "   0.9879180788993835,\n",
       "   0.9873224496841431,\n",
       "   0.9867264032363892,\n",
       "   0.9861303567886353,\n",
       "   0.9855345487594604,\n",
       "   0.9849384427070618,\n",
       "   0.9843430519104004,\n",
       "   0.983747661113739,\n",
       "   0.9831523895263672,\n",
       "   0.9825575947761536,\n",
       "   0.9819628000259399,\n",
       "   0.9813681840896606,\n",
       "   0.9807737469673157,\n",
       "   0.9801796674728394,\n",
       "   0.9795855283737183,\n",
       "   0.9789915084838867,\n",
       "   0.9783972501754761,\n",
       "   0.9778029322624207,\n",
       "   0.9772086143493652,\n",
       "   0.9766142964363098,\n",
       "   0.9760201573371887,\n",
       "   0.975426197052002,\n",
       "   0.9748324155807495,\n",
       "   0.974238395690918,\n",
       "   0.9736444354057312,\n",
       "   0.973050594329834,\n",
       "   0.9724565744400024,\n",
       "   0.9718624949455261,\n",
       "   0.9712680578231812,\n",
       "   0.9706739187240601,\n",
       "   0.970079779624939,\n",
       "   0.9694854021072388,\n",
       "   0.9688906669616699,\n",
       "   0.9682954549789429,\n",
       "   0.9677003026008606,\n",
       "   0.9671050310134888,\n",
       "   0.9665096402168274,\n",
       "   0.9659141302108765,\n",
       "   0.9653187990188599,\n",
       "   0.9647232890129089,\n",
       "   0.9641274213790894,\n",
       "   0.9635313153266907,\n",
       "   0.9629351496696472,\n",
       "   0.9623385667800903,\n",
       "   0.9617420434951782,\n",
       "   0.961145281791687,\n",
       "   0.9605485200881958,\n",
       "   0.9599516987800598,\n",
       "   0.9593542814254761,\n",
       "   0.9587571024894714,\n",
       "   0.9581597447395325,\n",
       "   0.9575623273849487,\n",
       "   0.9569650888442993,\n",
       "   0.9563676118850708,\n",
       "   0.9557697176933289,\n",
       "   0.9551717638969421,\n",
       "   0.9545739889144897,\n",
       "   0.9539758563041687,\n",
       "   0.9533777236938477,\n",
       "   0.9527795910835266,\n",
       "   0.9521815180778503,\n",
       "   0.9515830874443054,\n",
       "   0.9509850740432739,\n",
       "   0.9503871202468872,\n",
       "   0.9497887492179871,\n",
       "   0.9491904973983765,\n",
       "   0.9485923647880554,\n",
       "   0.9479945302009583,\n",
       "   0.9473963975906372,\n",
       "   0.9467977285385132,\n",
       "   0.9461989402770996,\n",
       "   0.9456000328063965,\n",
       "   0.9450013041496277,\n",
       "   0.9444025754928589,\n",
       "   0.9438039660453796,\n",
       "   0.9432054758071899,\n",
       "   0.9426065683364868,\n",
       "   0.9420076608657837,\n",
       "   0.9414089918136597,\n",
       "   0.9408103227615356,\n",
       "   0.9402114748954773,\n",
       "   0.9396125674247742,\n",
       "   0.9390136003494263,\n",
       "   0.938414454460144,\n",
       "   0.9378158450126648,\n",
       "   0.9372173547744751,\n",
       "   0.9366188049316406,\n",
       "   0.9360201954841614,\n",
       "   0.9354220628738403,\n",
       "   0.9348241686820984,\n",
       "   0.934226393699646,\n",
       "   0.9336288571357727,\n",
       "   0.9330315589904785,\n",
       "   0.9324345588684082,\n",
       "   0.9318376779556274,\n",
       "   0.9312411546707153,\n",
       "   0.9306451082229614,\n",
       "   0.9300491213798523,\n",
       "   0.9294534921646118,\n",
       "   0.928857684135437,\n",
       "   0.9282623529434204,\n",
       "   0.9276665449142456,\n",
       "   0.9270712733268738,\n",
       "   0.9264761805534363,\n",
       "   0.9258812665939331,\n",
       "   0.9252867698669434,\n",
       "   0.9246924519538879,\n",
       "   0.9240983724594116,\n",
       "   0.9235045313835144,\n",
       "   0.9229109883308411,\n",
       "   0.922317624092102,\n",
       "   0.9217246770858765,\n",
       "   0.9211319088935852,\n",
       "   0.9205390810966492,\n",
       "   0.919946551322937,\n",
       "   0.9193541407585144,\n",
       "   0.9187620282173157,\n",
       "   0.9181702733039856,\n",
       "   0.9175788164138794,\n",
       "   0.9169877767562866,\n",
       "   0.9163972735404968,\n",
       "   0.9158071279525757,\n",
       "   0.9152172803878784,\n",
       "   0.9146276712417603,\n",
       "   0.9140384793281555,\n",
       "   0.9134496450424194,\n",
       "   0.9128614664077759,\n",
       "   0.912273108959198,\n",
       "   0.9116853475570679,\n",
       "   0.9110977053642273,\n",
       "   0.9105103611946106,\n",
       "   0.9099237322807312,\n",
       "   0.9093373417854309,\n",
       "   0.9087513089179993,\n",
       "   0.9081657528877258,\n",
       "   0.9075801968574524,\n",
       "   0.9069952964782715,\n",
       "   0.9064106941223145,\n",
       "   0.90582674741745,\n",
       "   0.9052432179450989,\n",
       "   0.9046598672866821,\n",
       "   0.9040771722793579,\n",
       "   0.9034947156906128,\n",
       "   0.9029127955436707,\n",
       "   0.9023310542106628,\n",
       "   0.9017496109008789,\n",
       "   0.9011684656143188,\n",
       "   0.9005874395370483,\n",
       "   0.900006890296936,\n",
       "   0.8994269371032715,\n",
       "   0.8988472819328308,\n",
       "   0.8982685208320618,\n",
       "   0.8976899981498718,\n",
       "   0.8971117734909058,\n",
       "   0.8965345621109009,\n",
       "   0.8959578275680542,\n",
       "   0.8953815698623657,\n",
       "   0.8948063850402832,\n",
       "   0.8942312002182007,\n",
       "   0.8936570286750793,\n",
       "   0.8930829167366028,\n",
       "   0.8925093412399292,\n",
       "   0.8919367790222168,\n",
       "   0.8913646936416626,\n",
       "   0.8907934427261353,\n",
       "   0.8902228474617004,\n",
       "   0.8896530270576477,\n",
       "   0.8890836834907532,\n",
       "   0.8885149955749512,\n",
       "   0.8879472017288208,\n",
       "   0.8873802423477173,\n",
       "   0.8868142366409302,\n",
       "   0.8862485885620117,\n",
       "   0.8856837153434753,\n",
       "   0.8851194381713867,\n",
       "   0.8845556378364563,\n",
       "   0.8839928507804871,\n",
       "   0.8834306001663208,\n",
       "   0.8828686475753784,\n",
       "   0.8823077082633972,\n",
       "   0.8817474246025085,\n",
       "   0.8811874389648438,\n",
       "   0.8806282877922058,\n",
       "   0.8800700306892395,\n",
       "   0.8795121312141418,\n",
       "   0.8789551854133606,\n",
       "   0.8783988952636719,\n",
       "   0.8778432607650757,\n",
       "   0.8772886395454407,\n",
       "   0.8767343759536743,\n",
       "   0.8761811256408691,\n",
       "   0.8756284713745117,\n",
       "   0.875076413154602,\n",
       "   0.8745250701904297,\n",
       "   0.8739745020866394,\n",
       "   0.8734243512153625,\n",
       "   0.8728746175765991,\n",
       "   0.8723260164260864,\n",
       "   0.8717777132987976,\n",
       "   0.8712307214736938,\n",
       "   0.8706844449043274,\n",
       "   0.8701386451721191,\n",
       "   0.8695939779281616,\n",
       "   0.8690503239631653,\n",
       "   0.8685072660446167,\n",
       "   0.867965042591095,\n",
       "   0.8674237132072449,\n",
       "   0.8668830990791321,\n",
       "   0.8663434982299805,\n",
       "   0.8658049702644348,\n",
       "   0.8652671575546265,\n",
       "   0.8647302389144897,\n",
       "   0.864194393157959,\n",
       "   0.863659679889679,\n",
       "   0.8631256222724915,\n",
       "   0.8625925779342651,\n",
       "   0.8620600700378418,\n",
       "   0.8615285754203796,\n",
       "   0.8609979748725891,\n",
       "   0.8604677319526672,\n",
       "   0.8599389791488647,\n",
       "   0.8594106435775757,\n",
       "   0.858883261680603,\n",
       "   0.8583568334579468,\n",
       "   0.8578312993049622,\n",
       "   0.8573064804077148,\n",
       "   0.8567823171615601,\n",
       "   0.8562593460083008,\n",
       "   0.8557366132736206,\n",
       "   0.8552149534225464,\n",
       "   0.8546942472457886,\n",
       "   0.854174017906189,\n",
       "   0.8536543846130371,\n",
       "   0.8531354069709778,\n",
       "   0.8526173830032349,\n",
       "   0.8520997762680054,\n",
       "   0.8515833020210266,\n",
       "   0.8510676622390747,\n",
       "   0.8505525588989258,\n",
       "   0.8500384092330933,\n",
       "   0.849524974822998,\n",
       "   0.8490121960639954,\n",
       "   0.8485006093978882,\n",
       "   0.8479899168014526,\n",
       "   0.8474799990653992,\n",
       "   0.8469711542129517,\n",
       "   0.8464629054069519,\n",
       "   0.8459556698799133,\n",
       "   0.8454493284225464,\n",
       "   0.8449438810348511,\n",
       "   0.8444396257400513,\n",
       "   0.8439358472824097,\n",
       "   0.8434330224990845,\n",
       "   0.8429306745529175,\n",
       "   0.8424292802810669,\n",
       "   0.8419289588928223,\n",
       "   0.8414292335510254,\n",
       "   0.8409305810928345,\n",
       "   0.8404329419136047,\n",
       "   0.8399364352226257,\n",
       "   0.8394405245780945,\n",
       "   0.8389455676078796,\n",
       "   0.8384517431259155,\n",
       "   0.8379584550857544,\n",
       "   0.8374662399291992,\n",
       "   0.8369747400283813,\n",
       "   0.8364843130111694,\n",
       "   0.8359948396682739,\n",
       "   0.8355060815811157,\n",
       "   0.8350182771682739,\n",
       "   0.8345311880111694,\n",
       "   0.8340452313423157,\n",
       "   0.8335601091384888,\n",
       "   0.8330756425857544,\n",
       "   0.8325921893119812,\n",
       "   0.8321097493171692,\n",
       "   0.8316279649734497,\n",
       "   0.831147313117981,\n",
       "   0.8306673169136047,\n",
       "   0.8301882743835449,\n",
       "   0.8297100067138672,\n",
       "   0.8292326927185059,\n",
       "   0.8287561535835266,\n",
       "   0.8282804489135742,\n",
       "   0.8278056383132935,\n",
       "   0.8273317217826843,\n",
       "   0.8268585205078125,\n",
       "   0.8263861536979675,\n",
       "   0.8259143829345703,\n",
       "   0.8254433870315552,\n",
       "   0.8249732255935669,\n",
       "   0.8245037794113159,\n",
       "   0.8240350484848022,\n",
       "   0.8235670924186707,\n",
       "   0.8231000900268555,\n",
       "   0.8226336240768433,\n",
       "   0.8221678733825684,\n",
       "   0.8217028379440308,\n",
       "   0.8212388753890991,\n",
       "   0.8207756280899048,\n",
       "   0.8203128576278687,\n",
       "   0.8198512196540833,\n",
       "   0.8193904161453247,\n",
       "   0.8189302682876587,\n",
       "   0.81847083568573,\n",
       "   0.8180123567581177,\n",
       "   0.8175549507141113,\n",
       "   0.8170984387397766,\n",
       "   0.8166427612304688,\n",
       "   0.8161880373954773,\n",
       "   0.8157340884208679,\n",
       "   0.8152812719345093,\n",
       "   0.8148295283317566,\n",
       "   0.8143783807754517,\n",
       "   0.8139281272888184,\n",
       "   0.8134787678718567,\n",
       "   0.8130301237106323,\n",
       "   0.8125826120376587,\n",
       "   0.8121358752250671,\n",
       "   0.8116902112960815,\n",
       "   0.8112457394599915,\n",
       "   0.8108016848564148,\n",
       "   0.8103587031364441,\n",
       "   0.8099170923233032,\n",
       "   0.8094760179519653,\n",
       "   0.8090357780456543,\n",
       "   0.808596134185791,\n",
       "   0.8081574440002441,\n",
       "   0.8077195286750793,\n",
       "   0.8072823286056519,\n",
       "   0.8068459630012512,\n",
       "   0.8064106106758118,\n",
       "   0.8059759140014648,\n",
       "   0.8055421710014343,\n",
       "   0.8051095008850098,\n",
       "   0.8046777844429016,\n",
       "   0.804246723651886,\n",
       "   0.8038169741630554,\n",
       "   0.8033877611160278,\n",
       "   0.8029597401618958,\n",
       "   0.8025324940681458,\n",
       "   0.8021060824394226,\n",
       "   0.8016806840896606,\n",
       "   0.8012558817863464,\n",
       "   0.8008319735527039,\n",
       "   0.8004089593887329,\n",
       "   0.799986720085144,\n",
       "   0.7995654344558716,\n",
       "   0.799144983291626,\n",
       "   0.7987251877784729,\n",
       "   0.7983065843582153,\n",
       "   0.7978886961936951,\n",
       "   0.7974715232849121,\n",
       "   0.7970553040504456,\n",
       "   0.7966400980949402,\n",
       "   0.7962256073951721,\n",
       "   0.7958120107650757,\n",
       "   0.7953993082046509,\n",
       "   0.794987142086029,\n",
       "   0.7945762872695923,\n",
       "   0.794166088104248,\n",
       "   0.7937567830085754,\n",
       "   0.793347954750061,\n",
       "   0.7929402589797974,\n",
       "   0.7925335764884949,\n",
       "   0.7921277284622192,\n",
       "   0.7917225360870361,\n",
       "   0.7913183569908142,\n",
       "   0.7909148335456848,\n",
       "   0.790511965751648,\n",
       "   0.7901100516319275,\n",
       "   0.7897089123725891,\n",
       "   0.7893086671829224,\n",
       "   0.7889091372489929,\n",
       "   0.788510262966156,\n",
       "   0.7881123423576355,\n",
       "   0.7877150177955627,\n",
       "   0.7873185276985168,\n",
       "   0.7869230508804321,\n",
       "   0.7865283489227295,\n",
       "   0.7861344218254089,\n",
       "   0.7857413291931152,\n",
       "   0.7853492498397827,\n",
       "   0.7849578261375427,\n",
       "   0.7845672369003296,\n",
       "   0.7841774225234985,\n",
       "   0.7837883830070496,\n",
       "   0.7834002375602722,\n",
       "   0.7830129265785217,\n",
       "   0.7826264500617981,\n",
       "   0.7822407484054565,\n",
       "   0.7818558812141418,\n",
       "   0.7814716100692749,\n",
       "   0.7810882329940796,\n",
       "   0.7807055115699768,\n",
       "   0.7803236246109009,\n",
       "   0.7799426317214966,\n",
       "   0.7795623540878296,\n",
       "   0.7791827321052551,\n",
       "   0.7788039445877075,\n",
       "   0.7784258723258972,\n",
       "   0.7780483961105347,\n",
       "   0.777671754360199,\n",
       "   0.777295708656311,\n",
       "   0.77692049741745,\n",
       "   0.7765461206436157,\n",
       "   0.7761725187301636,\n",
       "   0.7757995128631592,\n",
       "   0.7754274606704712,\n",
       "   0.7750561833381653,\n",
       "   0.7746855616569519,\n",
       "   0.7743157148361206,\n",
       "   0.7739465832710266,\n",
       "   0.7735782861709595,\n",
       "   0.7732107043266296,\n",
       "   0.7728438973426819,\n",
       "   0.7724775075912476,\n",
       "   0.772112250328064,\n",
       "   0.771747350692749,\n",
       "   0.7713832855224609,\n",
       "   0.7710197567939758,\n",
       "   0.7706570029258728,\n",
       "   0.7702951431274414,\n",
       "   0.769933819770813,\n",
       "   0.7695732712745667,\n",
       "   0.7692134380340576,\n",
       "   0.7688544988632202,\n",
       "   0.7684961557388306,\n",
       "   0.7681387662887573,\n",
       "   0.7677818536758423,\n",
       "   0.7674256563186646,\n",
       "   0.7670700550079346,\n",
       "   0.7667151689529419,\n",
       "   0.7663611173629761,\n",
       "   0.7660077810287476,\n",
       "   0.7656551003456116,\n",
       "   0.7653030753135681,\n",
       "   0.7649518847465515,\n",
       "   0.7646014094352722,\n",
       "   0.7642516493797302,\n",
       "   0.7639026045799255,\n",
       "   0.7635542154312134,\n",
       "   0.7632063627243042,\n",
       "   0.7628593444824219,\n",
       "   0.7625128030776978,\n",
       "   0.7621670961380005,\n",
       "   0.7618219256401062,\n",
       "   0.7614777088165283,\n",
       "   0.7611340880393982,\n",
       "   0.760791003704071,\n",
       "   0.7604490518569946,\n",
       "   0.7601072192192078,\n",
       "   0.7597665190696716,\n",
       "   0.7594263553619385,\n",
       "   0.7590867280960083,\n",
       "   0.7587481737136841,\n",
       "   0.7584100961685181,\n",
       "   0.7580727934837341,\n",
       "   0.7577362060546875,\n",
       "   0.7574002742767334,\n",
       "   0.7570651173591614,\n",
       "   0.7567304968833923,\n",
       "   0.7563965320587158,\n",
       "   0.7560632824897766,\n",
       "   0.7557307481765747,\n",
       "   0.7553987503051758,\n",
       "   0.7550674676895142,\n",
       "   0.7547369599342346,\n",
       "   0.7544071674346924,\n",
       "   0.7540778517723083,\n",
       "   0.753749430179596,\n",
       "   0.7534215450286865,\n",
       "   0.7530941963195801,\n",
       "   0.7527676820755005,\n",
       "   0.7524417042732239,\n",
       "   0.7521165609359741,\n",
       "   0.7517919540405273,\n",
       "   0.7514681816101074,\n",
       "   0.7511450052261353,\n",
       "   0.7508226037025452,\n",
       "   0.7505008578300476,\n",
       "   0.7501797080039978,\n",
       "   0.7498592138290405,\n",
       "   0.7495394349098206,\n",
       "   0.7492202520370483,\n",
       "   0.7489017844200134,\n",
       "   0.748583972454071,\n",
       "   0.7482668161392212,\n",
       "   0.7479502558708191,\n",
       "   0.7476342916488647,\n",
       "   0.7473191022872925,\n",
       "   0.7470046281814575,\n",
       "   0.7466905117034912,\n",
       "   0.7463771104812622,\n",
       "   0.746064305305481,\n",
       "   0.7457520365715027,\n",
       "   0.7454405426979065,\n",
       "   0.7451297044754028,\n",
       "   0.7448195219039917,\n",
       "   0.7445099353790283,\n",
       "   0.7442009449005127,\n",
       "   0.7438927888870239,\n",
       "   0.7435851097106934,\n",
       "   0.7432780861854553,\n",
       "   0.7429717183113098,\n",
       "   0.7426661252975464,\n",
       "   0.7423610091209412,\n",
       "   0.7420567274093628,\n",
       "   0.7417528033256531,\n",
       "   0.7414495944976807,\n",
       "   0.7411470413208008,\n",
       "   0.7408449649810791,\n",
       "   0.7405436635017395,\n",
       "   0.7402429580688477,\n",
       "   0.739942729473114,\n",
       "   0.7396432161331177,\n",
       "   0.7393443584442139,\n",
       "   0.7390459775924683,\n",
       "   0.7387483716011047,\n",
       "   0.7384511232376099,\n",
       "   0.7381545901298523,\n",
       "   0.7378586530685425,\n",
       "   0.73756343126297,\n",
       "   0.7372688055038452,\n",
       "   0.7369747161865234,\n",
       "   0.7366811037063599,\n",
       "   0.7363881468772888,\n",
       "   0.7360958456993103,\n",
       "   0.73580402135849,\n",
       "   0.7355130314826965,\n",
       "   0.7352224588394165,\n",
       "   0.7349326610565186,\n",
       "   0.7346433401107788,\n",
       "   0.7343546152114868,\n",
       "   0.7340666055679321,\n",
       "   0.7337790727615356,\n",
       "   0.7334922552108765,\n",
       "   0.7332056760787964,\n",
       "   0.7329201698303223,\n",
       "   0.7326349020004272,\n",
       "   0.7323504090309143,\n",
       "   0.7320663332939148,\n",
       "   0.7317829132080078,\n",
       "   0.731499969959259,\n",
       "   0.7312174439430237,\n",
       "   0.7309353947639465,\n",
       "   0.7306540608406067,\n",
       "   0.7303733229637146,\n",
       "   0.7300930023193359,\n",
       "   0.7298133969306946,\n",
       "   0.7295342087745667,\n",
       "   0.7292557954788208,\n",
       "   0.7289777994155884,\n",
       "   0.7287002801895142,\n",
       "   0.7284234762191772,\n",
       "   0.7281473875045776,\n",
       "   0.7278716564178467,\n",
       "   0.727596640586853,\n",
       "   0.7273222208023071,\n",
       "   0.7270480394363403,\n",
       "   0.7267746329307556,\n",
       "   0.7265017628669739,\n",
       "   0.7262293100357056,\n",
       "   0.725957453250885,\n",
       "   0.7256861925125122,\n",
       "   0.7254153490066528,\n",
       "   0.7251452207565308,\n",
       "   0.7248755693435669,\n",
       "   0.724606454372406,\n",
       "   0.7243376970291138,\n",
       "   0.7240695953369141,\n",
       "   0.7238019108772278,\n",
       "   0.7235347032546997,\n",
       "   0.7232681512832642,\n",
       "   0.7230020761489868,\n",
       "   0.7227365970611572,\n",
       "   0.7224714159965515,\n",
       "   0.7222067713737488,\n",
       "   0.7219426035881042,\n",
       "   0.7216790318489075,\n",
       "   0.7214158773422241,\n",
       "   0.7211532592773438,\n",
       "   0.720890998840332,\n",
       "   0.7206293344497681,\n",
       "   0.7203683257102966,\n",
       "   0.7201076149940491,\n",
       "   0.7198473215103149,\n",
       "   0.7195878028869629,\n",
       "   0.7193286418914795,\n",
       "   0.7190700769424438,\n",
       "   0.7188119888305664,\n",
       "   0.7185544371604919,\n",
       "   0.7182972431182861,\n",
       "   0.7180405855178833,\n",
       "   0.7177845239639282,\n",
       "   0.7175287008285522,\n",
       "   0.7172737121582031,\n",
       "   0.7170189619064331,\n",
       "   0.7167645692825317,\n",
       "   0.7165106534957886,\n",
       "   0.7162574529647827,\n",
       "   0.7160046100616455,\n",
       "   0.7157523036003113,\n",
       "   0.7155004739761353,\n",
       "   0.7152491807937622,\n",
       "   0.7149981260299683,\n",
       "   0.7147476077079773,\n",
       "   0.7144977450370789,\n",
       "   0.7142481803894043,\n",
       "   0.7139991521835327,\n",
       "   0.7137506604194641,\n",
       "   0.7135026454925537,\n",
       "   0.713254988193512,\n",
       "   0.7130079865455627,\n",
       "   0.7127614617347717,\n",
       "   0.7125152945518494,\n",
       "   0.71226966381073,\n",
       "   0.7120245695114136,\n",
       "   0.7117798328399658,\n",
       "   0.7115357518196106,\n",
       "   0.7112919092178345,\n",
       "   0.7110486030578613,\n",
       "   0.7108058333396912,\n",
       "   0.7105633020401001,\n",
       "   0.7103211283683777,\n",
       "   0.7100796699523926,\n",
       "   0.7098385691642761,\n",
       "   0.7095978260040283,\n",
       "   0.709357738494873,\n",
       "   0.7091177701950073,\n",
       "   0.7088786363601685,\n",
       "   0.7086397409439087,\n",
       "   0.7084013223648071,\n",
       "   0.7081633806228638,\n",
       "   0.7079258561134338,\n",
       "   0.7076889276504517,\n",
       "   0.7074522972106934,\n",
       "   0.707216203212738,\n",
       "   0.7069803476333618,\n",
       "   0.7067450284957886,\n",
       "   0.7065103054046631,\n",
       "   0.7062757611274719,\n",
       "   0.7060418725013733,\n",
       "   0.7058083415031433,\n",
       "   0.7055751085281372,\n",
       "   0.7053424119949341,\n",
       "   0.7051102519035339,\n",
       "   0.7048782110214233,\n",
       "   0.7046469449996948,\n",
       "   0.7044157385826111,\n",
       "   0.7041851282119751,\n",
       "   0.703954815864563,\n",
       "   0.7037250399589539,\n",
       "   0.7034956216812134,\n",
       "   0.7032665014266968,\n",
       "   0.7030378580093384,\n",
       "   0.7028096914291382,\n",
       "   0.7025818824768066,\n",
       "   0.702354371547699,\n",
       "   0.7021273970603943,\n",
       "   0.7019007802009583,\n",
       "   0.7016744017601013,\n",
       "   0.7014487385749817,\n",
       "   0.7012233138084412,\n",
       "   0.7009982466697693,\n",
       "   0.7007736563682556,\n",
       "   0.7005494832992554,\n",
       "   0.7003256678581238,\n",
       "   0.7001022696495056,\n",
       "   0.6998792886734009,\n",
       "   0.6996565461158752,\n",
       "   0.6994343400001526,\n",
       "   0.6992126703262329,\n",
       "   0.6989912390708923,\n",
       "   0.69877028465271,\n",
       "   0.6985496878623962,\n",
       "   0.698329508304596,\n",
       "   0.6981096267700195,\n",
       "   0.6978901624679565,\n",
       "   0.697671115398407,\n",
       "   0.6974526047706604,\n",
       "   0.697234034538269,\n",
       "   0.6970162987709045,\n",
       "   0.6967986822128296,\n",
       "   0.6965816020965576,\n",
       "   0.69636470079422,\n",
       "   0.696148157119751,\n",
       "   0.6959320306777954,\n",
       "   0.6957162618637085,\n",
       "   0.6955009698867798,\n",
       "   0.6952859163284302,\n",
       "   0.6950713396072388,\n",
       "   0.6948570013046265,\n",
       "   0.6946430802345276,\n",
       "   0.6944293975830078,\n",
       "   0.6942163109779358,\n",
       "   0.6940034627914429,\n",
       "   0.6937910318374634,\n",
       "   0.693578839302063,\n",
       "   0.6933668851852417,\n",
       "   0.6931554079055786,\n",
       "   0.6929444074630737,\n",
       "   0.692733645439148,\n",
       "   0.692523181438446,\n",
       "   0.6923130750656128,\n",
       "   0.692103385925293,\n",
       "   0.6918940544128418,\n",
       "   0.6916849613189697,\n",
       "   0.6914762258529663,\n",
       "   0.6912679076194763,\n",
       "   0.691059947013855,\n",
       "   0.6908523440361023,\n",
       "   0.6906450986862183,\n",
       "   0.6904381513595581,\n",
       "   0.6902316808700562,\n",
       "   0.6900254487991333,\n",
       "   0.6898195743560791,\n",
       "   0.689613938331604,\n",
       "   0.6894086003303528,\n",
       "   0.689203679561615,\n",
       "   0.6889991760253906,\n",
       "   0.6887948513031006,\n",
       "   0.6885910034179688,\n",
       "   0.6883872747421265,\n",
       "   0.6881841421127319,\n",
       "   0.687981128692627,\n",
       "   0.6877785325050354,\n",
       "   0.6875762939453125,\n",
       "   0.687374472618103,\n",
       "   0.6871730089187622,\n",
       "   0.6869715452194214,\n",
       "   0.6867705583572388,\n",
       "   0.6865699291229248,\n",
       "   0.6863694787025452,\n",
       "   0.6861695647239685,\n",
       "   0.6859697699546814,\n",
       "   0.6857703328132629,\n",
       "   0.6855713129043579,\n",
       "   0.6853725910186768,\n",
       "   0.6851741671562195,\n",
       "   0.6849759817123413,\n",
       "   0.6847781538963318,\n",
       "   0.6845805644989014,\n",
       "   0.6843835115432739,\n",
       "   0.6841866970062256,\n",
       "   0.6839902400970459,\n",
       "   0.6837939023971558,\n",
       "   0.6835979223251343,\n",
       "   0.6834022998809814,\n",
       "   0.6832069754600525,\n",
       "   0.6830118298530579,\n",
       "   0.6828171014785767,\n",
       "   0.6826226711273193,\n",
       "   0.6824285387992859,\n",
       "   0.6822347044944763,\n",
       "   0.6820412874221802,\n",
       "   0.6818479299545288,\n",
       "   0.68165522813797,\n",
       "   0.6814626455307007,\n",
       "   0.681270182132721,\n",
       "   0.6810780763626099,\n",
       "   0.680886447429657,\n",
       "   0.6806949377059937,\n",
       "   0.6805039644241333,\n",
       "   0.6803131103515625,\n",
       "   0.6801226735115051,\n",
       "   0.6799324750900269,\n",
       "   0.6797425746917725,\n",
       "   0.6795527338981628,\n",
       "   0.6793636083602905,\n",
       "   0.6791744232177734,\n",
       "   0.6789857745170593,\n",
       "   0.6787973642349243,\n",
       "   0.6786091923713684,\n",
       "   0.6784212589263916,\n",
       "   0.6782337427139282,\n",
       "   0.6780464053153992,\n",
       "   0.6778594255447388,\n",
       "   0.6776727437973022,\n",
       "   0.6774865388870239,\n",
       "   0.6773002743721008,\n",
       "   0.6771144270896912,\n",
       "   0.6769288778305054,\n",
       "   0.6767436265945435,\n",
       "   0.6765589118003845,\n",
       "   0.6763741374015808,\n",
       "   0.6761898994445801,\n",
       "   0.6760058403015137,\n",
       "   0.6758219003677368,\n",
       "   0.6756384968757629,\n",
       "   0.6754552721977234,\n",
       "   0.675272524356842,\n",
       "   0.6750898957252502,\n",
       "   0.6749075651168823,\n",
       "   0.6747254133224487,\n",
       "   0.6745437383651733,\n",
       "   0.674362301826477,\n",
       "   0.6741812229156494,\n",
       "   0.6740003228187561,\n",
       "   0.6738197803497314,\n",
       "   0.6736394166946411,\n",
       "   0.673459529876709,\n",
       "   0.6732797622680664,\n",
       "   0.673100471496582,\n",
       "   0.672921359539032,\n",
       "   0.6727425456047058,\n",
       "   0.6725638508796692,\n",
       "   0.6723858118057251,\n",
       "   0.6722079515457153,\n",
       "   0.6720303297042847,\n",
       "   0.6718531847000122,\n",
       "   0.6716761589050293,\n",
       "   0.6714996099472046,\n",
       "   0.6713232398033142,\n",
       "   0.6711471080780029,\n",
       "   0.6709712743759155,\n",
       "   0.6707960367202759,\n",
       "   0.6706209182739258,\n",
       "   0.6704461574554443,\n",
       "   0.6702715158462524,\n",
       "   0.6700974106788635,\n",
       "   0.6699236035346985,\n",
       "   0.6697498559951782,\n",
       "   0.6695766448974609,\n",
       "   0.6694037318229675,\n",
       "   0.6692310571670532,\n",
       "   0.6690586805343628,\n",
       "   0.6688865423202515,\n",
       "   0.6687147617340088,\n",
       "   0.6685433387756348,\n",
       "   0.6683722734451294,\n",
       "   0.668201208114624,\n",
       "   0.6680307984352112,\n",
       "   0.6678604483604431,\n",
       "   0.6676904559135437,\n",
       "   0.6675207614898682,\n",
       "   0.6673513650894165,\n",
       "   0.6671822667121887,\n",
       "   0.6670135259628296,\n",
       "   0.6668449640274048,\n",
       "   0.6666768789291382,\n",
       "   0.6665088534355164,\n",
       "   0.6663413047790527,\n",
       "   0.666174054145813,\n",
       "   0.6660070419311523,\n",
       "   0.6658402681350708,\n",
       "   0.6656739711761475,\n",
       "   0.6655077934265137,\n",
       "   0.6653419733047485,\n",
       "   0.665176510810852,\n",
       "   0.6650112271308899,\n",
       "   0.6648463010787964,\n",
       "   0.664681613445282,\n",
       "   0.6645171642303467,\n",
       "   0.6643531918525696,\n",
       "   0.6641892790794373,\n",
       "   0.6640257835388184,\n",
       "   0.663862407207489,\n",
       "   0.6636995673179626,\n",
       "   0.6635367274284363,\n",
       "   0.6633745431900024,\n",
       "   0.6632123589515686,\n",
       "   0.6630507111549377,\n",
       "   0.6628890633583069,\n",
       "   0.6627278327941895,\n",
       "   0.6625667810440063,\n",
       "   0.6624060869216919,\n",
       "   0.662245512008667,\n",
       "   0.6620854139328003,\n",
       "   ...],\n",
       "  'advr_2_valid': [1.1165324449539185,\n",
       "   0.7689704895019531,\n",
       "   0.7482119798660278,\n",
       "   0.742870032787323,\n",
       "   0.7397288084030151,\n",
       "   0.7381027936935425,\n",
       "   0.738282322883606,\n",
       "   0.7369711399078369,\n",
       "   0.7362047433853149,\n",
       "   0.7356147766113281,\n",
       "   0.7351267337799072]}}"
      ]
     },
     "execution_count": 23,
     "metadata": {},
     "output_type": "execute_result"
    }
   ],
   "source": [
    "auto_1"
   ]
  },
  {
   "cell_type": "code",
   "execution_count": null,
   "metadata": {},
   "outputs": [],
   "source": []
  }
 ],
 "metadata": {
  "kernelspec": {
   "display_name": "Python 3",
   "language": "python",
   "name": "python3"
  },
  "language_info": {
   "codemirror_mode": {
    "name": "ipython",
    "version": 3
   },
   "file_extension": ".py",
   "mimetype": "text/x-python",
   "name": "python",
   "nbconvert_exporter": "python",
   "pygments_lexer": "ipython3",
   "version": "3.6.8"
  }
 },
 "nbformat": 4,
 "nbformat_minor": 2
}
