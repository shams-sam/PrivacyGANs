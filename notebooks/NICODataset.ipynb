{
 "cells": [
  {
   "cell_type": "markdown",
   "metadata": {},
   "source": [
    "# Imports"
   ]
  },
  {
   "cell_type": "code",
   "execution_count": 1,
   "metadata": {},
   "outputs": [],
   "source": [
    "from collections import defaultdict\n",
    "import matplotlib.pyplot as plt\n",
    "import numpy as np\n",
    "import os\n",
    "import pandas as pd\n",
    "import pickle as pkl\n",
    "from sklearn.preprocessing import LabelEncoder"
   ]
  },
  {
   "cell_type": "markdown",
   "metadata": {},
   "source": [
    "# Path Variables"
   ]
  },
  {
   "cell_type": "code",
   "execution_count": 2,
   "metadata": {},
   "outputs": [],
   "source": [
    "DATAPATH = '/data/NICO/'\n",
    "ANIMALPATH = os.path.join(DATAPATH, 'Animal')\n",
    "VEHICLEPATH = os.path.join(DATAPATH, 'Vehicle')\n",
    "PATHS = {'Animal': ANIMALPATH, 'Vehicle': VEHICLEPATH}"
   ]
  },
  {
   "cell_type": "markdown",
   "metadata": {},
   "source": [
    "# Data Preparation"
   ]
  },
  {
   "cell_type": "code",
   "execution_count": 6,
   "metadata": {},
   "outputs": [
    {
     "name": "stdout",
     "output_type": "stream",
     "text": [
      "Animal\n",
      "classes: 10\t contexts: 33\n",
      "Vehicle\n",
      "classes: 9\t contexts: 39\n"
     ]
    }
   ],
   "source": [
    "classes = {_: set() for _ in PATHS.keys()}\n",
    "contexts = {_: set() for _ in PATHS.keys()}\n",
    "for _, path in PATHS.items():\n",
    "    print(_)\n",
    "    key = path.split('/')[-1]\n",
    "    for _ in os.listdir(path):\n",
    "        classes[key].add(_)\n",
    "        for __ in os.listdir(os.path.join(path, _)):\n",
    "            contexts[key].add(__)\n",
    "    print(\"classes: {}\\t contexts: {}\".format(len(classes[key]), len(contexts[key])))"
   ]
  },
  {
   "cell_type": "code",
   "execution_count": 7,
   "metadata": {},
   "outputs": [],
   "source": [
    "df = {}\n",
    "for idx in PATHS:\n",
    "    df[idx] = pd.DataFrame(index=contexts[idx], columns=classes[idx], \n",
    "                           data=np.zeros((len(contexts[idx]), len(classes[idx]))), dtype=int)"
   ]
  },
  {
   "cell_type": "code",
   "execution_count": 8,
   "metadata": {},
   "outputs": [],
   "source": [
    "for key, path in PATHS.items():\n",
    "    for _ in os.listdir(path):\n",
    "        for __ in os.listdir(os.path.join(path, _)):\n",
    "            df[key].at[__, _] = 1"
   ]
  },
  {
   "cell_type": "code",
   "execution_count": 9,
   "metadata": {},
   "outputs": [],
   "source": [
    "for idx, _  in df.items():\n",
    "    _['total'] = _.values.sum(axis=1)"
   ]
  },
  {
   "cell_type": "code",
   "execution_count": 15,
   "metadata": {
    "scrolled": false
   },
   "outputs": [
    {
     "name": "stdout",
     "output_type": "stream",
     "text": [
      "Animal - train: 10 valid: 23\n",
      "Vehicle - train: 9 valid: 30\n"
     ]
    }
   ],
   "source": [
    "THRESHOLD = 4\n",
    "train_contexts = {_: [] for _ in PATHS}\n",
    "valid_contexts = {_: [] for _ in PATHS}\n",
    "for idx in PATHS:\n",
    "    for _ in df[idx].itertuples():\n",
    "        if _.total >= THRESHOLD:\n",
    "            train_contexts[idx].append(_.Index)\n",
    "        else:\n",
    "            valid_contexts[idx].append(_.Index)\n",
    "    print('{} - train: {} valid: {}'.format(idx, len(train_contexts[idx]), len(valid_contexts[idx])))"
   ]
  },
  {
   "cell_type": "code",
   "execution_count": 16,
   "metadata": {},
   "outputs": [
    {
     "name": "stdout",
     "output_type": "stream",
     "text": [
      "Animal\n"
     ]
    },
    {
     "data": {
      "text/plain": [
       "(8511, 8511, 8511, 4309, 4309, 4309)"
      ]
     },
     "execution_count": 16,
     "metadata": {},
     "output_type": "execute_result"
    }
   ],
   "source": [
    "X_path_train = []\n",
    "X_path_valid = []\n",
    "y_cls_train = []\n",
    "y_cls_valid = []\n",
    "y_cxt_train = []\n",
    "y_cxt_valid = []\n",
    "for key, path in PATHS.items():\n",
    "    print(key)\n",
    "    for cls in os.listdir(path):\n",
    "        for cxt in os.listdir(os.path.join(path, cls)):\n",
    "            for file in os.listdir(os.path.join(path, cls, cxt)):\n",
    "                if cxt in train_contexts[key]:\n",
    "                    X_path_train.append(os.path.join(path, cls, cxt, file))\n",
    "                    y_cls_train.append(cls)\n",
    "                    y_cxt_train.append(cxt)\n",
    "                elif cxt in valid_contexts[key]:\n",
    "                    X_path_valid.append(os.path.join(path, cls, cxt, file))\n",
    "                    y_cls_valid.append(cls)\n",
    "                    y_cxt_valid.append(cxt)\n",
    "    break\n",
    "len(X_path_train), len(y_cls_train), len(y_cxt_train), len(X_path_valid), len(y_cls_valid), len(y_cxt_valid)"
   ]
  },
  {
   "cell_type": "code",
   "execution_count": 17,
   "metadata": {},
   "outputs": [],
   "source": [
    "cls_encoder = LabelEncoder()\n",
    "y_cls_train = cls_encoder.fit_transform(y_cls_train)\n",
    "y_cls_valid = cls_encoder.transform(y_cls_valid)\n",
    "cxt_encoder = LabelEncoder()\n",
    "y_cxt_train = cxt_encoder.fit_transform(y_cxt_train)"
   ]
  },
  {
   "cell_type": "code",
   "execution_count": 18,
   "metadata": {},
   "outputs": [
    {
     "data": {
      "image/png": "[encoded data removed]",
      "text/plain": [
       "<Figure size 864x216 with 3 Axes>"
      ]
     },
     "metadata": {
      "needs_background": "light"
     },
     "output_type": "display_data"
    }
   ],
   "source": [
    "fig = plt.figure(figsize=(12,3))\n",
    "ax1 = plt.subplot(131)\n",
    "ax1.bar(np.unique(y_cls_train), np.bincount(y_cls_train), color='b')\n",
    "ax1.set_title('train classes')\n",
    "ax1 = plt.subplot(132)\n",
    "ax1.bar(np.unique(y_cls_train), np.bincount(y_cls_valid), color='b')\n",
    "ax1.set_title('valid classes')\n",
    "ax1 = plt.subplot(133)\n",
    "ax1.bar(np.unique(y_cxt_train), np.bincount(y_cxt_train), color='b')\n",
    "ax1.set_title('train context')\n",
    "plt.show()"
   ]
  },
  {
   "cell_type": "markdown",
   "metadata": {},
   "source": [
    "# Pickle"
   ]
  },
  {
   "cell_type": "code",
   "execution_count": 19,
   "metadata": {},
   "outputs": [],
   "source": [
    "pkl.dump((X_path_train, X_path_valid, \n",
    "         y_cls_train, y_cls_valid,\n",
    "         y_cxt_train, y_cxt_valid), open('../checkpoints/nico/dataset_animal.pkl', 'wb'))"
   ]
  },
  {
   "cell_type": "code",
   "execution_count": 20,
   "metadata": {},
   "outputs": [],
   "source": [
    "import tqdm"
   ]
  },
  {
   "cell_type": "code",
   "execution_count": 25,
   "metadata": {},
   "outputs": [
    {
     "name": "stderr",
     "output_type": "stream",
     "text": [
      "                                      \r"
     ]
    }
   ],
   "source": [
    "for i in range(2):\n",
    "    for _ in tqdm.tqdm(range(10), leave=False):\n",
    "        continue"
   ]
  },
  {
   "cell_type": "code",
   "execution_count": null,
   "metadata": {},
   "outputs": [],
   "source": []
  }
 ],
 "metadata": {
  "kernelspec": {
   "display_name": "Python 3",
   "language": "python",
   "name": "python3"
  },
  "language_info": {
   "codemirror_mode": {
    "name": "ipython",
    "version": 3
   },
   "file_extension": ".py",
   "mimetype": "text/x-python",
   "name": "python",
   "nbconvert_exporter": "python",
   "pygments_lexer": "ipython3",
   "version": "3.6.9"
  }
 },
 "nbformat": 4,
 "nbformat_minor": 4
}
