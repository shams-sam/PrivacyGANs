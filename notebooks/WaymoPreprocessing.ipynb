{
 "cells": [
  {
   "cell_type": "code",
   "execution_count": null,
   "metadata": {},
   "outputs": [],
   "source": [
    "from collections import defaultdict\n",
    "from matplotlib.patches import Rectangle\n",
    "import matplotlib.pyplot as plt\n",
    "import numpy as np\n",
    "import os\n",
    "from PIL import Image\n",
    "from tqdm import tqdm_notebook as tqdm"
   ]
  },
  {
   "cell_type": "code",
   "execution_count": null,
   "metadata": {},
   "outputs": [],
   "source": [
    "DATAPATH = '/data/Waymo'\n",
    "LABEL_FILE = os.path.join(DATAPATH, 'dataset.txt')\n",
    "IMAGE_PATH = os.path.join(DATAPATH, 'data')\n",
    "\n",
    "TRAIN_PATH = os.path.join(DATAPATH, '128x128/train')\n",
    "TEST_PATH = os.path.join(DATAPATH, '128x128/valid')\n",
    "NEW_SIZE = 128, 128\n",
    "OLD_SIZE = 1920, 1280"
   ]
  },
  {
   "cell_type": "markdown",
   "metadata": {},
   "source": [
    "## Create Dataset"
   ]
  },
  {
   "cell_type": "code",
   "execution_count": null,
   "metadata": {},
   "outputs": [],
   "source": [
    "def rand_num():\n",
    "    return np.random.randint(1, 11)"
   ]
  },
  {
   "cell_type": "code",
   "execution_count": null,
   "metadata": {},
   "outputs": [],
   "source": [
    "for _ in os.listdir(TEST_PATH + '/yolov3_0'):\n",
    "    with open(os.path.join(TEST_PATH, 'yolov3_0', _)) as file:\n",
    "        count = 0\n",
    "        for _ in file:\n",
    "            count += 1\n",
    "        if count == 0:\n",
    "            print ('rm ' + _)"
   ]
  },
  {
   "cell_type": "code",
   "execution_count": null,
   "metadata": {},
   "outputs": [],
   "source": [
    "for _ in os.listdir(TEST_PATH + '/yolov3_0'):\n",
    "    with open(os.path.join(TEST_PATH, 'yolov3_0', _)) as file:\n",
    "        count = 0\n",
    "        for _ in file:\n",
    "            count += 1\n",
    "        if count == 0:\n",
    "            print ('rm ' + _.replace('txt', 'jpg'))"
   ]
  },
  {
   "cell_type": "code",
   "execution_count": null,
   "metadata": {
    "scrolled": true
   },
   "outputs": [],
   "source": [
    "with open(LABEL_FILE, 'r') as file:\n",
    "    length = OLD_SIZE[0]\n",
    "    height = OLD_SIZE[1]\n",
    "    for line in tqdm(file):\n",
    "        line = line[:-1]\n",
    "        line = line.split(' ')\n",
    "        file = line[0]\n",
    "        filename = file.split('.')[0]\n",
    "        annotations = line[1:]\n",
    "        filepath = os.path.join(IMAGE_PATH, file)\n",
    "        image = Image.open(filepath)\n",
    "        size = image.size\n",
    "        if size == OLD_SIZE:\n",
    "            FILE_PATH = TRAIN_PATH\n",
    "            if rand_num() > 8:\n",
    "                FILE_PATH = TEST_PATH\n",
    "            image = image.resize(NEW_SIZE)\n",
    "            label_file = os.path.join(FILE_PATH, 'yolov3/{}.txt'.format(filename))\n",
    "            with open(label_file, 'w') as file:\n",
    "                for ann in annotations:\n",
    "                    ann = ann.split(',')\n",
    "                    ann[:-1] = map(float, ann[:-1])\n",
    "                    x, y, w, h = ann[0]/length, ann[1]/height, ann[2]/length, ann[3]/height\n",
    "                    file.write('{} {} {} {} {}\\n'.format(ann[-1], x, y, w, h))\n",
    "            image_file = os.path.join(FILE_PATH, 'images/{}.jpg'.format(filename))\n",
    "            image.save(image_file)"
   ]
  },
  {
   "cell_type": "code",
   "execution_count": null,
   "metadata": {},
   "outputs": [],
   "source": []
  },
  {
   "cell_type": "markdown",
   "metadata": {},
   "source": [
    "## Check Class Priors"
   ]
  },
  {
   "cell_type": "code",
   "execution_count": null,
   "metadata": {},
   "outputs": [],
   "source": [
    "class_counts = {'0': 0, '1': 0, '2': 0, '3': 0, '4': 0}\n",
    "for file in os.listdir(os.path.join(TRAIN_PATH, 'yolov3')):\n",
    "    with open(os.path.join(TRAIN_PATH, 'yolov3', file), 'r') as file_io:\n",
    "        for line in file_io:\n",
    "            class_name = line.split(' ')[0]\n",
    "            class_counts[class_name] += 1\n",
    "class_counts"
   ]
  },
  {
   "cell_type": "code",
   "execution_count": null,
   "metadata": {},
   "outputs": [],
   "source": [
    "class_counts = {'0':0, '1': 0, '2': 0, '3': 0, '4': 0}\n",
    "for file in os.listdir(os.path.join(TEST_PATH, 'yolov3')):\n",
    "    with open(os.path.join(TEST_PATH, 'yolov3', file), 'r') as file_io:\n",
    "        for line in file_io:\n",
    "            class_name = line.split(' ')[0]\n",
    "            class_counts[class_name] += 1\n",
    "class_counts"
   ]
  },
  {
   "cell_type": "markdown",
   "metadata": {},
   "source": [
    "## Split Labels Files"
   ]
  },
  {
   "cell_type": "code",
   "execution_count": null,
   "metadata": {},
   "outputs": [],
   "source": [
    "len(os.listdir(TRAIN_PATH)), len(os.listdir(TEST_PATH))"
   ]
  },
  {
   "cell_type": "code",
   "execution_count": null,
   "metadata": {},
   "outputs": [],
   "source": [
    "for FILE_PATH in [TRAIN_PATH, TEST_PATH]:\n",
    "    for file in os.listdir(os.path.join(FILE_PATH, 'yolov3')):\n",
    "        file_name, extension = file.split('.')\n",
    "        with open(os.path.join(FILE_PATH, 'yolov3', file), 'r') as file_r:\n",
    "            file_0 = open(os.path.join(FILE_PATH, 'yolov3_0/{}.txt'.format(file_name)), 'w')\n",
    "            file_1 = open(os.path.join(FILE_PATH, 'yolov3_1/{}.txt'.format(file_name)), 'w')\n",
    "            for line in file_r:\n",
    "                if line.split(' ')[0] == '1':\n",
    "                    line = line.split(' ')\n",
    "                    line[0] = '0'\n",
    "                    line = ' '.join(line)\n",
    "                    file_1.write(line)\n",
    "                elif line.split(' ')[0] == '2':\n",
    "                    line = line.split(' ')\n",
    "                    line[0] = '0'\n",
    "                    line = ' '.join(line)\n",
    "                    file_0.write(line)\n",
    "            file_0.close()\n",
    "            file_1.close()"
   ]
  },
  {
   "cell_type": "code",
   "execution_count": null,
   "metadata": {},
   "outputs": [],
   "source": [
    "len(os.listdir(TRAIN_PATH)), len(os.listdir(TEST_PATH))"
   ]
  },
  {
   "cell_type": "markdown",
   "metadata": {},
   "source": [
    "## Create train and valid txt"
   ]
  },
  {
   "cell_type": "code",
   "execution_count": null,
   "metadata": {},
   "outputs": [],
   "source": [
    "with open(os.path.join(DATAPATH, '128x128/train.txt'), 'w') as file:\n",
    "    for image_file in os.listdir(os.path.join(TRAIN_PATH, 'images')):\n",
    "        file.write('{}/128x128/train/images/{}\\n'.format(DATAPATH, image_file))"
   ]
  },
  {
   "cell_type": "code",
   "execution_count": null,
   "metadata": {},
   "outputs": [],
   "source": [
    "with open(os.path.join(DATAPATH, '128x128/valid.txt'), 'w') as file:\n",
    "    for image_file in os.listdir(os.path.join(TEST_PATH, 'images')):\n",
    "        file.write('{}/128x128/valid/images/{}\\n'.format(DATAPATH, image_file))"
   ]
  },
  {
   "cell_type": "markdown",
   "metadata": {},
   "source": [
    "## Validate an Image"
   ]
  },
  {
   "cell_type": "code",
   "execution_count": null,
   "metadata": {},
   "outputs": [],
   "source": [
    "test_image = [_ for _ in os.listdir(os.path.join(TRAIN_PATH, 'images'))][np.random.randint(0, 5000)]"
   ]
  },
  {
   "cell_type": "code",
   "execution_count": null,
   "metadata": {},
   "outputs": [],
   "source": [
    "image = Image.open(os.path.join(TRAIN_PATH, 'images', test_image))\n",
    "image = np.array(image)"
   ]
  },
  {
   "cell_type": "code",
   "execution_count": null,
   "metadata": {},
   "outputs": [],
   "source": [
    "test_image"
   ]
  },
  {
   "cell_type": "code",
   "execution_count": null,
   "metadata": {},
   "outputs": [],
   "source": [
    "filename = test_image.split('.')[0]\n",
    "file0 = open(os.path.join(TRAIN_PATH, 'yolov3_0/{}.txt'.format(filename)))\n",
    "file1 = open(os.path.join(TRAIN_PATH, 'yolov3_1/{}.txt'.format(filename)))\n",
    "fig = plt.figure()\n",
    "ax = fig.add_subplot(111)\n",
    "ax.imshow(image)\n",
    "ax.grid(False)\n",
    "ax.axis('off')\n",
    "for line in file0:\n",
    "    x, y, h, w = [_*NEW_SIZE[1] for _ in list(map(float, line.split(' ')[1:]))]\n",
    "    ax.add_patch(\n",
    "        Rectangle(\n",
    "            (x-h/2, y-w/2), \n",
    "            h, \n",
    "            w,\n",
    "            linewidth=2,edgecolor='y',facecolor='none'\n",
    "        )\n",
    "    )\n",
    "for line in file1:\n",
    "    x, y, h, w = [_*NEW_SIZE[1] for _ in list(map(float, line.split(' ')[1:]))]\n",
    "    ax.add_patch(\n",
    "        Rectangle(\n",
    "            (x-h/2, y-w/2), \n",
    "            h, \n",
    "            w,\n",
    "            linewidth=2,edgecolor='r',facecolor='none'\n",
    "        )\n",
    "    )\n",
    "file0.close()\n",
    "file1.close()\n",
    "plt.show()"
   ]
  },
  {
   "cell_type": "code",
   "execution_count": null,
   "metadata": {},
   "outputs": [],
   "source": [
    "ORIG_DATA = os.path.join(DATAPATH, 'data')\n",
    "image = Image.open(os.path.join(ORIG_DATA, test_image))\n",
    "image = np.array(image)"
   ]
  },
  {
   "cell_type": "code",
   "execution_count": null,
   "metadata": {},
   "outputs": [],
   "source": [
    "filename = test_image.split('.')[0]\n",
    "file0 = open(os.path.join(TRAIN_PATH, 'yolov3_0/{}.txt'.format(filename)))\n",
    "file1 = open(os.path.join(TRAIN_PATH, 'yolov3_1/{}.txt'.format(filename)))\n",
    "fig = plt.figure()\n",
    "ax = fig.add_subplot(111)\n",
    "ax.imshow(image)\n",
    "ax.grid(False)\n",
    "ax.axis('off')\n",
    "for line in file0:\n",
    "    x, y, h, w = [_ for _ in list(map(float, line.split(' ')[1:]))]\n",
    "    x, y, h, w = x*OLD_SIZE[0], y*OLD_SIZE[1], h*OLD_SIZE[0], w*OLD_SIZE[1]\n",
    "    ax.add_patch(\n",
    "        Rectangle(\n",
    "            (x-h/2, y-h/2), \n",
    "            h, \n",
    "            w,\n",
    "            linewidth=2,edgecolor='y',facecolor='none'\n",
    "        )\n",
    "    )\n",
    "for line in file1:\n",
    "    x, y, h, w = [_ for _ in list(map(float, line.split(' ')[1:]))]\n",
    "    x, y, h, w = x*OLD_SIZE[0], y*OLD_SIZE[1], h*OLD_SIZE[0], w*OLD_SIZE[1]\n",
    "    ax.add_patch(\n",
    "        Rectangle(\n",
    "            (x-h/2, y-w/2), \n",
    "            h, \n",
    "            w,\n",
    "            linewidth=2,edgecolor='r',facecolor='none'\n",
    "        )\n",
    "    )\n",
    "file0.close()\n",
    "file1.close()\n",
    "plt.show()"
   ]
  },
  {
   "cell_type": "code",
   "execution_count": null,
   "metadata": {},
   "outputs": [],
   "source": []
  }
 ],
 "metadata": {
  "kernelspec": {
   "display_name": "Python 3",
   "language": "python",
   "name": "python3"
  },
  "language_info": {
   "codemirror_mode": {
    "name": "ipython",
    "version": 3
   },
   "file_extension": ".py",
   "mimetype": "text/x-python",
   "name": "python",
   "nbconvert_exporter": "python",
   "pygments_lexer": "ipython3",
   "version": "3.6.9"
  }
 },
 "nbformat": 4,
 "nbformat_minor": 4
}
