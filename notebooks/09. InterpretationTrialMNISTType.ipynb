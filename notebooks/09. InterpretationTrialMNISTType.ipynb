{
 "cells": [
  {
   "cell_type": "markdown",
   "metadata": {},
   "source": [
    "# Imports and Data Generation"
   ]
  },
  {
   "cell_type": "code",
   "execution_count": 1,
   "metadata": {},
   "outputs": [],
   "source": [
    "import numpy as np\n",
    "import matplotlib.pyplot as plt\n",
    "from sklearn.manifold import TSNE\n",
    "from sklearn.decomposition import PCA"
   ]
  },
  {
   "cell_type": "code",
   "execution_count": 49,
   "metadata": {},
   "outputs": [
    {
     "data": {
      "text/plain": [
       "((20, 2), (20, 1), (20, 1), (20, 1))"
      ]
     },
     "execution_count": 49,
     "metadata": {},
     "output_type": "execute_result"
    }
   ],
   "source": [
    "X = np.array([\n",
    "    [1, 1],[1, 2],\n",
    "    [2, 1],[2, 2],\n",
    "    [3, 1],[3, 2],\n",
    "    [4, 1],[4, 2],\n",
    "    [5, 1],[5, 2],\n",
    "    [6, 1],[6, 2],\n",
    "    [7, 1],[7, 2],\n",
    "    [8, 1],[8, 2],\n",
    "    [9, 1],[9, 2],\n",
    "    [10, 1],[10, 2],\n",
    "])\n",
    "\n",
    "y_ally = np.array([0, 0, 1, 1, 0, 0, 1, 1, 0, 0, 1, 1, 0, 0, 1, 1, 0, 0, 1, 1]).reshape(-1, 1)\n",
    "y_advr = np.array([0, 0, 1, 1, 2, 2, 3, 3, 4, 4, 5, 5, 6, 6, 7, 7, 8, 8, 9, 9]).reshape(-1, 1)\n",
    "y_advr_2 = np.array([0, 0, 0, 0, 0, 0, 0, 0, 0, 0, 1, 1, 1, 1, 1, 1, 1, 1, 1, 1]).reshape(-1, 1)\n",
    "\n",
    "X.shape, y_ally.shape, y_advr.shape, y_advr_2.shape"
   ]
  },
  {
   "cell_type": "code",
   "execution_count": 66,
   "metadata": {},
   "outputs": [
    {
     "data": {
      "text/plain": [
       "array([[1. , 0.2],\n",
       "       [0.2, 1. ]])"
      ]
     },
     "execution_count": 66,
     "metadata": {},
     "output_type": "execute_result"
    }
   ],
   "source": [
    "np.corrcoef(y_ally.reshape(-1), y_advr.reshape(-1))\n",
    "np.corrcoef(y_ally.reshape(-1), y_advr_2.reshape(-1))"
   ]
  },
  {
   "cell_type": "code",
   "execution_count": 50,
   "metadata": {},
   "outputs": [
    {
     "data": {
      "text/plain": [
       "<matplotlib.collections.PathCollection at 0x7fc286ec5f28>"
      ]
     },
     "execution_count": 50,
     "metadata": {},
     "output_type": "execute_result"
    },
    {
     "data": {
      "image/png": "[encoded data removed]",
      "text/plain": [
       "<Figure size 432x288 with 1 Axes>"
      ]
     },
     "metadata": {
      "needs_background": "light"
     },
     "output_type": "display_data"
    }
   ],
   "source": [
    "plt.scatter(X[:, 0], X[:, 1])"
   ]
  },
  {
   "cell_type": "markdown",
   "metadata": {},
   "source": [
    "# Utility"
   ]
  },
  {
   "cell_type": "code",
   "execution_count": 51,
   "metadata": {},
   "outputs": [],
   "source": [
    "def class_plot(X_input, aspect=True, title=False, orig=True, save=False):\n",
    "    X_tsne = TSNE(n_components=2).fit_transform(X_input)\n",
    "    X_pca = PCA(n_components=2).fit_transform(X_input)\n",
    "    colors = ['r', 'b']\n",
    "    markers = ['o', 'x', 'o', 'x']\n",
    "    \n",
    "    if orig:\n",
    "        fig, (ax3, ax1, ax2) = plt.subplots(1, 3, figsize=(10, 3))\n",
    "        t3, t1, t2 = '(a)', '(b)', '(c)'\n",
    "    else:\n",
    "        fig, (ax1, ax2) = plt.subplots(1, 2, figsize=(7, 3))\n",
    "        t1, t2 = '(a)', '(b)'\n",
    "    if orig:\n",
    "        for i in range(2):\n",
    "            for j in range(10):\n",
    "                tmp = X_input[np.intersect1d(np.where(y_ally == i)[0], np.where(y_advr == j)[0])]\n",
    "                ax3.scatter(tmp[:, 0], tmp[:, 1], c=colors[i], marker=markers[2*i+j])\n",
    "        ax3.axis('equal')\n",
    "        ax3.set_title(t3, y=-0.2)\n",
    "\n",
    "    for i in range(2):\n",
    "        for j in range(2):\n",
    "            tmp = X[np.intersect1d(np.where(y_ally == i)[0], np.where(y_advr_2 == j)[0])]\n",
    "            ax1.scatter(tmp[:, 0], tmp[:, 1], c=colors[i], marker=markers[2*i+j])\n",
    "    ax1.axis('equal')\n",
    "    ax1.set_title(t1, y=-0.2)\n",
    "\n",
    "    for i in range(2):\n",
    "        for j in range(2):\n",
    "            tmp = X_pca[np.intersect1d(np.where(y_ally == i)[0], np.where(y_advr_2 == j)[0])]\n",
    "            ax2.scatter(tmp[:, 0], tmp[:, 1], c=colors[i], marker=markers[2*i+j])\n",
    "    ax2.axis('equal')\n",
    "    ax2.set_title(t2, y= -0.2)\n",
    "    if save:\n",
    "        plt.savefig(save, dpi=300)\n",
    "    else:\n",
    "        plt.show()"
   ]
  },
  {
   "cell_type": "code",
   "execution_count": 52,
   "metadata": {},
   "outputs": [
    {
     "data": {
      "image/png": "[encoded data removed]",
      "text/plain": [
       "<Figure size 504x216 with 2 Axes>"
      ]
     },
     "metadata": {
      "needs_background": "light"
     },
     "output_type": "display_data"
    }
   ],
   "source": [
    "class_plot(X, orig=False)"
   ]
  },
  {
   "cell_type": "markdown",
   "metadata": {},
   "source": [
    "### Idea\n",
    "\n",
    "Basically we are trying to learn represenations of any given data in another transformed axes where classification becomes easier along one label but becomes tougher along another one.\n",
    "\n",
    "- Here we want to differentiate between the two circles while not being able to tell between the two semicircles"
   ]
  },
  {
   "cell_type": "code",
   "execution_count": 53,
   "metadata": {},
   "outputs": [],
   "source": [
    "from sklearn.preprocessing import MinMaxScaler\n",
    "\n",
    "scaler = MinMaxScaler()\n",
    "X_normalized = scaler.fit_transform(X)"
   ]
  },
  {
   "cell_type": "markdown",
   "metadata": {},
   "source": [
    "### Validation after scaling"
   ]
  },
  {
   "cell_type": "code",
   "execution_count": 54,
   "metadata": {},
   "outputs": [
    {
     "data": {
      "image/png": "[encoded data removed]",
      "text/plain": [
       "<Figure size 504x216 with 2 Axes>"
      ]
     },
     "metadata": {
      "needs_background": "light"
     },
     "output_type": "display_data"
    }
   ],
   "source": [
    "class_plot(X_normalized, title=\"Original Dataset\", orig=False)"
   ]
  },
  {
   "cell_type": "markdown",
   "metadata": {},
   "source": [
    "# PCA"
   ]
  },
  {
   "cell_type": "code",
   "execution_count": 55,
   "metadata": {},
   "outputs": [],
   "source": [
    "from sklearn.decomposition import PCA\n",
    "\n",
    "pca = PCA()\n",
    "X_pca = pca.fit_transform(X_normalized)"
   ]
  },
  {
   "cell_type": "code",
   "execution_count": 56,
   "metadata": {},
   "outputs": [
    {
     "data": {
      "image/png": "[encoded data removed]",
      "text/plain": [
       "<Figure size 504x216 with 2 Axes>"
      ]
     },
     "metadata": {
      "needs_background": "light"
     },
     "output_type": "display_data"
    }
   ],
   "source": [
    "class_plot(X_pca, title='PCA Represenation', orig=False)"
   ]
  },
  {
   "cell_type": "markdown",
   "metadata": {},
   "source": [
    "# AutoEncoder"
   ]
  },
  {
   "cell_type": "code",
   "execution_count": 28,
   "metadata": {},
   "outputs": [],
   "source": [
    "import torch"
   ]
  },
  {
   "cell_type": "code",
   "execution_count": 151,
   "metadata": {},
   "outputs": [],
   "source": [
    "class AutoEncoder(torch.nn.Module):\n",
    "    def __init__(self, input_size, encoding_dim, hidden_size):\n",
    "        super(AutoEncoder, self).__init__()\n",
    "        self.input_size = input_size\n",
    "        self.encoding_dim = encoding_dim\n",
    "        self.hidden_size = hidden_size\n",
    "        \n",
    "        self.fc1 = torch.nn.Linear(self.input_size, self.hidden_size)\n",
    "        self.relu = torch.nn.ReLU()\n",
    "        \n",
    "        self.fc11 = torch.nn.Linear(self.hidden_size, self.encoding_dim)\n",
    "        self.relu = torch.nn.ReLU()\n",
    "        \n",
    "        self.fc2 = torch.nn.Linear(self.encoding_dim, self.hidden_size)\n",
    "        self.sigmoid = torch.nn.Sigmoid()\n",
    "        \n",
    "        \n",
    "        self.fc22 = torch.nn.Linear(self.hidden_size, self.input_size)\n",
    "        self.sigmoid = torch.nn.Sigmoid()\n",
    "        \n",
    "    def encoder(self, x):\n",
    "        return self.sigmoid(self.fc11(self.sigmoid(self.fc1(x))))\n",
    "\n",
    "    def decoder(self, y):\n",
    "        return self.sigmoid(self.fc22(self.sigmoid(self.fc2(y))))\n",
    "    \n",
    "    def forward(self, x):\n",
    "        y = self.encoder(x)\n",
    "        x = self.decoder(y)\n",
    "        return x"
   ]
  },
  {
   "cell_type": "code",
   "execution_count": 152,
   "metadata": {},
   "outputs": [],
   "source": [
    "auto_encoder = AutoEncoder(\n",
    "    input_size=X_normalized.shape[1],\n",
    "    encoding_dim=X_normalized.shape[1], \n",
    "    hidden_size=X_normalized.shape[1]*2\n",
    ")\n",
    "\n",
    "criterion = torch.nn.MSELoss()\n",
    "optimizer = torch.optim.Adam\n",
    "ae_optimizer = optimizer(auto_encoder.parameters(), lr = 0.01)"
   ]
  },
  {
   "cell_type": "code",
   "execution_count": 29,
   "metadata": {},
   "outputs": [],
   "source": [
    "from common.utility import to_categorical"
   ]
  },
  {
   "cell_type": "code",
   "execution_count": 57,
   "metadata": {},
   "outputs": [
    {
     "data": {
      "text/plain": [
       "(torch.Size([20, 2]),\n",
       " torch.Size([20, 1]),\n",
       " torch.Size([20, 10]),\n",
       " torch.Size([20, 1]))"
      ]
     },
     "execution_count": 57,
     "metadata": {},
     "output_type": "execute_result"
    }
   ],
   "source": [
    "X_torch = torch.Tensor(X_normalized)\n",
    "y_ally_torch = torch.Tensor(y_ally.reshape(-1, 1))\n",
    "y_advr_torch = torch.Tensor(to_categorical(y_advr.reshape(-1, 1)))\n",
    "y_advr_2_torch = torch.Tensor(y_advr_2.reshape(-1, 1))\n",
    "X_torch.shape, y_ally_torch.shape, y_advr_torch.shape, y_advr_2_torch.shape"
   ]
  },
  {
   "cell_type": "code",
   "execution_count": 154,
   "metadata": {},
   "outputs": [
    {
     "name": "stdout",
     "output_type": "stream",
     "text": [
      "epoch \t Aencoder_train\n",
      "0 \t 0.12978962\n",
      "1000 \t 0.00325056\n",
      "2000 \t 0.00085405\n",
      "3000 \t 0.00046968\n",
      "4000 \t 0.00024013\n",
      "5000 \t 0.00016424\n",
      "6000 \t 0.00014550\n",
      "7000 \t 0.00013712\n",
      "8000 \t 0.00013093\n",
      "9000 \t 0.00012689\n",
      "10000 \t 0.00012398\n"
     ]
    },
    {
     "data": {
      "image/png": "[encoded data removed]",
      "text/plain": [
       "<Figure size 432x288 with 1 Axes>"
      ]
     },
     "metadata": {
      "needs_background": "light"
     },
     "output_type": "display_data"
    }
   ],
   "source": [
    "print(\"epoch \\t Aencoder_train\")\n",
    "\n",
    "ae_epoch = []\n",
    "ae_train = []\n",
    "\n",
    "for epoch in range(10001):\n",
    "    auto_encoder.train()\n",
    "    ae_optimizer.zero_grad()\n",
    "    \n",
    "    X_torch_hat = auto_encoder(X_torch)\n",
    "    ae_loss = criterion(X_torch_hat, X_torch)\n",
    "    ae_loss.backward(retain_graph=True)\n",
    "    ae_optimizer.step()\n",
    "    \n",
    "    ae_epoch.append(epoch)\n",
    "    ae_train.append(ae_loss.item())\n",
    "    \n",
    "    if epoch%1000!=0:\n",
    "        continue\n",
    "    \n",
    "    print('{} \\t {:.8f}'.format(\n",
    "        epoch, \n",
    "        ae_loss.item(),\n",
    "    ))\n",
    "    \n",
    "\n",
    "plt.plot(ae_epoch, ae_train, 'r--')\n",
    "plt.legend(['train_loss'])\n",
    "plt.title(\"autoencoder training\")\n",
    "plt.show()"
   ]
  },
  {
   "cell_type": "code",
   "execution_count": 155,
   "metadata": {},
   "outputs": [],
   "source": [
    "X_autoencoded = auto_encoder.encoder(X_torch)"
   ]
  },
  {
   "cell_type": "code",
   "execution_count": 156,
   "metadata": {},
   "outputs": [
    {
     "data": {
      "image/png": "[encoded data removed]",
      "text/plain": [
       "<Figure size 432x288 with 1 Axes>"
      ]
     },
     "metadata": {
      "needs_background": "light"
     },
     "output_type": "display_data"
    }
   ],
   "source": [
    "class_plot(X_autoencoded.detach().numpy(), title='Autoencoder Representation')"
   ]
  },
  {
   "cell_type": "code",
   "execution_count": 157,
   "metadata": {},
   "outputs": [],
   "source": [
    "X_autodecoded = auto_encoder.decoder(X_autoencoded)"
   ]
  },
  {
   "cell_type": "code",
   "execution_count": 158,
   "metadata": {},
   "outputs": [
    {
     "data": {
      "image/png": "[encoded data removed]",
      "text/plain": [
       "<Figure size 432x288 with 1 Axes>"
      ]
     },
     "metadata": {
      "needs_background": "light"
     },
     "output_type": "display_data"
    }
   ],
   "source": [
    "class_plot(X_autodecoded.detach().numpy())"
   ]
  },
  {
   "cell_type": "markdown",
   "metadata": {},
   "source": [
    "# Privacy GAN"
   ]
  },
  {
   "cell_type": "code",
   "execution_count": 32,
   "metadata": {},
   "outputs": [],
   "source": [
    "class Encoder(torch.nn.Module):\n",
    "    def __init__(self, input_size, hidden_size, output_size):\n",
    "        super(Encoder, self).__init__()\n",
    "        self.input_size = input_size\n",
    "        self.hidden_size = hidden_size\n",
    "        self.output_size = output_size\n",
    "        self.fc1 = torch.nn.Linear(self.input_size, self.hidden_size)\n",
    "        self.relu = torch.nn.ReLU()\n",
    "        self.fc2 = torch.nn.Linear(self.hidden_size, self.output_size)\n",
    "        self.sigmoid = torch.nn.Sigmoid()\n",
    "        self.tanh = torch.nn.Tanh()\n",
    "        self.batchnorm = torch.nn.BatchNorm1d(self.hidden_size)\n",
    "    def forward(self, x):\n",
    "        hidden = self.fc1(x)\n",
    "#         hidden = self.batchnorm(hidden)\n",
    "        relu = self.relu(hidden)\n",
    "        output = self.fc2(relu)\n",
    "        output = self.tanh(output)\n",
    "        return output\n",
    "\n",
    "\n",
    "class Ally(torch.nn.Module):\n",
    "    def __init__(self, input_size, hidden_size, output_size):\n",
    "        super(Ally, self).__init__()\n",
    "        self.input_size = input_size\n",
    "        self.hidden_size = hidden_size\n",
    "        self.output_size = output_size\n",
    "        self.fc1 = torch.nn.Linear(self.input_size, self.hidden_size)\n",
    "        self.relu = torch.nn.ReLU()\n",
    "        self.fc2 = torch.nn.Linear(self.hidden_size, self.output_size)\n",
    "        self.sigmoid = torch.nn.Sigmoid()\n",
    "        self.tanh = torch.nn.Tanh()\n",
    "        self.batchnorm = torch.nn.BatchNorm1d(self.hidden_size)\n",
    "    def forward(self, x):\n",
    "        hidden = self.fc1(x)\n",
    "#         hidden = self.batchnorm(hidden)\n",
    "        relu = self.relu(hidden)\n",
    "        output = self.fc2(relu)\n",
    "        output = self.sigmoid(output)\n",
    "        return output\n",
    "\n",
    "\n",
    "class Adversary(torch.nn.Module):\n",
    "    def __init__(self, input_size, hidden_size, output_size):\n",
    "        super(Adversary, self).__init__()\n",
    "        self.input_size = input_size\n",
    "        self.hidden_size = hidden_size\n",
    "        self.output_size = output_size\n",
    "        self.fc1 = torch.nn.Linear(self.input_size, self.hidden_size)\n",
    "        self.relu = torch.nn.ReLU()\n",
    "        self.fc2 = torch.nn.Linear(self.hidden_size, self.output_size)\n",
    "        self.sigmoid = torch.nn.Sigmoid()\n",
    "        self.tanh = torch.nn.Tanh()\n",
    "        self.batchnorm = torch.nn.BatchNorm1d(self.hidden_size)\n",
    "    def forward(self, x):\n",
    "        hidden = self.fc1(x)\n",
    "#         hidden = self.batchnorm(hidden)\n",
    "        relu = self.relu(hidden)\n",
    "        output = self.fc2(relu)\n",
    "        output = self.sigmoid(output)\n",
    "        return output"
   ]
  },
  {
   "cell_type": "code",
   "execution_count": 60,
   "metadata": {},
   "outputs": [],
   "source": [
    "def train_privacy_gan(alpha, lr_encd, lr_ally, lr_advr, n_iter_gan, d_reps, plot=True, debug=True):\n",
    "    encoding_dimension = X_pca.shape[1]\n",
    "    encoder = Encoder(\n",
    "        input_size=X_torch.shape[1], \n",
    "        hidden_size=encoding_dimension*8, \n",
    "        output_size=encoding_dimension*4)\n",
    "    ally = Ally(\n",
    "        input_size=encoding_dimension*4, \n",
    "        hidden_size=encoding_dimension*8, \n",
    "        output_size=y_ally_torch.shape[1])\n",
    "    adversary = Adversary(\n",
    "        input_size=encoding_dimension*4, \n",
    "        hidden_size=encoding_dimension*8, \n",
    "        output_size=y_advr_torch.shape[1])\n",
    "    adversary_2 = Adversary(\n",
    "        input_size=encoding_dimension*4, \n",
    "        hidden_size=encoding_dimension*8, \n",
    "        output_size=y_advr_2_torch.shape[1])\n",
    "\n",
    "\n",
    "    criterion = torch.nn.BCEWithLogitsLoss()\n",
    "    crossentropy = torch.nn.CrossEntropyLoss()\n",
    "    optimizer = torch.optim.Adam\n",
    "    encd_optimizer = optimizer(encoder.parameters(), lr = lr_encd)\n",
    "    ally_optimizer = optimizer(ally.parameters(), lr=lr_ally)\n",
    "    advr_optimizer = optimizer(adversary.parameters(), lr=lr_advr)\n",
    "    advr_2_optimizer = optimizer(adversary_2.parameters(), lr=lr_advr)\n",
    "\n",
    "    if debug:\n",
    "        print(\"epoch \\t encoder_train \\t ally_train \\t advr_train \\t advr_2_train\")\n",
    "\n",
    "    g_epoch = []\n",
    "    enc_train = []\n",
    "    ally_train = []\n",
    "    advr_train = []\n",
    "    advr_2_train = []\n",
    "    \n",
    "    encoder.train()\n",
    "    ally.train()\n",
    "    adversary.train()\n",
    "    adversary_2.train()\n",
    "\n",
    "    for epoch in range(n_iter_gan):\n",
    "        # set for training\n",
    "        # Forward passv\n",
    "        X_ganencoded = encoder(X_torch)\n",
    "        y_ally_torch_hat = ally(X_ganencoded)\n",
    "        y_advr_torch_hat = adversary(X_ganencoded)\n",
    "        y_advr_2_torch_hat = adversary_2(X_ganencoded)\n",
    "        # Compute Loss\n",
    "        ally_loss = criterion(y_ally_torch_hat, y_ally_torch)\n",
    "        advr_loss = -crossentropy(\n",
    "            y_advr_torch_hat, \n",
    "            torch.argmax(y_advr_torch, 1))\n",
    "        advr_2_loss = criterion(y_advr_2_torch_hat, y_advr_2_torch)\n",
    "        encd_loss = ally_loss - (advr_loss + advr_2_loss)\n",
    "        \n",
    "        encd_optimizer.zero_grad()\n",
    "        encd_loss.backward()\n",
    "        encd_optimizer.step()\n",
    "\n",
    "        for i in range(d_reps):\n",
    "            X_ganencoded = encoder(X_torch)\n",
    "            y_ally_torch_hat = ally(X_ganencoded)\n",
    "            ally_optimizer.zero_grad()\n",
    "            ally_loss = criterion(y_ally_torch_hat, y_ally_torch)\n",
    "            ally_loss.backward()\n",
    "            ally_optimizer.step()\n",
    "            \n",
    "            X_ganencoded = encoder(X_torch)\n",
    "            y_advr_torch_hat = adversary(X_ganencoded)\n",
    "            advr_optimizer.zero_grad()\n",
    "            advr_loss = crossentropy(y_advr_torch_hat, torch.argmax(y_advr_torch, 1))\n",
    "            advr_loss.backward()\n",
    "            advr_optimizer.step()\n",
    "            \n",
    "            X_ganencoded = encoder(X_torch)\n",
    "            y_advr_2_torch_hat = adversary_2(X_ganencoded)\n",
    "            advr_2_optimizer.zero_grad()\n",
    "            advr_2_loss = criterion(y_advr_2_torch_hat, y_advr_2_torch)\n",
    "            advr_2_loss.backward()\n",
    "            advr_2_optimizer.step()\n",
    "\n",
    "        if plot:\n",
    "            g_epoch.append(epoch)\n",
    "            enc_train.append(encd_loss.item())\n",
    "            ally_train.append(ally_loss.item())\n",
    "            advr_train.append(advr_loss.item())\n",
    "            advr_2_train.append(advr_2_loss.item())\n",
    "            \n",
    "        if epoch%500!=0 and (debug or plot):\n",
    "            continue\n",
    "\n",
    "        if debug:\n",
    "            print('{} \\t {:.8f} \\t {:.8f} \\t {:.8f} \\t {:.8f}'.format(\n",
    "                epoch, \n",
    "                encd_loss.item(),\n",
    "                ally_loss.item(),\n",
    "                advr_loss.item(),\n",
    "                advr_2_loss.item()\n",
    "            ))\n",
    "        \n",
    "        X_ganencoded = encoder(X_torch)\n",
    "        class_plot(X_ganencoded.detach().numpy(), False, orig=False)\n",
    "\n",
    "    if plot:\n",
    "        plt.plot(g_epoch, enc_train, 'r')\n",
    "        plt.plot(g_epoch, ally_train, 'b')\n",
    "        plt.plot(g_epoch, advr_train, 'g')\n",
    "        plt.legend([\n",
    "            'encoder train loss', \n",
    "            'ally train loss',\n",
    "            'advr train loss',\n",
    "        ])\n",
    "        \n",
    "        plt.xlabel('number of iterations')\n",
    "        plt.ylabel('loss')\n",
    "        plt.show() \n",
    "\n",
    "        return encoder  "
   ]
  },
  {
   "cell_type": "markdown",
   "metadata": {},
   "source": [
    "- maximize the divergence\n",
    "- no dimensionality reduction here"
   ]
  },
  {
   "cell_type": "code",
   "execution_count": 62,
   "metadata": {
    "scrolled": true
   },
   "outputs": [
    {
     "name": "stdout",
     "output_type": "stream",
     "text": [
      "epoch \t encoder_train \t ally_train \t advr_train \t advr_2_train\n",
      "0 \t 2.30436754 \t 0.73300427 \t 2.30277491 \t 0.73142207\n"
     ]
    },
    {
     "data": {
      "image/png": "[encoded data removed]",
      "text/plain": [
       "<Figure size 504x216 with 2 Axes>"
      ]
     },
     "metadata": {
      "needs_background": "light"
     },
     "output_type": "display_data"
    },
    {
     "name": "stdout",
     "output_type": "stream",
     "text": [
      "500 \t 2.26185083 \t 0.69020313 \t 2.29411697 \t 0.72250116\n"
     ]
    },
    {
     "data": {
      "image/png": "[encoded data removed]",
      "text/plain": [
       "<Figure size 504x216 with 2 Axes>"
      ]
     },
     "metadata": {
      "needs_background": "light"
     },
     "output_type": "display_data"
    },
    {
     "name": "stdout",
     "output_type": "stream",
     "text": [
      "1000 \t 2.23219252 \t 0.68142837 \t 2.25058055 \t 0.69985408\n"
     ]
    },
    {
     "data": {
      "image/png": "[encoded data removed]",
      "text/plain": [
       "<Figure size 504x216 with 2 Axes>"
      ]
     },
     "metadata": {
      "needs_background": "light"
     },
     "output_type": "display_data"
    },
    {
     "name": "stdout",
     "output_type": "stream",
     "text": [
      "1500 \t 2.15763044 \t 0.67013752 \t 2.14068842 \t 0.65325111\n"
     ]
    },
    {
     "data": {
      "image/png": "[encoded data removed]",
      "text/plain": [
       "<Figure size 504x216 with 2 Axes>"
      ]
     },
     "metadata": {
      "needs_background": "light"
     },
     "output_type": "display_data"
    },
    {
     "name": "stdout",
     "output_type": "stream",
     "text": [
      "2000 \t 2.09829998 \t 0.65900743 \t 2.03867793 \t 0.59941274\n"
     ]
    },
    {
     "data": {
      "image/png": "[encoded data removed]",
      "text/plain": [
       "<Figure size 504x216 with 2 Axes>"
      ]
     },
     "metadata": {
      "needs_background": "light"
     },
     "output_type": "display_data"
    },
    {
     "name": "stdout",
     "output_type": "stream",
     "text": [
      "2500 \t 2.06916857 \t 0.65648741 \t 1.98148465 \t 0.56881726\n"
     ]
    },
    {
     "data": {
      "image/png": "[encoded data removed]",
      "text/plain": [
       "<Figure size 504x216 with 2 Axes>"
      ]
     },
     "metadata": {
      "needs_background": "light"
     },
     "output_type": "display_data"
    },
    {
     "name": "stdout",
     "output_type": "stream",
     "text": [
      "3000 \t 2.04761004 \t 0.65568578 \t 1.94631922 \t 0.55440295\n"
     ]
    },
    {
     "data": {
      "image/png": "[encoded data removed]",
      "text/plain": [
       "<Figure size 504x216 with 2 Axes>"
      ]
     },
     "metadata": {
      "needs_background": "light"
     },
     "output_type": "display_data"
    },
    {
     "name": "stdout",
     "output_type": "stream",
     "text": [
      "3500 \t 2.02630520 \t 0.65541124 \t 1.91545546 \t 0.54456985\n"
     ]
    },
    {
     "data": {
      "image/png": "[encoded data removed]",
      "text/plain": [
       "<Figure size 504x216 with 2 Axes>"
      ]
     },
     "metadata": {
      "needs_background": "light"
     },
     "output_type": "display_data"
    },
    {
     "name": "stdout",
     "output_type": "stream",
     "text": [
      "4000 \t 2.00459003 \t 0.65523678 \t 1.88619769 \t 0.53685379\n"
     ]
    },
    {
     "ename": "KeyboardInterrupt",
     "evalue": "",
     "output_type": "error",
     "traceback": [
      "\u001b[0;31m---------------------------------------------------------------------------\u001b[0m",
      "\u001b[0;31mKeyboardInterrupt\u001b[0m                         Traceback (most recent call last)",
      "\u001b[0;32m<ipython-input-62-2949cac8b3c3>\u001b[0m in \u001b[0;36m<module>\u001b[0;34m\u001b[0m\n\u001b[1;32m     14\u001b[0m \u001b[0;34m\u001b[0m\u001b[0m\n\u001b[1;32m     15\u001b[0m \u001b[0;34m\u001b[0m\u001b[0m\n\u001b[0;32m---> 16\u001b[0;31m \u001b[0mencoder\u001b[0m \u001b[0;34m=\u001b[0m \u001b[0mtrain_privacy_gan\u001b[0m\u001b[0;34m(\u001b[0m\u001b[0malpha\u001b[0m\u001b[0;34m,\u001b[0m \u001b[0mlr_encd\u001b[0m\u001b[0;34m,\u001b[0m \u001b[0mlr_ally\u001b[0m\u001b[0;34m,\u001b[0m \u001b[0mlr_advr\u001b[0m\u001b[0;34m,\u001b[0m \u001b[0mn_iter_gan\u001b[0m\u001b[0;34m,\u001b[0m \u001b[0md_reps\u001b[0m\u001b[0;34m,\u001b[0m \u001b[0mplot\u001b[0m\u001b[0;34m=\u001b[0m\u001b[0;32mTrue\u001b[0m\u001b[0;34m,\u001b[0m \u001b[0mdebug\u001b[0m\u001b[0;34m=\u001b[0m\u001b[0;32mTrue\u001b[0m\u001b[0;34m)\u001b[0m\u001b[0;34m\u001b[0m\u001b[0;34m\u001b[0m\u001b[0m\n\u001b[0m",
      "\u001b[0;32m<ipython-input-60-0ff237e7d350>\u001b[0m in \u001b[0;36mtrain_privacy_gan\u001b[0;34m(alpha, lr_encd, lr_ally, lr_advr, n_iter_gan, d_reps, plot, debug)\u001b[0m\n\u001b[1;32m    102\u001b[0m \u001b[0;34m\u001b[0m\u001b[0m\n\u001b[1;32m    103\u001b[0m         \u001b[0mX_ganencoded\u001b[0m \u001b[0;34m=\u001b[0m \u001b[0mencoder\u001b[0m\u001b[0;34m(\u001b[0m\u001b[0mX_torch\u001b[0m\u001b[0;34m)\u001b[0m\u001b[0;34m\u001b[0m\u001b[0;34m\u001b[0m\u001b[0m\n\u001b[0;32m--> 104\u001b[0;31m         \u001b[0mclass_plot\u001b[0m\u001b[0;34m(\u001b[0m\u001b[0mX_ganencoded\u001b[0m\u001b[0;34m.\u001b[0m\u001b[0mdetach\u001b[0m\u001b[0;34m(\u001b[0m\u001b[0;34m)\u001b[0m\u001b[0;34m.\u001b[0m\u001b[0mnumpy\u001b[0m\u001b[0;34m(\u001b[0m\u001b[0;34m)\u001b[0m\u001b[0;34m,\u001b[0m \u001b[0;32mFalse\u001b[0m\u001b[0;34m,\u001b[0m \u001b[0morig\u001b[0m\u001b[0;34m=\u001b[0m\u001b[0;32mFalse\u001b[0m\u001b[0;34m)\u001b[0m\u001b[0;34m\u001b[0m\u001b[0;34m\u001b[0m\u001b[0m\n\u001b[0m\u001b[1;32m    105\u001b[0m \u001b[0;34m\u001b[0m\u001b[0m\n\u001b[1;32m    106\u001b[0m     \u001b[0;32mif\u001b[0m \u001b[0mplot\u001b[0m\u001b[0;34m:\u001b[0m\u001b[0;34m\u001b[0m\u001b[0;34m\u001b[0m\u001b[0m\n",
      "\u001b[0;32m<ipython-input-51-8fe2ca6bc7d9>\u001b[0m in \u001b[0;36mclass_plot\u001b[0;34m(X_input, aspect, title, orig, save)\u001b[0m\n\u001b[1;32m      1\u001b[0m \u001b[0;32mdef\u001b[0m \u001b[0mclass_plot\u001b[0m\u001b[0;34m(\u001b[0m\u001b[0mX_input\u001b[0m\u001b[0;34m,\u001b[0m \u001b[0maspect\u001b[0m\u001b[0;34m=\u001b[0m\u001b[0;32mTrue\u001b[0m\u001b[0;34m,\u001b[0m \u001b[0mtitle\u001b[0m\u001b[0;34m=\u001b[0m\u001b[0;32mFalse\u001b[0m\u001b[0;34m,\u001b[0m \u001b[0morig\u001b[0m\u001b[0;34m=\u001b[0m\u001b[0;32mTrue\u001b[0m\u001b[0;34m,\u001b[0m \u001b[0msave\u001b[0m\u001b[0;34m=\u001b[0m\u001b[0;32mFalse\u001b[0m\u001b[0;34m)\u001b[0m\u001b[0;34m:\u001b[0m\u001b[0;34m\u001b[0m\u001b[0;34m\u001b[0m\u001b[0m\n\u001b[0;32m----> 2\u001b[0;31m     \u001b[0mX_tsne\u001b[0m \u001b[0;34m=\u001b[0m \u001b[0mTSNE\u001b[0m\u001b[0;34m(\u001b[0m\u001b[0mn_components\u001b[0m\u001b[0;34m=\u001b[0m\u001b[0;36m2\u001b[0m\u001b[0;34m)\u001b[0m\u001b[0;34m.\u001b[0m\u001b[0mfit_transform\u001b[0m\u001b[0;34m(\u001b[0m\u001b[0mX_input\u001b[0m\u001b[0;34m)\u001b[0m\u001b[0;34m\u001b[0m\u001b[0;34m\u001b[0m\u001b[0m\n\u001b[0m\u001b[1;32m      3\u001b[0m     \u001b[0mX_pca\u001b[0m \u001b[0;34m=\u001b[0m \u001b[0mPCA\u001b[0m\u001b[0;34m(\u001b[0m\u001b[0mn_components\u001b[0m\u001b[0;34m=\u001b[0m\u001b[0;36m2\u001b[0m\u001b[0;34m)\u001b[0m\u001b[0;34m.\u001b[0m\u001b[0mfit_transform\u001b[0m\u001b[0;34m(\u001b[0m\u001b[0mX_input\u001b[0m\u001b[0;34m)\u001b[0m\u001b[0;34m\u001b[0m\u001b[0;34m\u001b[0m\u001b[0m\n\u001b[1;32m      4\u001b[0m     \u001b[0mcolors\u001b[0m \u001b[0;34m=\u001b[0m \u001b[0;34m[\u001b[0m\u001b[0;34m'r'\u001b[0m\u001b[0;34m,\u001b[0m \u001b[0;34m'b'\u001b[0m\u001b[0;34m]\u001b[0m\u001b[0;34m\u001b[0m\u001b[0;34m\u001b[0m\u001b[0m\n\u001b[1;32m      5\u001b[0m     \u001b[0mmarkers\u001b[0m \u001b[0;34m=\u001b[0m \u001b[0;34m[\u001b[0m\u001b[0;34m'o'\u001b[0m\u001b[0;34m,\u001b[0m \u001b[0;34m'x'\u001b[0m\u001b[0;34m,\u001b[0m \u001b[0;34m'o'\u001b[0m\u001b[0;34m,\u001b[0m \u001b[0;34m'x'\u001b[0m\u001b[0;34m]\u001b[0m\u001b[0;34m\u001b[0m\u001b[0;34m\u001b[0m\u001b[0m\n",
      "\u001b[0;32m/usr/local/lib/python3.6/dist-packages/sklearn/manifold/_t_sne.py\u001b[0m in \u001b[0;36mfit_transform\u001b[0;34m(self, X, y)\u001b[0m\n\u001b[1;32m    884\u001b[0m             \u001b[0mEmbedding\u001b[0m \u001b[0mof\u001b[0m \u001b[0mthe\u001b[0m \u001b[0mtraining\u001b[0m \u001b[0mdata\u001b[0m \u001b[0;32min\u001b[0m \u001b[0mlow\u001b[0m\u001b[0;34m-\u001b[0m\u001b[0mdimensional\u001b[0m \u001b[0mspace\u001b[0m\u001b[0;34m.\u001b[0m\u001b[0;34m\u001b[0m\u001b[0;34m\u001b[0m\u001b[0m\n\u001b[1;32m    885\u001b[0m         \"\"\"\n\u001b[0;32m--> 886\u001b[0;31m         \u001b[0membedding\u001b[0m \u001b[0;34m=\u001b[0m \u001b[0mself\u001b[0m\u001b[0;34m.\u001b[0m\u001b[0m_fit\u001b[0m\u001b[0;34m(\u001b[0m\u001b[0mX\u001b[0m\u001b[0;34m)\u001b[0m\u001b[0;34m\u001b[0m\u001b[0;34m\u001b[0m\u001b[0m\n\u001b[0m\u001b[1;32m    887\u001b[0m         \u001b[0mself\u001b[0m\u001b[0;34m.\u001b[0m\u001b[0membedding_\u001b[0m \u001b[0;34m=\u001b[0m \u001b[0membedding\u001b[0m\u001b[0;34m\u001b[0m\u001b[0;34m\u001b[0m\u001b[0m\n\u001b[1;32m    888\u001b[0m         \u001b[0;32mreturn\u001b[0m \u001b[0mself\u001b[0m\u001b[0;34m.\u001b[0m\u001b[0membedding_\u001b[0m\u001b[0;34m\u001b[0m\u001b[0;34m\u001b[0m\u001b[0m\n",
      "\u001b[0;32m/usr/local/lib/python3.6/dist-packages/sklearn/manifold/_t_sne.py\u001b[0m in \u001b[0;36m_fit\u001b[0;34m(self, X, skip_num_points)\u001b[0m\n\u001b[1;32m    796\u001b[0m                           \u001b[0mX_embedded\u001b[0m\u001b[0;34m=\u001b[0m\u001b[0mX_embedded\u001b[0m\u001b[0;34m,\u001b[0m\u001b[0;34m\u001b[0m\u001b[0;34m\u001b[0m\u001b[0m\n\u001b[1;32m    797\u001b[0m                           \u001b[0mneighbors\u001b[0m\u001b[0;34m=\u001b[0m\u001b[0mneighbors_nn\u001b[0m\u001b[0;34m,\u001b[0m\u001b[0;34m\u001b[0m\u001b[0;34m\u001b[0m\u001b[0m\n\u001b[0;32m--> 798\u001b[0;31m                           skip_num_points=skip_num_points)\n\u001b[0m\u001b[1;32m    799\u001b[0m \u001b[0;34m\u001b[0m\u001b[0m\n\u001b[1;32m    800\u001b[0m     def _tsne(self, P, degrees_of_freedom, n_samples, X_embedded,\n",
      "\u001b[0;32m/usr/local/lib/python3.6/dist-packages/sklearn/manifold/_t_sne.py\u001b[0m in \u001b[0;36m_tsne\u001b[0;34m(self, P, degrees_of_freedom, n_samples, X_embedded, neighbors, skip_num_points)\u001b[0m\n\u001b[1;32m    850\u001b[0m             \u001b[0mopt_args\u001b[0m\u001b[0;34m[\u001b[0m\u001b[0;34m'n_iter_without_progress'\u001b[0m\u001b[0;34m]\u001b[0m \u001b[0;34m=\u001b[0m \u001b[0mself\u001b[0m\u001b[0;34m.\u001b[0m\u001b[0mn_iter_without_progress\u001b[0m\u001b[0;34m\u001b[0m\u001b[0;34m\u001b[0m\u001b[0m\n\u001b[1;32m    851\u001b[0m             params, kl_divergence, it = _gradient_descent(obj_func, params,\n\u001b[0;32m--> 852\u001b[0;31m                                                           **opt_args)\n\u001b[0m\u001b[1;32m    853\u001b[0m \u001b[0;34m\u001b[0m\u001b[0m\n\u001b[1;32m    854\u001b[0m         \u001b[0;31m# Save the final number of iterations\u001b[0m\u001b[0;34m\u001b[0m\u001b[0;34m\u001b[0m\u001b[0;34m\u001b[0m\u001b[0m\n",
      "\u001b[0;32m/usr/local/lib/python3.6/dist-packages/sklearn/manifold/_t_sne.py\u001b[0m in \u001b[0;36m_gradient_descent\u001b[0;34m(objective, p0, it, n_iter, n_iter_check, n_iter_without_progress, momentum, learning_rate, min_gain, min_grad_norm, verbose, args, kwargs)\u001b[0m\n\u001b[1;32m    356\u001b[0m         \u001b[0mkwargs\u001b[0m\u001b[0;34m[\u001b[0m\u001b[0;34m'compute_error'\u001b[0m\u001b[0;34m]\u001b[0m \u001b[0;34m=\u001b[0m \u001b[0mcheck_convergence\u001b[0m \u001b[0;32mor\u001b[0m \u001b[0mi\u001b[0m \u001b[0;34m==\u001b[0m \u001b[0mn_iter\u001b[0m \u001b[0;34m-\u001b[0m \u001b[0;36m1\u001b[0m\u001b[0;34m\u001b[0m\u001b[0;34m\u001b[0m\u001b[0m\n\u001b[1;32m    357\u001b[0m \u001b[0;34m\u001b[0m\u001b[0m\n\u001b[0;32m--> 358\u001b[0;31m         \u001b[0merror\u001b[0m\u001b[0;34m,\u001b[0m \u001b[0mgrad\u001b[0m \u001b[0;34m=\u001b[0m \u001b[0mobjective\u001b[0m\u001b[0;34m(\u001b[0m\u001b[0mp\u001b[0m\u001b[0;34m,\u001b[0m \u001b[0;34m*\u001b[0m\u001b[0margs\u001b[0m\u001b[0;34m,\u001b[0m \u001b[0;34m**\u001b[0m\u001b[0mkwargs\u001b[0m\u001b[0;34m)\u001b[0m\u001b[0;34m\u001b[0m\u001b[0;34m\u001b[0m\u001b[0m\n\u001b[0m\u001b[1;32m    359\u001b[0m         \u001b[0mgrad_norm\u001b[0m \u001b[0;34m=\u001b[0m \u001b[0mlinalg\u001b[0m\u001b[0;34m.\u001b[0m\u001b[0mnorm\u001b[0m\u001b[0;34m(\u001b[0m\u001b[0mgrad\u001b[0m\u001b[0;34m)\u001b[0m\u001b[0;34m\u001b[0m\u001b[0;34m\u001b[0m\u001b[0m\n\u001b[1;32m    360\u001b[0m \u001b[0;34m\u001b[0m\u001b[0m\n",
      "\u001b[0;32m/usr/local/lib/python3.6/dist-packages/sklearn/manifold/_t_sne.py\u001b[0m in \u001b[0;36m_kl_divergence_bh\u001b[0;34m(params, P, degrees_of_freedom, n_samples, n_components, angle, skip_num_points, verbose, compute_error, num_threads)\u001b[0m\n\u001b[1;32m    260\u001b[0m                                       \u001b[0mdof\u001b[0m\u001b[0;34m=\u001b[0m\u001b[0mdegrees_of_freedom\u001b[0m\u001b[0;34m,\u001b[0m\u001b[0;34m\u001b[0m\u001b[0;34m\u001b[0m\u001b[0m\n\u001b[1;32m    261\u001b[0m                                       \u001b[0mcompute_error\u001b[0m\u001b[0;34m=\u001b[0m\u001b[0mcompute_error\u001b[0m\u001b[0;34m,\u001b[0m\u001b[0;34m\u001b[0m\u001b[0;34m\u001b[0m\u001b[0m\n\u001b[0;32m--> 262\u001b[0;31m                                       num_threads=num_threads)\n\u001b[0m\u001b[1;32m    263\u001b[0m     \u001b[0mc\u001b[0m \u001b[0;34m=\u001b[0m \u001b[0;36m2.0\u001b[0m \u001b[0;34m*\u001b[0m \u001b[0;34m(\u001b[0m\u001b[0mdegrees_of_freedom\u001b[0m \u001b[0;34m+\u001b[0m \u001b[0;36m1.0\u001b[0m\u001b[0;34m)\u001b[0m \u001b[0;34m/\u001b[0m \u001b[0mdegrees_of_freedom\u001b[0m\u001b[0;34m\u001b[0m\u001b[0;34m\u001b[0m\u001b[0m\n\u001b[1;32m    264\u001b[0m     \u001b[0mgrad\u001b[0m \u001b[0;34m=\u001b[0m \u001b[0mgrad\u001b[0m\u001b[0;34m.\u001b[0m\u001b[0mravel\u001b[0m\u001b[0;34m(\u001b[0m\u001b[0;34m)\u001b[0m\u001b[0;34m\u001b[0m\u001b[0;34m\u001b[0m\u001b[0m\n",
      "\u001b[0;31mKeyboardInterrupt\u001b[0m: "
     ]
    }
   ],
   "source": [
    "alpha = 0.5\n",
    "lr_encd = 0.0001\n",
    "lr_ally = 0.001\n",
    "lr_advr = 0.0001\n",
    "n_iter_gan = 10001\n",
    "d_reps = 1\n",
    "\n",
    "# alpha = 0.5\n",
    "# lr_encd = 0.01\n",
    "# lr_ally = 0.001\n",
    "# lr_advr = 0.0001\n",
    "# n_iter_gan = 5001\n",
    "# d_reps = 2\n",
    "\n",
    "\n",
    "encoder = train_privacy_gan(alpha, lr_encd, lr_ally, lr_advr, n_iter_gan, d_reps, plot=True, debug=True)"
   ]
  },
  {
   "cell_type": "markdown",
   "metadata": {},
   "source": [
    "# Training Independently"
   ]
  },
  {
   "cell_type": "code",
   "execution_count": 88,
   "metadata": {},
   "outputs": [
    {
     "data": {
      "text/plain": [
       "Encoder(\n",
       "  (fc1): Linear(in_features=2, out_features=2, bias=True)\n",
       "  (relu): LeakyReLU(negative_slope=0.01)\n",
       "  (fc2): Linear(in_features=2, out_features=2, bias=True)\n",
       "  (sigmoid): Sigmoid()\n",
       "  (tanh): Tanh()\n",
       ")"
      ]
     },
     "execution_count": 88,
     "metadata": {},
     "output_type": "execute_result"
    }
   ],
   "source": [
    "encoding_dimension = 2\n",
    "encoder.eval()"
   ]
  },
  {
   "cell_type": "code",
   "execution_count": 89,
   "metadata": {},
   "outputs": [
    {
     "name": "stdout",
     "output_type": "stream",
     "text": [
      "epoch \t ally_train\n",
      "0 \t 0.75935817\n",
      "1000 \t 0.50519240\n",
      "2000 \t 0.50378525\n",
      "3000 \t 0.50345957\n",
      "4000 \t 0.50333524\n",
      "5000 \t 0.50327659\n",
      "6000 \t 0.50324571\n",
      "7000 \t 0.50322872\n",
      "8000 \t 0.50321895\n",
      "9000 \t 0.50321311\n",
      "10000 \t 0.50320959\n"
     ]
    }
   ],
   "source": [
    "ally = Ally(\n",
    "    input_size=encoding_dimension, \n",
    "    hidden_size=encoding_dimension, \n",
    "    output_size=y_ally_torch.shape[1])\n",
    "criterion = torch.nn.BCEWithLogitsLoss()\n",
    "ally_optimizer = optimizer(ally.parameters(), lr=0.01)\n",
    "\n",
    "print(\"epoch \\t ally_train\")\n",
    "\n",
    "ally.train()\n",
    "\n",
    "n_iter = 10001\n",
    "    \n",
    "for epoch in range(n_iter):\n",
    "    X_ganencoded = encoder(X_torch)\n",
    "    y_ally_torch_hat = ally(X_ganencoded)\n",
    "    ally_optimizer.zero_grad()\n",
    "    ally_loss = criterion(y_ally_torch_hat, y_ally_torch)\n",
    "    ally_loss.backward()\n",
    "    ally_optimizer.step()\n",
    "    \n",
    "    if epoch%1000!=0:\n",
    "        continue\n",
    "\n",
    "    print('{} \\t {:.8f}'.format(\n",
    "        epoch, \n",
    "        ally_loss.item(),\n",
    "    ))\n",
    "    "
   ]
  },
  {
   "cell_type": "code",
   "execution_count": 90,
   "metadata": {},
   "outputs": [
    {
     "name": "stdout",
     "output_type": "stream",
     "text": [
      "epoch \t advr_train\n",
      "0 \t 0.72458750\n",
      "1000 \t 0.69315189\n",
      "2000 \t 0.69314736\n",
      "3000 \t 0.69314641\n",
      "4000 \t 0.69314587\n",
      "5000 \t 0.69314539\n",
      "6000 \t 0.69314474\n",
      "7000 \t 0.69314259\n",
      "8000 \t 0.69287205\n",
      "9000 \t 0.68507183\n",
      "10000 \t 0.68361628\n"
     ]
    }
   ],
   "source": [
    "adversary = Adversary(\n",
    "    input_size=encoding_dimension, \n",
    "    hidden_size=encoding_dimension, \n",
    "    output_size=y_advr_torch.shape[1])\n",
    "\n",
    "advr_optimizer = optimizer(adversary.parameters(), lr=0.01)\n",
    "\n",
    "print(\"epoch \\t advr_train\")\n",
    "\n",
    "adversary.train()\n",
    "    \n",
    "for epoch in range(n_iter):\n",
    "    X_ganencoded = encoder(X_torch)\n",
    "    y_advr_torch_hat = adversary(X_ganencoded)\n",
    "    advr_optimizer.zero_grad()\n",
    "    advr_loss = criterion(y_advr_torch_hat, y_advr_torch)\n",
    "    advr_loss.backward()\n",
    "    advr_optimizer.step()\n",
    "    \n",
    "    if epoch%1000!=0:\n",
    "        continue\n",
    "    \n",
    "    print('{} \\t {:.8f}'.format(\n",
    "        epoch, \n",
    "        advr_loss.item(),\n",
    "    ))\n",
    "    "
   ]
  },
  {
   "cell_type": "markdown",
   "metadata": {},
   "source": [
    "# DP"
   ]
  },
  {
   "cell_type": "code",
   "execution_count": null,
   "metadata": {},
   "outputs": [],
   "source": [
    "def laplaceMechanism(x, epsilon):\n",
    "    return x + np.random.laplace(0, 1.0/epsilon, x.shape)"
   ]
  },
  {
   "cell_type": "code",
   "execution_count": null,
   "metadata": {},
   "outputs": [],
   "source": [
    "epsilons = [1, 10, 100, 1000]\n",
    "for epsilon in epsilons:\n",
    "    X_dp = laplaceMechanism(X_normalized, epsilon)\n",
    "\n",
    "    class_plot(X_dp, title=\"DP at epsilon={}\".format(epsilon))"
   ]
  },
  {
   "cell_type": "code",
   "execution_count": null,
   "metadata": {},
   "outputs": [],
   "source": [
    "np.random.laplace(0, 1.0/100000, X_dp.shape)"
   ]
  },
  {
   "cell_type": "code",
   "execution_count": null,
   "metadata": {},
   "outputs": [],
   "source": []
  }
 ],
 "metadata": {
  "kernelspec": {
   "display_name": "Python 3",
   "language": "python",
   "name": "python3"
  },
  "language_info": {
   "codemirror_mode": {
    "name": "ipython",
    "version": 3
   },
   "file_extension": ".py",
   "mimetype": "text/x-python",
   "name": "python",
   "nbconvert_exporter": "python",
   "pygments_lexer": "ipython3",
   "version": "3.6.9"
  }
 },
 "nbformat": 4,
 "nbformat_minor": 2
}
