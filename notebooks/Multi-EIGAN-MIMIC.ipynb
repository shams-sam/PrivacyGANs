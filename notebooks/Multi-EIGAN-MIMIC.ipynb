{
 "cells": [
  {
   "cell_type": "code",
   "execution_count": 1,
   "metadata": {},
   "outputs": [],
   "source": [
    "import logging                                                                                                                                                                                                                                                                                                          \n",
    "import matplotlib.pyplot as plt                                                                                                                                                                                                                                                                                         \n",
    "import numpy as np                                                                                                                                                                                                                                                                                                      \n",
    "import pandas as pd                                                                                                                                                                                                                                                                                                     \n",
    "import pickle as pkl                                                                                                                                                                                                                                                                                                    \n",
    "from sklearn.model_selection import train_test_split                                                                                                                                                                                                                                                                    \n",
    "from sklearn.preprocessing import StandardScaler                                                                                                                                                                                                                                                                        \n",
    "import torch                                                                                                                                                                                                                                                                                                            \n",
    "import torch.nn as nn                                                                                                                                                                                                                                                                                                   \n",
    "import torch.utils.data as utils                                                                                                                                                                                                                                                                                        \n",
    "                                                                                                                                                                                                                                                                                                                        \n",
    "import sys                                                                                                                                                                                                                                                                                                              \n",
    "import os                                                                                                                                                                                                                                                                                                               \n",
    "sys.path.append(\"./..\")                                                                                                                                                                                                                                                     \n",
    "                                                                                                                                                                                                                                                                                                                        \n",
    "from common.argparser import eigan_argparse   \n",
    "from common.text_processing import text_preprocessing\n",
    "\n",
    "from common.utility import log_shapes, log_time, torch_device, time_stp, load_processed_data, logger, sep, weights_init                                                                                                                                                                                                                                                            \n",
    "from common.torchsummary import summary                                                                                                                                                                                                                                                                                 \n",
    "                                                                                                                                                                                                                                                                                                                        \n",
    "from models.eigan import GeneratorFCN, DiscriminatorFCN     "
   ]
  },
  {
   "cell_type": "code",
   "execution_count": 2,
   "metadata": {},
   "outputs": [],
   "source": [
    "device='gpu'\n",
    "expt='mimic'"
   ]
  },
  {
   "cell_type": "code",
   "execution_count": null,
   "metadata": {},
   "outputs": [],
   "source": [
    "device = torch_device(device=device)\n",
    "device"
   ]
  },
  {
   "cell_type": "code",
   "execution_count": null,
   "metadata": {},
   "outputs": [],
   "source": [
    "df_data = pd.read_csv('../checkpoints/mimic/patients_join_admissions.csv')\n",
    "df_data.fillna('na', axis=1, inplace=True)\n",
    "df_data.head(3)"
   ]
  },
  {
   "cell_type": "code",
   "execution_count": null,
   "metadata": {},
   "outputs": [],
   "source": [
    "len_prev = len(df_data)\n",
    "df_data.drop([\n",
    "    'row_id', \n",
    "    'row_id.1', \n",
    "    'subject_id', \n",
    "    'subject_id.1',\n",
    "    'dod',\n",
    "    'dod_hosp',\n",
    "    'dod_ssn',\n",
    "    'hadm_id',\n",
    "], axis=1, inplace=True)\n",
    "len_curr = len(df_data)\n",
    "print(\"{} rows with null values dropped\".format(len_prev-len_curr))\n",
    "print(\"{} rows of data available\".format(len_curr))"
   ]
  },
  {
   "cell_type": "code",
   "execution_count": null,
   "metadata": {},
   "outputs": [],
   "source": [
    "df_data.head(3)"
   ]
  },
  {
   "cell_type": "code",
   "execution_count": null,
   "metadata": {},
   "outputs": [],
   "source": [
    "for col in [\n",
    "    'dob',\n",
    "    'admittime',\n",
    "    'dischtime',\n",
    "    'deathtime',\n",
    "    'edregtime',\n",
    "    'edouttime',\n",
    "]:\n",
    "    df_data[col][df_data[col]=='na'] = pd.Timestamp('18000101')\n",
    "    df_data[col+\"_year\"] = pd.DatetimeIndex(df_data[col]).year\n",
    "    df_data[col+\"_month\"] = pd.DatetimeIndex(df_data[col]).month\n",
    "    df_data[col+\"_day\"] = pd.DatetimeIndex(df_data[col]).day\n",
    "    df_data.drop(col, axis=1, inplace=True)"
   ]
  },
  {
   "cell_type": "code",
   "execution_count": null,
   "metadata": {},
   "outputs": [],
   "source": [
    "for col in [\n",
    "    'admission_type', \n",
    "    'admission_location', \n",
    "    'discharge_location', \n",
    "    'insurance',\n",
    "    'religion',\n",
    "    'marital_status',\n",
    "    'ethnicity',\n",
    "    'diagnosis',\n",
    "]:\n",
    "    df_data[col] = list(map(text_preprocessing, df_data[col].tolist()))\n",
    "df_data.head(3)"
   ]
  },
  {
   "cell_type": "code",
   "execution_count": null,
   "metadata": {},
   "outputs": [],
   "source": []
  }
 ],
 "metadata": {
  "kernelspec": {
   "display_name": "Python 3",
   "language": "python",
   "name": "python3"
  },
  "language_info": {
   "codemirror_mode": {
    "name": "ipython",
    "version": 3
   },
   "file_extension": ".py",
   "mimetype": "text/x-python",
   "name": "python",
   "nbconvert_exporter": "python",
   "pygments_lexer": "ipython3",
   "version": "3.6.9"
  }
 },
 "nbformat": 4,
 "nbformat_minor": 4
}
