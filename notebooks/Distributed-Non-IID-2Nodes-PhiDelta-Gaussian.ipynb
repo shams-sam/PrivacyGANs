{
 "cells": [
  {
   "cell_type": "code",
   "execution_count": null,
   "metadata": {},
   "outputs": [],
   "source": [
    "from collections import defaultdict\n",
    "import matplotlib.pyplot as plt\n",
    "import numpy as np\n",
    "import pandas as pd\n",
    "from sklearn.model_selection import train_test_split\n",
    "from sklearn.preprocessing import MinMaxScaler\n",
    "import torch\n",
    "from torch.utils.data import TensorDataset, DataLoader\n",
    "from tqdm import tqdm"
   ]
  },
  {
   "cell_type": "code",
   "execution_count": null,
   "metadata": {},
   "outputs": [],
   "source": [
    "import sys\n",
    "sys.path.append(\"..\")"
   ]
  },
  {
   "cell_type": "code",
   "execution_count": null,
   "metadata": {},
   "outputs": [],
   "source": [
    "%load_ext autoreload\n",
    "%autoreload 2\n",
    "from common.utility import to_categorical, torch_device\n",
    "from notebook_utils.generate_gaussian import generate_gaussian\n",
    "from notebook_utils.eigan import Encoder, Discriminator\n",
    "from notebook_utils.federated import federated\n",
    "from notebook_utils.eigan_training import distributed, centralized\n",
    "from notebook_utils.utility import class_plot, to_numpy\n",
    "import notebook_utils.metrics as metrics"
   ]
  },
  {
   "cell_type": "code",
   "execution_count": null,
   "metadata": {},
   "outputs": [],
   "source": [
    "device='gpu'\n",
    "device = torch_device(device=device)\n",
    "device"
   ]
  },
  {
   "cell_type": "markdown",
   "metadata": {},
   "source": [
    "# Training"
   ]
  },
  {
   "cell_type": "code",
   "execution_count": null,
   "metadata": {},
   "outputs": [],
   "source": [
    "MAX = 1024\n",
    "history = {}\n",
    "NUM_TRIALS = 10\n",
    "VAR1 = 3\n",
    "VAR2 = 3\n",
    "NUM_NODES = 2\n",
    "PHI=1\n",
    "BATCHSIZE=512"
   ]
  },
  {
   "cell_type": "code",
   "execution_count": null,
   "metadata": {},
   "outputs": [],
   "source": [
    "X1, y_11, y_21 = generate_gaussian(VAR1/10, VAR2/10, 1000, 1)\n",
    "X2, y_12, y_22 = generate_gaussian((VAR1)/10, (VAR2)/10, 1000, 1, MEAN=2)\n",
    "X = [X1, X2] \n",
    "y_1 = [y_11, y_12]\n",
    "y_2 = [y_21, y_22]\n",
    "\n",
    "print('='*80)\n",
    "print('VAR1: {}, VAR2: {}'.format(VAR1/10, VAR2/10))\n",
    "print('='*80)\n",
    "for _ in range(NUM_NODES):\n",
    "    print('@node {}, X: {}, y_1: {}, y2: {}'.format(_, X[_].shape, y_1[_].shape, y_2[_].shape))\n",
    "    \n",
    "w_1 = []\n",
    "w_2 = []\n",
    "train_loaders = []\n",
    "X_valids = []\n",
    "X_trains = []\n",
    "y_1_valids = []\n",
    "y_1_trains = []\n",
    "y_2_valids = []\n",
    "y_2_trains = []\n",
    "for node_idx in range(NUM_NODES):\n",
    "    X_local = X[node_idx]\n",
    "    y_1_local = y_1[node_idx]\n",
    "    y_2_local = y_2[node_idx]\n",
    "    \n",
    "    X_train, X_valid, y_1_train, y_1_valid, y_2_train, y_2_valid = train_test_split(\n",
    "        X_local, y_1_local, y_2_local, test_size=0.2, stratify=pd.DataFrame(\n",
    "            np.concatenate((y_1_local, y_2_local), axis=1)\n",
    "        ))\n",
    "    print('@node {}: X_train, X_valid, y_1_train, y_1_valid, y_2_train, y_2_valid'.format(node_idx))\n",
    "    print(X_train.shape, X_valid.shape, y_1_train.shape, y_1_valid.shape, y_2_train.shape, y_2_valid.shape)\n",
    "\n",
    "    w = np.bincount(y_1_train.flatten())\n",
    "    w_1.append(sum(w)/w)\n",
    "    w = np.bincount(y_2_train.flatten())\n",
    "    w_2.append(sum(w)/w)\n",
    "    print('@node {}: class weights => w1, w2'.format(node_idx), w_1, w_2)\n",
    "\n",
    "    scaler = MinMaxScaler()\n",
    "    X_train = scaler.fit_transform(X_train)\n",
    "    X_valid = scaler.transform(X_valid)\n",
    "    \n",
    "    width = 0.35\n",
    "    fig, (ax1, ax2, ax3) = plt.subplots(1, 3, figsize=(13, 4))\n",
    "    ax1.bar(np.unique(y_1_train.flatten()), np.bincount(y_1_train.flatten()), width, color='b')\n",
    "    ax1.bar(np.unique(y_2_train.flatten())+width, np.bincount(y_2_train.flatten()), width, color='r')\n",
    "    ax1.legend(['ally', 'adversary'])\n",
    "    \n",
    "    y_1_train = to_categorical(y_1_train)\n",
    "    y_2_train = to_categorical(y_2_train)\n",
    "    y_1_valid = to_categorical(y_1_valid)\n",
    "    y_2_valid = to_categorical(y_2_valid)\n",
    "\n",
    "    X_train = torch.Tensor(X_train)\n",
    "    y_1_train = torch.Tensor(y_1_train)\n",
    "    y_2_train = torch.Tensor(y_2_train)\n",
    "\n",
    "    X_valids.append(torch.Tensor(X_valid))\n",
    "    y_1_valids.append(torch.Tensor(y_1_valid))\n",
    "    y_2_valids.append(torch.Tensor(y_2_valid))\n",
    "    \n",
    "    X_trains.append(X_train)\n",
    "    y_1_trains.append(y_1_train)\n",
    "    y_2_trains.append(y_2_train)\n",
    "\n",
    "    class_plot(X_train, np.argmax(y_1_train, axis=1), np.argmax(y_2_train, axis=1), 'normalized train set @ node {}'.format(node_idx), ax2)\n",
    "    class_plot(X_valid, np.argmax(y_1_valid, axis=1), np.argmax(y_2_valid, axis=1), 'normalized valid set @ node {}'.format(node_idx), ax3)\n",
    "\n",
    "    print('@node {}: tensor sizes =>'.format(node_idx), X_train.shape, X_valid.shape, y_1_train.shape, y_1_valid.shape, y_2_train.shape, y_2_valid.shape)\n",
    "\n",
    "    train_loaders.append(DataLoader(TensorDataset(X_train, y_1_train, y_2_train), batch_size=BATCHSIZE, shuffle=True))"
   ]
  },
  {
   "cell_type": "code",
   "execution_count": null,
   "metadata": {},
   "outputs": [],
   "source": [
    "alpha = 1\n",
    "lr_encd = 0.001\n",
    "lr_1 = 0.0001\n",
    "lr_2 = 0.0001\n",
    "n_iter_gan = 501\n",
    "\n",
    "input_size = X_train.shape[1]\n",
    "hidden_size = input_size*8\n",
    "output_size = 2"
   ]
  },
  {
   "cell_type": "code",
   "execution_count": null,
   "metadata": {},
   "outputs": [],
   "source": [
    "global_params = {}\n",
    "encoders = {}"
   ]
  },
  {
   "cell_type": "code",
   "execution_count": null,
   "metadata": {},
   "outputs": [],
   "source": [
    "import pickle as pkl\n",
    "history = pkl.load(open('history_numnodes_2_phi_delta_gaussian.pkl', 'rb'))"
   ]
  },
  {
   "cell_type": "code",
   "execution_count": null,
   "metadata": {
    "scrolled": true
   },
   "outputs": [],
   "source": [
    "delta = 2\n",
    "for phi in range(0, 11, 2):\n",
    "    phi /= 10    \n",
    "    print(\"-\"*80)\n",
    "    print('EIGAN Training w/ phi={} and delta={}'.format(phi, delta))\n",
    "    print(\"-\"*80)\n",
    "    encoders['{}_{}'.format(phi, delta)] = distributed(NUM_NODES, phi, delta, \n",
    "                           X_trains, X_valids, \n",
    "                           y_1_trains, y_1_valids,\n",
    "                           y_2_trains, y_2_valids,\n",
    "                           input_size, hidden_size, output_size, \n",
    "                           alpha, lr_encd, lr_1, lr_2, w_1, w_2,\n",
    "                           train_loaders, n_iter_gan, device, global_params)\n",
    "        \n",
    "phi = 0.8\n",
    "for delta in range(0, 11, 2):\n",
    "\n",
    "    print(\"-\"*80)\n",
    "    print('EIGAN Training w/ phi={} and delta={}'.format(phi, delta))\n",
    "    print(\"-\"*80)\n",
    "    encoders['{}_{}'.format(phi, delta)] = distributed(NUM_NODES, phi, delta, \n",
    "                           X_trains, X_valids, \n",
    "                           y_1_trains, y_1_valids,\n",
    "                           y_2_trains, y_2_valids,\n",
    "                           input_size, hidden_size, output_size, \n",
    "                           alpha, lr_encd, lr_1, lr_2, w_1, w_2,\n",
    "                           train_loaders, n_iter_gan, device, global_params)"
   ]
  },
  {
   "cell_type": "code",
   "execution_count": null,
   "metadata": {},
   "outputs": [],
   "source": [
    "import pickle as pkl\n",
    "pkl.dump(encoders, open('encoders_numnodes_2_phi_delta_gaussian.pkl', 'wb'))"
   ]
  },
  {
   "cell_type": "code",
   "execution_count": null,
   "metadata": {},
   "outputs": [],
   "source": [
    "import pickle as pkl\n",
    "encoders = pkl.load(open('encoders_numnodes_2_phi_delta_gaussian.pkl', 'rb'))"
   ]
  },
  {
   "cell_type": "code",
   "execution_count": null,
   "metadata": {},
   "outputs": [],
   "source": [
    "X_train = torch.cat(X_trains, dim=0).to(device)\n",
    "X_valid = torch.cat(X_valids, dim=0).to(device)\n",
    "y_1_train = torch.cat(y_1_trains, dim=0).to(device)\n",
    "y_1_valid = torch.cat(y_1_valids, dim=0).to(device)\n",
    "y_2_train = torch.cat(y_2_trains, dim=0).to(device)\n",
    "y_2_valid = torch.cat(y_2_valids, dim=0).to(device)"
   ]
  },
  {
   "cell_type": "code",
   "execution_count": null,
   "metadata": {
    "scrolled": true
   },
   "outputs": [],
   "source": [
    "train_loader = DataLoader(TensorDataset(X_train, y_1_train, y_2_train), batch_size=128, shuffle=True)\n",
    "\n",
    "encoder = centralized(X_train, X_valid,\n",
    "                      y_1_train, y_1_valid,\n",
    "                      y_2_train, y_2_valid,\n",
    "                      input_size, hidden_size, output_size,\n",
    "                      alpha, lr_encd, lr_1, lr_2, w_1[0], w_2[0],\n",
    "                      train_loader, n_iter_gan, device)"
   ]
  },
  {
   "cell_type": "code",
   "execution_count": null,
   "metadata": {},
   "outputs": [],
   "source": [
    "import pickle as pkl\n",
    "pkl.dump(encoder, open('encoder_numnodes_2_phi_delta_gaussian.pkl', 'wb'))"
   ]
  },
  {
   "cell_type": "code",
   "execution_count": null,
   "metadata": {},
   "outputs": [],
   "source": [
    "import pickle as pkl\n",
    "encoder = pkl.load(open('encoder_numnodes_2_phi_delta_gaussian.pkl', 'rb'))"
   ]
  },
  {
   "cell_type": "code",
   "execution_count": null,
   "metadata": {
    "scrolled": true
   },
   "outputs": [],
   "source": [
    "print(\"-\"*80)\n",
    "print('ALLY: BASELINE')\n",
    "print(\"-\"*80)\n",
    "history['baseline_ally'] = metrics.centralized(None, \n",
    "                                             input_size, hidden_size, output_size, \n",
    "                                             X_train, X_valid, y_1_train, y_1_valid, \n",
    "                                             w_1[0], device)\n",
    "\n",
    "print(\"-\"*80)\n",
    "print('ADVERSARY: BASELINE')\n",
    "print(\"-\"*80)\n",
    "history['baseline_advr'] = metrics.centralized(None, \n",
    "                                             input_size, hidden_size, output_size, \n",
    "                                             X_train, X_valid, y_2_train, y_2_valid, \n",
    "                                             w_2[0], device)"
   ]
  },
  {
   "cell_type": "code",
   "execution_count": null,
   "metadata": {},
   "outputs": [],
   "source": [
    "NUM_NODES = 2\n",
    "X_trains = [_.to(device) for _ in X_trains]\n",
    "X_valids = [_.to(device) for _ in X_valids]\n",
    "y_1_trains = [_.to(device) for _ in y_1_trains]\n",
    "y_1_valids = [_.to(device) for _ in y_1_valids]\n",
    "y_2_trains = [_.to(device) for _ in y_2_trains]\n",
    "y_2_valids = [_.to(device) for _ in y_2_valids]"
   ]
  },
  {
   "cell_type": "code",
   "execution_count": null,
   "metadata": {
    "scrolled": true
   },
   "outputs": [],
   "source": [
    "print(\"-\"*80)\n",
    "print('ALLY: CENTRALIZED')\n",
    "print(\"-\"*80)\n",
    "history['centralized_ally'] = metrics.centralized(encoder, \n",
    "                                             input_size, hidden_size, output_size, \n",
    "                                             X_train, X_valid, y_1_train, y_1_valid, \n",
    "                                             w_1[0], device)\n",
    "\n",
    "print(\"-\"*80)\n",
    "print('ADVERSARY: CENTRALIZED')\n",
    "print(\"-\"*80)\n",
    "history['centralized_advr'] = metrics.centralized(encoder, \n",
    "                                             input_size, hidden_size, output_size, \n",
    "                                             X_train, X_valid, y_2_train, y_2_valid, \n",
    "                                             w_2[0], device)"
   ]
  },
  {
   "cell_type": "code",
   "execution_count": null,
   "metadata": {
    "scrolled": true
   },
   "outputs": [],
   "source": [
    "# for key, encd in encoders.items():\n",
    "delta = 2\n",
    "for phi in range(0, 11, 2):\n",
    "    phi /= 10\n",
    "    key = '{}_{}'.format(phi, delta)\n",
    "    encd = encoders[key]\n",
    "    print(\"-\"*80)\n",
    "    print('ALLY: {}'.format(key))\n",
    "    print(\"-\"*80)\n",
    "    history['decentralize_ally_{}'.format(key)] = metrics.distributed(encd, NUM_NODES,\n",
    "                                                         input_size, hidden_size, output_size, \n",
    "                                                         X_trains, X_valids, y_1_trains, y_1_valids, \n",
    "                                                         w_1[0], device)\n",
    "    print(\"-\"*80)\n",
    "    print('ADVERSARY: {}'.format(key))\n",
    "    print(\"-\"*80)\n",
    "    history['decentralized_advr_{}'.format(key)] = metrics.distributed(encd, NUM_NODES,\n",
    "                                                                     input_size, hidden_size, output_size, \n",
    "                                                                     X_trains, X_valids, y_2_trains, y_2_valids, \n",
    "                                                                     w_2[0], device)\n",
    "    \n",
    "phi = 0.8\n",
    "for delta in range(0, 11, 2):\n",
    "    key = '{}_{}'.format(phi, delta)\n",
    "    encd = encoders[key]\n",
    "    print(\"-\"*80)\n",
    "    print('ALLY: {}'.format(key))\n",
    "    print(\"-\"*80)\n",
    "    history['decentralize_ally_{}'.format(key)] = metrics.distributed(encd, NUM_NODES,\n",
    "                                                         input_size, hidden_size, output_size, \n",
    "                                                         X_trains, X_valids, y_1_trains, y_1_valids, \n",
    "                                                         w_1[0], device)\n",
    "    print(\"-\"*80)\n",
    "    print('ADVERSARY: {}'.format(key))\n",
    "    print(\"-\"*80)\n",
    "    history['decentralized_advr_{}'.format(key)] = metrics.distributed(encd, NUM_NODES,\n",
    "                                                                     input_size, hidden_size, output_size, \n",
    "                                                                     X_trains, X_valids, y_2_trains, y_2_valids, \n",
    "                                                                     w_2[0], device)"
   ]
  },
  {
   "cell_type": "code",
   "execution_count": null,
   "metadata": {},
   "outputs": [],
   "source": [
    "import pickle as pkl\n",
    "pkl.dump(history, open('history_numnodes_2_phi_delta_gaussian.pkl', 'wb'))"
   ]
  },
  {
   "cell_type": "code",
   "execution_count": null,
   "metadata": {},
   "outputs": [],
   "source": [
    "delta = 2\n",
    "baseline_ally = []\n",
    "baseline_advr = []\n",
    "eigan_ally = []\n",
    "eigan_advr = []\n",
    "dist_x = []\n",
    "dist_ally = []\n",
    "dist_advr = []\n",
    "\n",
    "tmp = history['baseline_ally'][3]\n",
    "baseline_ally.append(max(tmp['svm'], tmp['logistic'], tmp['mlp']))\n",
    "tmp = history['baseline_advr'][3]\n",
    "baseline_advr.append(max(tmp['svm'], tmp['logistic'], tmp['mlp']))\n",
    "tmp = history['centralized_ally'][3]\n",
    "eigan_ally.append(max(tmp['svm'], tmp['logistic'], tmp['mlp']))\n",
    "tmp = history['centralized_advr'][3]\n",
    "eigan_advr.append(max(tmp['svm'], tmp['logistic'], tmp['mlp']))\n",
    "\n",
    "fig, (ax2, ax1) = plt.subplots(1, 2, figsize=(10, 4))\n",
    "\n",
    "for phi in range(0, 11, 2):\n",
    "    phi /= 10\n",
    "    dist_x.append(phi)\n",
    "    tmp = history['decentralize_{}_{}_{}'.format('ally', phi, delta)][3]\n",
    "    dist_ally.append(max(tmp['svm'], tmp['logistic'], tmp['mlp']))\n",
    "    tmp = history['decentralized_{}_{}_{}'.format('advr', phi, delta)][3]\n",
    "    dist_advr.append(max(tmp['svm'], tmp['logistic'], tmp['mlp']))\n",
    "\n",
    "ax1.hlines(y=eigan_ally[0], xmin=-0.1, xmax=1.1, color='b', linestyle='dashed')\n",
    "ax1.hlines(y=eigan_advr[0], xmin=-0.1, xmax=1.1, color='r', linestyle='dashed')\n",
    "ax1.bar(np.array(dist_x)-0.025, dist_ally, width=0.05, color='b')\n",
    "ax1.bar(np.array(dist_x)+0.025, dist_advr, width=0.05, color='r')\n",
    "ax1.set_xticks(dist_x)\n",
    "ax1.set_xlim(left=-0.1, right=1.1)\n",
    "ax1.legend(['c-ally', 'c-adversary', 'd-ally', 'd-adversary'], loc='lower right')\n",
    "ax1.set_xlabel('fraction of parameters shared')\n",
    "ax1.set_ylabel('f1 score')\n",
    "ax1.set_title('(b)', y=-0.3)\n",
    "ax1.grid()\n",
    "\n",
    "phi = 0.8\n",
    "dist_x = []\n",
    "dist_ally = []\n",
    "dist_advr = []\n",
    "for delta in range(0, 11, 2):\n",
    "    dist_x.append(delta)\n",
    "    tmp = history['decentralize_{}_{}_{}'.format('ally', phi, delta)][3]\n",
    "    dist_ally.append(max(tmp['svm'], tmp['logistic'], tmp['mlp']))\n",
    "    tmp = history['decentralized_{}_{}_{}'.format('advr', phi, delta)][3]\n",
    "    dist_advr.append(max(tmp['svm'], tmp['logistic'], tmp['mlp']))\n",
    "\n",
    "ax2.hlines(y=eigan_ally[0], xmin=0, xmax=11, color='b', linestyle='dashed')\n",
    "ax2.hlines(y=eigan_advr[0], xmin=0, xmax=11, color='r', linestyle='dashed')\n",
    "ax2.bar(np.array(dist_x)-0.25, dist_ally, width=0.5, color='b')\n",
    "ax2.bar(np.array(dist_x)+0.25, dist_advr, width=0.5, color='r')\n",
    "ax2.set_xticks(dist_x)\n",
    "ax2.set_xlim(left=0, right=11)\n",
    "ax2.set_xlabel('frequency of sync')\n",
    "ax2.set_ylabel('f1 score')\n",
    "ax2.set_title('(a)', y=-.3)\n",
    "ax2.grid()\n",
    "\n",
    "plt.rcParams.update({'font.size': 14})\n",
    "fig.subplots_adjust(wspace=0.3)\n",
    "plt.savefig('distributed_eigan_comparison.png', bbox_inches='tight', dpi=300)"
   ]
  }
 ],
 "metadata": {
  "kernelspec": {
   "display_name": "Python 3",
   "language": "python",
   "name": "python3"
  },
  "language_info": {
   "codemirror_mode": {
    "name": "ipython",
    "version": 3
   },
   "file_extension": ".py",
   "mimetype": "text/x-python",
   "name": "python",
   "nbconvert_exporter": "python",
   "pygments_lexer": "ipython3",
   "version": "3.6.9"
  }
 },
 "nbformat": 4,
 "nbformat_minor": 4
}
