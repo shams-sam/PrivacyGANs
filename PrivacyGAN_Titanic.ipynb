{
 "cells": [
  {
   "cell_type": "markdown",
   "metadata": {},
   "source": [
    "# References\n",
    "\n",
    "### [sklearn]\n",
    "- https://www.kaggle.com/mchirico/quick-look-seaborn-wordcloud\n",
    "- https://stackabuse.com/implementing-pca-in-python-with-scikit-learn/\n",
    "- https://pandas.pydata.org/pandas-docs/stable/reference/api/pandas.DataFrame.plot.bar.html\n",
    "\n",
    "### [pytorch]\n",
    "- https://medium.com/biaslyai/pytorch-introduction-to-neural-network-feedforward-neural-network-model-e7231cff47cb"
   ]
  },
  {
   "cell_type": "code",
   "execution_count": 2,
   "metadata": {},
   "outputs": [],
   "source": [
    "import warnings\n",
    "warnings.filterwarnings(\"ignore\")"
   ]
  },
  {
   "cell_type": "code",
   "execution_count": 3,
   "metadata": {},
   "outputs": [],
   "source": [
    "from io import StringIO\n",
    "import matplotlib.pyplot as plt\n",
    "import math\n",
    "import numpy as np\n",
    "import pandas as pd\n",
    "import seaborn as sns\n",
    "from sklearn.decomposition import PCA\n",
    "from sklearn.feature_extraction.text import CountVectorizer\n",
    "from sklearn.model_selection import train_test_split\n",
    "from sklearn.preprocessing import OneHotEncoder, StandardScaler, minmax_scale\n",
    "from text_processing import text_preprocessing\n",
    "from wordcloud import WordCloud"
   ]
  },
  {
   "cell_type": "markdown",
   "metadata": {},
   "source": [
    "# Data Preparation\n",
    "\n",
    "- train-test split\n",
    "- batch-loading\n",
    "- data preparation for MIMIC from postgres\n",
    "- null handling = sMOTE or other conventional methods\n",
    "- auxilliary data for netflix needs to be collected"
   ]
  },
  {
   "cell_type": "markdown",
   "metadata": {},
   "source": [
    "### Dataset 01: Titanic\n",
    "- source: https://www.kaggle.com/c/titanic/data\n",
    "- predict the survival based on passenger information"
   ]
  },
  {
   "cell_type": "code",
   "execution_count": 4,
   "metadata": {},
   "outputs": [
    {
     "name": "stdout",
     "output_type": "stream",
     "text": [
      "179 rows with null values dropped\n",
      "712 rows of data available\n"
     ]
    },
    {
     "data": {
      "text/html": [
       "<div>\n",
       "<style scoped>\n",
       "    .dataframe tbody tr th:only-of-type {\n",
       "        vertical-align: middle;\n",
       "    }\n",
       "\n",
       "    .dataframe tbody tr th {\n",
       "        vertical-align: top;\n",
       "    }\n",
       "\n",
       "    .dataframe thead th {\n",
       "        text-align: right;\n",
       "    }\n",
       "</style>\n",
       "<table border=\"1\" class=\"dataframe\">\n",
       "  <thead>\n",
       "    <tr style=\"text-align: right;\">\n",
       "      <th></th>\n",
       "      <th>PassengerId</th>\n",
       "      <th>Survived</th>\n",
       "      <th>Pclass</th>\n",
       "      <th>Name</th>\n",
       "      <th>Sex</th>\n",
       "      <th>Age</th>\n",
       "      <th>SibSp</th>\n",
       "      <th>Parch</th>\n",
       "      <th>Ticket</th>\n",
       "      <th>Fare</th>\n",
       "      <th>Embarked</th>\n",
       "    </tr>\n",
       "  </thead>\n",
       "  <tbody>\n",
       "    <tr>\n",
       "      <th>0</th>\n",
       "      <td>1</td>\n",
       "      <td>0</td>\n",
       "      <td>3</td>\n",
       "      <td>Braund, Mr. Owen Harris</td>\n",
       "      <td>male</td>\n",
       "      <td>22.0</td>\n",
       "      <td>1</td>\n",
       "      <td>0</td>\n",
       "      <td>A/5 21171</td>\n",
       "      <td>7.2500</td>\n",
       "      <td>S</td>\n",
       "    </tr>\n",
       "    <tr>\n",
       "      <th>1</th>\n",
       "      <td>2</td>\n",
       "      <td>1</td>\n",
       "      <td>1</td>\n",
       "      <td>Cumings, Mrs. John Bradley (Florence Briggs Th...</td>\n",
       "      <td>female</td>\n",
       "      <td>38.0</td>\n",
       "      <td>1</td>\n",
       "      <td>0</td>\n",
       "      <td>PC 17599</td>\n",
       "      <td>71.2833</td>\n",
       "      <td>C</td>\n",
       "    </tr>\n",
       "    <tr>\n",
       "      <th>2</th>\n",
       "      <td>3</td>\n",
       "      <td>1</td>\n",
       "      <td>3</td>\n",
       "      <td>Heikkinen, Miss. Laina</td>\n",
       "      <td>female</td>\n",
       "      <td>26.0</td>\n",
       "      <td>0</td>\n",
       "      <td>0</td>\n",
       "      <td>STON/O2. 3101282</td>\n",
       "      <td>7.9250</td>\n",
       "      <td>S</td>\n",
       "    </tr>\n",
       "  </tbody>\n",
       "</table>\n",
       "</div>"
      ],
      "text/plain": [
       "   PassengerId  Survived  Pclass  \\\n",
       "0            1         0       3   \n",
       "1            2         1       1   \n",
       "2            3         1       3   \n",
       "\n",
       "                                                Name     Sex   Age  SibSp  \\\n",
       "0                            Braund, Mr. Owen Harris    male  22.0      1   \n",
       "1  Cumings, Mrs. John Bradley (Florence Briggs Th...  female  38.0      1   \n",
       "2                             Heikkinen, Miss. Laina  female  26.0      0   \n",
       "\n",
       "   Parch            Ticket     Fare Embarked  \n",
       "0      0         A/5 21171   7.2500        S  \n",
       "1      0          PC 17599  71.2833        C  \n",
       "2      0  STON/O2. 3101282   7.9250        S  "
      ]
     },
     "execution_count": 4,
     "metadata": {},
     "output_type": "execute_result"
    }
   ],
   "source": [
    "df_data = pd.read_csv('data/titanic.csv')\n",
    "len_prev = len(df_data)\n",
    "df_data.drop(['Cabin'], axis=1, inplace=True)\n",
    "df_data.dropna(inplace=True)\n",
    "len_curr = len(df_data)\n",
    "print(\"{} rows with null values dropped\".format(len_prev-len_curr))\n",
    "print(\"{} rows of data available\".format(len_curr))\n",
    "df_data.head(3)"
   ]
  },
  {
   "cell_type": "markdown",
   "metadata": {},
   "source": [
    "### Text Preprocessing\n",
    "- making text case insensitive\n",
    "- handling special characters\n",
    "- can possibly help match more columns in case of noisy data \n",
    "- standardize the categorical columns to prevent more dummy variables."
   ]
  },
  {
   "cell_type": "code",
   "execution_count": 5,
   "metadata": {},
   "outputs": [
    {
     "data": {
      "text/html": [
       "<div>\n",
       "<style scoped>\n",
       "    .dataframe tbody tr th:only-of-type {\n",
       "        vertical-align: middle;\n",
       "    }\n",
       "\n",
       "    .dataframe tbody tr th {\n",
       "        vertical-align: top;\n",
       "    }\n",
       "\n",
       "    .dataframe thead th {\n",
       "        text-align: right;\n",
       "    }\n",
       "</style>\n",
       "<table border=\"1\" class=\"dataframe\">\n",
       "  <thead>\n",
       "    <tr style=\"text-align: right;\">\n",
       "      <th></th>\n",
       "      <th>PassengerId</th>\n",
       "      <th>Survived</th>\n",
       "      <th>Pclass</th>\n",
       "      <th>Name</th>\n",
       "      <th>Sex</th>\n",
       "      <th>Age</th>\n",
       "      <th>SibSp</th>\n",
       "      <th>Parch</th>\n",
       "      <th>Ticket</th>\n",
       "      <th>Fare</th>\n",
       "      <th>Embarked</th>\n",
       "      <th>Name_preprocessed</th>\n",
       "      <th>Sex_preprocessed</th>\n",
       "      <th>Embarked_preprocessed</th>\n",
       "      <th>Ticket_preprocessed</th>\n",
       "    </tr>\n",
       "  </thead>\n",
       "  <tbody>\n",
       "    <tr>\n",
       "      <th>0</th>\n",
       "      <td>1</td>\n",
       "      <td>0</td>\n",
       "      <td>3</td>\n",
       "      <td>Braund, Mr. Owen Harris</td>\n",
       "      <td>male</td>\n",
       "      <td>22.0</td>\n",
       "      <td>1</td>\n",
       "      <td>0</td>\n",
       "      <td>A/5 21171</td>\n",
       "      <td>7.2500</td>\n",
       "      <td>S</td>\n",
       "      <td>braund mr owen harris</td>\n",
       "      <td>male</td>\n",
       "      <td>s</td>\n",
       "      <td>a 5 21171</td>\n",
       "    </tr>\n",
       "    <tr>\n",
       "      <th>1</th>\n",
       "      <td>2</td>\n",
       "      <td>1</td>\n",
       "      <td>1</td>\n",
       "      <td>Cumings, Mrs. John Bradley (Florence Briggs Th...</td>\n",
       "      <td>female</td>\n",
       "      <td>38.0</td>\n",
       "      <td>1</td>\n",
       "      <td>0</td>\n",
       "      <td>PC 17599</td>\n",
       "      <td>71.2833</td>\n",
       "      <td>C</td>\n",
       "      <td>cumings mrs john bradley florence briggs thayer</td>\n",
       "      <td>female</td>\n",
       "      <td>c</td>\n",
       "      <td>pc 17599</td>\n",
       "    </tr>\n",
       "    <tr>\n",
       "      <th>2</th>\n",
       "      <td>3</td>\n",
       "      <td>1</td>\n",
       "      <td>3</td>\n",
       "      <td>Heikkinen, Miss. Laina</td>\n",
       "      <td>female</td>\n",
       "      <td>26.0</td>\n",
       "      <td>0</td>\n",
       "      <td>0</td>\n",
       "      <td>STON/O2. 3101282</td>\n",
       "      <td>7.9250</td>\n",
       "      <td>S</td>\n",
       "      <td>heikkinen miss laina</td>\n",
       "      <td>female</td>\n",
       "      <td>s</td>\n",
       "      <td>ston o2 3101282</td>\n",
       "    </tr>\n",
       "  </tbody>\n",
       "</table>\n",
       "</div>"
      ],
      "text/plain": [
       "   PassengerId  Survived  Pclass  \\\n",
       "0            1         0       3   \n",
       "1            2         1       1   \n",
       "2            3         1       3   \n",
       "\n",
       "                                                Name     Sex   Age  SibSp  \\\n",
       "0                            Braund, Mr. Owen Harris    male  22.0      1   \n",
       "1  Cumings, Mrs. John Bradley (Florence Briggs Th...  female  38.0      1   \n",
       "2                             Heikkinen, Miss. Laina  female  26.0      0   \n",
       "\n",
       "   Parch            Ticket     Fare Embarked  \\\n",
       "0      0         A/5 21171   7.2500        S   \n",
       "1      0          PC 17599  71.2833        C   \n",
       "2      0  STON/O2. 3101282   7.9250        S   \n",
       "\n",
       "                                 Name_preprocessed Sex_preprocessed  \\\n",
       "0                            braund mr owen harris             male   \n",
       "1  cumings mrs john bradley florence briggs thayer           female   \n",
       "2                             heikkinen miss laina           female   \n",
       "\n",
       "  Embarked_preprocessed Ticket_preprocessed  \n",
       "0                     s           a 5 21171  \n",
       "1                     c            pc 17599  \n",
       "2                     s     ston o2 3101282  "
      ]
     },
     "execution_count": 5,
     "metadata": {},
     "output_type": "execute_result"
    }
   ],
   "source": [
    "for col in ['Name', 'Sex', 'Embarked', 'Ticket']:\n",
    "    df_data[col+'_preprocessed'] = list(map(text_preprocessing, df_data[col].tolist()))\n",
    "df_data.head(3)"
   ]
  },
  {
   "cell_type": "markdown",
   "metadata": {},
   "source": [
    "### Visualizations"
   ]
  },
  {
   "cell_type": "code",
   "execution_count": 6,
   "metadata": {},
   "outputs": [
    {
     "data": {
      "image/png": "[encoded data removed]",
      "text/plain": [
       "<Figure size 1440x720 with 6 Axes>"
      ]
     },
     "metadata": {
      "needs_background": "light"
     },
     "output_type": "display_data"
    }
   ],
   "source": [
    "categorical_columns = [\n",
    "    'Survived', \n",
    "    'Pclass', \n",
    "    'Sex', \n",
    "    'SibSp', \n",
    "    'Parch', \n",
    "    'Embarked'\n",
    "]\n",
    "\n",
    "num_cols = 3\n",
    "num_rows = math.ceil(len(categorical_columns)/3)\n",
    "\n",
    "plt.figure(figsize=(20, 5*num_rows))\n",
    "\n",
    "for col in range(len(categorical_columns)):    \n",
    "    plt.subplot(num_rows, num_cols, col+1)\n",
    "    df_data[categorical_columns[col]].value_counts(sort=False).plot(kind='bar')\n",
    "    plt.xlabel(categorical_columns[col])\n",
    "    plt.ylabel('Value Count')\n",
    "plt.show()"
   ]
  },
  {
   "cell_type": "code",
   "execution_count": 7,
   "metadata": {},
   "outputs": [
    {
     "data": {
      "image/png": "[encoded data removed]",
      "text/plain": [
       "<Figure size 1440x720 with 2 Axes>"
      ]
     },
     "metadata": {
      "needs_background": "light"
     },
     "output_type": "display_data"
    }
   ],
   "source": [
    "continuous_variables = [\n",
    "    'Age', \n",
    "    'Fare'\n",
    "]\n",
    "\n",
    "num_cols = 1\n",
    "num_rows = math.ceil(len(categorical_columns)/3)\n",
    "\n",
    "plt.figure(figsize=(20, 5*num_rows))\n",
    "\n",
    "for col in range(len(continuous_variables)):    \n",
    "    plt.subplot(num_rows, num_cols, col+1)\n",
    "    df_data[continuous_variables[col]].value_counts(bins=20, sort=True).plot(kind='barh')\n",
    "    plt.xlabel(continuous_variables[col])\n",
    "    plt.ylabel('Distribution')\n",
    "plt.show()\n"
   ]
  },
  {
   "cell_type": "code",
   "execution_count": 8,
   "metadata": {},
   "outputs": [
    {
     "data": {
      "image/png": "[encoded data removed]",
      "text/plain": [
       "<Figure size 1440x720 with 5 Axes>"
      ]
     },
     "metadata": {
      "needs_background": "light"
     },
     "output_type": "display_data"
    }
   ],
   "source": [
    "dist_columns = [\n",
    "    'Age',\n",
    "    'Fare',\n",
    "    'Pclass',\n",
    "    'SibSp',\n",
    "    'Parch'\n",
    "]\n",
    "\n",
    "num_cols = 3\n",
    "num_rows = math.ceil(len(dist_columns)/3)\n",
    "\n",
    "plt.figure(figsize=(20, 5*num_rows))\n",
    "\n",
    "for col in range(len(dist_columns)):    \n",
    "    plt.subplot(num_rows, num_cols, col+1)\n",
    "    sns.distplot(df_data[dist_columns[col]])\n",
    "    plt.xlabel(dist_columns[col])\n",
    "    plt.ylabel('Value Count')\n",
    "plt.show()"
   ]
  },
  {
   "cell_type": "code",
   "execution_count": 9,
   "metadata": {},
   "outputs": [
    {
     "data": {
      "image/png": "[encoded data removed]",
      "text/plain": [
       "<Figure size 720x1440 with 1 Axes>"
      ]
     },
     "metadata": {
      "needs_background": "light"
     },
     "output_type": "display_data"
    },
    {
     "data": {
      "image/png": "[encoded data removed]",
      "text/plain": [
       "<Figure size 720x1440 with 1 Axes>"
      ]
     },
     "metadata": {
      "needs_background": "light"
     },
     "output_type": "display_data"
    },
    {
     "data": {
      "image/png": "[encoded data removed]",
      "text/plain": [
       "<Figure size 720x1440 with 1 Axes>"
      ]
     },
     "metadata": {
      "needs_background": "light"
     },
     "output_type": "display_data"
    },
    {
     "data": {
      "image/png": "[encoded data removed]",
      "text/plain": [
       "<Figure size 720x1440 with 1 Axes>"
      ]
     },
     "metadata": {
      "needs_background": "light"
     },
     "output_type": "display_data"
    }
   ],
   "source": [
    "text_columns = ['Name', 'Name_preprocessed', 'Ticket', 'Ticket_preprocessed']\n",
    "\n",
    "for col in range(len(text_columns)):\n",
    "    si=StringIO()\n",
    "    df_data[text_columns[col]].apply(lambda x: si.write(str(x) + \" \"))\n",
    "    text=si.getvalue()\n",
    "    si.close()\n",
    "\n",
    "    wordcloud = WordCloud(width=1600, height=1600, max_words=100).generate(text)\n",
    "    wordcloud = WordCloud(\n",
    "        background_color=\"white\",\n",
    "        max_words=len(text),\n",
    "        max_font_size=40, \n",
    "        relative_scaling=.5\n",
    "    ).generate(text)\n",
    "    plt.figure(figsize=(10, 20))\n",
    "    plt.imshow(wordcloud)\n",
    "    plt.title(\"{}-{}\".format(str(len(wordcloud.words_)), text_columns[col]))\n",
    "    plt.axis(\"off\")\n",
    "    plt.show()"
   ]
  },
  {
   "cell_type": "markdown",
   "metadata": {},
   "source": [
    "### Definition of Ally and Adversary Variables.\n",
    "- Ally target: Survived\n",
    "- Adversary target: Sex\n",
    "- The choice of adversary target can be changed.\n",
    "- Chosen M/F here as it will be possible to have train-test split or k-fold validation"
   ]
  },
  {
   "cell_type": "code",
   "execution_count": 10,
   "metadata": {},
   "outputs": [
    {
     "data": {
      "text/html": [
       "<div>\n",
       "<style scoped>\n",
       "    .dataframe tbody tr th:only-of-type {\n",
       "        vertical-align: middle;\n",
       "    }\n",
       "\n",
       "    .dataframe tbody tr th {\n",
       "        vertical-align: top;\n",
       "    }\n",
       "\n",
       "    .dataframe thead th {\n",
       "        text-align: right;\n",
       "    }\n",
       "</style>\n",
       "<table border=\"1\" class=\"dataframe\">\n",
       "  <thead>\n",
       "    <tr style=\"text-align: right;\">\n",
       "      <th></th>\n",
       "      <th>PassengerId</th>\n",
       "      <th>Survived</th>\n",
       "      <th>Pclass</th>\n",
       "      <th>Name</th>\n",
       "      <th>Sex</th>\n",
       "      <th>Age</th>\n",
       "      <th>SibSp</th>\n",
       "      <th>Parch</th>\n",
       "      <th>Ticket</th>\n",
       "      <th>Fare</th>\n",
       "      <th>Embarked</th>\n",
       "    </tr>\n",
       "  </thead>\n",
       "  <tbody>\n",
       "    <tr>\n",
       "      <th>0</th>\n",
       "      <td>1</td>\n",
       "      <td>0</td>\n",
       "      <td>3</td>\n",
       "      <td>braund mr owen harris</td>\n",
       "      <td>male</td>\n",
       "      <td>22.0</td>\n",
       "      <td>1</td>\n",
       "      <td>0</td>\n",
       "      <td>a 5 21171</td>\n",
       "      <td>7.2500</td>\n",
       "      <td>s</td>\n",
       "    </tr>\n",
       "    <tr>\n",
       "      <th>1</th>\n",
       "      <td>2</td>\n",
       "      <td>1</td>\n",
       "      <td>1</td>\n",
       "      <td>cumings mrs john bradley florence briggs thayer</td>\n",
       "      <td>female</td>\n",
       "      <td>38.0</td>\n",
       "      <td>1</td>\n",
       "      <td>0</td>\n",
       "      <td>pc 17599</td>\n",
       "      <td>71.2833</td>\n",
       "      <td>c</td>\n",
       "    </tr>\n",
       "    <tr>\n",
       "      <th>2</th>\n",
       "      <td>3</td>\n",
       "      <td>1</td>\n",
       "      <td>3</td>\n",
       "      <td>heikkinen miss laina</td>\n",
       "      <td>female</td>\n",
       "      <td>26.0</td>\n",
       "      <td>0</td>\n",
       "      <td>0</td>\n",
       "      <td>ston o2 3101282</td>\n",
       "      <td>7.9250</td>\n",
       "      <td>s</td>\n",
       "    </tr>\n",
       "  </tbody>\n",
       "</table>\n",
       "</div>"
      ],
      "text/plain": [
       "   PassengerId  Survived  Pclass  \\\n",
       "0            1         0       3   \n",
       "1            2         1       1   \n",
       "2            3         1       3   \n",
       "\n",
       "                                              Name     Sex   Age  SibSp  \\\n",
       "0                            braund mr owen harris    male  22.0      1   \n",
       "1  cumings mrs john bradley florence briggs thayer  female  38.0      1   \n",
       "2                             heikkinen miss laina  female  26.0      0   \n",
       "\n",
       "   Parch           Ticket     Fare Embarked  \n",
       "0      0        a 5 21171   7.2500        s  \n",
       "1      0         pc 17599  71.2833        c  \n",
       "2      0  ston o2 3101282   7.9250        s  "
      ]
     },
     "execution_count": 10,
     "metadata": {},
     "output_type": "execute_result"
    }
   ],
   "source": [
    "for col in [\"Name\", \"Sex\", \"Embarked\", \"Ticket\"]:\n",
    "    df_data[col] = df_data[col+\"_preprocessed\"]\n",
    "    df_data.drop([col+\"_preprocessed\"], axis=1, inplace=True)\n",
    "df_data.head(3)"
   ]
  },
  {
   "cell_type": "code",
   "execution_count": 11,
   "metadata": {},
   "outputs": [
    {
     "data": {
      "text/html": [
       "<div>\n",
       "<style scoped>\n",
       "    .dataframe tbody tr th:only-of-type {\n",
       "        vertical-align: middle;\n",
       "    }\n",
       "\n",
       "    .dataframe tbody tr th {\n",
       "        vertical-align: top;\n",
       "    }\n",
       "\n",
       "    .dataframe thead th {\n",
       "        text-align: right;\n",
       "    }\n",
       "</style>\n",
       "<table border=\"1\" class=\"dataframe\">\n",
       "  <thead>\n",
       "    <tr style=\"text-align: right;\">\n",
       "      <th></th>\n",
       "      <th>PassengerId</th>\n",
       "      <th>Survived</th>\n",
       "      <th>Name</th>\n",
       "      <th>Age</th>\n",
       "      <th>Ticket</th>\n",
       "      <th>Fare</th>\n",
       "      <th>Sex_male</th>\n",
       "      <th>Pclass_1</th>\n",
       "      <th>Pclass_2</th>\n",
       "      <th>Pclass_3</th>\n",
       "      <th>...</th>\n",
       "      <th>Parch_0</th>\n",
       "      <th>Parch_1</th>\n",
       "      <th>Parch_2</th>\n",
       "      <th>Parch_3</th>\n",
       "      <th>Parch_4</th>\n",
       "      <th>Parch_5</th>\n",
       "      <th>Parch_6</th>\n",
       "      <th>Embarked_c</th>\n",
       "      <th>Embarked_q</th>\n",
       "      <th>Embarked_s</th>\n",
       "    </tr>\n",
       "  </thead>\n",
       "  <tbody>\n",
       "    <tr>\n",
       "      <th>0</th>\n",
       "      <td>1</td>\n",
       "      <td>0</td>\n",
       "      <td>braund mr owen harris</td>\n",
       "      <td>22.0</td>\n",
       "      <td>a 5 21171</td>\n",
       "      <td>7.2500</td>\n",
       "      <td>1</td>\n",
       "      <td>0</td>\n",
       "      <td>0</td>\n",
       "      <td>1</td>\n",
       "      <td>...</td>\n",
       "      <td>1</td>\n",
       "      <td>0</td>\n",
       "      <td>0</td>\n",
       "      <td>0</td>\n",
       "      <td>0</td>\n",
       "      <td>0</td>\n",
       "      <td>0</td>\n",
       "      <td>0</td>\n",
       "      <td>0</td>\n",
       "      <td>1</td>\n",
       "    </tr>\n",
       "    <tr>\n",
       "      <th>1</th>\n",
       "      <td>2</td>\n",
       "      <td>1</td>\n",
       "      <td>cumings mrs john bradley florence briggs thayer</td>\n",
       "      <td>38.0</td>\n",
       "      <td>pc 17599</td>\n",
       "      <td>71.2833</td>\n",
       "      <td>0</td>\n",
       "      <td>1</td>\n",
       "      <td>0</td>\n",
       "      <td>0</td>\n",
       "      <td>...</td>\n",
       "      <td>1</td>\n",
       "      <td>0</td>\n",
       "      <td>0</td>\n",
       "      <td>0</td>\n",
       "      <td>0</td>\n",
       "      <td>0</td>\n",
       "      <td>0</td>\n",
       "      <td>1</td>\n",
       "      <td>0</td>\n",
       "      <td>0</td>\n",
       "    </tr>\n",
       "    <tr>\n",
       "      <th>2</th>\n",
       "      <td>3</td>\n",
       "      <td>1</td>\n",
       "      <td>heikkinen miss laina</td>\n",
       "      <td>26.0</td>\n",
       "      <td>ston o2 3101282</td>\n",
       "      <td>7.9250</td>\n",
       "      <td>0</td>\n",
       "      <td>0</td>\n",
       "      <td>0</td>\n",
       "      <td>1</td>\n",
       "      <td>...</td>\n",
       "      <td>1</td>\n",
       "      <td>0</td>\n",
       "      <td>0</td>\n",
       "      <td>0</td>\n",
       "      <td>0</td>\n",
       "      <td>0</td>\n",
       "      <td>0</td>\n",
       "      <td>0</td>\n",
       "      <td>0</td>\n",
       "      <td>1</td>\n",
       "    </tr>\n",
       "    <tr>\n",
       "      <th>3</th>\n",
       "      <td>4</td>\n",
       "      <td>1</td>\n",
       "      <td>futrelle mrs jacques heath lily may peel</td>\n",
       "      <td>35.0</td>\n",
       "      <td>113803</td>\n",
       "      <td>53.1000</td>\n",
       "      <td>0</td>\n",
       "      <td>1</td>\n",
       "      <td>0</td>\n",
       "      <td>0</td>\n",
       "      <td>...</td>\n",
       "      <td>1</td>\n",
       "      <td>0</td>\n",
       "      <td>0</td>\n",
       "      <td>0</td>\n",
       "      <td>0</td>\n",
       "      <td>0</td>\n",
       "      <td>0</td>\n",
       "      <td>0</td>\n",
       "      <td>0</td>\n",
       "      <td>1</td>\n",
       "    </tr>\n",
       "    <tr>\n",
       "      <th>4</th>\n",
       "      <td>5</td>\n",
       "      <td>0</td>\n",
       "      <td>allen mr william henry</td>\n",
       "      <td>35.0</td>\n",
       "      <td>373450</td>\n",
       "      <td>8.0500</td>\n",
       "      <td>1</td>\n",
       "      <td>0</td>\n",
       "      <td>0</td>\n",
       "      <td>1</td>\n",
       "      <td>...</td>\n",
       "      <td>1</td>\n",
       "      <td>0</td>\n",
       "      <td>0</td>\n",
       "      <td>0</td>\n",
       "      <td>0</td>\n",
       "      <td>0</td>\n",
       "      <td>0</td>\n",
       "      <td>0</td>\n",
       "      <td>0</td>\n",
       "      <td>1</td>\n",
       "    </tr>\n",
       "  </tbody>\n",
       "</table>\n",
       "<p>5 rows × 26 columns</p>\n",
       "</div>"
      ],
      "text/plain": [
       "   PassengerId  Survived                                             Name  \\\n",
       "0            1         0                            braund mr owen harris   \n",
       "1            2         1  cumings mrs john bradley florence briggs thayer   \n",
       "2            3         1                             heikkinen miss laina   \n",
       "3            4         1         futrelle mrs jacques heath lily may peel   \n",
       "4            5         0                           allen mr william henry   \n",
       "\n",
       "    Age           Ticket     Fare  Sex_male  Pclass_1  Pclass_2  Pclass_3  \\\n",
       "0  22.0        a 5 21171   7.2500         1         0         0         1   \n",
       "1  38.0         pc 17599  71.2833         0         1         0         0   \n",
       "2  26.0  ston o2 3101282   7.9250         0         0         0         1   \n",
       "3  35.0           113803  53.1000         0         1         0         0   \n",
       "4  35.0           373450   8.0500         1         0         0         1   \n",
       "\n",
       "   ...  Parch_0  Parch_1  Parch_2  Parch_3  Parch_4  Parch_5  Parch_6  \\\n",
       "0  ...        1        0        0        0        0        0        0   \n",
       "1  ...        1        0        0        0        0        0        0   \n",
       "2  ...        1        0        0        0        0        0        0   \n",
       "3  ...        1        0        0        0        0        0        0   \n",
       "4  ...        1        0        0        0        0        0        0   \n",
       "\n",
       "   Embarked_c  Embarked_q  Embarked_s  \n",
       "0           0           0           1  \n",
       "1           1           0           0  \n",
       "2           0           0           1  \n",
       "3           0           0           1  \n",
       "4           0           0           1  \n",
       "\n",
       "[5 rows x 26 columns]"
      ]
     },
     "execution_count": 11,
     "metadata": {},
     "output_type": "execute_result"
    }
   ],
   "source": [
    "df_data = pd.get_dummies(df_data, columns=['Sex'], drop_first=True)\n",
    "df_data = pd.get_dummies(df_data, columns=['Pclass', 'SibSp', 'Parch', 'Embarked'])\n",
    "df_data.head()"
   ]
  },
  {
   "cell_type": "code",
   "execution_count": 12,
   "metadata": {},
   "outputs": [],
   "source": [
    "y_ally = np.array(df_data.Survived.tolist())\n",
    "y_advr = np.array(df_data.Sex_male.tolist())\n",
    "\n",
    "df_data.drop(['Survived', 'Sex_male'], axis=1, inplace=True)"
   ]
  },
  {
   "cell_type": "markdown",
   "metadata": {},
   "source": [
    "- using One hot encoding to convert the categorical data into dummy variables.\n",
    "- Alternatively: [Managing categorical variables in pandas dataframe](http://benalexkeen.com/mapping-categorical-data-in-pandas/)\n",
    "- Using count vectorizer to convert the text data into features based on bow model."
   ]
  },
  {
   "cell_type": "code",
   "execution_count": 13,
   "metadata": {},
   "outputs": [],
   "source": [
    "vectorizer = CountVectorizer()\n",
    "Name = vectorizer.fit_transform(df_data.Name.tolist()).toarray()\n",
    "vectorizer = CountVectorizer(vocabulary=wordcloud.words_.keys())\n",
    "Ticket = vectorizer.fit_transform(df_data.Ticket.tolist()).toarray()"
   ]
  },
  {
   "cell_type": "code",
   "execution_count": 14,
   "metadata": {},
   "outputs": [
    {
     "data": {
      "text/html": [
       "<div>\n",
       "<style scoped>\n",
       "    .dataframe tbody tr th:only-of-type {\n",
       "        vertical-align: middle;\n",
       "    }\n",
       "\n",
       "    .dataframe tbody tr th {\n",
       "        vertical-align: top;\n",
       "    }\n",
       "\n",
       "    .dataframe thead th {\n",
       "        text-align: right;\n",
       "    }\n",
       "</style>\n",
       "<table border=\"1\" class=\"dataframe\">\n",
       "  <thead>\n",
       "    <tr style=\"text-align: right;\">\n",
       "      <th></th>\n",
       "      <th>Age</th>\n",
       "      <th>Fare</th>\n",
       "      <th>Pclass_1</th>\n",
       "      <th>Pclass_2</th>\n",
       "      <th>Pclass_3</th>\n",
       "      <th>SibSp_0</th>\n",
       "      <th>SibSp_1</th>\n",
       "      <th>SibSp_2</th>\n",
       "      <th>SibSp_3</th>\n",
       "      <th>SibSp_4</th>\n",
       "      <th>...</th>\n",
       "      <th>Parch_0</th>\n",
       "      <th>Parch_1</th>\n",
       "      <th>Parch_2</th>\n",
       "      <th>Parch_3</th>\n",
       "      <th>Parch_4</th>\n",
       "      <th>Parch_5</th>\n",
       "      <th>Parch_6</th>\n",
       "      <th>Embarked_c</th>\n",
       "      <th>Embarked_q</th>\n",
       "      <th>Embarked_s</th>\n",
       "    </tr>\n",
       "  </thead>\n",
       "  <tbody>\n",
       "    <tr>\n",
       "      <th>0</th>\n",
       "      <td>22.0</td>\n",
       "      <td>7.2500</td>\n",
       "      <td>0</td>\n",
       "      <td>0</td>\n",
       "      <td>1</td>\n",
       "      <td>0</td>\n",
       "      <td>1</td>\n",
       "      <td>0</td>\n",
       "      <td>0</td>\n",
       "      <td>0</td>\n",
       "      <td>...</td>\n",
       "      <td>1</td>\n",
       "      <td>0</td>\n",
       "      <td>0</td>\n",
       "      <td>0</td>\n",
       "      <td>0</td>\n",
       "      <td>0</td>\n",
       "      <td>0</td>\n",
       "      <td>0</td>\n",
       "      <td>0</td>\n",
       "      <td>1</td>\n",
       "    </tr>\n",
       "    <tr>\n",
       "      <th>1</th>\n",
       "      <td>38.0</td>\n",
       "      <td>71.2833</td>\n",
       "      <td>1</td>\n",
       "      <td>0</td>\n",
       "      <td>0</td>\n",
       "      <td>0</td>\n",
       "      <td>1</td>\n",
       "      <td>0</td>\n",
       "      <td>0</td>\n",
       "      <td>0</td>\n",
       "      <td>...</td>\n",
       "      <td>1</td>\n",
       "      <td>0</td>\n",
       "      <td>0</td>\n",
       "      <td>0</td>\n",
       "      <td>0</td>\n",
       "      <td>0</td>\n",
       "      <td>0</td>\n",
       "      <td>1</td>\n",
       "      <td>0</td>\n",
       "      <td>0</td>\n",
       "    </tr>\n",
       "    <tr>\n",
       "      <th>2</th>\n",
       "      <td>26.0</td>\n",
       "      <td>7.9250</td>\n",
       "      <td>0</td>\n",
       "      <td>0</td>\n",
       "      <td>1</td>\n",
       "      <td>1</td>\n",
       "      <td>0</td>\n",
       "      <td>0</td>\n",
       "      <td>0</td>\n",
       "      <td>0</td>\n",
       "      <td>...</td>\n",
       "      <td>1</td>\n",
       "      <td>0</td>\n",
       "      <td>0</td>\n",
       "      <td>0</td>\n",
       "      <td>0</td>\n",
       "      <td>0</td>\n",
       "      <td>0</td>\n",
       "      <td>0</td>\n",
       "      <td>0</td>\n",
       "      <td>1</td>\n",
       "    </tr>\n",
       "  </tbody>\n",
       "</table>\n",
       "<p>3 rows × 21 columns</p>\n",
       "</div>"
      ],
      "text/plain": [
       "    Age     Fare  Pclass_1  Pclass_2  Pclass_3  SibSp_0  SibSp_1  SibSp_2  \\\n",
       "0  22.0   7.2500         0         0         1        0        1        0   \n",
       "1  38.0  71.2833         1         0         0        0        1        0   \n",
       "2  26.0   7.9250         0         0         1        1        0        0   \n",
       "\n",
       "   SibSp_3  SibSp_4  ...  Parch_0  Parch_1  Parch_2  Parch_3  Parch_4  \\\n",
       "0        0        0  ...        1        0        0        0        0   \n",
       "1        0        0  ...        1        0        0        0        0   \n",
       "2        0        0  ...        1        0        0        0        0   \n",
       "\n",
       "   Parch_5  Parch_6  Embarked_c  Embarked_q  Embarked_s  \n",
       "0        0        0           0           0           1  \n",
       "1        0        0           1           0           0  \n",
       "2        0        0           0           0           1  \n",
       "\n",
       "[3 rows x 21 columns]"
      ]
     },
     "execution_count": 14,
     "metadata": {},
     "output_type": "execute_result"
    }
   ],
   "source": [
    "df_data.drop(['PassengerId', 'Name', 'Ticket'], axis=1, inplace=True)\n",
    "df_data.head(3)"
   ]
  },
  {
   "cell_type": "code",
   "execution_count": 15,
   "metadata": {},
   "outputs": [
    {
     "data": {
      "text/plain": [
       "((712,), (712,), (712, 1324))"
      ]
     },
     "execution_count": 15,
     "metadata": {},
     "output_type": "execute_result"
    }
   ],
   "source": [
    "X = np.concatenate((df_data.values, Name, Ticket), axis=1)\n",
    "y_ally.shape, y_advr.shape, X.shape"
   ]
  },
  {
   "cell_type": "markdown",
   "metadata": {},
   "source": [
    "### Train Test Split\n",
    "\n",
    "- This step is required before the Scaling or PCA is learnt on the train dataset and then used to transform the test dataset."
   ]
  },
  {
   "cell_type": "code",
   "execution_count": 16,
   "metadata": {},
   "outputs": [
    {
     "data": {
      "text/plain": [
       "((640, 1324), (72, 1324), (640,), (72,), (640,), (72,))"
      ]
     },
     "execution_count": 16,
     "metadata": {},
     "output_type": "execute_result"
    }
   ],
   "source": [
    "X_train, X_valid, y_ally_train, y_ally_valid, y_advr_train, y_advr_valid = train_test_split(\n",
    "    X, \n",
    "    y_ally,\n",
    "    y_advr,\n",
    "    test_size=0.1,\n",
    "    stratify=pd.DataFrame(np.concatenate((y_ally.reshape(-1, 1), y_advr.reshape(-1, 1)), axis=1))\n",
    ")\n",
    "X_train.shape, X_valid.shape, y_ally_train.shape, y_ally_valid.shape, y_advr_train.shape, y_advr_valid.shape"
   ]
  },
  {
   "cell_type": "markdown",
   "metadata": {},
   "source": [
    "### Checking the distribution after the split"
   ]
  },
  {
   "cell_type": "code",
   "execution_count": 17,
   "metadata": {},
   "outputs": [
    {
     "data": {
      "image/png": "[encoded data removed]",
      "text/plain": [
       "<Figure size 1440x720 with 6 Axes>"
      ]
     },
     "metadata": {
      "needs_background": "light"
     },
     "output_type": "display_data"
    }
   ],
   "source": [
    "plt.figure(figsize=(20, 10))\n",
    "plt.subplot(2, 3, 1)\n",
    "pd.value_counts(y_ally).plot(kind='bar')\n",
    "plt.title('for y_ally')\n",
    "plt.subplot(2, 3, 2)\n",
    "pd.value_counts(y_ally_train).plot(kind='bar')\n",
    "plt.title('for y_ally_train')\n",
    "plt.subplot(2, 3, 3)\n",
    "pd.value_counts(y_ally_valid).plot(kind='bar')\n",
    "plt.title('for y_ally_valid')\n",
    "plt.subplot(2, 3, 4)\n",
    "pd.value_counts(y_advr).plot(kind='bar')\n",
    "plt.title('for y_advr')\n",
    "plt.subplot(2, 3, 5)\n",
    "pd.value_counts(y_advr_train).plot(kind='bar')\n",
    "plt.title('for y_advr_train')\n",
    "plt.subplot(2, 3, 6)\n",
    "pd.value_counts(y_advr_valid).plot(kind='bar')\n",
    "plt.title('for y_advr_valid')\n",
    "plt.show()"
   ]
  },
  {
   "cell_type": "markdown",
   "metadata": {},
   "source": [
    "### Scaler\n",
    "- Perform minmax scaling for removing the skewness which might effect the gradient descent during neural network training. \n",
    "- It is necessary to do this scaling before PCA is applied"
   ]
  },
  {
   "cell_type": "code",
   "execution_count": 18,
   "metadata": {},
   "outputs": [],
   "source": [
    "scaler = StandardScaler()\n",
    "X_train_normalized = scaler.fit_transform(X_train)\n",
    "X_valid_normalized = scaler.transform(X_valid)"
   ]
  },
  {
   "cell_type": "markdown",
   "metadata": {},
   "source": [
    "### Apply PCA and select components using explained variances"
   ]
  },
  {
   "cell_type": "code",
   "execution_count": 19,
   "metadata": {},
   "outputs": [],
   "source": [
    "pca = PCA()\n",
    "X_train_reduced = pca.fit_transform(X_train_normalized)"
   ]
  },
  {
   "cell_type": "code",
   "execution_count": 22,
   "metadata": {},
   "outputs": [
    {
     "name": "stdout",
     "output_type": "stream",
     "text": [
      "0.9900447873430933 588\n"
     ]
    }
   ],
   "source": [
    "num_components = 0\n",
    "total_var = 0\n",
    "variance_threshold = 0.99\n",
    "for _ in pca.explained_variance_ratio_:\n",
    "    total_var += _\n",
    "    num_components += 1\n",
    "    if total_var > variance_threshold:\n",
    "        break\n",
    "print(total_var, num_components)"
   ]
  },
  {
   "cell_type": "code",
   "execution_count": 23,
   "metadata": {},
   "outputs": [
    {
     "data": {
      "text/plain": [
       "((640, 588), (72, 588))"
      ]
     },
     "execution_count": 23,
     "metadata": {},
     "output_type": "execute_result"
    }
   ],
   "source": [
    "pca = PCA(n_components=num_components)\n",
    "X_train_reduced = pca.fit_transform(X_train_normalized)\n",
    "X_valid_reduced = pca.transform(X_valid_normalized)\n",
    "X_train_reduced.shape, X_valid_reduced.shape"
   ]
  },
  {
   "cell_type": "markdown",
   "metadata": {},
   "source": [
    "### Apply Auto-encoder for dimensionality reduction"
   ]
  },
  {
   "cell_type": "code",
   "execution_count": 24,
   "metadata": {},
   "outputs": [],
   "source": [
    "import torch\n",
    "import torch.utils.data as utils\n",
    "import torch.nn as nn"
   ]
  },
  {
   "cell_type": "code",
   "execution_count": 26,
   "metadata": {},
   "outputs": [
    {
     "name": "stdout",
     "output_type": "stream",
     "text": [
      "DType: torch.float32\n",
      "Cuda available: True\n",
      "Device: cuda\n"
     ]
    }
   ],
   "source": [
    "dtype = torch.float\n",
    "device = torch.device(\"cuda\") if torch.cuda.is_available() else torch.device(\"cpu\")\n",
    "\n",
    "print(\"DType: {}\\nCuda available: {}\\nDevice: {}\".format(\n",
    "    dtype.__str__(),\n",
    "    torch.cuda.is_available().__str__(),\n",
    "    device.__str__(),\n",
    "))\n",
    "\n",
    "X_train_torch = torch.Tensor(X_train_normalized)\n",
    "X_valid_torch = torch.Tensor(X_valid_normalized)\n",
    "y_ally_train_torch = torch.Tensor(y_ally_train.reshape(-1, 1))\n",
    "y_ally_valid_torch = torch.Tensor(y_ally_valid.reshape(-1, 1))\n",
    "y_advr_train_torch = torch.Tensor(y_advr_train.reshape(-1, 1))\n",
    "y_advr_valid_torch = torch.Tensor(y_advr_valid.reshape(-1, 1))"
   ]
  },
  {
   "cell_type": "code",
   "execution_count": 27,
   "metadata": {},
   "outputs": [
    {
     "data": {
      "text/plain": [
       "(torch.Size([640, 1324]),\n",
       " torch.Size([72, 1324]),\n",
       " torch.Size([640, 1]),\n",
       " torch.Size([72, 1]),\n",
       " torch.Size([640, 1]),\n",
       " torch.Size([72, 1]))"
      ]
     },
     "execution_count": 27,
     "metadata": {},
     "output_type": "execute_result"
    }
   ],
   "source": [
    "X_train_torch.shape, X_valid_torch.shape, \\\n",
    "y_ally_train_torch.shape, y_ally_valid_torch.shape, \\\n",
    "y_advr_train_torch.shape, y_advr_valid_torch.shape"
   ]
  },
  {
   "cell_type": "code",
   "execution_count": 37,
   "metadata": {},
   "outputs": [],
   "source": [
    "class AutoEncoder(torch.nn.Module):\n",
    "    def __init__(self, input_size, encoding_dim):\n",
    "        super(AutoEncoder, self).__init__()\n",
    "        self.input_size = input_size\n",
    "        self.encoding_dim = encoding_dim\n",
    "        \n",
    "        self.fc1 = torch.nn.Linear(self.input_size, self.encoding_dim)\n",
    "        self.relu = torch.nn.ReLU()\n",
    "        self.fc2 = torch.nn.Linear(self.encoding_dim, self.input_size)\n",
    "        self.sigmoid = torch.nn.Sigmoid()\n",
    "        \n",
    "    def encoder(self, x):\n",
    "        return self.relu(self.fc1(x))\n",
    "\n",
    "    def decoder(self, y):\n",
    "        return self.sigmoid(self.fc2(y))\n",
    "    \n",
    "    def forward(self, x):\n",
    "        y = self.encoder(x)\n",
    "        x = self.decoder(y)\n",
    "        return x"
   ]
  },
  {
   "cell_type": "code",
   "execution_count": 42,
   "metadata": {},
   "outputs": [],
   "source": [
    "auto_encoder = AutoEncoder(input_size=1324, encoding_dim=588)\n",
    "\n",
    "criterion = torch.nn.BCEWithLogitsLoss()\n",
    "optimizer = torch.optim.Adam\n",
    "ae_optimizer = optimizer(auto_encoder.parameters(), lr = 0.001)"
   ]
  },
  {
   "cell_type": "code",
   "execution_count": 43,
   "metadata": {},
   "outputs": [
    {
     "name": "stdout",
     "output_type": "stream",
     "text": [
      "epoch \t Aencoder_train \t Aencoder_valid\n",
      "0 \t 0.97379804 \t 0.97213018\n",
      "50 \t 0.68155843 \t 0.69776261\n",
      "100 \t 0.67480820 \t 0.69400716\n",
      "150 \t 0.67147642 \t 0.69119143\n",
      "200 \t 0.66936797 \t 0.68943208\n",
      "250 \t 0.66785812 \t 0.68838054\n",
      "300 \t 0.66669595 \t 0.68768883\n",
      "350 \t 0.66587806 \t 0.68687105\n",
      "400 \t 0.66525918 \t 0.68648827\n",
      "450 \t 0.66442877 \t 0.68622351\n",
      "500 \t 0.66395754 \t 0.68590081\n"
     ]
    }
   ],
   "source": [
    "print(\"epoch \\t Aencoder_train \\t Aencoder_valid\")\n",
    "\n",
    "for epoch in range(501):\n",
    "    auto_encoder.train()\n",
    "    ae_optimizer.zero_grad()\n",
    "    \n",
    "    X_train_torch_hat = auto_encoder(X_train_torch)\n",
    "    ae_loss = criterion(X_train_torch_hat, X_train_torch)\n",
    "    ae_loss.backward(retain_graph=True)\n",
    "    ae_optimizer.step()\n",
    "    \n",
    "    if epoch%50!=0:\n",
    "        continue\n",
    "        \n",
    "    auto_encoder.eval()\n",
    "    \n",
    "    X_valid_torch_hat = auto_encoder(X_valid_torch)\n",
    "    ae_valid_loss = criterion(X_valid_torch_hat, X_valid_torch)\n",
    "    \n",
    "    print('{} \\t {:.8f} \\t {:.8f}'.format(\n",
    "        epoch, \n",
    "        ae_loss.item(),\n",
    "        ae_valid_loss\n",
    "    ))"
   ]
  },
  {
   "cell_type": "code",
   "execution_count": 44,
   "metadata": {},
   "outputs": [
    {
     "data": {
      "text/plain": [
       "(torch.Size([640, 588]), torch.Size([72, 588]))"
      ]
     },
     "execution_count": 44,
     "metadata": {},
     "output_type": "execute_result"
    }
   ],
   "source": [
    "auto_encoder.eval()\n",
    "X_train_torch_ae = auto_encoder.encoder(X_train_torch)\n",
    "X_valid_torch_ae = auto_encoder.encoder(X_valid_torch)\n",
    "X_train_torch_ae.shape, X_valid_torch_ae.shape"
   ]
  },
  {
   "cell_type": "markdown",
   "metadata": {},
   "source": [
    "# GAN using Pytorch\n",
    "\n",
    "- [\"**Learning Informative and Private Representations via Generative Adversarial Networks**\"](http://www.princeton.edu/~pmittal/publications/gan-bigdata18.pdf)"
   ]
  },
  {
   "cell_type": "markdown",
   "metadata": {},
   "source": [
    "### GAN V1\n",
    "\n",
    "```python\n",
    "encd_N = 64 \n",
    "encd_D_in = X.shape[1]\n",
    "encd_H = int(encd_D_in/2)\n",
    "encd_D_out = 64\n",
    "\n",
    "# encoder\n",
    "encd_w1 = torch.randn(encd_D_in, encd_H, device=device, dtype=dtype, requires_grad=True)\n",
    "encd_w2 = torch.randn(encd_H, encd_D_out, device=device, dtype=dtype, requires_grad=True)\n",
    "\n",
    "ally_N = 64 \n",
    "ally_D_in = encd_D_out\n",
    "ally_H = int(ally_D_in/2)\n",
    "ally_D_out = 1\n",
    "\n",
    "# ally\n",
    "ally_w1 = torch.randn(ally_D_in, ally_H, device=device, dtype=dtype, requires_grad=True)\n",
    "ally_w2 = torch.randn(ally_H, ally_D_out, device=device, dtype=dtype, requires_grad=True)\n",
    "\n",
    "advr_N = 64 \n",
    "advr_D_in = encd_D_out\n",
    "advr_H = int(advr_D_in/2)\n",
    "advr_D_out = 2\n",
    "\n",
    "# advr\n",
    "advr_w1 = torch.randn(advr_D_in, advr_H, device=device, dtype=dtype, requires_grad=True)\n",
    "advr_w2 = torch.randn(advr_H, advr_D_out, device=device, dtype=dtype, requires_grad=True)\n",
    "```"
   ]
  },
  {
   "cell_type": "markdown",
   "metadata": {},
   "source": [
    "### GAN V2"
   ]
  },
  {
   "cell_type": "code",
   "execution_count": 31,
   "metadata": {},
   "outputs": [],
   "source": [
    "class Encoder(torch.nn.Module):\n",
    "    def __init__(self, input_size, hidden_size, output_size):\n",
    "        super(Encoder, self).__init__()\n",
    "        self.input_size = input_size\n",
    "        self.hidden_size = hidden_size\n",
    "        self.output_size = output_size\n",
    "        self.fc1 = torch.nn.Linear(self.input_size, self.hidden_size)\n",
    "        self.relu = torch.nn.ReLU()\n",
    "        self.fc2 = torch.nn.Linear(self.hidden_size, self.output_size)\n",
    "        self.sigmoid = torch.nn.Sigmoid()\n",
    "    def forward(self, x):\n",
    "        hidden = self.fc1(x)\n",
    "        relu = self.relu(hidden)\n",
    "        output = self.fc2(relu)\n",
    "        output = self.sigmoid(output)\n",
    "        return output\n",
    "\n",
    "\n",
    "class Ally(torch.nn.Module):\n",
    "    def __init__(self, input_size, hidden_size, output_size):\n",
    "        super(Ally, self).__init__()\n",
    "        self.input_size = input_size\n",
    "        self.hidden_size = hidden_size\n",
    "        self.output_size = output_size\n",
    "        self.fc1 = torch.nn.Linear(self.input_size, self.hidden_size)\n",
    "        self.relu = torch.nn.ReLU()\n",
    "        self.fc2 = torch.nn.Linear(self.hidden_size, 1)\n",
    "        self.sigmoid = torch.nn.Sigmoid()\n",
    "    def forward(self, x):\n",
    "        hidden = self.fc1(x)\n",
    "        relu = self.relu(hidden)\n",
    "        output = self.fc2(relu)\n",
    "        output = self.sigmoid(output)\n",
    "        return output\n",
    "\n",
    "\n",
    "class Adversary(torch.nn.Module):\n",
    "    def __init__(self, input_size, hidden_size, output_size):\n",
    "        super(Adversary, self).__init__()\n",
    "        self.input_size = input_size\n",
    "        self.hidden_size = hidden_size\n",
    "        self.output_size = output_size\n",
    "        self.fc1 = torch.nn.Linear(self.input_size, self.hidden_size)\n",
    "        self.relu = torch.nn.ReLU()\n",
    "        self.fc2 = torch.nn.Linear(self.hidden_size, self.output_size)\n",
    "        self.sigmoid = torch.nn.Sigmoid()\n",
    "        \n",
    "    def forward(self, x):\n",
    "        hidden = self.fc1(x)\n",
    "        relu = self.relu(hidden)\n",
    "        output = self.fc2(relu)\n",
    "        output = self.sigmoid(output)\n",
    "        return output"
   ]
  },
  {
   "cell_type": "code",
   "execution_count": 32,
   "metadata": {},
   "outputs": [],
   "source": [
    "alpha = 0.5"
   ]
  },
  {
   "cell_type": "code",
   "execution_count": 33,
   "metadata": {},
   "outputs": [],
   "source": [
    "encoding_dimension = 586\n",
    "encoder = Encoder(input_size=X_train_torch.shape[1], hidden_size=1024, output_size=encoding_dimension)\n",
    "ally = Ally(input_size=encoding_dimension, hidden_size=128, output_size=y_ally_train_torch.shape[1])\n",
    "adversary = Adversary(input_size=encoding_dimension, hidden_size=128, output_size=y_advr_train_torch.shape[1])\n",
    "\n",
    "criterion = torch.nn.BCEWithLogitsLoss()\n",
    "optimizer = torch.optim.Adam\n",
    "encd_optimizer = optimizer(encoder.parameters(), lr = 0.001)\n",
    "ally_optimizer = optimizer(ally.parameters(), lr=0.001)\n",
    "advr_optimizer = optimizer(adversary.parameters(), lr=0.001)"
   ]
  },
  {
   "cell_type": "code",
   "execution_count": 152,
   "metadata": {},
   "outputs": [
    {
     "name": "stdout",
     "output_type": "stream",
     "text": [
      "epoch \t encoder_train \t encoder_valid \t ally_train \t ally_valid \t advr_train \t advr_valid\n",
      "0 \t 0.06445310 \t 1.06223249 \t 0.69409955 \t 0.69385648 \t 0.65343469 \t 0.66117537\n",
      "50 \t 0.04634932 \t 1.07822239 \t 0.64804953 \t 0.68969214 \t 0.60103512 \t 0.62705272\n",
      "100 \t -0.05582017 \t 0.82976288 \t 0.54399967 \t 0.68993145 \t 0.65560859 \t 0.68166423\n",
      "150 \t -0.06136438 \t 0.82072324 \t 0.56200117 \t 0.69706953 \t 0.68476331 \t 0.69164532\n",
      "200 \t -0.05749002 \t 0.82985121 \t 0.56078178 \t 0.68740332 \t 0.67576182 \t 0.68826175\n",
      "250 \t -0.05749029 \t 0.82985044 \t 0.56078124 \t 0.68503571 \t 0.67576182 \t 0.68826175\n",
      "300 \t -0.05749032 \t 0.82985038 \t 0.56078118 \t 0.68431026 \t 0.67576182 \t 0.68826175\n",
      "350 \t -0.05749035 \t 0.82985026 \t 0.56078112 \t 0.68392032 \t 0.67576182 \t 0.68826175\n",
      "400 \t -0.05749038 \t 0.82985020 \t 0.56078106 \t 0.68366295 \t 0.67576182 \t 0.68826175\n",
      "450 \t -0.05749041 \t 0.82985008 \t 0.56078100 \t 0.68346983 \t 0.67576182 \t 0.68826175\n",
      "500 \t -0.05749041 \t 0.82985008 \t 0.56078100 \t 0.68331003 \t 0.67576182 \t 0.68826175\n"
     ]
    }
   ],
   "source": [
    "print(\"epoch \\t encoder_train \\t encoder_valid \\t ally_train \\t ally_valid \\t advr_train \\t advr_valid\")\n",
    "\n",
    "for epoch in range(501):\n",
    "    # set for training\n",
    "    encoder.train()\n",
    "    ally.train()\n",
    "    adversary.train()\n",
    "    \n",
    "    encd_optimizer.zero_grad()\n",
    "    # Forward passv\n",
    "    X_train_encoding = encoder(X_train_torch)\n",
    "    y_ally_train_torch_hat = ally(X_train_encoding)\n",
    "    y_advr_train_torch_hat = adversary(X_train_encoding)\n",
    "    # Compute Loss\n",
    "    ally_loss = criterion(y_ally_train_torch_hat, y_ally_train_torch)\n",
    "    advr_loss = criterion(y_advr_train_torch_hat, y_advr_train_torch)\n",
    "    encd_loss = alpha * ally_loss - (1-alpha) * advr_loss\n",
    "    # Backward pass\n",
    "    encd_loss.backward(retain_graph=True)\n",
    "    encd_optimizer.step()\n",
    "\n",
    "    for i in range(10):\n",
    "        ally_optimizer.zero_grad()\n",
    "        advr_optimizer.zero_grad()\n",
    "\n",
    "        X_train_encoding = encoder(X_train_torch)\n",
    "        y_ally_train_torch_hat = ally(X_train_encoding)\n",
    "        y_advr_train_torch_hat = adversary(X_train_encoding)\n",
    "        \n",
    "        ally_loss = criterion(y_ally_train_torch_hat, y_ally_train_torch)\n",
    "        advr_loss = criterion(y_advr_train_torch_hat, y_advr_train_torch)\n",
    "        \n",
    "        ally_loss.backward(retain_graph=True)\n",
    "        advr_loss.backward(retain_graph=True)\n",
    "\n",
    "        ally_optimizer.step()\n",
    "        advr_optimizer.step()\n",
    "        \n",
    "    if epoch%50!=0:\n",
    "        continue\n",
    "\n",
    "    # set for eval\n",
    "    encoder.eval()\n",
    "    ally.eval()\n",
    "    adversary.eval()\n",
    "    \n",
    "    X_valid_encoding = encoder(X_valid_torch)\n",
    "    y_ally_valid_torch_hat = ally(X_valid_encoding)\n",
    "    y_advr_valid_torch_hat = adversary(X_valid_encoding)\n",
    "\n",
    "    ally_valid_loss = criterion(y_ally_valid_torch_hat, y_ally_valid_torch)\n",
    "    advr_valid_loss = criterion(y_advr_valid_torch_hat, y_advr_valid_torch)\n",
    "    encd_valid_loss = alpha * ally_loss / ((1-alpha) * advr_loss)\n",
    "        \n",
    "    print('{} \\t {:.8f} \\t {:.8f} \\t {:.8f} \\t {:.8f} \\t {:.8f} \\t {:.8f}'.format(\n",
    "        epoch, \n",
    "        encd_loss.item(),\n",
    "        encd_valid_loss,\n",
    "        ally_loss.item(), \n",
    "        ally_valid_loss,\n",
    "        advr_loss.item(),\n",
    "        advr_valid_loss,\n",
    "    ))"
   ]
  },
  {
   "cell_type": "markdown",
   "metadata": {},
   "source": [
    "# Ally and Adversary Learning on Encoded Data"
   ]
  },
  {
   "cell_type": "code",
   "execution_count": 153,
   "metadata": {},
   "outputs": [
    {
     "data": {
      "text/plain": [
       "(torch.Size([640, 586]), torch.Size([72, 586]))"
      ]
     },
     "execution_count": 153,
     "metadata": {},
     "output_type": "execute_result"
    }
   ],
   "source": [
    "X_train_encoded = encoder(X_train_torch)\n",
    "X_valid_encoded = encoder(X_valid_torch)\n",
    "X_train_encoded.shape, X_valid_encoded.shape"
   ]
  },
  {
   "cell_type": "code",
   "execution_count": 154,
   "metadata": {},
   "outputs": [
    {
     "data": {
      "text/plain": [
       "((640, 586), (72, 586))"
      ]
     },
     "execution_count": 154,
     "metadata": {},
     "output_type": "execute_result"
    }
   ],
   "source": [
    "X_train_reduced.shape, X_valid_reduced.shape"
   ]
  },
  {
   "cell_type": "code",
   "execution_count": 155,
   "metadata": {},
   "outputs": [
    {
     "data": {
      "text/plain": [
       "(torch.Size([640, 1]), torch.Size([72, 1]))"
      ]
     },
     "execution_count": 155,
     "metadata": {},
     "output_type": "execute_result"
    }
   ],
   "source": [
    "y_ally_train_torch.shape, y_ally_valid_torch.shape"
   ]
  },
  {
   "cell_type": "code",
   "execution_count": 46,
   "metadata": {},
   "outputs": [],
   "source": [
    "class Network(torch.nn.Module):\n",
    "    def __init__(self, input_size, hidden_size, output_size):\n",
    "        super(Network, self).__init__()\n",
    "        self.input_size = input_size\n",
    "        self.hidden_size = hidden_size\n",
    "        self.output_size = output_size\n",
    "        self.fc1 = torch.nn.Linear(self.input_size, self.hidden_size)\n",
    "        self.relu = torch.nn.ReLU()\n",
    "        self.fc2 = torch.nn.Linear(self.hidden_size, output_size)\n",
    "        self.sigmoid = torch.nn.Sigmoid()\n",
    "        \n",
    "    def forward(self, x):\n",
    "        hidden = self.fc1(x)\n",
    "        relu = self.sigmoid(hidden)\n",
    "        output = self.fc2(relu)\n",
    "        output = self.sigmoid(output)\n",
    "        return output"
   ]
  },
  {
   "cell_type": "code",
   "execution_count": 157,
   "metadata": {},
   "outputs": [
    {
     "name": "stdout",
     "output_type": "stream",
     "text": [
      "epoch \t ally_train \t ally_valid\n",
      "0 \t 0.76707399 \t 0.69711125\n",
      "50 \t 0.57872862 \t 0.69281191\n",
      "100 \t 0.56094491 \t 0.68535924\n",
      "150 \t 0.56086284 \t 0.68441713\n",
      "200 \t 0.56083727 \t 0.68421483\n",
      "250 \t 0.56082231 \t 0.68404013\n",
      "300 \t 0.56081313 \t 0.68390518\n",
      "350 \t 0.56080699 \t 0.68378955\n",
      "400 \t 0.56080252 \t 0.68368292\n",
      "450 \t 0.56079912 \t 0.68358135\n",
      "500 \t 0.56079662 \t 0.68348598\n"
     ]
    }
   ],
   "source": [
    "lr = 0.01\n",
    "\n",
    "network = Network(586, 128, 1)\n",
    "\n",
    "criterion = torch.nn.BCEWithLogitsLoss()\n",
    "optimizer = torch.optim.Adam\n",
    "net_optimizer = optimizer(network.parameters(), lr=lr)    \n",
    "\n",
    "print(\"epoch \\t ally_train \\t ally_valid\")\n",
    "\n",
    "for epoch in range(501):\n",
    "    network.train()\n",
    "    net_optimizer.zero_grad()\n",
    "    \n",
    "    y_ally_train_torch_hat = network(X_train_encoded)\n",
    "    loss = criterion(y_ally_train_torch_hat, y_ally_train_torch)\n",
    "    loss.backward(retain_graph = True)\n",
    "    net_optimizer.step()\n",
    "\n",
    "    if (epoch)%50!=0:\n",
    "        continue\n",
    "    \n",
    "    # set for eval\n",
    "    network.eval()\n",
    "    y_ally_valid_torch_hat = network(X_valid_encoded)\n",
    "    ally_valid_loss = criterion(y_ally_valid_torch_hat, y_ally_valid_torch)\n",
    "    \n",
    "    print('{} \\t {:.8f} \\t {:.8f}'.format(\n",
    "        epoch,  \n",
    "        loss.item(),\n",
    "        ally_valid_loss\n",
    "    ))"
   ]
  },
  {
   "cell_type": "code",
   "execution_count": 158,
   "metadata": {},
   "outputs": [
    {
     "name": "stdout",
     "output_type": "stream",
     "text": [
      "epoch \t advr_train \t advr_valid\n",
      "0 \t 0.65722281 \t 0.65887523\n",
      "50 \t 0.57263184 \t 0.64836919\n",
      "100 \t 0.51717401 \t 0.64483142\n",
      "150 \t 0.49495667 \t 0.62840039\n",
      "200 \t 0.48336449 \t 0.61452413\n",
      "250 \t 0.47725582 \t 0.60762876\n",
      "300 \t 0.47342277 \t 0.60279089\n",
      "350 \t 0.47066832 \t 0.60003889\n",
      "400 \t 0.46868688 \t 0.59716433\n",
      "450 \t 0.46715945 \t 0.59479982\n",
      "500 \t 0.46577516 \t 0.59206682\n"
     ]
    }
   ],
   "source": [
    "lr = 0.001\n",
    "\n",
    "network_advr = Network(586, 128, 1)\n",
    "\n",
    "criterion = torch.nn.BCEWithLogitsLoss()\n",
    "optimizer = torch.optim.Adam\n",
    "net_optimizer = optimizer(network_advr.parameters(), lr=lr)    \n",
    "\n",
    "print(\"epoch \\t advr_train \\t advr_valid\")\n",
    "\n",
    "for epoch in range(501):\n",
    "    network_advr.train()\n",
    "    net_optimizer.zero_grad()\n",
    "    \n",
    "    y_advr_train_torch_hat = network_advr(X_train_encoded)\n",
    "    loss = criterion(y_advr_train_torch_hat, y_advr_train_torch)\n",
    "    loss.backward(retain_graph = True)\n",
    "    net_optimizer.step()\n",
    "\n",
    "    if (epoch)%50!=0:\n",
    "        continue\n",
    "    \n",
    "    # set for eval\n",
    "    network_advr.eval()\n",
    "    y_advr_valid_torch_hat = network_advr(X_valid_encoded)\n",
    "    advr_valid_loss = criterion(y_advr_valid_torch_hat, y_advr_valid_torch)\n",
    "    \n",
    "    print('{} \\t {:.8f} \\t {:.8f}'.format(\n",
    "        epoch,  \n",
    "        loss.item(),\n",
    "        advr_valid_loss\n",
    "    ))"
   ]
  },
  {
   "cell_type": "markdown",
   "metadata": {},
   "source": [
    "# Ally and Adversary Learning on PCA Data"
   ]
  },
  {
   "cell_type": "code",
   "execution_count": 159,
   "metadata": {},
   "outputs": [],
   "source": [
    "X_train_pca_torch = torch.Tensor(X_train_reduced)\n",
    "X_valid_pca_torch = torch.Tensor(X_valid_reduced)"
   ]
  },
  {
   "cell_type": "code",
   "execution_count": 160,
   "metadata": {},
   "outputs": [
    {
     "name": "stdout",
     "output_type": "stream",
     "text": [
      "epoch \t ally_train \t ally_valid\n",
      "0 \t 0.75883895 \t 0.72257191\n",
      "50 \t 0.54731607 \t 0.68798012\n",
      "100 \t 0.54653543 \t 0.69100267\n",
      "150 \t 0.54545796 \t 0.69158185\n",
      "200 \t 0.54482198 \t 0.69177139\n",
      "250 \t 0.54480267 \t 0.69185305\n",
      "300 \t 0.54479188 \t 0.69198304\n",
      "350 \t 0.54478472 \t 0.69215852\n",
      "400 \t 0.54477942 \t 0.69230789\n",
      "450 \t 0.54477566 \t 0.69246650\n",
      "500 \t 0.54477274 \t 0.69263625\n"
     ]
    }
   ],
   "source": [
    "lr = 0.01\n",
    "\n",
    "network_ally_pca = Network(586, 128, 1)\n",
    "\n",
    "criterion = torch.nn.BCEWithLogitsLoss()\n",
    "optimizer = torch.optim.Adam\n",
    "net_optimizer = optimizer(network_ally_pca.parameters(), lr=lr)    \n",
    "\n",
    "print(\"epoch \\t ally_train \\t ally_valid\")\n",
    "\n",
    "for epoch in range(501):\n",
    "    network_ally_pca.train()\n",
    "    net_optimizer.zero_grad()\n",
    "    \n",
    "    y_ally_train_torch_hat = network_ally_pca(X_train_pca_torch)\n",
    "    loss = criterion(y_ally_train_torch_hat, y_ally_train_torch)\n",
    "    loss.backward(retain_graph = True)\n",
    "    net_optimizer.step()\n",
    "\n",
    "    if (epoch)%50!=0:\n",
    "        continue\n",
    "    \n",
    "    # set for eval\n",
    "    network_ally_pca.eval()\n",
    "    y_ally_valid_torch_hat = network_ally_pca(X_valid_pca_torch)\n",
    "    ally_valid_loss = criterion(y_ally_valid_torch_hat, y_ally_valid_torch)\n",
    "    \n",
    "    print('{} \\t {:.8f} \\t {:.8f}'.format(\n",
    "        epoch,  \n",
    "        loss.item(),\n",
    "        ally_valid_loss\n",
    "    ))"
   ]
  },
  {
   "cell_type": "code",
   "execution_count": 161,
   "metadata": {},
   "outputs": [
    {
     "name": "stdout",
     "output_type": "stream",
     "text": [
      "epoch \t advr_train \t advr_valid\n",
      "0 \t 0.65510893 \t 0.65946668\n",
      "50 \t 0.49789247 \t 0.54325426\n",
      "100 \t 0.46523571 \t 0.51409227\n",
      "150 \t 0.46137077 \t 0.50685185\n",
      "200 \t 0.46016446 \t 0.50355554\n",
      "250 \t 0.45959130 \t 0.50158882\n",
      "300 \t 0.45926514 \t 0.50024784\n",
      "350 \t 0.45905885 \t 0.49926811\n",
      "400 \t 0.45891780 \t 0.49851623\n",
      "450 \t 0.45881668 \t 0.49792275\n",
      "500 \t 0.45874196 \t 0.49743494\n"
     ]
    }
   ],
   "source": [
    "lr = 0.001\n",
    "\n",
    "network_advr_pca = Network(586, 128, 1)\n",
    "\n",
    "criterion = torch.nn.BCEWithLogitsLoss()\n",
    "optimizer = torch.optim.Adam\n",
    "net_optimizer = optimizer(network_advr_pca.parameters(), lr=lr)    \n",
    "\n",
    "print(\"epoch \\t advr_train \\t advr_valid\")\n",
    "\n",
    "for epoch in range(501):\n",
    "    network_advr_pca.train()\n",
    "    net_optimizer.zero_grad()\n",
    "    \n",
    "    y_advr_train_torch_hat = network_advr_pca(X_train_pca_torch)\n",
    "    loss = criterion(y_advr_train_torch_hat, y_advr_train_torch)\n",
    "    loss.backward(retain_graph = True)\n",
    "    net_optimizer.step()\n",
    "\n",
    "    if (epoch)%50!=0:\n",
    "        continue\n",
    "    \n",
    "    # set for eval\n",
    "    network_advr_pca.eval()\n",
    "    y_advr_valid_torch_hat = network_advr_pca(X_valid_pca_torch)\n",
    "    advr_valid_loss = criterion(y_advr_valid_torch_hat, y_advr_valid_torch)\n",
    "    \n",
    "    print('{} \\t {:.8f} \\t {:.8f}'.format(\n",
    "        epoch,  \n",
    "        loss.item(),\n",
    "        advr_valid_loss\n",
    "    ))"
   ]
  },
  {
   "cell_type": "markdown",
   "metadata": {},
   "source": [
    "# Ally and Adversary Training on Auto-encoded data"
   ]
  },
  {
   "cell_type": "code",
   "execution_count": 48,
   "metadata": {},
   "outputs": [
    {
     "name": "stdout",
     "output_type": "stream",
     "text": [
      "epoch \t ally_train \t ally_valid\n",
      "0 \t 0.79124689 \t 0.76336694\n",
      "50 \t 0.69495261 \t 0.69503969\n",
      "100 \t 0.69397873 \t 0.69402921\n",
      "150 \t 0.69357502 \t 0.69363588\n",
      "200 \t 0.69338024 \t 0.69345599\n",
      "250 \t 0.69326270 \t 0.69335192\n",
      "300 \t 0.69316345 \t 0.69326961\n",
      "350 \t 0.69302982 \t 0.69316334\n",
      "400 \t 0.69272029 \t 0.69293523\n",
      "450 \t 0.69041032 \t 0.69140476\n",
      "500 \t 0.61044341 \t 0.65696937\n"
     ]
    }
   ],
   "source": [
    "lr = 0.001\n",
    "\n",
    "network_ally_ae = Network(588, 128, 1)\n",
    "\n",
    "criterion = torch.nn.BCEWithLogitsLoss()\n",
    "optimizer = torch.optim.Adam\n",
    "net_optimizer = optimizer(network_ally_ae.parameters(), lr=lr)    \n",
    "\n",
    "print(\"epoch \\t ally_train \\t ally_valid\")\n",
    "\n",
    "for epoch in range(501):\n",
    "    network_ally_ae.train()\n",
    "    net_optimizer.zero_grad()\n",
    "    \n",
    "    y_ally_train_torch_hat = network_ally_ae(X_train_torch_ae)\n",
    "    loss = criterion(y_ally_train_torch_hat, y_ally_train_torch)\n",
    "    loss.backward(retain_graph = True)\n",
    "    net_optimizer.step()\n",
    "\n",
    "    if (epoch)%50!=0:\n",
    "        continue\n",
    "    \n",
    "    # set for eval\n",
    "    network_ally_ae.eval()\n",
    "    y_ally_valid_torch_hat = network_ally_ae(X_valid_torch_ae)\n",
    "    ally_valid_loss = criterion(y_ally_valid_torch_hat, y_ally_valid_torch)\n",
    "    \n",
    "    print('{} \\t {:.8f} \\t {:.8f}'.format(\n",
    "        epoch,  \n",
    "        loss.item(),\n",
    "        ally_valid_loss\n",
    "    ))"
   ]
  },
  {
   "cell_type": "code",
   "execution_count": 49,
   "metadata": {},
   "outputs": [
    {
     "name": "stdout",
     "output_type": "stream",
     "text": [
      "epoch \t advr_train \t advr_valid\n",
      "0 \t 0.65650511 \t 0.65800893\n",
      "50 \t 0.48331529 \t 0.54573488\n",
      "100 \t 0.45943126 \t 0.52933824\n",
      "150 \t 0.45590931 \t 0.52566308\n",
      "200 \t 0.45477781 \t 0.52378529\n",
      "250 \t 0.45424351 \t 0.52264071\n",
      "300 \t 0.45394212 \t 0.52186680\n",
      "350 \t 0.45375291 \t 0.52130812\n",
      "400 \t 0.45362526 \t 0.52088737\n",
      "450 \t 0.45353451 \t 0.52056050\n",
      "500 \t 0.45346737 \t 0.52030081\n"
     ]
    }
   ],
   "source": [
    "lr = 0.001\n",
    "\n",
    "network_advr_ae = Network(588, 128, 1)\n",
    "\n",
    "criterion = torch.nn.BCEWithLogitsLoss()\n",
    "optimizer = torch.optim.Adam\n",
    "net_optimizer = optimizer(network_advr_ae.parameters(), lr=lr)    \n",
    "\n",
    "print(\"epoch \\t advr_train \\t advr_valid\")\n",
    "\n",
    "for epoch in range(501):\n",
    "    network_advr_ae.train()\n",
    "    net_optimizer.zero_grad()\n",
    "    \n",
    "    y_advr_train_torch_hat = network_advr_ae(X_train_torch_ae)\n",
    "    loss = criterion(y_advr_train_torch_hat, y_advr_train_torch)\n",
    "    loss.backward(retain_graph = True)\n",
    "    net_optimizer.step()\n",
    "\n",
    "    if (epoch)%50!=0:\n",
    "        continue\n",
    "    \n",
    "    # set for eval\n",
    "    network_advr_ae.eval()\n",
    "    y_advr_valid_torch_hat = network_advr_ae(X_valid_torch_ae)\n",
    "    advr_valid_loss = criterion(y_advr_valid_torch_hat, y_advr_valid_torch)\n",
    "    \n",
    "    print('{} \\t {:.8f} \\t {:.8f}'.format(\n",
    "        epoch,  \n",
    "        loss.item(),\n",
    "        advr_valid_loss\n",
    "    ))"
   ]
  },
  {
   "cell_type": "markdown",
   "metadata": {},
   "source": [
    "# Results\n",
    "\n",
    "| Model | Train Ally  | Valid Ally  | Train Advr | Valid Advr |\n",
    "|---|---:|---:|---:|---:|\n",
    "| PCA | **0.54477274** | 0.69263625 | 0.45874196 | 0.49743494 |\n",
    "| A-Enc | 0.61044341 | **0.65696937** | 0.45346737 | 0.52030081 |\n",
    "| P-GAN | 0.56079662 | 0.68348598 | **0.46577516** | **0.59206682** |"
   ]
  },
  {
   "cell_type": "markdown",
   "metadata": {},
   "source": []
  }
 ],
 "metadata": {
  "kernelspec": {
   "display_name": "Python 3",
   "language": "python",
   "name": "python3"
  },
  "language_info": {
   "codemirror_mode": {
    "name": "ipython",
    "version": 3
   },
   "file_extension": ".py",
   "mimetype": "text/x-python",
   "name": "python",
   "nbconvert_exporter": "python",
   "pygments_lexer": "ipython3",
   "version": "3.6.8"
  }
 },
 "nbformat": 4,
 "nbformat_minor": 2
}
