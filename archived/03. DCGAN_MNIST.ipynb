{
 "cells": [
  {
   "cell_type": "markdown",
   "metadata": {},
   "source": [
    "### data import\n",
    "- Data is downloaded and converted to pickle file\n",
    "- [Download location](http://yann.lecun.com/exdb/mnist/)\n",
    "- Extraction using mlxtend library. sample code [reference](http://rasbt.github.io/mlxtend/user_guide/data/loadlocal_mnist/)\n",
    "\n",
    "### code for importing and converting the data into pickle files\n",
    "\n",
    "The original dataset as imported from website which contributes the dataset for public usage is in unsigned byte format. The dataset is in flattened format and has single channel 28\\*28 images flattened row-wise. The images are rebuilt using one of the many codes contributed by various users working on the same dataset.\n",
    "\n",
    "For ease of use, here we have converted the dataset to standard pickle format as the library is generally more readily available on most platforms when compared to the mlxtend library originally mentioned. \n",
    "\n",
    "```python\n",
    "from mlxtend.data import loa local_mnist\n",
    "import pickle as pkl\n",
    "\n",
    "X, y = loadlocal_mnist(\n",
    "        images_path='data/MNIST/train-images-idx3-ubyte', \n",
    "        labels_path='data/MNIST/train-labels-idx1-ubyte')\n",
    "\n",
    "pkl.dump((X, y), open('data/MNIST/data.pkl', 'wb'))\n",
    "```"
   ]
  },
  {
   "cell_type": "code",
   "execution_count": 1,
   "metadata": {},
   "outputs": [],
   "source": [
    "import pickle as pkl\n",
    "import sys\n",
    "sys.path.append('../')\n",
    "import os\n",
    "from expt_mnist.preprocessing import get_data"
   ]
  },
  {
   "cell_type": "code",
   "execution_count": 2,
   "metadata": {},
   "outputs": [],
   "source": [
    "dataset = 'mnist'\n",
    "X_train, X_valid, y_train, y_valid = get_data(dataset)"
   ]
  },
  {
   "cell_type": "markdown",
   "metadata": {},
   "source": [
    "### Data Processing\n",
    "- convert data to the appropriate format and check the label against sample instances for validation.\n",
    "- data is presented in a single row vector as flattened values for 28\\*28 images"
   ]
  },
  {
   "cell_type": "code",
   "execution_count": 3,
   "metadata": {},
   "outputs": [],
   "source": [
    "import matplotlib.pyplot as plt\n",
    "import random"
   ]
  },
  {
   "cell_type": "markdown",
   "metadata": {},
   "source": [
    "### Validation Plot\n",
    "\n",
    "Plotting dataset and checking corresponding labels to ensure validity of the code that is rebuilding the dataset from original ubyte dateset downloaded. The samples are picked at random to ensure that data at random are correctly labelled and the code is working fine in rebuilding the images from flattened vectors."
   ]
  },
  {
   "cell_type": "code",
   "execution_count": 8,
   "metadata": {},
   "outputs": [
    {
     "data": {
      "image/png": "[encoded data removed]",
      "text/plain": [
       "<Figure size 1440x1080 with 12 Axes>"
      ]
     },
     "metadata": {
      "needs_background": "light"
     },
     "output_type": "display_data"
    }
   ],
   "source": [
    "plt.figure(figsize=(20, 15))\n",
    "for _ in range(12):\n",
    "    idx = random.randint(0, len(X_train)-1)\n",
    "    image_row_vector = X_train[idx]\n",
    "    plt.subplot(5, 4, _+1)\n",
    "    plt.imshow(image_row_vector.reshape((28, 28, 1)).squeeze())\n",
    "    plt.title(\"label: {}\".format(y_train[0][idx]))\n",
    "    plt.axis('off')\n",
    "plt.show()"
   ]
  },
  {
   "cell_type": "markdown",
   "metadata": {},
   "source": [
    "### DCGAN\n",
    "\n",
    "- Reference: https://github.com/pytorch/examples/blob/master/dcgan/main.py\n",
    "\n",
    "Main idea of DCGAN lies in the terms of giving architecture guidelines to ensure stable training of GANs on CNNs. The main guidelines as summarized in the paper by the authors involve:\n",
    "\n",
    "- replace any pooling layer with strided convolutions in discriminator and fractional-strided convolutions in generator\n",
    "- batchnorm in both generator and discriminator\n",
    "- no fully connected hidden layers in deep networks\n",
    "- ReLU in generator for all layers but output layer which has Tanh activation\n",
    "- LeakyReLU in discriminator for all layers"
   ]
  },
  {
   "cell_type": "code",
   "execution_count": 9,
   "metadata": {},
   "outputs": [
    {
     "name": "stdout",
     "output_type": "stream",
     "text": [
      "DType: torch.float32\n",
      "Cuda available: True\n",
      "Device: cuda\n"
     ]
    }
   ],
   "source": [
    "from sklearn.preprocessing import MinMaxScaler\n",
    "import torch\n",
    "import torch.nn as nn\n",
    "import torch.optim as optim\n",
    "import torch.utils.data as utils\n",
    "import torchvision.utils as vutils\n",
    "import torchvision.transforms as transforms\n",
    "\n",
    "dtype = torch.float\n",
    "device = torch.device(\"cuda\") if torch.cuda.is_available() else torch.device(\"cpu\")\n",
    "\n",
    "print(\"DType: {}\\nCuda available: {}\\nDevice: {}\".format(\n",
    "    dtype.__str__(),\n",
    "    torch.cuda.is_available().__str__(),\n",
    "    device.__str__(),\n",
    "))"
   ]
  },
  {
   "cell_type": "markdown",
   "metadata": {},
   "source": [
    "- custom weight initialization called on the discriminator and generator networks."
   ]
  },
  {
   "cell_type": "markdown",
   "metadata": {},
   "source": [
    "### Constants Explained\n",
    "\n",
    "- nz: encoding dimension\n",
    "- ngf: generator filters that are scaled by factors 2, 4, 8 etc.\n",
    "- ndf: disciminator filter similar to ngf\n",
    "- nc: number of channels\n",
    "- ngpu: number of physical gpus on system\n",
    "- batchSize: number of instances for SGD"
   ]
  },
  {
   "cell_type": "code",
   "execution_count": 10,
   "metadata": {},
   "outputs": [],
   "source": [
    "nz = 50\n",
    "ngf = 56\n",
    "ndf = 112\n",
    "nc = 1\n",
    "ngpu = 1\n",
    "batchSize = 64"
   ]
  },
  {
   "cell_type": "code",
   "execution_count": 12,
   "metadata": {},
   "outputs": [
    {
     "name": "stdout",
     "output_type": "stream",
     "text": [
      "Collecting torchsummary\n",
      "  Downloading torchsummary-1.5.1-py3-none-any.whl (2.8 kB)\n",
      "Installing collected packages: torchsummary\n",
      "Successfully installed torchsummary-1.5.1\n"
     ]
    }
   ],
   "source": [
    "!pip install torchsummary"
   ]
  },
  {
   "cell_type": "code",
   "execution_count": 13,
   "metadata": {},
   "outputs": [],
   "source": [
    "from torchsummary import summary"
   ]
  },
  {
   "cell_type": "markdown",
   "metadata": {},
   "source": [
    "### Weights and Bias Initialization\n",
    "\n",
    "- It has been shown heuristically that weights intialized normally tend to perform better when compared to random initialization. So the first function tries to achieve this goal.\n",
    "\n",
    "- In the definition of Generator and Discriminator, sometimes the number of strides, kernel_size and pooling is adjusted to meet the final size of the output desired. \n",
    "\n",
    "- It can be seen that there are no fully connected layers in both G and D\n",
    "- Also batchnorm is applied on all layers \n",
    "- ReLU on each layer except output\n",
    "- Tanh on output layer\n",
    "\n",
    "Reference: https://github.com/pytorch/examples/tree/master/dcgan"
   ]
  },
  {
   "cell_type": "code",
   "execution_count": 14,
   "metadata": {},
   "outputs": [],
   "source": [
    "def weights_init(m):\n",
    "    classname = m.__class__.__name__\n",
    "    if classname.find('Conv') != -1:\n",
    "        m.weight.data.normal_(0.0, 0.02)\n",
    "    elif classname.find('BatchNorm') != -1:\n",
    "        m.weight.data.normal_(1.0, 0.02)\n",
    "        m.bias.data.fill_(0)\n",
    "        "
   ]
  },
  {
   "cell_type": "code",
   "execution_count": 15,
   "metadata": {},
   "outputs": [
    {
     "name": "stdout",
     "output_type": "stream",
     "text": [
      "----------------------------------------------------------------\n",
      "        Layer (type)               Output Shape         Param #\n",
      "================================================================\n",
      "   ConvTranspose2d-1            [-1, 448, 2, 2]          89,600\n",
      "       BatchNorm2d-2            [-1, 448, 2, 2]             896\n",
      "              ReLU-3            [-1, 448, 2, 2]               0\n",
      "   ConvTranspose2d-4            [-1, 224, 4, 4]       1,605,632\n",
      "       BatchNorm2d-5            [-1, 224, 4, 4]             448\n",
      "              ReLU-6            [-1, 224, 4, 4]               0\n",
      "   ConvTranspose2d-7            [-1, 112, 8, 8]         401,408\n",
      "       BatchNorm2d-8            [-1, 112, 8, 8]             224\n",
      "              ReLU-9            [-1, 112, 8, 8]               0\n",
      "  ConvTranspose2d-10           [-1, 56, 16, 16]         100,352\n",
      "      BatchNorm2d-11           [-1, 56, 16, 16]             112\n",
      "             ReLU-12           [-1, 56, 16, 16]               0\n",
      "  ConvTranspose2d-13            [-1, 1, 28, 28]             224\n",
      "             Tanh-14            [-1, 1, 28, 28]               0\n",
      "================================================================\n",
      "Total params: 2,198,896\n",
      "Trainable params: 2,198,896\n",
      "Non-trainable params: 0\n",
      "----------------------------------------------------------------\n",
      "Input size (MB): 0.00\n",
      "Forward/backward pass size (MB): 0.63\n",
      "Params size (MB): 8.39\n",
      "Estimated Total Size (MB): 9.02\n",
      "----------------------------------------------------------------\n"
     ]
    }
   ],
   "source": [
    "class Generator(nn.Module):\n",
    "    def __init__(self):\n",
    "        super(Generator, self).__init__()\n",
    "        self.main = nn.Sequential(\n",
    "\n",
    "            nn.ConvTranspose2d(nz, ngf * 8, 2, 1, 0, bias=False),\n",
    "            nn.BatchNorm2d(ngf * 8),\n",
    "            nn.ReLU(True),\n",
    "\n",
    "            nn.ConvTranspose2d(ngf*8, ngf * 4, 4, 2, 1, bias=False),\n",
    "            nn.BatchNorm2d(ngf * 4),\n",
    "            nn.ReLU(True),\n",
    "\n",
    "            nn.ConvTranspose2d(ngf * 4, ngf * 2, 4, 2, 1, bias=False),\n",
    "            nn.BatchNorm2d(ngf * 2),\n",
    "            nn.ReLU(True),\n",
    "\n",
    "            nn.ConvTranspose2d(ngf * 2, ngf, 4, 2, 1, bias=False),\n",
    "            nn.BatchNorm2d(ngf),\n",
    "            nn.ReLU(True),\n",
    "\n",
    "            nn.ConvTranspose2d(ngf, nc, 2, 2, 2,bias=False),\n",
    "            nn.Tanh()\n",
    "        )\n",
    "\n",
    "    def forward(self, input):\n",
    "            return self.main(input)\n",
    "\n",
    "netG = Generator().to(device)\n",
    "netG.apply(weights_init)\n",
    "\n",
    "summary(netG, input_size=(50, 1, 1))"
   ]
  },
  {
   "cell_type": "markdown",
   "metadata": {},
   "source": [
    "Similarly,\n",
    "\n",
    "- LeakyReLU on each layer\n",
    "- BatchNorm on each layer\n",
    "- Sigmoid in last layer to ensure probabilistic output \n",
    "- Sigmoid helps apply the BCE criterion at the end on the loss for optimizer\n",
    "- BCE is binary cross-entropy loss function"
   ]
  },
  {
   "cell_type": "code",
   "execution_count": 16,
   "metadata": {},
   "outputs": [
    {
     "name": "stdout",
     "output_type": "stream",
     "text": [
      "----------------------------------------------------------------\n",
      "        Layer (type)               Output Shape         Param #\n",
      "================================================================\n",
      "            Conv2d-1          [-1, 112, 16, 16]             448\n",
      "         LeakyReLU-2          [-1, 112, 16, 16]               0\n",
      "            Conv2d-3            [-1, 224, 8, 8]         401,408\n",
      "       BatchNorm2d-4            [-1, 224, 8, 8]             448\n",
      "         LeakyReLU-5            [-1, 224, 8, 8]               0\n",
      "            Conv2d-6            [-1, 448, 4, 4]       1,605,632\n",
      "       BatchNorm2d-7            [-1, 448, 4, 4]             896\n",
      "         LeakyReLU-8            [-1, 448, 4, 4]               0\n",
      "            Conv2d-9            [-1, 896, 2, 2]       6,422,528\n",
      "      BatchNorm2d-10            [-1, 896, 2, 2]           1,792\n",
      "        LeakyReLU-11            [-1, 896, 2, 2]               0\n",
      "           Conv2d-12              [-1, 1, 1, 1]           3,584\n",
      "          Sigmoid-13              [-1, 1, 1, 1]               0\n",
      "================================================================\n",
      "Total params: 8,436,736\n",
      "Trainable params: 8,436,736\n",
      "Non-trainable params: 0\n",
      "----------------------------------------------------------------\n",
      "Input size (MB): 0.00\n",
      "Forward/backward pass size (MB): 1.01\n",
      "Params size (MB): 32.18\n",
      "Estimated Total Size (MB): 33.20\n",
      "----------------------------------------------------------------\n"
     ]
    }
   ],
   "source": [
    "class Discriminator(nn.Module):\n",
    "    def __init__(self, ngpu):\n",
    "        super(Discriminator, self).__init__()\n",
    "        self.main = nn.Sequential(\n",
    "            # input is (nc) x 64 x 64\n",
    "            nn.Conv2d(nc, ndf, 2, 2, 2, bias=False),\n",
    "            nn.LeakyReLU(0.2, inplace=True),\n",
    "            # state size. (ndf) x 32 x 32\n",
    "            nn.Conv2d(ndf, ndf * 2, 4, 2, 1, bias=False),\n",
    "            nn.BatchNorm2d(ndf * 2),\n",
    "            nn.LeakyReLU(0.2, inplace=True),\n",
    "            # state size. (ndf*2) x 16 x 16\n",
    "            nn.Conv2d(ndf * 2, ndf * 4, 4, 2, 1, bias=False),\n",
    "            nn.BatchNorm2d(ndf * 4),\n",
    "            nn.LeakyReLU(0.2, inplace=True),\n",
    "            # state size. (ndf*4) x 8 x 8\n",
    "            nn.Conv2d(ndf * 4, ndf * 8, 4, 2, 1, bias=False),\n",
    "            nn.BatchNorm2d(ndf * 8),\n",
    "            nn.LeakyReLU(0.2, inplace=True),\n",
    "            # state size. (ndf*8) x 4 x 4\n",
    "            nn.Conv2d(ndf * 8, 1, 2, 1, 0, bias=False),\n",
    "            nn.Sigmoid()\n",
    "        )\n",
    "\n",
    "    def forward(self, input):\n",
    "        return self.main(input).view(-1, 1).squeeze(1)\n",
    "\n",
    "\n",
    "netD = Discriminator(ngpu).to(device)\n",
    "netD.apply(weights_init)\n",
    "\n",
    "summary(netD, input_size=(1, 28, 28))"
   ]
  },
  {
   "cell_type": "code",
   "execution_count": 17,
   "metadata": {},
   "outputs": [],
   "source": [
    "criterion = nn.BCELoss()\n",
    "\n",
    "fixed_noise = torch.randn(batchSize, nz, 1, 1, device=device)\n",
    "real_label = 1\n",
    "fake_label = 0\n",
    "\n",
    "optimizerD = optim.Adam(netD.parameters(), lr=0.002, betas=(0.5, 0.999))\n",
    "optimizerG = optim.Adam(netG.parameters(), lr=0.0002, betas=(0.5, 0.999))"
   ]
  },
  {
   "cell_type": "markdown",
   "metadata": {},
   "source": [
    "### Create dataset and load\n",
    "\n",
    "- Fixing the batchsize after creating dataset"
   ]
  },
  {
   "cell_type": "code",
   "execution_count": 19,
   "metadata": {},
   "outputs": [],
   "source": [
    "dataset = utils.TensorDataset(X_train.reshape(-1, 1, 28, 28), y_train[0])\n",
    "dataloader = torch.utils.data.DataLoader(dataset, batch_size=batchSize,\n",
    "                                         shuffle=True, num_workers=2)"
   ]
  },
  {
   "cell_type": "markdown",
   "metadata": {},
   "source": [
    "### Model Parameters\n",
    "\n",
    "- need to tweak the values of learning rate for generator and discriminator\n",
    "- if the value is not optimal, discriminator might converge too soon and then generator will collapse \n",
    "- so the parameter tweaking is a must to find the right balance"
   ]
  },
  {
   "cell_type": "code",
   "execution_count": 20,
   "metadata": {
    "scrolled": false
   },
   "outputs": [
    {
     "name": "stdout",
     "output_type": "stream",
     "text": [
      "[0/20][0/938] Loss_D: 1.2705 Loss_G: 24.4019 D(x): 0.5538 D(G(z)): 0.4436 / 0.0000\n",
      "[0/20][100/938] Loss_D: 4.1315 Loss_G: 1.0600 D(x): 0.0425 D(G(z)): 0.0051 / 0.3553\n",
      "[0/20][200/938] Loss_D: 0.1559 Loss_G: 5.2541 D(x): 0.9252 D(G(z)): 0.0663 / 0.0067\n",
      "[0/20][300/938] Loss_D: 0.1018 Loss_G: 12.1528 D(x): 0.9305 D(G(z)): 0.0001 / 0.0001\n",
      "[0/20][400/938] Loss_D: 0.1896 Loss_G: 6.6923 D(x): 0.9847 D(G(z)): 0.1435 / 0.0028\n",
      "[0/20][500/938] Loss_D: 0.0437 Loss_G: 5.9683 D(x): 0.9809 D(G(z)): 0.0229 / 0.0055\n",
      "[0/20][600/938] Loss_D: 0.1225 Loss_G: 10.5519 D(x): 0.9226 D(G(z)): 0.0000 / 0.0002\n",
      "[0/20][700/938] Loss_D: 0.5237 Loss_G: 8.7696 D(x): 0.9983 D(G(z)): 0.3208 / 0.0004\n",
      "[0/20][800/938] Loss_D: 0.0829 Loss_G: 7.1338 D(x): 0.9923 D(G(z)): 0.0696 / 0.0014\n",
      "[0/20][900/938] Loss_D: 0.4460 Loss_G: 9.4363 D(x): 0.9634 D(G(z)): 0.2876 / 0.0002\n"
     ]
    },
    {
     "ename": "FileNotFoundError",
     "evalue": "[Errno 2] No such file or directory: 'result/DCGAN_MNIST/real_samples.png'",
     "output_type": "error",
     "traceback": [
      "\u001b[0;31m---------------------------------------------------------------------------\u001b[0m",
      "\u001b[0;31mFileNotFoundError\u001b[0m                         Traceback (most recent call last)",
      "\u001b[0;32m<ipython-input-20-cce2d5d2c726>\u001b[0m in \u001b[0;36m<module>\u001b[0;34m\u001b[0m\n\u001b[1;32m     47\u001b[0m         vutils.save_image(real_cpu,\n\u001b[1;32m     48\u001b[0m                 \u001b[0;34m'%s/real_samples.png'\u001b[0m \u001b[0;34m%\u001b[0m \u001b[0moutf\u001b[0m\u001b[0;34m,\u001b[0m\u001b[0;34m\u001b[0m\u001b[0;34m\u001b[0m\u001b[0m\n\u001b[0;32m---> 49\u001b[0;31m                 normalize=True)\n\u001b[0m\u001b[1;32m     50\u001b[0m         \u001b[0mfake\u001b[0m \u001b[0;34m=\u001b[0m \u001b[0mnetG\u001b[0m\u001b[0;34m(\u001b[0m\u001b[0mfixed_noise\u001b[0m\u001b[0;34m)\u001b[0m\u001b[0;34m\u001b[0m\u001b[0;34m\u001b[0m\u001b[0m\n\u001b[1;32m     51\u001b[0m         vutils.save_image(fake.detach(),\n",
      "\u001b[0;32m~/anaconda3/lib/python3.7/site-packages/torchvision/utils.py\u001b[0m in \u001b[0;36msave_image\u001b[0;34m(tensor, fp, nrow, padding, normalize, range, scale_each, pad_value, format)\u001b[0m\n\u001b[1;32m    107\u001b[0m     \u001b[0mndarr\u001b[0m \u001b[0;34m=\u001b[0m \u001b[0mgrid\u001b[0m\u001b[0;34m.\u001b[0m\u001b[0mmul\u001b[0m\u001b[0;34m(\u001b[0m\u001b[0;36m255\u001b[0m\u001b[0;34m)\u001b[0m\u001b[0;34m.\u001b[0m\u001b[0madd_\u001b[0m\u001b[0;34m(\u001b[0m\u001b[0;36m0.5\u001b[0m\u001b[0;34m)\u001b[0m\u001b[0;34m.\u001b[0m\u001b[0mclamp_\u001b[0m\u001b[0;34m(\u001b[0m\u001b[0;36m0\u001b[0m\u001b[0;34m,\u001b[0m \u001b[0;36m255\u001b[0m\u001b[0;34m)\u001b[0m\u001b[0;34m.\u001b[0m\u001b[0mpermute\u001b[0m\u001b[0;34m(\u001b[0m\u001b[0;36m1\u001b[0m\u001b[0;34m,\u001b[0m \u001b[0;36m2\u001b[0m\u001b[0;34m,\u001b[0m \u001b[0;36m0\u001b[0m\u001b[0;34m)\u001b[0m\u001b[0;34m.\u001b[0m\u001b[0mto\u001b[0m\u001b[0;34m(\u001b[0m\u001b[0;34m'cpu'\u001b[0m\u001b[0;34m,\u001b[0m \u001b[0mtorch\u001b[0m\u001b[0;34m.\u001b[0m\u001b[0muint8\u001b[0m\u001b[0;34m)\u001b[0m\u001b[0;34m.\u001b[0m\u001b[0mnumpy\u001b[0m\u001b[0;34m(\u001b[0m\u001b[0;34m)\u001b[0m\u001b[0;34m\u001b[0m\u001b[0;34m\u001b[0m\u001b[0m\n\u001b[1;32m    108\u001b[0m     \u001b[0mim\u001b[0m \u001b[0;34m=\u001b[0m \u001b[0mImage\u001b[0m\u001b[0;34m.\u001b[0m\u001b[0mfromarray\u001b[0m\u001b[0;34m(\u001b[0m\u001b[0mndarr\u001b[0m\u001b[0;34m)\u001b[0m\u001b[0;34m\u001b[0m\u001b[0;34m\u001b[0m\u001b[0m\n\u001b[0;32m--> 109\u001b[0;31m     \u001b[0mim\u001b[0m\u001b[0;34m.\u001b[0m\u001b[0msave\u001b[0m\u001b[0;34m(\u001b[0m\u001b[0mfp\u001b[0m\u001b[0;34m,\u001b[0m \u001b[0mformat\u001b[0m\u001b[0;34m=\u001b[0m\u001b[0mformat\u001b[0m\u001b[0;34m)\u001b[0m\u001b[0;34m\u001b[0m\u001b[0;34m\u001b[0m\u001b[0m\n\u001b[0m",
      "\u001b[0;32m~/anaconda3/lib/python3.7/site-packages/PIL/Image.py\u001b[0m in \u001b[0;36msave\u001b[0;34m(self, fp, format, **params)\u001b[0m\n\u001b[1;32m   2153\u001b[0m                 \u001b[0mfp\u001b[0m \u001b[0;34m=\u001b[0m \u001b[0mbuiltins\u001b[0m\u001b[0;34m.\u001b[0m\u001b[0mopen\u001b[0m\u001b[0;34m(\u001b[0m\u001b[0mfilename\u001b[0m\u001b[0;34m,\u001b[0m \u001b[0;34m\"r+b\"\u001b[0m\u001b[0;34m)\u001b[0m\u001b[0;34m\u001b[0m\u001b[0;34m\u001b[0m\u001b[0m\n\u001b[1;32m   2154\u001b[0m             \u001b[0;32melse\u001b[0m\u001b[0;34m:\u001b[0m\u001b[0;34m\u001b[0m\u001b[0;34m\u001b[0m\u001b[0m\n\u001b[0;32m-> 2155\u001b[0;31m                 \u001b[0mfp\u001b[0m \u001b[0;34m=\u001b[0m \u001b[0mbuiltins\u001b[0m\u001b[0;34m.\u001b[0m\u001b[0mopen\u001b[0m\u001b[0;34m(\u001b[0m\u001b[0mfilename\u001b[0m\u001b[0;34m,\u001b[0m \u001b[0;34m\"w+b\"\u001b[0m\u001b[0;34m)\u001b[0m\u001b[0;34m\u001b[0m\u001b[0;34m\u001b[0m\u001b[0m\n\u001b[0m\u001b[1;32m   2156\u001b[0m \u001b[0;34m\u001b[0m\u001b[0m\n\u001b[1;32m   2157\u001b[0m         \u001b[0;32mtry\u001b[0m\u001b[0;34m:\u001b[0m\u001b[0;34m\u001b[0m\u001b[0;34m\u001b[0m\u001b[0m\n",
      "\u001b[0;31mFileNotFoundError\u001b[0m: [Errno 2] No such file or directory: 'result/DCGAN_MNIST/real_samples.png'"
     ]
    }
   ],
   "source": [
    "niter = 20\n",
    "outf = 'result/DCGAN_MNIST'\n",
    "\n",
    "for epoch in range(niter):\n",
    "    for i, data in enumerate(dataloader, 0):\n",
    "        ############################\n",
    "        # (1) Update D network: maximize log(D(x)) + log(1 - D(G(z)))\n",
    "        ###########################\n",
    "        # train with real\n",
    "        netD.zero_grad()\n",
    "        real_cpu = data[0].to(device)\n",
    "        batch_size = real_cpu.size(0)\n",
    "        label = torch.full((batch_size,), real_label, device=device)\n",
    "\n",
    "        output = netD(real_cpu)\n",
    "        errD_real = criterion(output, label)\n",
    "        errD_real.backward()\n",
    "        D_x = output.mean().item()\n",
    "\n",
    "        # train with fake\n",
    "        noise = torch.randn(batch_size, nz, 1, 1, device=device)\n",
    "        fake = netG(noise)\n",
    "        label.fill_(fake_label)\n",
    "        output = netD(fake.detach())\n",
    "        errD_fake = criterion(output, label)\n",
    "        errD_fake.backward()\n",
    "        D_G_z1 = output.mean().item()\n",
    "        errD = errD_real + errD_fake\n",
    "        optimizerD.step()\n",
    "\n",
    "        ############################\n",
    "        # (2) Update G network: maximize log(D(G(z)))\n",
    "        ###########################\n",
    "        netG.zero_grad()\n",
    "        label.fill_(real_label)  # fake labels are real for generator cost\n",
    "        output = netD(fake)\n",
    "        errG = criterion(output, label)\n",
    "        errG.backward()\n",
    "        D_G_z2 = output.mean().item()\n",
    "        optimizerG.step()\n",
    "\n",
    "        if i %100 == 0:\n",
    "            print('[%d/%d][%d/%d] Loss_D: %.4f Loss_G: %.4f D(x): %.4f D(G(z)): %.4f / %.4f'\n",
    "              % (epoch, niter, i, len(dataloader),\n",
    "                 errD.item(), errG.item(), D_x, D_G_z1, D_G_z2))\n",
    "    if epoch % 2 == 0:\n",
    "        vutils.save_image(real_cpu,\n",
    "                '%s/real_samples.png' % outf,\n",
    "                normalize=True)\n",
    "        fake = netG(fixed_noise)\n",
    "        vutils.save_image(fake.detach(),\n",
    "                '%s/fake_samples_epoch_%03d.png' % (outf, epoch),\n",
    "                normalize=True)"
   ]
  },
  {
   "cell_type": "markdown",
   "metadata": {},
   "source": [
    "### Save Model"
   ]
  },
  {
   "cell_type": "code",
   "execution_count": 15,
   "metadata": {},
   "outputs": [
    {
     "name": "stderr",
     "output_type": "stream",
     "text": [
      "/usr/local/lib/python3.6/dist-packages/torch/serialization.py:256: UserWarning: Couldn't retrieve source code for container of type Discriminator. It won't be checked for correctness upon loading.\n",
      "  \"type \" + obj.__name__ + \". It won't be checked \"\n",
      "/usr/local/lib/python3.6/dist-packages/torch/serialization.py:256: UserWarning: Couldn't retrieve source code for container of type Generator. It won't be checked for correctness upon loading.\n",
      "  \"type \" + obj.__name__ + \". It won't be checked \"\n"
     ]
    }
   ],
   "source": [
    "torch.save(netD, 'models/netD.pkl')\n",
    "torch.save(netG, 'models/netG.pkl')"
   ]
  },
  {
   "cell_type": "markdown",
   "metadata": {},
   "source": [
    "### 0th Epoch\n",
    "![](result/DCGAN_MNIST/fake_samples_epoch_000.png)\n",
    "\n",
    "### 4th Epoch\n",
    "![](result/DCGAN_MNIST/fake_samples_epoch_004.png)\n",
    "\n",
    "### 8th Epoch\n",
    "![](result/DCGAN_MNIST/fake_samples_epoch_008.png)\n",
    "\n",
    "### 12th Epoch\n",
    "![](result/DCGAN_MNIST/fake_samples_epoch_012.png)\n",
    "\n",
    "### 18th Epoch\n",
    "![](result/DCGAN_MNIST/fake_samples_epoch_018.png)"
   ]
  },
  {
   "cell_type": "markdown",
   "metadata": {},
   "source": [
    "### Testing\n",
    "\n",
    "Try to see if there are any patterns in the random walks generated"
   ]
  },
  {
   "cell_type": "code",
   "execution_count": null,
   "metadata": {},
   "outputs": [],
   "source": [
    "fn_1 = torch.randn(1, nz, 1, 1, device=device)\n",
    "fn_2 = torch.randn(1, nz, 1, 1, device=device)\n",
    "fn_r = torch.cat((fn_1, fn_2, (fn_1+fn_2)/2), 0)\n",
    "fk_r = netG(fn_r)\n",
    "fk_1.shape, fk_2.shape, fk_r.shape\n",
    "\n",
    "vutils.save_image(fk_r.detach(),\n",
    "                '%s/%s.png' % (outf, 'fk_test'),\n",
    "                normalize=True)"
   ]
  },
  {
   "cell_type": "markdown",
   "metadata": {},
   "source": [
    "![](result/DCGAN_MNIST/fk_test.png)"
   ]
  },
  {
   "cell_type": "code",
   "execution_count": null,
   "metadata": {},
   "outputs": [],
   "source": []
  }
 ],
 "metadata": {
  "kernelspec": {
   "display_name": "Python 3",
   "language": "python",
   "name": "python3"
  },
  "language_info": {
   "codemirror_mode": {
    "name": "ipython",
    "version": 3
   },
   "file_extension": ".py",
   "mimetype": "text/x-python",
   "name": "python",
   "nbconvert_exporter": "python",
   "pygments_lexer": "ipython3",
   "version": "3.7.7"
  }
 },
 "nbformat": 4,
 "nbformat_minor": 2
}
